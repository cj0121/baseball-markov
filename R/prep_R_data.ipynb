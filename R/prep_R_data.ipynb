{
 "cells": [
  {
   "cell_type": "code",
   "execution_count": 1,
   "id": "99c5468b",
   "metadata": {},
   "outputs": [
    {
     "data": {
      "application/javascript": [
       "if (!(\"Notification\" in window)) {\n",
       "    alert(\"This browser does not support desktop notifications, so the %%notify magic will not work.\");\n",
       "} else if (Notification.permission !== 'granted' && Notification.permission !== 'denied') {\n",
       "    Notification.requestPermission(function (permission) {\n",
       "        if(!('permission' in Notification)) {\n",
       "            Notification.permission = permission;\n",
       "        }\n",
       "    })\n",
       "}\n"
      ],
      "text/plain": [
       "<IPython.core.display.Javascript object>"
      ]
     },
     "metadata": {},
     "output_type": "display_data"
    }
   ],
   "source": [
    "%load_ext jupyternotify\n",
    "\n",
    "# import os\n",
    "import pandas as pd\n",
    "import numpy as np\n",
    "import matplotlib.pyplot as plt\n",
    "import seaborn as sns\n",
    "import time\n",
    "import main\n",
    "# import timeit\n",
    "import joblib\n",
    "import importlib\n",
    "import xgboost as xgb\n",
    "\n",
    "from tqdm.auto import tqdm\n",
    "# from scipy.stats import *\n",
    "\n",
    "pd.set_option('display.max_columns', None)"
   ]
  },
  {
   "cell_type": "code",
   "execution_count": 13,
   "id": "d189310e",
   "metadata": {},
   "outputs": [],
   "source": [
    "from sklearn.preprocessing import StandardScaler\n"
   ]
  },
  {
   "cell_type": "code",
   "execution_count": 2,
   "id": "c3b9eaeb",
   "metadata": {},
   "outputs": [],
   "source": [
    "from sklearn.model_selection import KFold\n",
    "from sklearn.model_selection import train_test_split"
   ]
  },
  {
   "cell_type": "code",
   "execution_count": 3,
   "id": "9ce788ef",
   "metadata": {},
   "outputs": [],
   "source": [
    "np.set_printoptions(suppress=True)"
   ]
  },
  {
   "cell_type": "code",
   "execution_count": 4,
   "id": "52c92a54",
   "metadata": {},
   "outputs": [
    {
     "data": {
      "text/html": [
       "<style>.container { width:70% !important; }</style>"
      ],
      "text/plain": [
       "<IPython.core.display.HTML object>"
      ]
     },
     "metadata": {},
     "output_type": "display_data"
    }
   ],
   "source": [
    "from IPython.display import display, HTML\n",
    "display(HTML(\"<style>.container { width:70% !important; }</style>\"))"
   ]
  },
  {
   "cell_type": "code",
   "execution_count": 7,
   "id": "85d8b0a2",
   "metadata": {},
   "outputs": [],
   "source": [
    "def process_df(df, batter_list, pitcher_list):\n",
    "    \n",
    "    df = df[(df['pitcher'].isin(pitcher_list))&(df['batter'].isin(batter_list))].copy()\n",
    "    df['pitcher'] = df['pitcher'].astype('category')\n",
    "    df['batter'] = df['batter'].astype('category')\n",
    "    df['ump_id'] = df['ump_id'].astype('category')\n",
    "    df['ump_id'] = df['ump_id'].astype('category')\n",
    "\n",
    "    df['weather_cond'] = df['weather_cond'].str.replace(' ', '').copy()\n",
    "    df['weather_cond'] = 'weather_cond_' + df['weather_cond']\n",
    "    df['wind_direction'] = df['wind_direction'].str.replace(' ', '').copy()\n",
    "    df['wind_direction'] = 'wind_dir_' + df['wind_direction']\n",
    "    df['roof_cond'] = 'roof_cond_' + df['roof_cond']\n",
    "\n",
    "    df = pd.concat([df, pd.get_dummies(df['weather_cond'])], axis=1)\n",
    "    df = pd.concat([df, pd.get_dummies(df['wind_direction'])], axis=1)\n",
    "    df = pd.concat([df, pd.get_dummies(df['roof_cond'])], axis=1)\n",
    "    \n",
    "    return df"
   ]
  },
  {
   "cell_type": "code",
   "execution_count": 5,
   "id": "8fc8bcff",
   "metadata": {},
   "outputs": [],
   "source": [
    "T_batters_dict_weighted = joblib.load('data/T/T_batters_dict_1518_weighted')\n",
    "T_pitchers_dict_weighted = joblib.load('data/T/T_pitchers_dict_1518_weighted')\n",
    "\n",
    "batters_quali_list = list(T_batters_dict_weighted.keys())\n",
    "pitchers_quali_list = list(T_pitchers_dict_weighted.keys())"
   ]
  },
  {
   "cell_type": "code",
   "execution_count": 51,
   "id": "39b4f7b4",
   "metadata": {},
   "outputs": [],
   "source": [
    "data_df = pd.read_csv('data/PA_data_merged_15-19_012323.csv', index_col=[0])"
   ]
  },
  {
   "cell_type": "code",
   "execution_count": 53,
   "id": "4712ebf2",
   "metadata": {},
   "outputs": [
    {
     "data": {
      "text/plain": [
       "(924744, 36)"
      ]
     },
     "execution_count": 53,
     "metadata": {},
     "output_type": "execute_result"
    }
   ],
   "source": [
    "data_df.shape"
   ]
  },
  {
   "cell_type": "code",
   "execution_count": 54,
   "id": "cdcff6f9",
   "metadata": {},
   "outputs": [],
   "source": [
    "data_df = process_df(data_df, batter_list = batters_quali_list, pitcher_list = pitchers_quali_list)"
   ]
  },
  {
   "cell_type": "code",
   "execution_count": 56,
   "id": "6fc87fcb",
   "metadata": {},
   "outputs": [
    {
     "data": {
      "application/vnd.jupyter.widget-view+json": {
       "model_id": "edc6e0b99be84fed9e16eda462791428",
       "version_major": 2,
       "version_minor": 0
      },
      "text/plain": [
       "  0%|          | 0/137102 [00:00<?, ?it/s]"
      ]
     },
     "metadata": {},
     "output_type": "display_data"
    }
   ],
   "source": [
    "data_df = main.test_T_dict(data_df, T_batters_dict_weighted, T_pitchers_dict_weighted, p_weight=0.34, _return_arr=False, is_pitch_data=False)\n"
   ]
  },
  {
   "cell_type": "code",
   "execution_count": 58,
   "id": "0add7e18",
   "metadata": {},
   "outputs": [],
   "source": [
    "test_df = data_df[data_df['game_year']==2019].copy()"
   ]
  },
  {
   "cell_type": "code",
   "execution_count": 59,
   "id": "77a192aa",
   "metadata": {},
   "outputs": [],
   "source": [
    "train_val_df = data_df[data_df['game_year'].isin([2015, 2016, 2017, 2018])].copy()"
   ]
  },
  {
   "cell_type": "code",
   "execution_count": 60,
   "id": "d5e892ee",
   "metadata": {},
   "outputs": [],
   "source": [
    "train_df, val_df = train_test_split(train_val_df, test_size=0.25, random_state=0, shuffle=True)"
   ]
  },
  {
   "cell_type": "code",
   "execution_count": 61,
   "id": "1d34b206",
   "metadata": {},
   "outputs": [
    {
     "name": "stdout",
     "output_type": "stream",
     "text": [
      "train size: 408501, 65%\n",
      "val size: 136168, 22%\n",
      "test size: 83661, 13%\n"
     ]
    }
   ],
   "source": [
    "print(f\"train size: {train_df.shape[0]}, {train_df.shape[0]/data_df.shape[0]:.0%}\")\n",
    "print(f\"val size: {val_df.shape[0]}, {val_df.shape[0]/data_df.shape[0]:.0%}\")\n",
    "print(f\"test size: {test_df.shape[0]}, {test_df.shape[0]/data_df.shape[0]:.0%}\")"
   ]
  },
  {
   "cell_type": "code",
   "execution_count": 62,
   "id": "a4e564a1",
   "metadata": {},
   "outputs": [],
   "source": [
    "scaler = StandardScaler()"
   ]
  },
  {
   "cell_type": "code",
   "execution_count": 63,
   "id": "59e2566e",
   "metadata": {},
   "outputs": [],
   "source": [
    "scale_col = ['temp', 'wind_speed', '1B_pf', '2B_pf', '3B_pf', 'HR_pf', 'BB_pf', 'K_pf', 'sprint_speed']\n",
    "scaled_arr = scaler.fit_transform(train_df[scale_col])\n",
    "\n",
    "df_std = pd.DataFrame(scaled_arr, columns=[col + '_std' for col in scale_col])\n",
    "train_df = pd.concat([train_df, df_std], axis=1)"
   ]
  },
  {
   "cell_type": "code",
   "execution_count": 64,
   "id": "f85e1723",
   "metadata": {},
   "outputs": [],
   "source": [
    "val_arr = scaler.transform(val_df[scale_col])\n",
    "val_df_std = pd.DataFrame(val_arr, columns=[col + '_std' for col in scale_col])\n",
    "val_df = pd.concat([val_df, val_df_std], axis=1)"
   ]
  },
  {
   "cell_type": "code",
   "execution_count": 65,
   "id": "4cbc2f21",
   "metadata": {},
   "outputs": [],
   "source": [
    "test_arr = scaler.transform(test_df[scale_col])\n",
    "test_df_std = pd.DataFrame(test_arr, columns=[col + '_std' for col in scale_col])\n",
    "test_df = pd.concat([test_df, test_df_std], axis=1)"
   ]
  },
  {
   "cell_type": "code",
   "execution_count": 66,
   "id": "a84a5bc8",
   "metadata": {},
   "outputs": [],
   "source": [
    "# train_df.to_csv('R/Train_std_012523.csv')\n",
    "# val_df.to_csv('R/Val_std_012523.csv')\n",
    "# test_df.to_csv('R/Test_std_012523.csv')"
   ]
  }
 ],
 "metadata": {
  "kernelspec": {
   "display_name": "Python [conda env:bb_sim]",
   "language": "python",
   "name": "conda-env-bb_sim-py"
  },
  "language_info": {
   "codemirror_mode": {
    "name": "ipython",
    "version": 3
   },
   "file_extension": ".py",
   "mimetype": "text/x-python",
   "name": "python",
   "nbconvert_exporter": "python",
   "pygments_lexer": "ipython3",
   "version": "3.9.13"
  }
 },
 "nbformat": 4,
 "nbformat_minor": 5
}
