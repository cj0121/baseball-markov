{
 "cells": [
  {
   "cell_type": "code",
   "execution_count": 1,
   "id": "ff65b0ff",
   "metadata": {
    "id": "ff65b0ff"
   },
   "outputs": [
    {
     "data": {
      "application/javascript": [
       "if (!(\"Notification\" in window)) {\n",
       "    alert(\"This browser does not support desktop notifications, so the %%notify magic will not work.\");\n",
       "} else if (Notification.permission !== 'granted' && Notification.permission !== 'denied') {\n",
       "    Notification.requestPermission(function (permission) {\n",
       "        if(!('permission' in Notification)) {\n",
       "            Notification.permission = permission;\n",
       "        }\n",
       "    })\n",
       "}\n"
      ],
      "text/plain": [
       "<IPython.core.display.Javascript object>"
      ]
     },
     "metadata": {},
     "output_type": "display_data"
    }
   ],
   "source": [
    "%load_ext jupyternotify\n",
    "\n",
    "# import os\n",
    "import pandas as pd\n",
    "import numpy as np\n",
    "import matplotlib.pyplot as plt\n",
    "import seaborn as sns\n",
    "import time\n",
    "# import timeit\n",
    "\n",
    "\n",
    "from tqdm.auto import tqdm\n",
    "# from scipy.stats import *\n",
    "\n",
    "pd.set_option('display.max_columns', None)"
   ]
  },
  {
   "cell_type": "code",
   "execution_count": 2,
   "id": "4546ece4",
   "metadata": {},
   "outputs": [],
   "source": [
    "# pd.set_option('display.max_colwidth', None)"
   ]
  },
  {
   "cell_type": "code",
   "execution_count": 180,
   "id": "3471dc5d",
   "metadata": {},
   "outputs": [
    {
     "data": {
      "text/html": [
       "<style>.container { width:100% !important; }</style>"
      ],
      "text/plain": [
       "<IPython.core.display.HTML object>"
      ]
     },
     "metadata": {},
     "output_type": "display_data"
    }
   ],
   "source": [
    "from IPython.display import display, HTML\n",
    "display(HTML(\"<style>.container { width:100% !important; }</style>\"))"
   ]
  },
  {
   "cell_type": "code",
   "execution_count": 3,
   "id": "dmJ0CSFb-8T7",
   "metadata": {
    "colab": {
     "base_uri": "https://localhost:8080/"
    },
    "executionInfo": {
     "elapsed": 15620,
     "status": "ok",
     "timestamp": 1668737101425,
     "user": {
      "displayName": "Jeff Jin",
      "userId": "04519095521378007072"
     },
     "user_tz": 300
    },
    "id": "dmJ0CSFb-8T7",
    "outputId": "f4791553-7270-468e-c01e-1fcd6f709ac6"
   },
   "outputs": [],
   "source": [
    "# from google.colab import drive\n",
    "# drive.mount('/content/drive')"
   ]
  },
  {
   "cell_type": "code",
   "execution_count": 4,
   "id": "GbLOqmQ0CMh_",
   "metadata": {
    "colab": {
     "background_save": true
    },
    "id": "GbLOqmQ0CMh_"
   },
   "outputs": [
    {
     "name": "stderr",
     "output_type": "stream",
     "text": [
      "/Users/honeybunny/opt/anaconda3/envs/pitch_seq/lib/python3.9/site-packages/IPython/core/interactiveshell.py:3256: DtypeWarning: Columns (44) have mixed types.Specify dtype option on import or set low_memory=False.\n",
      "  has_raised = await self.run_ast_nodes(code_ast.body, cell_name,\n"
     ]
    }
   ],
   "source": [
    "raw_all_df = pd.read_csv('data/PitchData_15-22.csv', index_col=[0])"
   ]
  },
  {
   "cell_type": "code",
   "execution_count": 181,
   "id": "daff49f0",
   "metadata": {},
   "outputs": [
    {
     "data": {
      "text/html": [
       "<div>\n",
       "<style scoped>\n",
       "    .dataframe tbody tr th:only-of-type {\n",
       "        vertical-align: middle;\n",
       "    }\n",
       "\n",
       "    .dataframe tbody tr th {\n",
       "        vertical-align: top;\n",
       "    }\n",
       "\n",
       "    .dataframe thead th {\n",
       "        text-align: right;\n",
       "    }\n",
       "</style>\n",
       "<table border=\"1\" class=\"dataframe\">\n",
       "  <thead>\n",
       "    <tr style=\"text-align: right;\">\n",
       "      <th></th>\n",
       "      <th>pitch_type</th>\n",
       "      <th>game_date</th>\n",
       "      <th>release_speed</th>\n",
       "      <th>release_pos_x</th>\n",
       "      <th>release_pos_z</th>\n",
       "      <th>player_name</th>\n",
       "      <th>batter</th>\n",
       "      <th>pitcher</th>\n",
       "      <th>events</th>\n",
       "      <th>description</th>\n",
       "      <th>spin_dir</th>\n",
       "      <th>spin_rate_deprecated</th>\n",
       "      <th>break_angle_deprecated</th>\n",
       "      <th>break_length_deprecated</th>\n",
       "      <th>zone</th>\n",
       "      <th>des</th>\n",
       "      <th>game_type</th>\n",
       "      <th>stand</th>\n",
       "      <th>p_throws</th>\n",
       "      <th>home_team</th>\n",
       "      <th>away_team</th>\n",
       "      <th>type</th>\n",
       "      <th>hit_location</th>\n",
       "      <th>bb_type</th>\n",
       "      <th>balls</th>\n",
       "      <th>strikes</th>\n",
       "      <th>game_year</th>\n",
       "      <th>pfx_x</th>\n",
       "      <th>pfx_z</th>\n",
       "      <th>plate_x</th>\n",
       "      <th>plate_z</th>\n",
       "      <th>on_3b</th>\n",
       "      <th>on_2b</th>\n",
       "      <th>on_1b</th>\n",
       "      <th>outs_when_up</th>\n",
       "      <th>inning</th>\n",
       "      <th>inning_topbot</th>\n",
       "      <th>hc_x</th>\n",
       "      <th>hc_y</th>\n",
       "      <th>tfs_deprecated</th>\n",
       "      <th>tfs_zulu_deprecated</th>\n",
       "      <th>fielder_2</th>\n",
       "      <th>umpire</th>\n",
       "      <th>sv_id</th>\n",
       "      <th>vx0</th>\n",
       "      <th>vy0</th>\n",
       "      <th>vz0</th>\n",
       "      <th>ax</th>\n",
       "      <th>ay</th>\n",
       "      <th>az</th>\n",
       "      <th>sz_top</th>\n",
       "      <th>sz_bot</th>\n",
       "      <th>hit_distance_sc</th>\n",
       "      <th>launch_speed</th>\n",
       "      <th>launch_angle</th>\n",
       "      <th>effective_speed</th>\n",
       "      <th>release_spin_rate</th>\n",
       "      <th>release_extension</th>\n",
       "      <th>game_pk</th>\n",
       "      <th>pitcher.1</th>\n",
       "      <th>fielder_2.1</th>\n",
       "      <th>fielder_3</th>\n",
       "      <th>fielder_4</th>\n",
       "      <th>fielder_5</th>\n",
       "      <th>fielder_6</th>\n",
       "      <th>fielder_7</th>\n",
       "      <th>fielder_8</th>\n",
       "      <th>fielder_9</th>\n",
       "      <th>release_pos_y</th>\n",
       "      <th>estimated_ba_using_speedangle</th>\n",
       "      <th>estimated_woba_using_speedangle</th>\n",
       "      <th>woba_value</th>\n",
       "      <th>woba_denom</th>\n",
       "      <th>babip_value</th>\n",
       "      <th>iso_value</th>\n",
       "      <th>launch_speed_angle</th>\n",
       "      <th>at_bat_number</th>\n",
       "      <th>pitch_number</th>\n",
       "      <th>pitch_name</th>\n",
       "      <th>home_score</th>\n",
       "      <th>away_score</th>\n",
       "      <th>bat_score</th>\n",
       "      <th>fld_score</th>\n",
       "      <th>post_away_score</th>\n",
       "      <th>post_home_score</th>\n",
       "      <th>post_bat_score</th>\n",
       "      <th>post_fld_score</th>\n",
       "      <th>if_fielding_alignment</th>\n",
       "      <th>of_fielding_alignment</th>\n",
       "      <th>spin_axis</th>\n",
       "      <th>delta_home_win_exp</th>\n",
       "      <th>delta_run_exp</th>\n",
       "    </tr>\n",
       "  </thead>\n",
       "  <tbody>\n",
       "    <tr>\n",
       "      <th>190</th>\n",
       "      <td>SL</td>\n",
       "      <td>2022-11-05</td>\n",
       "      <td>89.2</td>\n",
       "      <td>-0.06</td>\n",
       "      <td>6.14</td>\n",
       "      <td>Pressly, Ryan</td>\n",
       "      <td>592206</td>\n",
       "      <td>519151</td>\n",
       "      <td>field_out</td>\n",
       "      <td>hit_into_play</td>\n",
       "      <td>NaN</td>\n",
       "      <td>NaN</td>\n",
       "      <td>NaN</td>\n",
       "      <td>NaN</td>\n",
       "      <td>14.0</td>\n",
       "      <td>Nick Castellanos flies out to right fielder Ky...</td>\n",
       "      <td>W</td>\n",
       "      <td>R</td>\n",
       "      <td>R</td>\n",
       "      <td>HOU</td>\n",
       "      <td>PHI</td>\n",
       "      <td>X</td>\n",
       "      <td>9.0</td>\n",
       "      <td>fly_ball</td>\n",
       "      <td>0</td>\n",
       "      <td>0</td>\n",
       "      <td>2022</td>\n",
       "      <td>0.41</td>\n",
       "      <td>0.37</td>\n",
       "      <td>1.05</td>\n",
       "      <td>2.39</td>\n",
       "      <td>NaN</td>\n",
       "      <td>NaN</td>\n",
       "      <td>592663.0</td>\n",
       "      <td>2</td>\n",
       "      <td>9</td>\n",
       "      <td>Top</td>\n",
       "      <td>195.76</td>\n",
       "      <td>145.13</td>\n",
       "      <td>NaN</td>\n",
       "      <td>NaN</td>\n",
       "      <td>455117.0</td>\n",
       "      <td>NaN</td>\n",
       "      <td>NaN</td>\n",
       "      <td>1.859662</td>\n",
       "      <td>-129.958368</td>\n",
       "      <td>-4.015258</td>\n",
       "      <td>4.329541</td>\n",
       "      <td>25.545818</td>\n",
       "      <td>-27.380437</td>\n",
       "      <td>3.65</td>\n",
       "      <td>1.74</td>\n",
       "      <td>217.0</td>\n",
       "      <td>84.1</td>\n",
       "      <td>53.0</td>\n",
       "      <td>89.2</td>\n",
       "      <td>2679.0</td>\n",
       "      <td>6.1</td>\n",
       "      <td>715719</td>\n",
       "      <td>519151</td>\n",
       "      <td>455117.0</td>\n",
       "      <td>641820.0</td>\n",
       "      <td>514888.0</td>\n",
       "      <td>608324.0</td>\n",
       "      <td>665161.0</td>\n",
       "      <td>670541.0</td>\n",
       "      <td>676801.0</td>\n",
       "      <td>663656.0</td>\n",
       "      <td>54.42</td>\n",
       "      <td>0.020</td>\n",
       "      <td>0.021</td>\n",
       "      <td>0.0</td>\n",
       "      <td>1.0</td>\n",
       "      <td>0.0</td>\n",
       "      <td>0.0</td>\n",
       "      <td>3.0</td>\n",
       "      <td>64</td>\n",
       "      <td>1</td>\n",
       "      <td>Slider</td>\n",
       "      <td>4</td>\n",
       "      <td>1</td>\n",
       "      <td>1</td>\n",
       "      <td>4</td>\n",
       "      <td>1</td>\n",
       "      <td>4</td>\n",
       "      <td>1</td>\n",
       "      <td>4</td>\n",
       "      <td>Standard</td>\n",
       "      <td>Standard</td>\n",
       "      <td>137.0</td>\n",
       "      <td>0.011</td>\n",
       "      <td>-0.219</td>\n",
       "    </tr>\n",
       "    <tr>\n",
       "      <th>199</th>\n",
       "      <td>FF</td>\n",
       "      <td>2022-11-05</td>\n",
       "      <td>93.9</td>\n",
       "      <td>-0.18</td>\n",
       "      <td>5.94</td>\n",
       "      <td>Pressly, Ryan</td>\n",
       "      <td>547180</td>\n",
       "      <td>519151</td>\n",
       "      <td>field_out</td>\n",
       "      <td>hit_into_play</td>\n",
       "      <td>NaN</td>\n",
       "      <td>NaN</td>\n",
       "      <td>NaN</td>\n",
       "      <td>NaN</td>\n",
       "      <td>8.0</td>\n",
       "      <td>Bryce Harper flies out to left fielder Yordan ...</td>\n",
       "      <td>W</td>\n",
       "      <td>L</td>\n",
       "      <td>R</td>\n",
       "      <td>HOU</td>\n",
       "      <td>PHI</td>\n",
       "      <td>X</td>\n",
       "      <td>7.0</td>\n",
       "      <td>fly_ball</td>\n",
       "      <td>0</td>\n",
       "      <td>0</td>\n",
       "      <td>2022</td>\n",
       "      <td>-0.33</td>\n",
       "      <td>1.57</td>\n",
       "      <td>0.06</td>\n",
       "      <td>2.08</td>\n",
       "      <td>NaN</td>\n",
       "      <td>NaN</td>\n",
       "      <td>592663.0</td>\n",
       "      <td>1</td>\n",
       "      <td>9</td>\n",
       "      <td>Top</td>\n",
       "      <td>65.52</td>\n",
       "      <td>124.44</td>\n",
       "      <td>NaN</td>\n",
       "      <td>NaN</td>\n",
       "      <td>455117.0</td>\n",
       "      <td>NaN</td>\n",
       "      <td>NaN</td>\n",
       "      <td>1.368792</td>\n",
       "      <td>-136.486377</td>\n",
       "      <td>-7.693218</td>\n",
       "      <td>-4.423997</td>\n",
       "      <td>32.019240</td>\n",
       "      <td>-11.046260</td>\n",
       "      <td>3.24</td>\n",
       "      <td>1.62</td>\n",
       "      <td>239.0</td>\n",
       "      <td>99.4</td>\n",
       "      <td>60.0</td>\n",
       "      <td>93.6</td>\n",
       "      <td>2512.0</td>\n",
       "      <td>6.3</td>\n",
       "      <td>715719</td>\n",
       "      <td>519151</td>\n",
       "      <td>455117.0</td>\n",
       "      <td>641820.0</td>\n",
       "      <td>514888.0</td>\n",
       "      <td>608324.0</td>\n",
       "      <td>665161.0</td>\n",
       "      <td>670541.0</td>\n",
       "      <td>676801.0</td>\n",
       "      <td>663656.0</td>\n",
       "      <td>54.19</td>\n",
       "      <td>0.020</td>\n",
       "      <td>0.028</td>\n",
       "      <td>0.0</td>\n",
       "      <td>1.0</td>\n",
       "      <td>0.0</td>\n",
       "      <td>0.0</td>\n",
       "      <td>3.0</td>\n",
       "      <td>63</td>\n",
       "      <td>1</td>\n",
       "      <td>4-Seam Fastball</td>\n",
       "      <td>4</td>\n",
       "      <td>1</td>\n",
       "      <td>1</td>\n",
       "      <td>4</td>\n",
       "      <td>1</td>\n",
       "      <td>4</td>\n",
       "      <td>1</td>\n",
       "      <td>4</td>\n",
       "      <td>Infield shift</td>\n",
       "      <td>Standard</td>\n",
       "      <td>210.0</td>\n",
       "      <td>0.022</td>\n",
       "      <td>-0.300</td>\n",
       "    </tr>\n",
       "    <tr>\n",
       "      <th>205</th>\n",
       "      <td>FF</td>\n",
       "      <td>2022-11-05</td>\n",
       "      <td>93.0</td>\n",
       "      <td>-0.09</td>\n",
       "      <td>5.97</td>\n",
       "      <td>Pressly, Ryan</td>\n",
       "      <td>592663</td>\n",
       "      <td>519151</td>\n",
       "      <td>single</td>\n",
       "      <td>hit_into_play</td>\n",
       "      <td>NaN</td>\n",
       "      <td>NaN</td>\n",
       "      <td>NaN</td>\n",
       "      <td>NaN</td>\n",
       "      <td>8.0</td>\n",
       "      <td>J.T. Realmuto singles on a sharp line drive to...</td>\n",
       "      <td>W</td>\n",
       "      <td>R</td>\n",
       "      <td>R</td>\n",
       "      <td>HOU</td>\n",
       "      <td>PHI</td>\n",
       "      <td>X</td>\n",
       "      <td>8.0</td>\n",
       "      <td>line_drive</td>\n",
       "      <td>0</td>\n",
       "      <td>0</td>\n",
       "      <td>2022</td>\n",
       "      <td>-0.20</td>\n",
       "      <td>1.63</td>\n",
       "      <td>0.04</td>\n",
       "      <td>1.57</td>\n",
       "      <td>NaN</td>\n",
       "      <td>NaN</td>\n",
       "      <td>NaN</td>\n",
       "      <td>1</td>\n",
       "      <td>9</td>\n",
       "      <td>Top</td>\n",
       "      <td>124.52</td>\n",
       "      <td>72.33</td>\n",
       "      <td>NaN</td>\n",
       "      <td>NaN</td>\n",
       "      <td>455117.0</td>\n",
       "      <td>NaN</td>\n",
       "      <td>NaN</td>\n",
       "      <td>0.792904</td>\n",
       "      <td>-135.240082</td>\n",
       "      <td>-9.044987</td>\n",
       "      <td>-2.662444</td>\n",
       "      <td>30.778080</td>\n",
       "      <td>-10.405251</td>\n",
       "      <td>3.61</td>\n",
       "      <td>1.67</td>\n",
       "      <td>267.0</td>\n",
       "      <td>105.8</td>\n",
       "      <td>14.0</td>\n",
       "      <td>92.9</td>\n",
       "      <td>2421.0</td>\n",
       "      <td>6.3</td>\n",
       "      <td>715719</td>\n",
       "      <td>519151</td>\n",
       "      <td>455117.0</td>\n",
       "      <td>641820.0</td>\n",
       "      <td>514888.0</td>\n",
       "      <td>608324.0</td>\n",
       "      <td>665161.0</td>\n",
       "      <td>670541.0</td>\n",
       "      <td>676801.0</td>\n",
       "      <td>663656.0</td>\n",
       "      <td>54.15</td>\n",
       "      <td>0.700</td>\n",
       "      <td>0.752</td>\n",
       "      <td>0.9</td>\n",
       "      <td>1.0</td>\n",
       "      <td>1.0</td>\n",
       "      <td>0.0</td>\n",
       "      <td>5.0</td>\n",
       "      <td>62</td>\n",
       "      <td>1</td>\n",
       "      <td>4-Seam Fastball</td>\n",
       "      <td>4</td>\n",
       "      <td>1</td>\n",
       "      <td>1</td>\n",
       "      <td>4</td>\n",
       "      <td>1</td>\n",
       "      <td>4</td>\n",
       "      <td>1</td>\n",
       "      <td>4</td>\n",
       "      <td>Standard</td>\n",
       "      <td>Standard</td>\n",
       "      <td>212.0</td>\n",
       "      <td>-0.020</td>\n",
       "      <td>0.262</td>\n",
       "    </tr>\n",
       "    <tr>\n",
       "      <th>222</th>\n",
       "      <td>SL</td>\n",
       "      <td>2022-11-05</td>\n",
       "      <td>88.1</td>\n",
       "      <td>-0.15</td>\n",
       "      <td>6.03</td>\n",
       "      <td>Pressly, Ryan</td>\n",
       "      <td>656555</td>\n",
       "      <td>519151</td>\n",
       "      <td>field_out</td>\n",
       "      <td>hit_into_play</td>\n",
       "      <td>NaN</td>\n",
       "      <td>NaN</td>\n",
       "      <td>NaN</td>\n",
       "      <td>NaN</td>\n",
       "      <td>14.0</td>\n",
       "      <td>Rhys Hoskins flies out to right fielder Kyle T...</td>\n",
       "      <td>W</td>\n",
       "      <td>R</td>\n",
       "      <td>R</td>\n",
       "      <td>HOU</td>\n",
       "      <td>PHI</td>\n",
       "      <td>X</td>\n",
       "      <td>9.0</td>\n",
       "      <td>fly_ball</td>\n",
       "      <td>1</td>\n",
       "      <td>2</td>\n",
       "      <td>2022</td>\n",
       "      <td>0.61</td>\n",
       "      <td>0.21</td>\n",
       "      <td>0.92</td>\n",
       "      <td>1.43</td>\n",
       "      <td>NaN</td>\n",
       "      <td>NaN</td>\n",
       "      <td>NaN</td>\n",
       "      <td>0</td>\n",
       "      <td>9</td>\n",
       "      <td>Top</td>\n",
       "      <td>168.45</td>\n",
       "      <td>104.25</td>\n",
       "      <td>NaN</td>\n",
       "      <td>NaN</td>\n",
       "      <td>455117.0</td>\n",
       "      <td>NaN</td>\n",
       "      <td>NaN</td>\n",
       "      <td>1.336480</td>\n",
       "      <td>-128.290529</td>\n",
       "      <td>-5.546018</td>\n",
       "      <td>6.571943</td>\n",
       "      <td>24.542605</td>\n",
       "      <td>-28.945025</td>\n",
       "      <td>3.61</td>\n",
       "      <td>1.68</td>\n",
       "      <td>259.0</td>\n",
       "      <td>82.2</td>\n",
       "      <td>44.0</td>\n",
       "      <td>88.4</td>\n",
       "      <td>2798.0</td>\n",
       "      <td>6.2</td>\n",
       "      <td>715719</td>\n",
       "      <td>519151</td>\n",
       "      <td>455117.0</td>\n",
       "      <td>641820.0</td>\n",
       "      <td>514888.0</td>\n",
       "      <td>608324.0</td>\n",
       "      <td>665161.0</td>\n",
       "      <td>670541.0</td>\n",
       "      <td>676801.0</td>\n",
       "      <td>663656.0</td>\n",
       "      <td>54.26</td>\n",
       "      <td>0.011</td>\n",
       "      <td>0.010</td>\n",
       "      <td>0.0</td>\n",
       "      <td>1.0</td>\n",
       "      <td>0.0</td>\n",
       "      <td>0.0</td>\n",
       "      <td>3.0</td>\n",
       "      <td>61</td>\n",
       "      <td>4</td>\n",
       "      <td>Slider</td>\n",
       "      <td>4</td>\n",
       "      <td>1</td>\n",
       "      <td>1</td>\n",
       "      <td>4</td>\n",
       "      <td>1</td>\n",
       "      <td>4</td>\n",
       "      <td>1</td>\n",
       "      <td>4</td>\n",
       "      <td>Infield shift</td>\n",
       "      <td>Standard</td>\n",
       "      <td>120.0</td>\n",
       "      <td>0.018</td>\n",
       "      <td>-0.158</td>\n",
       "    </tr>\n",
       "    <tr>\n",
       "      <th>228</th>\n",
       "      <td>SL</td>\n",
       "      <td>2022-11-05</td>\n",
       "      <td>89.0</td>\n",
       "      <td>-0.25</td>\n",
       "      <td>6.06</td>\n",
       "      <td>Pressly, Ryan</td>\n",
       "      <td>656555</td>\n",
       "      <td>519151</td>\n",
       "      <td>NaN</td>\n",
       "      <td>foul</td>\n",
       "      <td>NaN</td>\n",
       "      <td>NaN</td>\n",
       "      <td>NaN</td>\n",
       "      <td>NaN</td>\n",
       "      <td>8.0</td>\n",
       "      <td>Rhys Hoskins flies out to right fielder Kyle T...</td>\n",
       "      <td>W</td>\n",
       "      <td>R</td>\n",
       "      <td>R</td>\n",
       "      <td>HOU</td>\n",
       "      <td>PHI</td>\n",
       "      <td>S</td>\n",
       "      <td>NaN</td>\n",
       "      <td>NaN</td>\n",
       "      <td>1</td>\n",
       "      <td>1</td>\n",
       "      <td>2022</td>\n",
       "      <td>0.40</td>\n",
       "      <td>0.48</td>\n",
       "      <td>0.11</td>\n",
       "      <td>2.27</td>\n",
       "      <td>NaN</td>\n",
       "      <td>NaN</td>\n",
       "      <td>NaN</td>\n",
       "      <td>0</td>\n",
       "      <td>9</td>\n",
       "      <td>Top</td>\n",
       "      <td>NaN</td>\n",
       "      <td>NaN</td>\n",
       "      <td>NaN</td>\n",
       "      <td>NaN</td>\n",
       "      <td>455117.0</td>\n",
       "      <td>NaN</td>\n",
       "      <td>NaN</td>\n",
       "      <td>0.058103</td>\n",
       "      <td>-129.716040</td>\n",
       "      <td>-4.326569</td>\n",
       "      <td>4.499477</td>\n",
       "      <td>24.912144</td>\n",
       "      <td>-26.114640</td>\n",
       "      <td>3.61</td>\n",
       "      <td>1.68</td>\n",
       "      <td>7.0</td>\n",
       "      <td>81.9</td>\n",
       "      <td>-19.0</td>\n",
       "      <td>89.1</td>\n",
       "      <td>2811.0</td>\n",
       "      <td>6.1</td>\n",
       "      <td>715719</td>\n",
       "      <td>519151</td>\n",
       "      <td>455117.0</td>\n",
       "      <td>641820.0</td>\n",
       "      <td>514888.0</td>\n",
       "      <td>608324.0</td>\n",
       "      <td>665161.0</td>\n",
       "      <td>670541.0</td>\n",
       "      <td>676801.0</td>\n",
       "      <td>663656.0</td>\n",
       "      <td>54.39</td>\n",
       "      <td>NaN</td>\n",
       "      <td>NaN</td>\n",
       "      <td>NaN</td>\n",
       "      <td>NaN</td>\n",
       "      <td>NaN</td>\n",
       "      <td>NaN</td>\n",
       "      <td>NaN</td>\n",
       "      <td>61</td>\n",
       "      <td>3</td>\n",
       "      <td>Slider</td>\n",
       "      <td>4</td>\n",
       "      <td>1</td>\n",
       "      <td>1</td>\n",
       "      <td>4</td>\n",
       "      <td>1</td>\n",
       "      <td>4</td>\n",
       "      <td>1</td>\n",
       "      <td>4</td>\n",
       "      <td>Infield shift</td>\n",
       "      <td>Standard</td>\n",
       "      <td>121.0</td>\n",
       "      <td>0.000</td>\n",
       "      <td>-0.054</td>\n",
       "    </tr>\n",
       "  </tbody>\n",
       "</table>\n",
       "</div>"
      ],
      "text/plain": [
       "    pitch_type   game_date  release_speed  release_pos_x  release_pos_z  \\\n",
       "190         SL  2022-11-05           89.2          -0.06           6.14   \n",
       "199         FF  2022-11-05           93.9          -0.18           5.94   \n",
       "205         FF  2022-11-05           93.0          -0.09           5.97   \n",
       "222         SL  2022-11-05           88.1          -0.15           6.03   \n",
       "228         SL  2022-11-05           89.0          -0.25           6.06   \n",
       "\n",
       "       player_name  batter  pitcher     events    description  spin_dir  \\\n",
       "190  Pressly, Ryan  592206   519151  field_out  hit_into_play       NaN   \n",
       "199  Pressly, Ryan  547180   519151  field_out  hit_into_play       NaN   \n",
       "205  Pressly, Ryan  592663   519151     single  hit_into_play       NaN   \n",
       "222  Pressly, Ryan  656555   519151  field_out  hit_into_play       NaN   \n",
       "228  Pressly, Ryan  656555   519151        NaN           foul       NaN   \n",
       "\n",
       "     spin_rate_deprecated  break_angle_deprecated  break_length_deprecated  \\\n",
       "190                   NaN                     NaN                      NaN   \n",
       "199                   NaN                     NaN                      NaN   \n",
       "205                   NaN                     NaN                      NaN   \n",
       "222                   NaN                     NaN                      NaN   \n",
       "228                   NaN                     NaN                      NaN   \n",
       "\n",
       "     zone                                                des game_type stand  \\\n",
       "190  14.0  Nick Castellanos flies out to right fielder Ky...         W     R   \n",
       "199   8.0  Bryce Harper flies out to left fielder Yordan ...         W     L   \n",
       "205   8.0  J.T. Realmuto singles on a sharp line drive to...         W     R   \n",
       "222  14.0  Rhys Hoskins flies out to right fielder Kyle T...         W     R   \n",
       "228   8.0  Rhys Hoskins flies out to right fielder Kyle T...         W     R   \n",
       "\n",
       "    p_throws home_team away_team type  hit_location     bb_type  balls  \\\n",
       "190        R       HOU       PHI    X           9.0    fly_ball      0   \n",
       "199        R       HOU       PHI    X           7.0    fly_ball      0   \n",
       "205        R       HOU       PHI    X           8.0  line_drive      0   \n",
       "222        R       HOU       PHI    X           9.0    fly_ball      1   \n",
       "228        R       HOU       PHI    S           NaN         NaN      1   \n",
       "\n",
       "     strikes  game_year  pfx_x  pfx_z  plate_x  plate_z  on_3b  on_2b  \\\n",
       "190        0       2022   0.41   0.37     1.05     2.39    NaN    NaN   \n",
       "199        0       2022  -0.33   1.57     0.06     2.08    NaN    NaN   \n",
       "205        0       2022  -0.20   1.63     0.04     1.57    NaN    NaN   \n",
       "222        2       2022   0.61   0.21     0.92     1.43    NaN    NaN   \n",
       "228        1       2022   0.40   0.48     0.11     2.27    NaN    NaN   \n",
       "\n",
       "        on_1b  outs_when_up  inning inning_topbot    hc_x    hc_y  \\\n",
       "190  592663.0             2       9           Top  195.76  145.13   \n",
       "199  592663.0             1       9           Top   65.52  124.44   \n",
       "205       NaN             1       9           Top  124.52   72.33   \n",
       "222       NaN             0       9           Top  168.45  104.25   \n",
       "228       NaN             0       9           Top     NaN     NaN   \n",
       "\n",
       "     tfs_deprecated  tfs_zulu_deprecated  fielder_2  umpire sv_id       vx0  \\\n",
       "190             NaN                  NaN   455117.0     NaN   NaN  1.859662   \n",
       "199             NaN                  NaN   455117.0     NaN   NaN  1.368792   \n",
       "205             NaN                  NaN   455117.0     NaN   NaN  0.792904   \n",
       "222             NaN                  NaN   455117.0     NaN   NaN  1.336480   \n",
       "228             NaN                  NaN   455117.0     NaN   NaN  0.058103   \n",
       "\n",
       "            vy0       vz0        ax         ay         az  sz_top  sz_bot  \\\n",
       "190 -129.958368 -4.015258  4.329541  25.545818 -27.380437    3.65    1.74   \n",
       "199 -136.486377 -7.693218 -4.423997  32.019240 -11.046260    3.24    1.62   \n",
       "205 -135.240082 -9.044987 -2.662444  30.778080 -10.405251    3.61    1.67   \n",
       "222 -128.290529 -5.546018  6.571943  24.542605 -28.945025    3.61    1.68   \n",
       "228 -129.716040 -4.326569  4.499477  24.912144 -26.114640    3.61    1.68   \n",
       "\n",
       "     hit_distance_sc  launch_speed  launch_angle  effective_speed  \\\n",
       "190            217.0          84.1          53.0             89.2   \n",
       "199            239.0          99.4          60.0             93.6   \n",
       "205            267.0         105.8          14.0             92.9   \n",
       "222            259.0          82.2          44.0             88.4   \n",
       "228              7.0          81.9         -19.0             89.1   \n",
       "\n",
       "     release_spin_rate  release_extension  game_pk  pitcher.1  fielder_2.1  \\\n",
       "190             2679.0                6.1   715719     519151     455117.0   \n",
       "199             2512.0                6.3   715719     519151     455117.0   \n",
       "205             2421.0                6.3   715719     519151     455117.0   \n",
       "222             2798.0                6.2   715719     519151     455117.0   \n",
       "228             2811.0                6.1   715719     519151     455117.0   \n",
       "\n",
       "     fielder_3  fielder_4  fielder_5  fielder_6  fielder_7  fielder_8  \\\n",
       "190   641820.0   514888.0   608324.0   665161.0   670541.0   676801.0   \n",
       "199   641820.0   514888.0   608324.0   665161.0   670541.0   676801.0   \n",
       "205   641820.0   514888.0   608324.0   665161.0   670541.0   676801.0   \n",
       "222   641820.0   514888.0   608324.0   665161.0   670541.0   676801.0   \n",
       "228   641820.0   514888.0   608324.0   665161.0   670541.0   676801.0   \n",
       "\n",
       "     fielder_9  release_pos_y  estimated_ba_using_speedangle  \\\n",
       "190   663656.0          54.42                          0.020   \n",
       "199   663656.0          54.19                          0.020   \n",
       "205   663656.0          54.15                          0.700   \n",
       "222   663656.0          54.26                          0.011   \n",
       "228   663656.0          54.39                            NaN   \n",
       "\n",
       "     estimated_woba_using_speedangle  woba_value  woba_denom  babip_value  \\\n",
       "190                            0.021         0.0         1.0          0.0   \n",
       "199                            0.028         0.0         1.0          0.0   \n",
       "205                            0.752         0.9         1.0          1.0   \n",
       "222                            0.010         0.0         1.0          0.0   \n",
       "228                              NaN         NaN         NaN          NaN   \n",
       "\n",
       "     iso_value  launch_speed_angle  at_bat_number  pitch_number  \\\n",
       "190        0.0                 3.0             64             1   \n",
       "199        0.0                 3.0             63             1   \n",
       "205        0.0                 5.0             62             1   \n",
       "222        0.0                 3.0             61             4   \n",
       "228        NaN                 NaN             61             3   \n",
       "\n",
       "          pitch_name  home_score  away_score  bat_score  fld_score  \\\n",
       "190           Slider           4           1          1          4   \n",
       "199  4-Seam Fastball           4           1          1          4   \n",
       "205  4-Seam Fastball           4           1          1          4   \n",
       "222           Slider           4           1          1          4   \n",
       "228           Slider           4           1          1          4   \n",
       "\n",
       "     post_away_score  post_home_score  post_bat_score  post_fld_score  \\\n",
       "190                1                4               1               4   \n",
       "199                1                4               1               4   \n",
       "205                1                4               1               4   \n",
       "222                1                4               1               4   \n",
       "228                1                4               1               4   \n",
       "\n",
       "    if_fielding_alignment of_fielding_alignment  spin_axis  \\\n",
       "190              Standard              Standard      137.0   \n",
       "199         Infield shift              Standard      210.0   \n",
       "205              Standard              Standard      212.0   \n",
       "222         Infield shift              Standard      120.0   \n",
       "228         Infield shift              Standard      121.0   \n",
       "\n",
       "     delta_home_win_exp  delta_run_exp  \n",
       "190               0.011         -0.219  \n",
       "199               0.022         -0.300  \n",
       "205              -0.020          0.262  \n",
       "222               0.018         -0.158  \n",
       "228               0.000         -0.054  "
      ]
     },
     "execution_count": 181,
     "metadata": {},
     "output_type": "execute_result"
    }
   ],
   "source": [
    "raw_all_df.head()"
   ]
  },
  {
   "cell_type": "code",
   "execution_count": 5,
   "id": "57256c60",
   "metadata": {
    "id": "57256c60"
   },
   "outputs": [],
   "source": [
    "# from IPython.display import display, HTML\n",
    "# display(HTML(\"<style>.container { width:100% !important; }</style>\"))"
   ]
  },
  {
   "cell_type": "code",
   "execution_count": 6,
   "id": "645f6981",
   "metadata": {
    "id": "645f6981"
   },
   "outputs": [],
   "source": [
    "reg_all_df = raw_all_df[raw_all_df['game_type']=='R'].copy()"
   ]
  },
  {
   "cell_type": "code",
   "execution_count": 7,
   "id": "3691c7fb",
   "metadata": {
    "id": "3691c7fb"
   },
   "outputs": [],
   "source": [
    "reg_all_df.reset_index(inplace=True, drop=True)"
   ]
  },
  {
   "cell_type": "code",
   "execution_count": 8,
   "id": "3d122779",
   "metadata": {},
   "outputs": [],
   "source": [
    "# create seperate pitch index for later merging opt\n",
    "reg_all_df.reset_index(inplace=True)\n",
    "reg_all_df.rename(columns={'index':'pitch_index'}, inplace=True)"
   ]
  },
  {
   "cell_type": "code",
   "execution_count": 9,
   "id": "4382fd8d",
   "metadata": {},
   "outputs": [],
   "source": [
    "reg_all_df['n_count'] = 1"
   ]
  },
  {
   "cell_type": "markdown",
   "id": "024af86c",
   "metadata": {
    "id": "024af86c"
   },
   "source": [
    "# Visual inspection"
   ]
  },
  {
   "cell_type": "code",
   "execution_count": 10,
   "id": "17de8f59",
   "metadata": {
    "id": "17de8f59"
   },
   "outputs": [],
   "source": [
    "# import utils\n",
    "\n",
    "# reg_all_df = utils.get_vid_link(reg_all_df)"
   ]
  },
  {
   "cell_type": "markdown",
   "id": "be7a4ee0",
   "metadata": {},
   "source": [
    "# remove bad PAs\n",
    "PA that changed pitcher or batter or doesn't contain events"
   ]
  },
  {
   "cell_type": "code",
   "execution_count": 11,
   "id": "b732d019",
   "metadata": {},
   "outputs": [
    {
     "data": {
      "text/html": [
       "<div>\n",
       "<style scoped>\n",
       "    .dataframe tbody tr th:only-of-type {\n",
       "        vertical-align: middle;\n",
       "    }\n",
       "\n",
       "    .dataframe tbody tr th {\n",
       "        vertical-align: top;\n",
       "    }\n",
       "\n",
       "    .dataframe thead th {\n",
       "        text-align: right;\n",
       "    }\n",
       "</style>\n",
       "<table border=\"1\" class=\"dataframe\">\n",
       "  <thead>\n",
       "    <tr style=\"text-align: right;\">\n",
       "      <th></th>\n",
       "      <th>game_year</th>\n",
       "      <th>game_pk</th>\n",
       "      <th>at_bat_number</th>\n",
       "      <th>pitcher</th>\n",
       "      <th>batter</th>\n",
       "      <th>events</th>\n",
       "      <th>des</th>\n",
       "      <th>pitch_index</th>\n",
       "    </tr>\n",
       "  </thead>\n",
       "  <tbody>\n",
       "    <tr>\n",
       "      <th>0</th>\n",
       "      <td>2015</td>\n",
       "      <td>413649</td>\n",
       "      <td>1</td>\n",
       "      <td>433587</td>\n",
       "      <td>594777</td>\n",
       "      <td>strikeout</td>\n",
       "      <td>Kole Calhoun called out on strikes.</td>\n",
       "      <td>5274688</td>\n",
       "    </tr>\n",
       "    <tr>\n",
       "      <th>1</th>\n",
       "      <td>2015</td>\n",
       "      <td>413649</td>\n",
       "      <td>2</td>\n",
       "      <td>433587</td>\n",
       "      <td>545361</td>\n",
       "      <td>home_run</td>\n",
       "      <td>Mike Trout homers (1) on a fly ball to center ...</td>\n",
       "      <td>5274680</td>\n",
       "    </tr>\n",
       "    <tr>\n",
       "      <th>2</th>\n",
       "      <td>2015</td>\n",
       "      <td>413649</td>\n",
       "      <td>3</td>\n",
       "      <td>433587</td>\n",
       "      <td>405395</td>\n",
       "      <td>strikeout</td>\n",
       "      <td>Albert Pujols strikes out on a foul tip.</td>\n",
       "      <td>5274673</td>\n",
       "    </tr>\n",
       "    <tr>\n",
       "      <th>3</th>\n",
       "      <td>2015</td>\n",
       "      <td>413649</td>\n",
       "      <td>4</td>\n",
       "      <td>433587</td>\n",
       "      <td>459964</td>\n",
       "      <td>strikeout</td>\n",
       "      <td>Matt Joyce strikes out swinging.</td>\n",
       "      <td>5274670</td>\n",
       "    </tr>\n",
       "    <tr>\n",
       "      <th>4</th>\n",
       "      <td>2015</td>\n",
       "      <td>413649</td>\n",
       "      <td>5</td>\n",
       "      <td>450308</td>\n",
       "      <td>457706</td>\n",
       "      <td>field_out</td>\n",
       "      <td>Austin Jackson grounds out, shortstop Erick Ay...</td>\n",
       "      <td>5274668</td>\n",
       "    </tr>\n",
       "  </tbody>\n",
       "</table>\n",
       "</div>"
      ],
      "text/plain": [
       "   game_year  game_pk  at_bat_number  pitcher  batter     events  \\\n",
       "0       2015   413649              1   433587  594777  strikeout   \n",
       "1       2015   413649              2   433587  545361   home_run   \n",
       "2       2015   413649              3   433587  405395  strikeout   \n",
       "3       2015   413649              4   433587  459964  strikeout   \n",
       "4       2015   413649              5   450308  457706  field_out   \n",
       "\n",
       "                                                 des  pitch_index  \n",
       "0                Kole Calhoun called out on strikes.      5274688  \n",
       "1  Mike Trout homers (1) on a fly ball to center ...      5274680  \n",
       "2           Albert Pujols strikes out on a foul tip.      5274673  \n",
       "3                   Matt Joyce strikes out swinging.      5274670  \n",
       "4  Austin Jackson grounds out, shortstop Erick Ay...      5274668  "
      ]
     },
     "execution_count": 11,
     "metadata": {},
     "output_type": "execute_result"
    }
   ],
   "source": [
    "pa_df = reg_all_df.groupby(['game_year', 'game_pk', 'at_bat_number', 'pitcher', 'batter']).agg({\n",
    "    'events':'first',\n",
    "    'des':'first',\n",
    "    'pitch_index':'first'\n",
    "}).reset_index()\n",
    "pa_df.head()"
   ]
  },
  {
   "cell_type": "code",
   "execution_count": 12,
   "id": "baf81e53",
   "metadata": {},
   "outputs": [],
   "source": [
    "# create df of duplicated pa\n",
    "pa_dup = pa_df[pa_df.duplicated(subset=['game_pk', 'at_bat_number'], keep='first')]\n",
    "pa_dup_list = [(x, y) for x, y in zip(pa_dup['game_pk'], pa_dup['at_bat_number'])]"
   ]
  },
  {
   "cell_type": "code",
   "execution_count": 13,
   "id": "51d25bb6",
   "metadata": {},
   "outputs": [],
   "source": [
    "drop_idx = []\n",
    "\n",
    "for pa in pa_dup_list:\n",
    "    drop_idx += reg_all_df[(reg_all_df['game_pk']==pa[0])&(reg_all_df['at_bat_number']==pa[1])].index.to_list()"
   ]
  },
  {
   "cell_type": "code",
   "execution_count": 14,
   "id": "1ac93534",
   "metadata": {},
   "outputs": [
    {
     "data": {
      "text/plain": [
       "(5275005, 94)"
      ]
     },
     "execution_count": 14,
     "metadata": {},
     "output_type": "execute_result"
    }
   ],
   "source": [
    "reg_all_df.shape"
   ]
  },
  {
   "cell_type": "code",
   "execution_count": 15,
   "id": "bbee6df0",
   "metadata": {},
   "outputs": [],
   "source": [
    "# drop duplicated PA\n",
    "reg_all_df.drop(index=drop_idx, inplace=True)"
   ]
  },
  {
   "cell_type": "code",
   "execution_count": 16,
   "id": "750e45ab",
   "metadata": {},
   "outputs": [
    {
     "data": {
      "text/html": [
       "<div>\n",
       "<style scoped>\n",
       "    .dataframe tbody tr th:only-of-type {\n",
       "        vertical-align: middle;\n",
       "    }\n",
       "\n",
       "    .dataframe tbody tr th {\n",
       "        vertical-align: top;\n",
       "    }\n",
       "\n",
       "    .dataframe thead th {\n",
       "        text-align: right;\n",
       "    }\n",
       "</style>\n",
       "<table border=\"1\" class=\"dataframe\">\n",
       "  <thead>\n",
       "    <tr style=\"text-align: right;\">\n",
       "      <th></th>\n",
       "      <th>game_year</th>\n",
       "      <th>game_pk</th>\n",
       "      <th>at_bat_number</th>\n",
       "      <th>pitcher</th>\n",
       "      <th>batter</th>\n",
       "      <th>events</th>\n",
       "      <th>des</th>\n",
       "      <th>pitch_index</th>\n",
       "    </tr>\n",
       "  </thead>\n",
       "  <tbody>\n",
       "    <tr>\n",
       "      <th>0</th>\n",
       "      <td>2015</td>\n",
       "      <td>413649</td>\n",
       "      <td>1</td>\n",
       "      <td>433587</td>\n",
       "      <td>594777</td>\n",
       "      <td>strikeout</td>\n",
       "      <td>Kole Calhoun called out on strikes.</td>\n",
       "      <td>5274688</td>\n",
       "    </tr>\n",
       "    <tr>\n",
       "      <th>1</th>\n",
       "      <td>2015</td>\n",
       "      <td>413649</td>\n",
       "      <td>2</td>\n",
       "      <td>433587</td>\n",
       "      <td>545361</td>\n",
       "      <td>home_run</td>\n",
       "      <td>Mike Trout homers (1) on a fly ball to center ...</td>\n",
       "      <td>5274680</td>\n",
       "    </tr>\n",
       "    <tr>\n",
       "      <th>2</th>\n",
       "      <td>2015</td>\n",
       "      <td>413649</td>\n",
       "      <td>3</td>\n",
       "      <td>433587</td>\n",
       "      <td>405395</td>\n",
       "      <td>strikeout</td>\n",
       "      <td>Albert Pujols strikes out on a foul tip.</td>\n",
       "      <td>5274673</td>\n",
       "    </tr>\n",
       "    <tr>\n",
       "      <th>3</th>\n",
       "      <td>2015</td>\n",
       "      <td>413649</td>\n",
       "      <td>4</td>\n",
       "      <td>433587</td>\n",
       "      <td>459964</td>\n",
       "      <td>strikeout</td>\n",
       "      <td>Matt Joyce strikes out swinging.</td>\n",
       "      <td>5274670</td>\n",
       "    </tr>\n",
       "    <tr>\n",
       "      <th>4</th>\n",
       "      <td>2015</td>\n",
       "      <td>413649</td>\n",
       "      <td>5</td>\n",
       "      <td>450308</td>\n",
       "      <td>457706</td>\n",
       "      <td>field_out</td>\n",
       "      <td>Austin Jackson grounds out, shortstop Erick Ay...</td>\n",
       "      <td>5274668</td>\n",
       "    </tr>\n",
       "  </tbody>\n",
       "</table>\n",
       "</div>"
      ],
      "text/plain": [
       "   game_year  game_pk  at_bat_number  pitcher  batter     events  \\\n",
       "0       2015   413649              1   433587  594777  strikeout   \n",
       "1       2015   413649              2   433587  545361   home_run   \n",
       "2       2015   413649              3   433587  405395  strikeout   \n",
       "3       2015   413649              4   433587  459964  strikeout   \n",
       "4       2015   413649              5   450308  457706  field_out   \n",
       "\n",
       "                                                 des  pitch_index  \n",
       "0                Kole Calhoun called out on strikes.      5274688  \n",
       "1  Mike Trout homers (1) on a fly ball to center ...      5274680  \n",
       "2           Albert Pujols strikes out on a foul tip.      5274673  \n",
       "3                   Matt Joyce strikes out swinging.      5274670  \n",
       "4  Austin Jackson grounds out, shortstop Erick Ay...      5274668  "
      ]
     },
     "execution_count": 16,
     "metadata": {},
     "output_type": "execute_result"
    }
   ],
   "source": [
    "# re-create pa_df\n",
    "pa_df = reg_all_df.groupby(['game_year', 'game_pk', 'at_bat_number', 'pitcher', 'batter']).agg({\n",
    "    'events':'first',\n",
    "    'des':'first',\n",
    "    'pitch_index':'first'\n",
    "}).reset_index()\n",
    "pa_df.head()"
   ]
  },
  {
   "cell_type": "code",
   "execution_count": 17,
   "id": "261d2fdf",
   "metadata": {},
   "outputs": [],
   "source": [
    "missing_event_df = pa_df[pa_df['events'].isna()].copy()"
   ]
  },
  {
   "cell_type": "code",
   "execution_count": 18,
   "id": "d98cbc41",
   "metadata": {},
   "outputs": [
    {
     "data": {
      "text/html": [
       "<div>\n",
       "<style scoped>\n",
       "    .dataframe tbody tr th:only-of-type {\n",
       "        vertical-align: middle;\n",
       "    }\n",
       "\n",
       "    .dataframe tbody tr th {\n",
       "        vertical-align: top;\n",
       "    }\n",
       "\n",
       "    .dataframe thead th {\n",
       "        text-align: right;\n",
       "    }\n",
       "</style>\n",
       "<table border=\"1\" class=\"dataframe\">\n",
       "  <thead>\n",
       "    <tr style=\"text-align: right;\">\n",
       "      <th></th>\n",
       "      <th>game_year</th>\n",
       "      <th>game_pk</th>\n",
       "      <th>at_bat_number</th>\n",
       "      <th>pitcher</th>\n",
       "      <th>batter</th>\n",
       "      <th>events</th>\n",
       "      <th>des</th>\n",
       "      <th>pitch_index</th>\n",
       "    </tr>\n",
       "  </thead>\n",
       "  <tbody>\n",
       "    <tr>\n",
       "      <th>8453</th>\n",
       "      <td>2015</td>\n",
       "      <td>413759</td>\n",
       "      <td>62</td>\n",
       "      <td>466948</td>\n",
       "      <td>572816</td>\n",
       "      <td>None</td>\n",
       "      <td>None</td>\n",
       "      <td>5243123</td>\n",
       "    </tr>\n",
       "    <tr>\n",
       "      <th>14444</th>\n",
       "      <td>2015</td>\n",
       "      <td>413840</td>\n",
       "      <td>22</td>\n",
       "      <td>282332</td>\n",
       "      <td>434658</td>\n",
       "      <td>None</td>\n",
       "      <td>None</td>\n",
       "      <td>5220248</td>\n",
       "    </tr>\n",
       "    <tr>\n",
       "      <th>16995</th>\n",
       "      <td>2015</td>\n",
       "      <td>413873</td>\n",
       "      <td>51</td>\n",
       "      <td>112526</td>\n",
       "      <td>592743</td>\n",
       "      <td>None</td>\n",
       "      <td>None</td>\n",
       "      <td>5210438</td>\n",
       "    </tr>\n",
       "    <tr>\n",
       "      <th>33041</th>\n",
       "      <td>2015</td>\n",
       "      <td>414086</td>\n",
       "      <td>46</td>\n",
       "      <td>572750</td>\n",
       "      <td>648717</td>\n",
       "      <td>None</td>\n",
       "      <td>None</td>\n",
       "      <td>5151816</td>\n",
       "    </tr>\n",
       "  </tbody>\n",
       "</table>\n",
       "</div>"
      ],
      "text/plain": [
       "       game_year  game_pk  at_bat_number  pitcher  batter events   des  \\\n",
       "8453        2015   413759             62   466948  572816   None  None   \n",
       "14444       2015   413840             22   282332  434658   None  None   \n",
       "16995       2015   413873             51   112526  592743   None  None   \n",
       "33041       2015   414086             46   572750  648717   None  None   \n",
       "\n",
       "       pitch_index  \n",
       "8453       5243123  \n",
       "14444      5220248  \n",
       "16995      5210438  \n",
       "33041      5151816  "
      ]
     },
     "execution_count": 18,
     "metadata": {},
     "output_type": "execute_result"
    }
   ],
   "source": [
    "missing_event_df[missing_event_df['des'].isna()]"
   ]
  },
  {
   "cell_type": "code",
   "execution_count": 19,
   "id": "0054e075",
   "metadata": {},
   "outputs": [],
   "source": [
    "# drop pa if des is None\n",
    "missing_event_df.drop(index=missing_event_df[missing_event_df['des'].isna()].index, inplace=True)"
   ]
  },
  {
   "cell_type": "code",
   "execution_count": 20,
   "id": "2c85bfd4",
   "metadata": {},
   "outputs": [],
   "source": [
    "for i, r in missing_event_df.iterrows():\n",
    "    missing_event_df.loc[i, 'events_imputed'] = 'BB' if 'intentionally walks' in r['des'] else 'other'"
   ]
  },
  {
   "cell_type": "code",
   "execution_count": 21,
   "id": "51606edb",
   "metadata": {},
   "outputs": [
    {
     "data": {
      "text/plain": [
       "(5272280, 94)"
      ]
     },
     "execution_count": 21,
     "metadata": {},
     "output_type": "execute_result"
    }
   ],
   "source": [
    "reg_all_df.shape"
   ]
  },
  {
   "cell_type": "code",
   "execution_count": 22,
   "id": "578761d7",
   "metadata": {},
   "outputs": [
    {
     "data": {
      "text/html": [
       "<div>\n",
       "<style scoped>\n",
       "    .dataframe tbody tr th:only-of-type {\n",
       "        vertical-align: middle;\n",
       "    }\n",
       "\n",
       "    .dataframe tbody tr th {\n",
       "        vertical-align: top;\n",
       "    }\n",
       "\n",
       "    .dataframe thead th {\n",
       "        text-align: right;\n",
       "    }\n",
       "</style>\n",
       "<table border=\"1\" class=\"dataframe\">\n",
       "  <thead>\n",
       "    <tr style=\"text-align: right;\">\n",
       "      <th></th>\n",
       "      <th>game_year</th>\n",
       "      <th>game_pk</th>\n",
       "      <th>at_bat_number</th>\n",
       "      <th>pitcher</th>\n",
       "      <th>batter</th>\n",
       "      <th>events</th>\n",
       "      <th>des</th>\n",
       "      <th>pitch_index</th>\n",
       "      <th>events_imputed</th>\n",
       "    </tr>\n",
       "  </thead>\n",
       "  <tbody>\n",
       "    <tr>\n",
       "      <th>1856</th>\n",
       "      <td>2015</td>\n",
       "      <td>413674</td>\n",
       "      <td>68</td>\n",
       "      <td>449097</td>\n",
       "      <td>452672</td>\n",
       "      <td>None</td>\n",
       "      <td>Ryan Hanigan reaches on catcher interference b...</td>\n",
       "      <td>5267816</td>\n",
       "      <td>other</td>\n",
       "    </tr>\n",
       "    <tr>\n",
       "      <th>5082</th>\n",
       "      <td>2015</td>\n",
       "      <td>413716</td>\n",
       "      <td>16</td>\n",
       "      <td>477132</td>\n",
       "      <td>572041</td>\n",
       "      <td>None</td>\n",
       "      <td>With A.  J. Pollock batting, Archie Bradley pi...</td>\n",
       "      <td>5255843</td>\n",
       "      <td>other</td>\n",
       "    </tr>\n",
       "    <tr>\n",
       "      <th>6236</th>\n",
       "      <td>2015</td>\n",
       "      <td>413731</td>\n",
       "      <td>4</td>\n",
       "      <td>518567</td>\n",
       "      <td>435062</td>\n",
       "      <td>None</td>\n",
       "      <td>With Howie Kendrick batting, Jimmy Rollins pic...</td>\n",
       "      <td>5251510</td>\n",
       "      <td>other</td>\n",
       "    </tr>\n",
       "    <tr>\n",
       "      <th>6504</th>\n",
       "      <td>2015</td>\n",
       "      <td>413734</td>\n",
       "      <td>38</td>\n",
       "      <td>594987</td>\n",
       "      <td>516416</td>\n",
       "      <td>None</td>\n",
       "      <td>Carlos Gomez picked off and caught stealing 3r...</td>\n",
       "      <td>5250549</td>\n",
       "      <td>other</td>\n",
       "    </tr>\n",
       "    <tr>\n",
       "      <th>8798</th>\n",
       "      <td>2015</td>\n",
       "      <td>413764</td>\n",
       "      <td>42</td>\n",
       "      <td>518774</td>\n",
       "      <td>429667</td>\n",
       "      <td>None</td>\n",
       "      <td>Ryan Howard reaches on catcher interference by...</td>\n",
       "      <td>5241841</td>\n",
       "      <td>other</td>\n",
       "    </tr>\n",
       "  </tbody>\n",
       "</table>\n",
       "</div>"
      ],
      "text/plain": [
       "      game_year  game_pk  at_bat_number  pitcher  batter events  \\\n",
       "1856       2015   413674             68   449097  452672   None   \n",
       "5082       2015   413716             16   477132  572041   None   \n",
       "6236       2015   413731              4   518567  435062   None   \n",
       "6504       2015   413734             38   594987  516416   None   \n",
       "8798       2015   413764             42   518774  429667   None   \n",
       "\n",
       "                                                    des  pitch_index  \\\n",
       "1856  Ryan Hanigan reaches on catcher interference b...      5267816   \n",
       "5082  With A.  J. Pollock batting, Archie Bradley pi...      5255843   \n",
       "6236  With Howie Kendrick batting, Jimmy Rollins pic...      5251510   \n",
       "6504  Carlos Gomez picked off and caught stealing 3r...      5250549   \n",
       "8798  Ryan Howard reaches on catcher interference by...      5241841   \n",
       "\n",
       "     events_imputed  \n",
       "1856          other  \n",
       "5082          other  \n",
       "6236          other  \n",
       "6504          other  \n",
       "8798          other  "
      ]
     },
     "execution_count": 22,
     "metadata": {},
     "output_type": "execute_result"
    }
   ],
   "source": [
    "missing_event_df.head()"
   ]
  },
  {
   "cell_type": "code",
   "execution_count": 23,
   "id": "fe87e75e",
   "metadata": {
    "scrolled": true
   },
   "outputs": [
    {
     "data": {
      "text/plain": [
       "(1727, 9)"
      ]
     },
     "execution_count": 23,
     "metadata": {},
     "output_type": "execute_result"
    }
   ],
   "source": [
    "missing_event_df.shape"
   ]
  },
  {
   "cell_type": "code",
   "execution_count": 24,
   "id": "829da75d",
   "metadata": {
    "scrolled": true
   },
   "outputs": [],
   "source": [
    "reg_all_df = reg_all_df.merge(missing_event_df[['pitch_index', 'events_imputed']]\\\n",
    "                 , on=['pitch_index'], how='left', suffixes=('', '_y'))"
   ]
  },
  {
   "cell_type": "code",
   "execution_count": 25,
   "id": "24e34f81",
   "metadata": {},
   "outputs": [],
   "source": [
    "# drop pitches if des is None\n",
    "reg_all_df.drop(index=reg_all_df[reg_all_df['des'].isna()].index, inplace=True)"
   ]
  },
  {
   "cell_type": "code",
   "execution_count": 26,
   "id": "0cb15e0b",
   "metadata": {},
   "outputs": [],
   "source": [
    "reg_all_df.loc[reg_all_df['events'].isna(), 'events'] = reg_all_df['events_imputed']\n",
    "reg_all_df.reset_index(drop=True, inplace=True)"
   ]
  },
  {
   "cell_type": "code",
   "execution_count": 27,
   "id": "588dcb9a",
   "metadata": {},
   "outputs": [
    {
     "data": {
      "text/plain": [
       "(5272267, 95)"
      ]
     },
     "execution_count": 27,
     "metadata": {},
     "output_type": "execute_result"
    }
   ],
   "source": [
    "reg_all_df.shape"
   ]
  },
  {
   "cell_type": "markdown",
   "id": "292bc213",
   "metadata": {
    "id": "292bc213"
   },
   "source": [
    "# Remove ball 4s"
   ]
  },
  {
   "cell_type": "code",
   "execution_count": 28,
   "id": "9403af2d",
   "metadata": {
    "colab": {
     "base_uri": "https://localhost:8080/"
    },
    "executionInfo": {
     "elapsed": 14,
     "status": "ok",
     "timestamp": 1668737184486,
     "user": {
      "displayName": "Jeff Jin",
      "userId": "04519095521378007072"
     },
     "user_tz": 300
    },
    "id": "9403af2d",
    "outputId": "d922f79c-1b4d-488a-f633-6162312be082",
    "scrolled": true
   },
   "outputs": [
    {
     "data": {
      "text/plain": [
       "0    2377217\n",
       "1    1570376\n",
       "2     891515\n",
       "3     433139\n",
       "4         20\n",
       "Name: balls, dtype: int64"
      ]
     },
     "execution_count": 28,
     "metadata": {},
     "output_type": "execute_result"
    }
   ],
   "source": [
    "reg_all_df['balls'].value_counts()"
   ]
  },
  {
   "cell_type": "code",
   "execution_count": 29,
   "id": "bd742416",
   "metadata": {
    "colab": {
     "base_uri": "https://localhost:8080/"
    },
    "executionInfo": {
     "elapsed": 13,
     "status": "ok",
     "timestamp": 1668737184487,
     "user": {
      "displayName": "Jeff Jin",
      "userId": "04519095521378007072"
     },
     "user_tz": 300
    },
    "id": "bd742416",
    "outputId": "eb032fe4-8925-4f7f-99ee-d0909cda23f6",
    "scrolled": true
   },
   "outputs": [
    {
     "data": {
      "text/plain": [
       "0    2122301\n",
       "1    1608040\n",
       "2    1541925\n",
       "3          1\n",
       "Name: strikes, dtype: int64"
      ]
     },
     "execution_count": 29,
     "metadata": {},
     "output_type": "execute_result"
    }
   ],
   "source": [
    "reg_all_df['strikes'].value_counts()"
   ]
  },
  {
   "cell_type": "code",
   "execution_count": 30,
   "id": "7b1e6dbf",
   "metadata": {},
   "outputs": [
    {
     "data": {
      "text/plain": [
       "(20, 95)"
      ]
     },
     "execution_count": 30,
     "metadata": {},
     "output_type": "execute_result"
    }
   ],
   "source": [
    "reg_all_df[(reg_all_df['balls']==4)].shape"
   ]
  },
  {
   "cell_type": "code",
   "execution_count": 31,
   "id": "4fb87a17",
   "metadata": {
    "colab": {
     "base_uri": "https://localhost:8080/"
    },
    "executionInfo": {
     "elapsed": 359,
     "status": "ok",
     "timestamp": 1668737184834,
     "user": {
      "displayName": "Jeff Jin",
      "userId": "04519095521378007072"
     },
     "user_tz": 300
    },
    "id": "4fb87a17",
    "outputId": "cca2dad1-3ba5-49cb-8e10-493023cc7511",
    "scrolled": true
   },
   "outputs": [
    {
     "data": {
      "text/html": [
       "<div>\n",
       "<style scoped>\n",
       "    .dataframe tbody tr th:only-of-type {\n",
       "        vertical-align: middle;\n",
       "    }\n",
       "\n",
       "    .dataframe tbody tr th {\n",
       "        vertical-align: top;\n",
       "    }\n",
       "\n",
       "    .dataframe thead th {\n",
       "        text-align: right;\n",
       "    }\n",
       "</style>\n",
       "<table border=\"1\" class=\"dataframe\">\n",
       "  <thead>\n",
       "    <tr style=\"text-align: right;\">\n",
       "      <th></th>\n",
       "      <th>balls</th>\n",
       "      <th>strikes</th>\n",
       "      <th>game_pk</th>\n",
       "      <th>at_bat_number</th>\n",
       "    </tr>\n",
       "  </thead>\n",
       "  <tbody>\n",
       "    <tr>\n",
       "      <th>26157</th>\n",
       "      <td>4</td>\n",
       "      <td>2</td>\n",
       "      <td>661097</td>\n",
       "      <td>58</td>\n",
       "    </tr>\n",
       "    <tr>\n",
       "      <th>250201</th>\n",
       "      <td>1</td>\n",
       "      <td>3</td>\n",
       "      <td>662725</td>\n",
       "      <td>21</td>\n",
       "    </tr>\n",
       "    <tr>\n",
       "      <th>650016</th>\n",
       "      <td>4</td>\n",
       "      <td>2</td>\n",
       "      <td>662390</td>\n",
       "      <td>63</td>\n",
       "    </tr>\n",
       "    <tr>\n",
       "      <th>1085773</th>\n",
       "      <td>4</td>\n",
       "      <td>2</td>\n",
       "      <td>633530</td>\n",
       "      <td>44</td>\n",
       "    </tr>\n",
       "    <tr>\n",
       "      <th>1438229</th>\n",
       "      <td>4</td>\n",
       "      <td>2</td>\n",
       "      <td>630892</td>\n",
       "      <td>74</td>\n",
       "    </tr>\n",
       "    <tr>\n",
       "      <th>2217116</th>\n",
       "      <td>4</td>\n",
       "      <td>1</td>\n",
       "      <td>566783</td>\n",
       "      <td>67</td>\n",
       "    </tr>\n",
       "    <tr>\n",
       "      <th>2671331</th>\n",
       "      <td>4</td>\n",
       "      <td>2</td>\n",
       "      <td>530969</td>\n",
       "      <td>66</td>\n",
       "    </tr>\n",
       "    <tr>\n",
       "      <th>2997499</th>\n",
       "      <td>4</td>\n",
       "      <td>2</td>\n",
       "      <td>529872</td>\n",
       "      <td>28</td>\n",
       "    </tr>\n",
       "    <tr>\n",
       "      <th>3357945</th>\n",
       "      <td>4</td>\n",
       "      <td>2</td>\n",
       "      <td>491781</td>\n",
       "      <td>45</td>\n",
       "    </tr>\n",
       "    <tr>\n",
       "      <th>4738467</th>\n",
       "      <td>4</td>\n",
       "      <td>2</td>\n",
       "      <td>415513</td>\n",
       "      <td>4</td>\n",
       "    </tr>\n",
       "    <tr>\n",
       "      <th>5089645</th>\n",
       "      <td>4</td>\n",
       "      <td>1</td>\n",
       "      <td>414292</td>\n",
       "      <td>41</td>\n",
       "    </tr>\n",
       "    <tr>\n",
       "      <th>5214816</th>\n",
       "      <td>4</td>\n",
       "      <td>2</td>\n",
       "      <td>413849</td>\n",
       "      <td>40</td>\n",
       "    </tr>\n",
       "  </tbody>\n",
       "</table>\n",
       "</div>"
      ],
      "text/plain": [
       "         balls  strikes  game_pk  at_bat_number\n",
       "26157        4        2   661097             58\n",
       "250201       1        3   662725             21\n",
       "650016       4        2   662390             63\n",
       "1085773      4        2   633530             44\n",
       "1438229      4        2   630892             74\n",
       "2217116      4        1   566783             67\n",
       "2671331      4        2   530969             66\n",
       "2997499      4        2   529872             28\n",
       "3357945      4        2   491781             45\n",
       "4738467      4        2   415513              4\n",
       "5089645      4        1   414292             41\n",
       "5214816      4        2   413849             40"
      ]
     },
     "execution_count": 31,
     "metadata": {},
     "output_type": "execute_result"
    }
   ],
   "source": [
    "b4_info = reg_all_df[(reg_all_df['balls']==4)|(reg_all_df['strikes']==3)][['balls', 'strikes', 'game_pk', 'at_bat_number']].drop_duplicates(subset=['game_pk', 'at_bat_number'], keep='first').copy()\n",
    "b4_info"
   ]
  },
  {
   "cell_type": "code",
   "execution_count": 32,
   "id": "2fdf4a76",
   "metadata": {
    "id": "2fdf4a76"
   },
   "outputs": [],
   "source": [
    "# remove pa with ball 4\n",
    "\n",
    "drop_idx = []\n",
    "for i, r in b4_info.iterrows():\n",
    "    drop_idx += reg_all_df[(reg_all_df['game_pk']==r[2])&(reg_all_df['at_bat_number']==r[3])].index.to_list()"
   ]
  },
  {
   "cell_type": "code",
   "execution_count": 33,
   "id": "0a09b99d",
   "metadata": {},
   "outputs": [
    {
     "data": {
      "text/plain": [
       "Int64Index([], dtype='int64')"
      ]
     },
     "execution_count": 33,
     "metadata": {},
     "output_type": "execute_result"
    }
   ],
   "source": [
    "reg_all_df[(reg_all_df['game_pk']==r[1])&(reg_all_df['at_bat_number']==r[2])].index"
   ]
  },
  {
   "cell_type": "code",
   "execution_count": 34,
   "id": "7db0ffee",
   "metadata": {
    "id": "7db0ffee"
   },
   "outputs": [],
   "source": [
    "reg_clean_df = reg_all_df.drop(index=drop_idx)"
   ]
  },
  {
   "cell_type": "code",
   "execution_count": 35,
   "id": "68f92fb8",
   "metadata": {
    "colab": {
     "base_uri": "https://localhost:8080/"
    },
    "executionInfo": {
     "elapsed": 11,
     "status": "ok",
     "timestamp": 1668737186508,
     "user": {
      "displayName": "Jeff Jin",
      "userId": "04519095521378007072"
     },
     "user_tz": 300
    },
    "id": "68f92fb8",
    "outputId": "981bfb57-1cbc-40d6-8795-4876bb958f0f"
   },
   "outputs": [
    {
     "data": {
      "text/plain": [
       "92"
      ]
     },
     "execution_count": 35,
     "metadata": {},
     "output_type": "execute_result"
    }
   ],
   "source": [
    "#pitches dropped\n",
    "reg_all_df.shape[0] - reg_clean_df.shape[0]"
   ]
  },
  {
   "cell_type": "markdown",
   "id": "cf5d343b",
   "metadata": {
    "id": "cf5d343b"
   },
   "source": [
    "# Player filter"
   ]
  },
  {
   "cell_type": "code",
   "execution_count": 36,
   "id": "6992de8d",
   "metadata": {
    "colab": {
     "base_uri": "https://localhost:8080/"
    },
    "executionInfo": {
     "elapsed": 461,
     "status": "ok",
     "timestamp": 1668737182926,
     "user": {
      "displayName": "Jeff Jin",
      "userId": "04519095521378007072"
     },
     "user_tz": 300
    },
    "id": "6992de8d",
    "outputId": "f9c0b400-a295-4980-8e05-76f24f468963"
   },
   "outputs": [
    {
     "data": {
      "text/html": [
       "<div>\n",
       "<style scoped>\n",
       "    .dataframe tbody tr th:only-of-type {\n",
       "        vertical-align: middle;\n",
       "    }\n",
       "\n",
       "    .dataframe tbody tr th {\n",
       "        vertical-align: top;\n",
       "    }\n",
       "\n",
       "    .dataframe thead th {\n",
       "        text-align: right;\n",
       "    }\n",
       "</style>\n",
       "<table border=\"1\" class=\"dataframe\">\n",
       "  <thead>\n",
       "    <tr style=\"text-align: right;\">\n",
       "      <th></th>\n",
       "      <th>batter</th>\n",
       "      <th>n_count</th>\n",
       "    </tr>\n",
       "  </thead>\n",
       "  <tbody>\n",
       "    <tr>\n",
       "      <th>0</th>\n",
       "      <td>112526</td>\n",
       "      <td>153</td>\n",
       "    </tr>\n",
       "    <tr>\n",
       "      <th>1</th>\n",
       "      <td>115629</td>\n",
       "      <td>1</td>\n",
       "    </tr>\n",
       "    <tr>\n",
       "      <th>2</th>\n",
       "      <td>116338</td>\n",
       "      <td>569</td>\n",
       "    </tr>\n",
       "    <tr>\n",
       "      <th>3</th>\n",
       "      <td>120074</td>\n",
       "      <td>1241</td>\n",
       "    </tr>\n",
       "    <tr>\n",
       "      <th>4</th>\n",
       "      <td>121347</td>\n",
       "      <td>865</td>\n",
       "    </tr>\n",
       "  </tbody>\n",
       "</table>\n",
       "</div>"
      ],
      "text/plain": [
       "   batter  n_count\n",
       "0  112526      153\n",
       "1  115629        1\n",
       "2  116338      569\n",
       "3  120074     1241\n",
       "4  121347      865"
      ]
     },
     "execution_count": 36,
     "metadata": {},
     "output_type": "execute_result"
    }
   ],
   "source": [
    "pa_batter = reg_all_df.groupby(['batter', 'game_pk', 'at_bat_number']).agg({'n_count':sum}).reset_index()\n",
    "pa_batter['n_count'] = 1\n",
    "pa_batter = pa_batter.groupby('batter').agg({'n_count':sum}).reset_index()\n",
    "pa_batter.head()"
   ]
  },
  {
   "cell_type": "code",
   "execution_count": 37,
   "id": "4734154b",
   "metadata": {
    "colab": {
     "base_uri": "https://localhost:8080/"
    },
    "executionInfo": {
     "elapsed": 4,
     "status": "ok",
     "timestamp": 1668737182926,
     "user": {
      "displayName": "Jeff Jin",
      "userId": "04519095521378007072"
     },
     "user_tz": 300
    },
    "id": "4734154b",
    "outputId": "075f5cfa-8044-40ec-88d4-f4adf3816bb9"
   },
   "outputs": [
    {
     "data": {
      "text/plain": [
       "567.3006700167505"
      ]
     },
     "execution_count": 37,
     "metadata": {},
     "output_type": "execute_result"
    }
   ],
   "source": [
    "pa_batter['n_count'].mean()"
   ]
  },
  {
   "cell_type": "code",
   "execution_count": 38,
   "id": "ffdcf390",
   "metadata": {
    "colab": {
     "base_uri": "https://localhost:8080/"
    },
    "executionInfo": {
     "elapsed": 575,
     "status": "ok",
     "timestamp": 1668737183499,
     "user": {
      "displayName": "Jeff Jin",
      "userId": "04519095521378007072"
     },
     "user_tz": 300
    },
    "id": "ffdcf390",
    "outputId": "d4d45a77-4812-4235-ae0a-6ecef8b74165"
   },
   "outputs": [
    {
     "data": {
      "text/plain": [
       "<AxesSubplot: xlabel='n_count', ylabel='Count'>"
      ]
     },
     "execution_count": 38,
     "metadata": {},
     "output_type": "execute_result"
    },
    {
     "data": {
      "image/png": "[encoded data removed]",
      "text/plain": [
       "<Figure size 640x480 with 1 Axes>"
      ]
     },
     "metadata": {},
     "output_type": "display_data"
    }
   ],
   "source": [
    "sns.histplot(data=pa_batter[pa_batter['n_count']>=550], x='n_count', bins=100)"
   ]
  },
  {
   "cell_type": "code",
   "execution_count": 39,
   "id": "d32bcef5",
   "metadata": {
    "colab": {
     "base_uri": "https://localhost:8080/"
    },
    "executionInfo": {
     "elapsed": 7,
     "status": "ok",
     "timestamp": 1668737183500,
     "user": {
      "displayName": "Jeff Jin",
      "userId": "04519095521378007072"
     },
     "user_tz": 300
    },
    "id": "d32bcef5",
    "outputId": "3faefe27-2035-47f2-fa47-1c82f00f3e8e"
   },
   "outputs": [
    {
     "data": {
      "text/plain": [
       "(649, 2)"
      ]
     },
     "execution_count": 39,
     "metadata": {},
     "output_type": "execute_result"
    }
   ],
   "source": [
    "pa_batter[pa_batter['n_count']>=550].shape"
   ]
  },
  {
   "cell_type": "code",
   "execution_count": 40,
   "id": "380e22a6",
   "metadata": {
    "id": "380e22a6"
   },
   "outputs": [],
   "source": [
    "pa_pitcher = reg_all_df.groupby(['pitcher', 'game_pk', 'at_bat_number']).agg({'n_count':sum}).reset_index()\n",
    "pa_pitcher['n_count'] = 1\n",
    "pa_pitcher = pa_pitcher.groupby(['pitcher']).agg({'n_count':sum}).reset_index().copy()"
   ]
  },
  {
   "cell_type": "code",
   "execution_count": 41,
   "id": "ba9de9e6",
   "metadata": {
    "colab": {
     "base_uri": "https://localhost:8080/"
    },
    "executionInfo": {
     "elapsed": 16,
     "status": "ok",
     "timestamp": 1668737184296,
     "user": {
      "displayName": "Jeff Jin",
      "userId": "04519095521378007072"
     },
     "user_tz": 300
    },
    "id": "ba9de9e6",
    "outputId": "c285c9d2-188e-438b-d47e-2a5a2d1a4919"
   },
   "outputs": [
    {
     "data": {
      "text/plain": [
       "654.4512077294686"
      ]
     },
     "execution_count": 41,
     "metadata": {},
     "output_type": "execute_result"
    }
   ],
   "source": [
    "pa_pitcher['n_count'].mean()"
   ]
  },
  {
   "cell_type": "code",
   "execution_count": 42,
   "id": "8dbf2413",
   "metadata": {
    "colab": {
     "base_uri": "https://localhost:8080/"
    },
    "executionInfo": {
     "elapsed": 12,
     "status": "ok",
     "timestamp": 1668737184297,
     "user": {
      "displayName": "Jeff Jin",
      "userId": "04519095521378007072"
     },
     "user_tz": 300
    },
    "id": "8dbf2413",
    "outputId": "f7c9f5e0-43de-4915-f778-987ab069b4e5",
    "scrolled": true
   },
   "outputs": [
    {
     "data": {
      "text/plain": [
       "(625, 2)"
      ]
     },
     "execution_count": 42,
     "metadata": {},
     "output_type": "execute_result"
    }
   ],
   "source": [
    "pa_pitcher[pa_pitcher['n_count']>=650].shape"
   ]
  },
  {
   "cell_type": "markdown",
   "id": "2f10fefa",
   "metadata": {
    "id": "2f10fefa"
   },
   "source": [
    "## Create player filter"
   ]
  },
  {
   "cell_type": "code",
   "execution_count": 43,
   "id": "a5644b41",
   "metadata": {
    "id": "a5644b41"
   },
   "outputs": [
    {
     "data": {
      "text/plain": [
       "649"
      ]
     },
     "execution_count": 43,
     "metadata": {},
     "output_type": "execute_result"
    }
   ],
   "source": [
    "batter_quali_list = pa_batter[pa_batter['n_count']>=550]['batter'].to_list()\n",
    "len(batter_quali_list)"
   ]
  },
  {
   "cell_type": "code",
   "execution_count": 44,
   "id": "55bf74c6",
   "metadata": {
    "id": "55bf74c6"
   },
   "outputs": [
    {
     "data": {
      "text/plain": [
       "625"
      ]
     },
     "execution_count": 44,
     "metadata": {},
     "output_type": "execute_result"
    }
   ],
   "source": [
    "pitcher_quali_list = pa_pitcher[pa_pitcher['n_count']>=650]['pitcher'].to_list()\n",
    "len(pitcher_quali_list)"
   ]
  },
  {
   "cell_type": "markdown",
   "id": "5617e825",
   "metadata": {},
   "source": [
    "# Create event_type"
   ]
  },
  {
   "cell_type": "code",
   "execution_count": 45,
   "id": "b2283067",
   "metadata": {
    "id": "b2283067"
   },
   "outputs": [],
   "source": [
    "B1_list = 'single'\n",
    "B2_list = 'double'\n",
    "B3_list = 'triple'\n",
    "HR_list = 'home_run'\n",
    "FO_list = ['field_out', 'grounded_into_double_play', 'sac_bunt', 'force_out', 'field_error', \n",
    "            'sac_fly', 'double_play', 'fielders_choice', 'fielders_choice_out', 'sac_fly_double_play',\n",
    "           'sac_bunt_double_play', 'triple_play']\n",
    "K_list = ['strikeout', 'strikeout_double_play']\n",
    "BB_list = ['walk','hit_by_pitch', 'intent_walk', 'BB']\n",
    "other_list = ['caught_stealing_2b', 'caught_stealing_home','other_out', 'pickoff_3b', 'catcher_interf', \n",
    "              'caught_stealing_3b', 'wild_pitch', 'passed_ball', 'stolen_base_2b', 'pickoff_2b', \n",
    "              'pickoff_1b', 'pickoff_caught_stealing_2b', 'game_advisory', 'pickoff_caught_stealing_3b',\n",
    "              'pickoff_caught_stealing_home', 'runner_double_play', 'other', 'stolen_base_home',\n",
    "             'pickoff_error_2b', 'ejection', 'pickoff_error_2b', 'stolen_base_3b']"
   ]
  },
  {
   "cell_type": "code",
   "execution_count": 46,
   "id": "ba8aca6d",
   "metadata": {},
   "outputs": [
    {
     "data": {
      "text/plain": [
       "[nan]"
      ]
     },
     "execution_count": 46,
     "metadata": {},
     "output_type": "execute_result"
    }
   ],
   "source": [
    "# check if any events are not counted\n",
    "e_list = reg_clean_df['events'].unique()\n",
    "[e for e in e_list if e not in FO_list + K_list + BB_list + other_list \\\n",
    " + [B1_list] + [B2_list] + [B3_list] + [HR_list]]"
   ]
  },
  {
   "cell_type": "code",
   "execution_count": 47,
   "id": "1e9a3155",
   "metadata": {
    "id": "1e9a3155"
   },
   "outputs": [],
   "source": [
    "reg_clean_df.loc[reg_clean_df['events']=='single', 'event_type'] = '1B'\n",
    "reg_clean_df.loc[reg_clean_df['events']=='double', 'event_type'] = '2B'\n",
    "reg_clean_df.loc[reg_clean_df['events']=='triple', 'event_type'] = '3B'\n",
    "reg_clean_df.loc[reg_clean_df['events']=='home_run', 'event_type'] = 'HR'\n",
    "reg_clean_df.loc[reg_clean_df['events'].isin(FO_list), 'event_type'] = 'FO'\n",
    "reg_clean_df.loc[reg_clean_df['events'].isin(K_list), 'event_type'] = 'K'\n",
    "reg_clean_df.loc[reg_clean_df['events'].isin(BB_list), 'event_type'] = 'BB'\n",
    "reg_clean_df.loc[reg_clean_df['events'].isin(other_list), 'event_type'] = 'other'"
   ]
  },
  {
   "cell_type": "code",
   "execution_count": 48,
   "id": "bb938b7f",
   "metadata": {
    "colab": {
     "base_uri": "https://localhost:8080/"
    },
    "executionInfo": {
     "elapsed": 11,
     "status": "ok",
     "timestamp": 1668737188519,
     "user": {
      "displayName": "Jeff Jin",
      "userId": "04519095521378007072"
     },
     "user_tz": 300
    },
    "id": "bb938b7f",
    "outputId": "5e59c3ad-203d-4d06-ed3f-bcf75665b4fc"
   },
   "outputs": [
    {
     "data": {
      "text/plain": [
       "[(0, 0),\n",
       " (1, 0),\n",
       " (2, 0),\n",
       " (3, 0),\n",
       " (0, 1),\n",
       " (1, 1),\n",
       " (2, 1),\n",
       " (3, 1),\n",
       " (0, 2),\n",
       " (1, 2),\n",
       " (2, 2),\n",
       " (3, 2)]"
      ]
     },
     "execution_count": 48,
     "metadata": {},
     "output_type": "execute_result"
    }
   ],
   "source": [
    "b_count_list = [0, 1, 2, 3]\n",
    "s_count_list = [0,1,2]\n",
    "event_list = ['1B', '2B', '3B', 'HR', 'FO', 'BB', 'K', 'other']\n",
    "\n",
    "count_list = [(b, s) for s in s_count_list for b in b_count_list]\n",
    "\n",
    "count_list"
   ]
  },
  {
   "cell_type": "markdown",
   "id": "dda56fc7",
   "metadata": {
    "id": "dda56fc7"
   },
   "source": [
    "# Calculate player transition matrix"
   ]
  },
  {
   "cell_type": "code",
   "execution_count": 49,
   "id": "b214a5d7",
   "metadata": {
    "id": "b214a5d7"
   },
   "outputs": [],
   "source": [
    "def get_player_T(player_id, is_pitcher=False):\n",
    "    \n",
    "    if is_pitcher:\n",
    "        player_df = reg_clean_df[reg_clean_df['pitcher']==player_id].copy()\n",
    "        if player_df.empty:\n",
    "            raise Exception(\"player_id not found as pitcher\")\n",
    "    else:\n",
    "        player_df = reg_clean_df[reg_clean_df['batter']==player_id].copy()\n",
    "        if player_df.empty:\n",
    "            raise Exception(\"player_id not found as batter\")\n",
    "        \n",
    "    player_df.reset_index(inplace=True, drop=True)\n",
    "    \n",
    "    def get_count_prob(count_from, count_to):\n",
    "\n",
    "        cur_count_total = player_df[(player_df['balls']==count_from[0])&(player_df['strikes']==count_from[1])].shape[0]\n",
    "        cur_idx = player_df[(player_df['balls']==count_from[0])&(player_df['strikes']==count_from[1])].index\n",
    "        if 0 in cur_idx:\n",
    "            cur_idx = cur_idx.drop(0)\n",
    "\n",
    "        cur_at_bat_number = player_df.iloc[cur_idx]['at_bat_number'].to_list()\n",
    "        cur_game_pk = player_df.iloc[cur_idx]['game_pk'].to_list()\n",
    "\n",
    "        if type(count_to)==str:\n",
    "            event_total = player_df.iloc[cur_idx].loc[player_df['event_type']==count_to].shape[0]\n",
    "            proba = event_total / cur_count_total\n",
    "        else:\n",
    "            next_idx = cur_idx - 1\n",
    "            next_at_bat_number = player_df.iloc[next_idx]['at_bat_number'].to_list()\n",
    "            next_game_pk = player_df.iloc[next_idx]['game_pk'].to_list()\n",
    "\n",
    "            pitch_pairs = list(zip(cur_idx, cur_game_pk, cur_at_bat_number, next_idx, next_game_pk, next_at_bat_number))\n",
    "\n",
    "            pitch_pairs_keep = [p for p in pitch_pairs if p[1] == p[4] and p[2] == p[5]]\n",
    "            \n",
    "            if pitch_pairs_keep == []:\n",
    "                next_count_total = 0\n",
    "                proba = next_count_total/cur_count_total\n",
    "            else: \n",
    "                a, b, c, d, e, f = zip(*pitch_pairs_keep)\n",
    "                next_count = player_df.iloc[list(d)][['balls', 'strikes']]\n",
    "                next_count_total = next_count[(next_count['balls']==count_to[0])&(next_count['strikes']==count_to[1])].shape[0]\n",
    "                proba = next_count_total/cur_count_total\n",
    "        return proba\n",
    "\n",
    "    T_list = []\n",
    "    for count_from in count_list:\n",
    "        T_list_row = []\n",
    "        for count_to in count_list:    \n",
    "            T_list_row.append(get_count_prob(count_from, count_to))\n",
    "        for event in event_list:\n",
    "            T_list_row.append(get_count_prob(count_from, event))\n",
    "        T_list.append(T_list_row)\n",
    "\n",
    "    T1_arr = np.array(T_list)\n",
    "\n",
    "    B = np.zeros([8, 12])\n",
    "    C = np.zeros([8, 8])\n",
    "    np.fill_diagonal(C, 1)\n",
    "\n",
    "    T = np.block([\n",
    "        [T1_arr],\n",
    "        [B, C]\n",
    "    ])\n",
    "\n",
    "    return T"
   ]
  },
  {
   "cell_type": "code",
   "execution_count": 50,
   "id": "7694433c",
   "metadata": {
    "id": "7694433c"
   },
   "outputs": [],
   "source": [
    "def create_T_df(T):\n",
    "    T_df = pd.DataFrame(T)\n",
    "    \n",
    "    T_df.columns = count_list + event_list\n",
    "    T_df.index = count_list + event_list\n",
    "    \n",
    "    return T_df"
   ]
  },
  {
   "cell_type": "code",
   "execution_count": 185,
   "id": "fb76bf6f",
   "metadata": {},
   "outputs": [],
   "source": [
    "# Mike Trout T matrix\n",
    "\n",
    "player_id = 545361\n",
    "\n",
    "T = get_player_T(player_id, is_pitcher=False)"
   ]
  },
  {
   "cell_type": "markdown",
   "id": "d4f44896",
   "metadata": {
    "id": "d4f44896"
   },
   "source": [
    "# Get all player T"
   ]
  },
  {
   "cell_type": "code",
   "execution_count": 53,
   "id": "f7fd281f",
   "metadata": {
    "id": "f7fd281f"
   },
   "outputs": [],
   "source": [
    "def get_allplayers_T(player_id_list, is_pitcher=False):\n",
    "    T_dict = {}\n",
    "    for player_id in tqdm(player_id_list):\n",
    "        T = get_player_T(player_id, is_pitcher)\n",
    "        T_dict[player_id] = T\n",
    "        \n",
    "    return T_dict"
   ]
  },
  {
   "cell_type": "code",
   "execution_count": 54,
   "id": "ba92ec93",
   "metadata": {
    "id": "ba92ec93"
   },
   "outputs": [
    {
     "data": {
      "application/vnd.jupyter.widget-view+json": {
       "model_id": "b55a04bc5280468ca83b98443b4a604b",
       "version_major": 2,
       "version_minor": 0
      },
      "text/plain": [
       "  0%|          | 0/649 [00:00<?, ?it/s]"
      ]
     },
     "metadata": {},
     "output_type": "display_data"
    },
    {
     "data": {
      "application/vnd.jupyter.widget-view+json": {
       "model_id": "a8b6859e837c4c01af7a99105087b0aa",
       "version_major": 2,
       "version_minor": 0
      },
      "text/plain": [
       "  0%|          | 0/625 [00:00<?, ?it/s]"
      ]
     },
     "metadata": {},
     "output_type": "display_data"
    }
   ],
   "source": [
    "# T_batters_dict = get_allplayers_T(batter_quali_list)"
   ]
  },
  {
   "cell_type": "code",
   "execution_count": null,
   "id": "f76dfabc",
   "metadata": {},
   "outputs": [],
   "source": [
    "# T_pitchers_dict = get_allplayers_T(pitcher_quali_list, True)"
   ]
  },
  {
   "cell_type": "markdown",
   "id": "4e4556ba",
   "metadata": {
    "id": "4e4556ba"
   },
   "source": [
    "### Dump T dicts"
   ]
  },
  {
   "cell_type": "code",
   "execution_count": 56,
   "id": "72b41a23",
   "metadata": {
    "id": "72b41a23"
   },
   "outputs": [],
   "source": [
    "import joblib"
   ]
  },
  {
   "cell_type": "code",
   "execution_count": 57,
   "id": "84a468b6",
   "metadata": {
    "id": "84a468b6"
   },
   "outputs": [
    {
     "data": {
      "text/plain": [
       "['T_pitchers_dict']"
      ]
     },
     "execution_count": 57,
     "metadata": {},
     "output_type": "execute_result"
    }
   ],
   "source": [
    "# joblib.dump(T_batters_dict, 'T_batters_dict')\n",
    "# joblib.dump(T_pitchers_dict, 'T_pitchers_dict')"
   ]
  },
  {
   "cell_type": "code",
   "execution_count": null,
   "id": "0320fcaf",
   "metadata": {},
   "outputs": [],
   "source": [
    "T_batters_dict = joblib.load('T_batters_dict')\n",
    "T_pitchers_dict = joblib.load('T_pitchers_dict')"
   ]
  },
  {
   "cell_type": "markdown",
   "id": "18b40d59",
   "metadata": {
    "id": "18b40d59"
   },
   "source": [
    "# create matchup steady state "
   ]
  },
  {
   "cell_type": "code",
   "execution_count": 58,
   "id": "beca8256",
   "metadata": {
    "id": "beca8256"
   },
   "outputs": [],
   "source": [
    "def get_brier_score(X, Y):    \n",
    "    return ((X-Y)**2).sum(axis=1).mean()"
   ]
  },
  {
   "cell_type": "code",
   "execution_count": 59,
   "id": "ec31461e",
   "metadata": {
    "id": "ec31461e"
   },
   "outputs": [],
   "source": [
    "def sim_steady_state(T, n_sim=100):\n",
    "    T_cur = T\n",
    "    for i in range(n_sim):\n",
    "        T_new = np.dot(T_cur, T)\n",
    "        T_cur = T_new\n",
    "    return T_cur"
   ]
  },
  {
   "cell_type": "code",
   "execution_count": 191,
   "id": "3a889fa6",
   "metadata": {
    "collapsed": true
   },
   "outputs": [
    {
     "data": {
      "text/html": [
       "<div>\n",
       "<style scoped>\n",
       "    .dataframe tbody tr th:only-of-type {\n",
       "        vertical-align: middle;\n",
       "    }\n",
       "\n",
       "    .dataframe tbody tr th {\n",
       "        vertical-align: top;\n",
       "    }\n",
       "\n",
       "    .dataframe thead th {\n",
       "        text-align: right;\n",
       "    }\n",
       "</style>\n",
       "<table border=\"1\" class=\"dataframe\">\n",
       "  <thead>\n",
       "    <tr style=\"text-align: right;\">\n",
       "      <th></th>\n",
       "      <th>(0, 0)</th>\n",
       "      <th>(1, 0)</th>\n",
       "      <th>(2, 0)</th>\n",
       "      <th>(3, 0)</th>\n",
       "      <th>(0, 1)</th>\n",
       "      <th>(1, 1)</th>\n",
       "      <th>(2, 1)</th>\n",
       "      <th>(3, 1)</th>\n",
       "      <th>(0, 2)</th>\n",
       "      <th>(1, 2)</th>\n",
       "      <th>(2, 2)</th>\n",
       "      <th>(3, 2)</th>\n",
       "      <th>1B</th>\n",
       "      <th>2B</th>\n",
       "      <th>3B</th>\n",
       "      <th>HR</th>\n",
       "      <th>FO</th>\n",
       "      <th>BB</th>\n",
       "      <th>K</th>\n",
       "      <th>other</th>\n",
       "    </tr>\n",
       "  </thead>\n",
       "  <tbody>\n",
       "    <tr>\n",
       "      <th>(0, 0)</th>\n",
       "      <td>0.0</td>\n",
       "      <td>0.0</td>\n",
       "      <td>0.0</td>\n",
       "      <td>0.0</td>\n",
       "      <td>0.0</td>\n",
       "      <td>0.0</td>\n",
       "      <td>0.0</td>\n",
       "      <td>0.0</td>\n",
       "      <td>4.509080e-83</td>\n",
       "      <td>1.829552e-74</td>\n",
       "      <td>1.750961e-63</td>\n",
       "      <td>3.234885e-55</td>\n",
       "      <td>0.130146</td>\n",
       "      <td>0.047302</td>\n",
       "      <td>0.006392</td>\n",
       "      <td>0.064178</td>\n",
       "      <td>0.360777</td>\n",
       "      <td>0.169010</td>\n",
       "      <td>0.221171</td>\n",
       "      <td>0.000767</td>\n",
       "    </tr>\n",
       "    <tr>\n",
       "      <th>(1, 0)</th>\n",
       "      <td>0.0</td>\n",
       "      <td>0.0</td>\n",
       "      <td>0.0</td>\n",
       "      <td>0.0</td>\n",
       "      <td>0.0</td>\n",
       "      <td>0.0</td>\n",
       "      <td>0.0</td>\n",
       "      <td>0.0</td>\n",
       "      <td>0.000000e+00</td>\n",
       "      <td>7.379229e-76</td>\n",
       "      <td>1.900453e-64</td>\n",
       "      <td>5.597019e-56</td>\n",
       "      <td>0.126632</td>\n",
       "      <td>0.045858</td>\n",
       "      <td>0.004912</td>\n",
       "      <td>0.067168</td>\n",
       "      <td>0.341333</td>\n",
       "      <td>0.242130</td>\n",
       "      <td>0.170909</td>\n",
       "      <td>0.000768</td>\n",
       "    </tr>\n",
       "    <tr>\n",
       "      <th>(2, 0)</th>\n",
       "      <td>0.0</td>\n",
       "      <td>0.0</td>\n",
       "      <td>0.0</td>\n",
       "      <td>0.0</td>\n",
       "      <td>0.0</td>\n",
       "      <td>0.0</td>\n",
       "      <td>0.0</td>\n",
       "      <td>0.0</td>\n",
       "      <td>0.000000e+00</td>\n",
       "      <td>0.000000e+00</td>\n",
       "      <td>1.337383e-65</td>\n",
       "      <td>8.075836e-57</td>\n",
       "      <td>0.101405</td>\n",
       "      <td>0.044207</td>\n",
       "      <td>0.003246</td>\n",
       "      <td>0.054412</td>\n",
       "      <td>0.274559</td>\n",
       "      <td>0.406400</td>\n",
       "      <td>0.115448</td>\n",
       "      <td>0.000000</td>\n",
       "    </tr>\n",
       "    <tr>\n",
       "      <th>(3, 0)</th>\n",
       "      <td>0.0</td>\n",
       "      <td>0.0</td>\n",
       "      <td>0.0</td>\n",
       "      <td>0.0</td>\n",
       "      <td>0.0</td>\n",
       "      <td>0.0</td>\n",
       "      <td>0.0</td>\n",
       "      <td>0.0</td>\n",
       "      <td>0.000000e+00</td>\n",
       "      <td>0.000000e+00</td>\n",
       "      <td>0.000000e+00</td>\n",
       "      <td>7.760062e-58</td>\n",
       "      <td>0.040247</td>\n",
       "      <td>0.022647</td>\n",
       "      <td>0.002309</td>\n",
       "      <td>0.028439</td>\n",
       "      <td>0.146849</td>\n",
       "      <td>0.700939</td>\n",
       "      <td>0.058283</td>\n",
       "      <td>0.000000</td>\n",
       "    </tr>\n",
       "    <tr>\n",
       "      <th>(0, 1)</th>\n",
       "      <td>0.0</td>\n",
       "      <td>0.0</td>\n",
       "      <td>0.0</td>\n",
       "      <td>0.0</td>\n",
       "      <td>0.0</td>\n",
       "      <td>0.0</td>\n",
       "      <td>0.0</td>\n",
       "      <td>0.0</td>\n",
       "      <td>1.319980e-83</td>\n",
       "      <td>5.716017e-75</td>\n",
       "      <td>6.111359e-64</td>\n",
       "      <td>1.235071e-55</td>\n",
       "      <td>0.121398</td>\n",
       "      <td>0.043439</td>\n",
       "      <td>0.006922</td>\n",
       "      <td>0.056756</td>\n",
       "      <td>0.354187</td>\n",
       "      <td>0.125590</td>\n",
       "      <td>0.290586</td>\n",
       "      <td>0.000863</td>\n",
       "    </tr>\n",
       "    <tr>\n",
       "      <th>(1, 1)</th>\n",
       "      <td>0.0</td>\n",
       "      <td>0.0</td>\n",
       "      <td>0.0</td>\n",
       "      <td>0.0</td>\n",
       "      <td>0.0</td>\n",
       "      <td>0.0</td>\n",
       "      <td>0.0</td>\n",
       "      <td>0.0</td>\n",
       "      <td>0.000000e+00</td>\n",
       "      <td>2.687763e-76</td>\n",
       "      <td>7.731033e-65</td>\n",
       "      <td>2.458676e-56</td>\n",
       "      <td>0.123559</td>\n",
       "      <td>0.043378</td>\n",
       "      <td>0.005069</td>\n",
       "      <td>0.058097</td>\n",
       "      <td>0.339520</td>\n",
       "      <td>0.169011</td>\n",
       "      <td>0.260686</td>\n",
       "      <td>0.000340</td>\n",
       "    </tr>\n",
       "    <tr>\n",
       "      <th>(2, 1)</th>\n",
       "      <td>0.0</td>\n",
       "      <td>0.0</td>\n",
       "      <td>0.0</td>\n",
       "      <td>0.0</td>\n",
       "      <td>0.0</td>\n",
       "      <td>0.0</td>\n",
       "      <td>0.0</td>\n",
       "      <td>0.0</td>\n",
       "      <td>0.000000e+00</td>\n",
       "      <td>0.000000e+00</td>\n",
       "      <td>6.284615e-66</td>\n",
       "      <td>3.925204e-57</td>\n",
       "      <td>0.107875</td>\n",
       "      <td>0.051506</td>\n",
       "      <td>0.004960</td>\n",
       "      <td>0.055106</td>\n",
       "      <td>0.316542</td>\n",
       "      <td>0.268237</td>\n",
       "      <td>0.195324</td>\n",
       "      <td>0.000000</td>\n",
       "    </tr>\n",
       "    <tr>\n",
       "      <th>(3, 1)</th>\n",
       "      <td>0.0</td>\n",
       "      <td>0.0</td>\n",
       "      <td>0.0</td>\n",
       "      <td>0.0</td>\n",
       "      <td>0.0</td>\n",
       "      <td>0.0</td>\n",
       "      <td>0.0</td>\n",
       "      <td>0.0</td>\n",
       "      <td>0.000000e+00</td>\n",
       "      <td>0.000000e+00</td>\n",
       "      <td>0.000000e+00</td>\n",
       "      <td>3.957317e-58</td>\n",
       "      <td>0.068500</td>\n",
       "      <td>0.035102</td>\n",
       "      <td>0.004382</td>\n",
       "      <td>0.046092</td>\n",
       "      <td>0.223549</td>\n",
       "      <td>0.511231</td>\n",
       "      <td>0.110599</td>\n",
       "      <td>0.000000</td>\n",
       "    </tr>\n",
       "    <tr>\n",
       "      <th>(0, 2)</th>\n",
       "      <td>0.0</td>\n",
       "      <td>0.0</td>\n",
       "      <td>0.0</td>\n",
       "      <td>0.0</td>\n",
       "      <td>0.0</td>\n",
       "      <td>0.0</td>\n",
       "      <td>0.0</td>\n",
       "      <td>0.0</td>\n",
       "      <td>5.239697e-84</td>\n",
       "      <td>2.342592e-75</td>\n",
       "      <td>2.665345e-64</td>\n",
       "      <td>5.702893e-56</td>\n",
       "      <td>0.098724</td>\n",
       "      <td>0.030083</td>\n",
       "      <td>0.004020</td>\n",
       "      <td>0.042882</td>\n",
       "      <td>0.277065</td>\n",
       "      <td>0.104298</td>\n",
       "      <td>0.442133</td>\n",
       "      <td>0.000535</td>\n",
       "    </tr>\n",
       "    <tr>\n",
       "      <th>(1, 2)</th>\n",
       "      <td>0.0</td>\n",
       "      <td>0.0</td>\n",
       "      <td>0.0</td>\n",
       "      <td>0.0</td>\n",
       "      <td>0.0</td>\n",
       "      <td>0.0</td>\n",
       "      <td>0.0</td>\n",
       "      <td>0.0</td>\n",
       "      <td>0.000000e+00</td>\n",
       "      <td>1.083252e-76</td>\n",
       "      <td>3.393385e-65</td>\n",
       "      <td>1.154078e-56</td>\n",
       "      <td>0.096814</td>\n",
       "      <td>0.032016</td>\n",
       "      <td>0.005814</td>\n",
       "      <td>0.042866</td>\n",
       "      <td>0.264720</td>\n",
       "      <td>0.137443</td>\n",
       "      <td>0.419178</td>\n",
       "      <td>0.000773</td>\n",
       "    </tr>\n",
       "    <tr>\n",
       "      <th>(2, 2)</th>\n",
       "      <td>0.0</td>\n",
       "      <td>0.0</td>\n",
       "      <td>0.0</td>\n",
       "      <td>0.0</td>\n",
       "      <td>0.0</td>\n",
       "      <td>0.0</td>\n",
       "      <td>0.0</td>\n",
       "      <td>0.0</td>\n",
       "      <td>0.000000e+00</td>\n",
       "      <td>0.000000e+00</td>\n",
       "      <td>3.128884e-66</td>\n",
       "      <td>2.049212e-57</td>\n",
       "      <td>0.086429</td>\n",
       "      <td>0.034971</td>\n",
       "      <td>0.005564</td>\n",
       "      <td>0.046091</td>\n",
       "      <td>0.263896</td>\n",
       "      <td>0.210239</td>\n",
       "      <td>0.352213</td>\n",
       "      <td>0.000000</td>\n",
       "    </tr>\n",
       "    <tr>\n",
       "      <th>(3, 2)</th>\n",
       "      <td>0.0</td>\n",
       "      <td>0.0</td>\n",
       "      <td>0.0</td>\n",
       "      <td>0.0</td>\n",
       "      <td>0.0</td>\n",
       "      <td>0.0</td>\n",
       "      <td>0.0</td>\n",
       "      <td>0.0</td>\n",
       "      <td>0.000000e+00</td>\n",
       "      <td>0.000000e+00</td>\n",
       "      <td>0.000000e+00</td>\n",
       "      <td>2.299110e-58</td>\n",
       "      <td>0.067138</td>\n",
       "      <td>0.028269</td>\n",
       "      <td>0.004711</td>\n",
       "      <td>0.032980</td>\n",
       "      <td>0.226148</td>\n",
       "      <td>0.400471</td>\n",
       "      <td>0.239105</td>\n",
       "      <td>0.000000</td>\n",
       "    </tr>\n",
       "    <tr>\n",
       "      <th>1B</th>\n",
       "      <td>0.0</td>\n",
       "      <td>0.0</td>\n",
       "      <td>0.0</td>\n",
       "      <td>0.0</td>\n",
       "      <td>0.0</td>\n",
       "      <td>0.0</td>\n",
       "      <td>0.0</td>\n",
       "      <td>0.0</td>\n",
       "      <td>0.000000e+00</td>\n",
       "      <td>0.000000e+00</td>\n",
       "      <td>0.000000e+00</td>\n",
       "      <td>0.000000e+00</td>\n",
       "      <td>1.000000</td>\n",
       "      <td>0.000000</td>\n",
       "      <td>0.000000</td>\n",
       "      <td>0.000000</td>\n",
       "      <td>0.000000</td>\n",
       "      <td>0.000000</td>\n",
       "      <td>0.000000</td>\n",
       "      <td>0.000000</td>\n",
       "    </tr>\n",
       "    <tr>\n",
       "      <th>2B</th>\n",
       "      <td>0.0</td>\n",
       "      <td>0.0</td>\n",
       "      <td>0.0</td>\n",
       "      <td>0.0</td>\n",
       "      <td>0.0</td>\n",
       "      <td>0.0</td>\n",
       "      <td>0.0</td>\n",
       "      <td>0.0</td>\n",
       "      <td>0.000000e+00</td>\n",
       "      <td>0.000000e+00</td>\n",
       "      <td>0.000000e+00</td>\n",
       "      <td>0.000000e+00</td>\n",
       "      <td>0.000000</td>\n",
       "      <td>1.000000</td>\n",
       "      <td>0.000000</td>\n",
       "      <td>0.000000</td>\n",
       "      <td>0.000000</td>\n",
       "      <td>0.000000</td>\n",
       "      <td>0.000000</td>\n",
       "      <td>0.000000</td>\n",
       "    </tr>\n",
       "    <tr>\n",
       "      <th>3B</th>\n",
       "      <td>0.0</td>\n",
       "      <td>0.0</td>\n",
       "      <td>0.0</td>\n",
       "      <td>0.0</td>\n",
       "      <td>0.0</td>\n",
       "      <td>0.0</td>\n",
       "      <td>0.0</td>\n",
       "      <td>0.0</td>\n",
       "      <td>0.000000e+00</td>\n",
       "      <td>0.000000e+00</td>\n",
       "      <td>0.000000e+00</td>\n",
       "      <td>0.000000e+00</td>\n",
       "      <td>0.000000</td>\n",
       "      <td>0.000000</td>\n",
       "      <td>1.000000</td>\n",
       "      <td>0.000000</td>\n",
       "      <td>0.000000</td>\n",
       "      <td>0.000000</td>\n",
       "      <td>0.000000</td>\n",
       "      <td>0.000000</td>\n",
       "    </tr>\n",
       "    <tr>\n",
       "      <th>HR</th>\n",
       "      <td>0.0</td>\n",
       "      <td>0.0</td>\n",
       "      <td>0.0</td>\n",
       "      <td>0.0</td>\n",
       "      <td>0.0</td>\n",
       "      <td>0.0</td>\n",
       "      <td>0.0</td>\n",
       "      <td>0.0</td>\n",
       "      <td>0.000000e+00</td>\n",
       "      <td>0.000000e+00</td>\n",
       "      <td>0.000000e+00</td>\n",
       "      <td>0.000000e+00</td>\n",
       "      <td>0.000000</td>\n",
       "      <td>0.000000</td>\n",
       "      <td>0.000000</td>\n",
       "      <td>1.000000</td>\n",
       "      <td>0.000000</td>\n",
       "      <td>0.000000</td>\n",
       "      <td>0.000000</td>\n",
       "      <td>0.000000</td>\n",
       "    </tr>\n",
       "    <tr>\n",
       "      <th>FO</th>\n",
       "      <td>0.0</td>\n",
       "      <td>0.0</td>\n",
       "      <td>0.0</td>\n",
       "      <td>0.0</td>\n",
       "      <td>0.0</td>\n",
       "      <td>0.0</td>\n",
       "      <td>0.0</td>\n",
       "      <td>0.0</td>\n",
       "      <td>0.000000e+00</td>\n",
       "      <td>0.000000e+00</td>\n",
       "      <td>0.000000e+00</td>\n",
       "      <td>0.000000e+00</td>\n",
       "      <td>0.000000</td>\n",
       "      <td>0.000000</td>\n",
       "      <td>0.000000</td>\n",
       "      <td>0.000000</td>\n",
       "      <td>1.000000</td>\n",
       "      <td>0.000000</td>\n",
       "      <td>0.000000</td>\n",
       "      <td>0.000000</td>\n",
       "    </tr>\n",
       "    <tr>\n",
       "      <th>BB</th>\n",
       "      <td>0.0</td>\n",
       "      <td>0.0</td>\n",
       "      <td>0.0</td>\n",
       "      <td>0.0</td>\n",
       "      <td>0.0</td>\n",
       "      <td>0.0</td>\n",
       "      <td>0.0</td>\n",
       "      <td>0.0</td>\n",
       "      <td>0.000000e+00</td>\n",
       "      <td>0.000000e+00</td>\n",
       "      <td>0.000000e+00</td>\n",
       "      <td>0.000000e+00</td>\n",
       "      <td>0.000000</td>\n",
       "      <td>0.000000</td>\n",
       "      <td>0.000000</td>\n",
       "      <td>0.000000</td>\n",
       "      <td>0.000000</td>\n",
       "      <td>1.000000</td>\n",
       "      <td>0.000000</td>\n",
       "      <td>0.000000</td>\n",
       "    </tr>\n",
       "    <tr>\n",
       "      <th>K</th>\n",
       "      <td>0.0</td>\n",
       "      <td>0.0</td>\n",
       "      <td>0.0</td>\n",
       "      <td>0.0</td>\n",
       "      <td>0.0</td>\n",
       "      <td>0.0</td>\n",
       "      <td>0.0</td>\n",
       "      <td>0.0</td>\n",
       "      <td>0.000000e+00</td>\n",
       "      <td>0.000000e+00</td>\n",
       "      <td>0.000000e+00</td>\n",
       "      <td>0.000000e+00</td>\n",
       "      <td>0.000000</td>\n",
       "      <td>0.000000</td>\n",
       "      <td>0.000000</td>\n",
       "      <td>0.000000</td>\n",
       "      <td>0.000000</td>\n",
       "      <td>0.000000</td>\n",
       "      <td>1.000000</td>\n",
       "      <td>0.000000</td>\n",
       "    </tr>\n",
       "    <tr>\n",
       "      <th>other</th>\n",
       "      <td>0.0</td>\n",
       "      <td>0.0</td>\n",
       "      <td>0.0</td>\n",
       "      <td>0.0</td>\n",
       "      <td>0.0</td>\n",
       "      <td>0.0</td>\n",
       "      <td>0.0</td>\n",
       "      <td>0.0</td>\n",
       "      <td>0.000000e+00</td>\n",
       "      <td>0.000000e+00</td>\n",
       "      <td>0.000000e+00</td>\n",
       "      <td>0.000000e+00</td>\n",
       "      <td>0.000000</td>\n",
       "      <td>0.000000</td>\n",
       "      <td>0.000000</td>\n",
       "      <td>0.000000</td>\n",
       "      <td>0.000000</td>\n",
       "      <td>0.000000</td>\n",
       "      <td>0.000000</td>\n",
       "      <td>1.000000</td>\n",
       "    </tr>\n",
       "  </tbody>\n",
       "</table>\n",
       "</div>"
      ],
      "text/plain": [
       "        (0, 0)  (1, 0)  (2, 0)  (3, 0)  (0, 1)  (1, 1)  (2, 1)  (3, 1)  \\\n",
       "(0, 0)     0.0     0.0     0.0     0.0     0.0     0.0     0.0     0.0   \n",
       "(1, 0)     0.0     0.0     0.0     0.0     0.0     0.0     0.0     0.0   \n",
       "(2, 0)     0.0     0.0     0.0     0.0     0.0     0.0     0.0     0.0   \n",
       "(3, 0)     0.0     0.0     0.0     0.0     0.0     0.0     0.0     0.0   \n",
       "(0, 1)     0.0     0.0     0.0     0.0     0.0     0.0     0.0     0.0   \n",
       "(1, 1)     0.0     0.0     0.0     0.0     0.0     0.0     0.0     0.0   \n",
       "(2, 1)     0.0     0.0     0.0     0.0     0.0     0.0     0.0     0.0   \n",
       "(3, 1)     0.0     0.0     0.0     0.0     0.0     0.0     0.0     0.0   \n",
       "(0, 2)     0.0     0.0     0.0     0.0     0.0     0.0     0.0     0.0   \n",
       "(1, 2)     0.0     0.0     0.0     0.0     0.0     0.0     0.0     0.0   \n",
       "(2, 2)     0.0     0.0     0.0     0.0     0.0     0.0     0.0     0.0   \n",
       "(3, 2)     0.0     0.0     0.0     0.0     0.0     0.0     0.0     0.0   \n",
       "1B         0.0     0.0     0.0     0.0     0.0     0.0     0.0     0.0   \n",
       "2B         0.0     0.0     0.0     0.0     0.0     0.0     0.0     0.0   \n",
       "3B         0.0     0.0     0.0     0.0     0.0     0.0     0.0     0.0   \n",
       "HR         0.0     0.0     0.0     0.0     0.0     0.0     0.0     0.0   \n",
       "FO         0.0     0.0     0.0     0.0     0.0     0.0     0.0     0.0   \n",
       "BB         0.0     0.0     0.0     0.0     0.0     0.0     0.0     0.0   \n",
       "K          0.0     0.0     0.0     0.0     0.0     0.0     0.0     0.0   \n",
       "other      0.0     0.0     0.0     0.0     0.0     0.0     0.0     0.0   \n",
       "\n",
       "              (0, 2)        (1, 2)        (2, 2)        (3, 2)        1B  \\\n",
       "(0, 0)  4.509080e-83  1.829552e-74  1.750961e-63  3.234885e-55  0.130146   \n",
       "(1, 0)  0.000000e+00  7.379229e-76  1.900453e-64  5.597019e-56  0.126632   \n",
       "(2, 0)  0.000000e+00  0.000000e+00  1.337383e-65  8.075836e-57  0.101405   \n",
       "(3, 0)  0.000000e+00  0.000000e+00  0.000000e+00  7.760062e-58  0.040247   \n",
       "(0, 1)  1.319980e-83  5.716017e-75  6.111359e-64  1.235071e-55  0.121398   \n",
       "(1, 1)  0.000000e+00  2.687763e-76  7.731033e-65  2.458676e-56  0.123559   \n",
       "(2, 1)  0.000000e+00  0.000000e+00  6.284615e-66  3.925204e-57  0.107875   \n",
       "(3, 1)  0.000000e+00  0.000000e+00  0.000000e+00  3.957317e-58  0.068500   \n",
       "(0, 2)  5.239697e-84  2.342592e-75  2.665345e-64  5.702893e-56  0.098724   \n",
       "(1, 2)  0.000000e+00  1.083252e-76  3.393385e-65  1.154078e-56  0.096814   \n",
       "(2, 2)  0.000000e+00  0.000000e+00  3.128884e-66  2.049212e-57  0.086429   \n",
       "(3, 2)  0.000000e+00  0.000000e+00  0.000000e+00  2.299110e-58  0.067138   \n",
       "1B      0.000000e+00  0.000000e+00  0.000000e+00  0.000000e+00  1.000000   \n",
       "2B      0.000000e+00  0.000000e+00  0.000000e+00  0.000000e+00  0.000000   \n",
       "3B      0.000000e+00  0.000000e+00  0.000000e+00  0.000000e+00  0.000000   \n",
       "HR      0.000000e+00  0.000000e+00  0.000000e+00  0.000000e+00  0.000000   \n",
       "FO      0.000000e+00  0.000000e+00  0.000000e+00  0.000000e+00  0.000000   \n",
       "BB      0.000000e+00  0.000000e+00  0.000000e+00  0.000000e+00  0.000000   \n",
       "K       0.000000e+00  0.000000e+00  0.000000e+00  0.000000e+00  0.000000   \n",
       "other   0.000000e+00  0.000000e+00  0.000000e+00  0.000000e+00  0.000000   \n",
       "\n",
       "              2B        3B        HR        FO        BB         K     other  \n",
       "(0, 0)  0.047302  0.006392  0.064178  0.360777  0.169010  0.221171  0.000767  \n",
       "(1, 0)  0.045858  0.004912  0.067168  0.341333  0.242130  0.170909  0.000768  \n",
       "(2, 0)  0.044207  0.003246  0.054412  0.274559  0.406400  0.115448  0.000000  \n",
       "(3, 0)  0.022647  0.002309  0.028439  0.146849  0.700939  0.058283  0.000000  \n",
       "(0, 1)  0.043439  0.006922  0.056756  0.354187  0.125590  0.290586  0.000863  \n",
       "(1, 1)  0.043378  0.005069  0.058097  0.339520  0.169011  0.260686  0.000340  \n",
       "(2, 1)  0.051506  0.004960  0.055106  0.316542  0.268237  0.195324  0.000000  \n",
       "(3, 1)  0.035102  0.004382  0.046092  0.223549  0.511231  0.110599  0.000000  \n",
       "(0, 2)  0.030083  0.004020  0.042882  0.277065  0.104298  0.442133  0.000535  \n",
       "(1, 2)  0.032016  0.005814  0.042866  0.264720  0.137443  0.419178  0.000773  \n",
       "(2, 2)  0.034971  0.005564  0.046091  0.263896  0.210239  0.352213  0.000000  \n",
       "(3, 2)  0.028269  0.004711  0.032980  0.226148  0.400471  0.239105  0.000000  \n",
       "1B      0.000000  0.000000  0.000000  0.000000  0.000000  0.000000  0.000000  \n",
       "2B      1.000000  0.000000  0.000000  0.000000  0.000000  0.000000  0.000000  \n",
       "3B      0.000000  1.000000  0.000000  0.000000  0.000000  0.000000  0.000000  \n",
       "HR      0.000000  0.000000  1.000000  0.000000  0.000000  0.000000  0.000000  \n",
       "FO      0.000000  0.000000  0.000000  1.000000  0.000000  0.000000  0.000000  \n",
       "BB      0.000000  0.000000  0.000000  0.000000  1.000000  0.000000  0.000000  \n",
       "K       0.000000  0.000000  0.000000  0.000000  0.000000  1.000000  0.000000  \n",
       "other   0.000000  0.000000  0.000000  0.000000  0.000000  0.000000  1.000000  "
      ]
     },
     "execution_count": 191,
     "metadata": {},
     "output_type": "execute_result"
    }
   ],
   "source": [
    "create_T_df(sim_steady_state(T, n_sim=100))"
   ]
  },
  {
   "cell_type": "code",
   "execution_count": 60,
   "id": "1bc850e7",
   "metadata": {
    "id": "1bc850e7"
   },
   "outputs": [],
   "source": [
    "def sim_steady_state_matchUp(pitcher_id, batter_id, p_weight=0.5, _return_df=True):\n",
    "\n",
    "    T_batter = T_batters_dict[batter_id]\n",
    "    T_pitcher = T_pitchers_dict[pitcher_id]\n",
    "\n",
    "    T_matchUp = (T_pitcher*p_weight + T_batter*(1-p_weight))\n",
    "\n",
    "    P_steady_matchUp = sim_steady_state(T_matchUp)\n",
    "    \n",
    "    if not _return_df:\n",
    "        return P_steady_matchUp[0][-8:]\n",
    "    else:\n",
    "        P_steady_matchUp_df = create_T_df(P_steady_matchUp)\n",
    "        P_steady_matchUp_df = P_steady_matchUp_df.iloc[:12][P_steady_matchUp_df.columns[-8:]].copy()\n",
    "    \n",
    "        return P_steady_matchUp_df"
   ]
  },
  {
   "cell_type": "code",
   "execution_count": 61,
   "id": "90e83ac7",
   "metadata": {
    "id": "90e83ac7"
   },
   "outputs": [],
   "source": [
    "def get_emp_matchUp_T(pitcher_id, batter_id):\n",
    "    '''Retrieve empirical match-up transition matrix from pitcher and batter ID'''\n",
    "    matchUp_df = reg_clean_df[(reg_clean_df['pitcher']==pitcher_id)&(reg_clean_df['batter']==batter_id)]\n",
    "\n",
    "    if matchUp_df.empty:\n",
    "        raise Exception(\"player IDs did not return any data\")\n",
    "        \n",
    "    matchUp_df.reset_index(inplace=True, drop=True)\n",
    "\n",
    "    def get_count_prob(count_from, count_to):\n",
    "\n",
    "        cur_count_total = matchUp_df[(matchUp_df['balls']==count_from[0])&(matchUp_df['strikes']==count_from[1])].shape[0]\n",
    "        cur_idx = matchUp_df[(matchUp_df['balls']==count_from[0])&(matchUp_df['strikes']==count_from[1])].index\n",
    "        if 0 in cur_idx:\n",
    "            cur_idx = cur_idx.drop(0)\n",
    "\n",
    "        cur_at_bat_number = matchUp_df.iloc[cur_idx]['at_bat_number'].to_list()\n",
    "        cur_game_pk = matchUp_df.iloc[cur_idx]['game_pk'].to_list()\n",
    "\n",
    "        if type(count_to)==str:\n",
    "            event_total = matchUp_df.iloc[cur_idx].loc[matchUp_df['event_type']==count_to].shape[0]\n",
    "            proba = event_total / cur_count_total\n",
    "        else:\n",
    "            next_idx = cur_idx - 1\n",
    "            next_at_bat_number = matchUp_df.iloc[next_idx]['at_bat_number'].to_list()\n",
    "            next_game_pk = matchUp_df.iloc[next_idx]['game_pk'].to_list()\n",
    "\n",
    "            pitch_pairs = list(zip(cur_idx, cur_game_pk, cur_at_bat_number, next_idx, next_game_pk, next_at_bat_number))\n",
    "\n",
    "            pitch_pairs_keep = [p for p in pitch_pairs if p[1] == p[4] and p[2] == p[5]]\n",
    "\n",
    "            if pitch_pairs_keep == []:\n",
    "                next_count_total = 0\n",
    "                proba = next_count_total/cur_count_total\n",
    "            else: \n",
    "                a, b, c, d, e, f = zip(*pitch_pairs_keep)\n",
    "                next_count = matchUp_df.iloc[list(d)][['balls', 'strikes']]\n",
    "                next_count_total = next_count[(next_count['balls']==count_to[0])&(next_count['strikes']==count_to[1])].shape[0]\n",
    "                proba = next_count_total/cur_count_total\n",
    "\n",
    "        return proba\n",
    "\n",
    "    T_list = []\n",
    "    for count_from in count_list:\n",
    "        T_list_row = []\n",
    "        for count_to in count_list:\n",
    "            T_list_row.append(get_count_prob(count_from, count_to))\n",
    "\n",
    "        for event in event_list:\n",
    "            T_list_row.append(get_count_prob(count_from, event))\n",
    "        T_list.append(T_list_row)\n",
    "\n",
    "\n",
    "    T1_arr = np.array(T_list)\n",
    "\n",
    "    B = np.zeros([8, 12])\n",
    "    C = np.zeros([8, 8])\n",
    "    np.fill_diagonal(C, 1)\n",
    "\n",
    "    T = np.block([\n",
    "        [T1_arr],\n",
    "        [B, C]\n",
    "    ])\n",
    "\n",
    "    return T"
   ]
  },
  {
   "cell_type": "code",
   "execution_count": null,
   "id": "0f8a0500",
   "metadata": {
    "id": "c1a6c5ce"
   },
   "outputs": [],
   "source": [
    "# trout_id = 545361\n",
    "# verlander_id = 434378\n",
    "\n",
    "# T_batter = T_batters_dict[batter_id]\n",
    "# T_pitcher = T_pitchers_dict[pitcher_id]\n",
    "\n",
    "# T_matchUp = (T_pitcher*p_weight + T_batter*(1-p_weight))\n",
    "\n",
    "# P_steady_matchUp = sim_steady_state(T_matchUp)\n",
    "\n",
    "# P_steady_matchUp_df = create_T_df(P_steady_matchUp)\n",
    "\n",
    "# P_steady_matchUp_df = P_steady_matchUp_df.iloc[:12][P_steady_matchUp_df.columns[-8:]].copy()\n",
    "\n",
    "# steady_state_matchUp = sim_steady_state_matchUp(verlander_id, trout_id)\n",
    "# steady_state_matchUp\n",
    "\n",
    "# emp_matchUp_T = get_emp_matchUp_T(verlander_id, trout_id)\n",
    "# emp_steady_state = sim_steady_state(emp_matchUp_T)\n",
    "# # get_brier_score(steady_state_matchUp.values, emp_steady_state[:12, -8:])\n",
    "\n",
    "# emp_steady_state[:11, -8:]\n",
    "\n",
    "# create_T_df(get_emp_matchUp_T(verlander_id, trout_id))"
   ]
  },
  {
   "cell_type": "markdown",
   "id": "29b6d190",
   "metadata": {
    "id": "29b6d190"
   },
   "source": [
    "# Create steady states for all matchups"
   ]
  },
  {
   "cell_type": "code",
   "execution_count": 68,
   "id": "3ecde7a5",
   "metadata": {
    "colab": {
     "base_uri": "https://localhost:8080/",
     "height": 424
    },
    "executionInfo": {
     "elapsed": 3319,
     "status": "ok",
     "timestamp": 1668737191829,
     "user": {
      "displayName": "Jeff Jin",
      "userId": "04519095521378007072"
     },
     "user_tz": 300
    },
    "id": "3ecde7a5",
    "outputId": "32b8b383-1bca-4594-89bd-cd382d6ea502"
   },
   "outputs": [
    {
     "data": {
      "text/html": [
       "<div>\n",
       "<style scoped>\n",
       "    .dataframe tbody tr th:only-of-type {\n",
       "        vertical-align: middle;\n",
       "    }\n",
       "\n",
       "    .dataframe tbody tr th {\n",
       "        vertical-align: top;\n",
       "    }\n",
       "\n",
       "    .dataframe thead th {\n",
       "        text-align: right;\n",
       "    }\n",
       "</style>\n",
       "<table border=\"1\" class=\"dataframe\">\n",
       "  <thead>\n",
       "    <tr style=\"text-align: right;\">\n",
       "      <th></th>\n",
       "      <th>pitcher</th>\n",
       "      <th>batter</th>\n",
       "      <th>n_count</th>\n",
       "    </tr>\n",
       "  </thead>\n",
       "  <tbody>\n",
       "    <tr>\n",
       "      <th>0</th>\n",
       "      <td>112526</td>\n",
       "      <td>120074</td>\n",
       "      <td>1</td>\n",
       "    </tr>\n",
       "    <tr>\n",
       "      <th>1</th>\n",
       "      <td>112526</td>\n",
       "      <td>134181</td>\n",
       "      <td>17</td>\n",
       "    </tr>\n",
       "    <tr>\n",
       "      <th>2</th>\n",
       "      <td>112526</td>\n",
       "      <td>136860</td>\n",
       "      <td>13</td>\n",
       "    </tr>\n",
       "    <tr>\n",
       "      <th>3</th>\n",
       "      <td>112526</td>\n",
       "      <td>150029</td>\n",
       "      <td>53</td>\n",
       "    </tr>\n",
       "    <tr>\n",
       "      <th>4</th>\n",
       "      <td>112526</td>\n",
       "      <td>150229</td>\n",
       "      <td>53</td>\n",
       "    </tr>\n",
       "    <tr>\n",
       "      <th>...</th>\n",
       "      <td>...</td>\n",
       "      <td>...</td>\n",
       "      <td>...</td>\n",
       "    </tr>\n",
       "    <tr>\n",
       "      <th>210599</th>\n",
       "      <td>680686</td>\n",
       "      <td>669242</td>\n",
       "      <td>13</td>\n",
       "    </tr>\n",
       "    <tr>\n",
       "      <th>210600</th>\n",
       "      <td>680686</td>\n",
       "      <td>669257</td>\n",
       "      <td>18</td>\n",
       "    </tr>\n",
       "    <tr>\n",
       "      <th>210601</th>\n",
       "      <td>680686</td>\n",
       "      <td>670541</td>\n",
       "      <td>11</td>\n",
       "    </tr>\n",
       "    <tr>\n",
       "      <th>210602</th>\n",
       "      <td>680686</td>\n",
       "      <td>673490</td>\n",
       "      <td>6</td>\n",
       "    </tr>\n",
       "    <tr>\n",
       "      <th>210603</th>\n",
       "      <td>680686</td>\n",
       "      <td>676801</td>\n",
       "      <td>8</td>\n",
       "    </tr>\n",
       "  </tbody>\n",
       "</table>\n",
       "<p>210604 rows × 3 columns</p>\n",
       "</div>"
      ],
      "text/plain": [
       "        pitcher  batter  n_count\n",
       "0        112526  120074        1\n",
       "1        112526  134181       17\n",
       "2        112526  136860       13\n",
       "3        112526  150029       53\n",
       "4        112526  150229       53\n",
       "...         ...     ...      ...\n",
       "210599   680686  669242       13\n",
       "210600   680686  669257       18\n",
       "210601   680686  670541       11\n",
       "210602   680686  673490        6\n",
       "210603   680686  676801        8\n",
       "\n",
       "[210604 rows x 3 columns]"
      ]
     },
     "execution_count": 68,
     "metadata": {},
     "output_type": "execute_result"
    }
   ],
   "source": [
    "matchUp_IDs_df = reg_clean_df[(reg_clean_df['pitcher'].isin(pitcher_quali_list)&(reg_clean_df['batter'].isin(batter_quali_list)))]\\\n",
    ".groupby(['pitcher', 'batter']).agg({'n_count':sum}).reset_index()\n",
    "matchUp_IDs_df"
   ]
  },
  {
   "cell_type": "code",
   "execution_count": 449,
   "id": "f65f1c4d",
   "metadata": {
    "id": "f65f1c4d"
   },
   "outputs": [],
   "source": [
    "matchUp_pairs_list = [(x, y) for x, y in zip(matchUp_IDs_df['pitcher'], matchUp_IDs_df['batter'])]"
   ]
  },
  {
   "cell_type": "code",
   "execution_count": 70,
   "id": "1fd77f16",
   "metadata": {
    "colab": {
     "base_uri": "https://localhost:8080/",
     "height": 49,
     "referenced_widgets": [
      "c62abd0eb0184f398949abcc1e36b260",
      "0a9315fc41214c988eca447bc907fe1e",
      "cbb67d032f344304a5d6419b37d0e6be",
      "4a354eba2b014af0b2991360adeddc0e",
      "79ea100ccdc04d6a92859031bac9129c",
      "bc694aa7dca640f7b3cfdc13f2401b01",
      "a46212d3eb1f479a81e23a8e6f3e562e",
      "8a80408fafed42acbad33aaddabdf0ce",
      "2006e5cf2a164356bac5a56c054f7ece",
      "87cc636986df4e38b908d2d81bdd2949",
      "842e0ccb2111459d9551ecd2a5cace24"
     ]
    },
    "executionInfo": {
     "elapsed": 58039,
     "status": "ok",
     "timestamp": 1668737342009,
     "user": {
      "displayName": "Jeff Jin",
      "userId": "04519095521378007072"
     },
     "user_tz": 300
    },
    "id": "1fd77f16",
    "outputId": "816efdb5-1577-4390-fab7-d91bb1245ad6"
   },
   "outputs": [
    {
     "data": {
      "application/vnd.jupyter.widget-view+json": {
       "model_id": "61dffbee5df541a09f669df33f256ddf",
       "version_major": 2,
       "version_minor": 0
      },
      "text/plain": [
       "  0%|          | 0/210604 [00:00<?, ?it/s]"
      ]
     },
     "metadata": {},
     "output_type": "display_data"
    }
   ],
   "source": [
    "P_matchUp_dict = {}\n",
    "for pair in tqdm(matchUp_pairs_list):\n",
    "    \n",
    "    P_steady_matchUp_arr = sim_steady_state_matchUp(pair[0], pair[1], p_weight=0.4, _return_df=False)\n",
    "    \n",
    "    P_matchUp_dict[pair] = P_steady_matchUp_arr"
   ]
  },
  {
   "cell_type": "code",
   "execution_count": 420,
   "id": "3b4e8203",
   "metadata": {
    "colab": {
     "base_uri": "https://localhost:8080/",
     "height": 424
    },
    "executionInfo": {
     "elapsed": 2116,
     "status": "ok",
     "timestamp": 1668737344110,
     "user": {
      "displayName": "Jeff Jin",
      "userId": "04519095521378007072"
     },
     "user_tz": 300
    },
    "id": "3b4e8203",
    "outputId": "4e83544a-b0cb-4f6a-be74-53334ecc43c2"
   },
   "outputs": [
    {
     "data": {
      "text/html": [
       "<div>\n",
       "<style scoped>\n",
       "    .dataframe tbody tr th:only-of-type {\n",
       "        vertical-align: middle;\n",
       "    }\n",
       "\n",
       "    .dataframe tbody tr th {\n",
       "        vertical-align: top;\n",
       "    }\n",
       "\n",
       "    .dataframe thead th {\n",
       "        text-align: right;\n",
       "    }\n",
       "</style>\n",
       "<table border=\"1\" class=\"dataframe\">\n",
       "  <thead>\n",
       "    <tr style=\"text-align: right;\">\n",
       "      <th></th>\n",
       "      <th>game_year</th>\n",
       "      <th>game_pk</th>\n",
       "      <th>at_bat_number</th>\n",
       "      <th>pitcher</th>\n",
       "      <th>batter</th>\n",
       "      <th>home_team</th>\n",
       "      <th>event_type</th>\n",
       "      <th>des</th>\n",
       "    </tr>\n",
       "  </thead>\n",
       "  <tbody>\n",
       "    <tr>\n",
       "      <th>0</th>\n",
       "      <td>2015</td>\n",
       "      <td>413649</td>\n",
       "      <td>1</td>\n",
       "      <td>433587</td>\n",
       "      <td>594777</td>\n",
       "      <td>SEA</td>\n",
       "      <td>K</td>\n",
       "      <td>Kole Calhoun called out on strikes.</td>\n",
       "    </tr>\n",
       "    <tr>\n",
       "      <th>1</th>\n",
       "      <td>2015</td>\n",
       "      <td>413649</td>\n",
       "      <td>2</td>\n",
       "      <td>433587</td>\n",
       "      <td>545361</td>\n",
       "      <td>SEA</td>\n",
       "      <td>HR</td>\n",
       "      <td>Mike Trout homers (1) on a fly ball to center ...</td>\n",
       "    </tr>\n",
       "    <tr>\n",
       "      <th>2</th>\n",
       "      <td>2015</td>\n",
       "      <td>413649</td>\n",
       "      <td>3</td>\n",
       "      <td>433587</td>\n",
       "      <td>405395</td>\n",
       "      <td>SEA</td>\n",
       "      <td>K</td>\n",
       "      <td>Albert Pujols strikes out on a foul tip.</td>\n",
       "    </tr>\n",
       "    <tr>\n",
       "      <th>3</th>\n",
       "      <td>2015</td>\n",
       "      <td>413649</td>\n",
       "      <td>4</td>\n",
       "      <td>433587</td>\n",
       "      <td>459964</td>\n",
       "      <td>SEA</td>\n",
       "      <td>K</td>\n",
       "      <td>Matt Joyce strikes out swinging.</td>\n",
       "    </tr>\n",
       "    <tr>\n",
       "      <th>4</th>\n",
       "      <td>2015</td>\n",
       "      <td>413649</td>\n",
       "      <td>5</td>\n",
       "      <td>450308</td>\n",
       "      <td>457706</td>\n",
       "      <td>SEA</td>\n",
       "      <td>FO</td>\n",
       "      <td>Austin Jackson grounds out, shortstop Erick Ay...</td>\n",
       "    </tr>\n",
       "    <tr>\n",
       "      <th>...</th>\n",
       "      <td>...</td>\n",
       "      <td>...</td>\n",
       "      <td>...</td>\n",
       "      <td>...</td>\n",
       "      <td>...</td>\n",
       "      <td>...</td>\n",
       "      <td>...</td>\n",
       "      <td>...</td>\n",
       "    </tr>\n",
       "    <tr>\n",
       "      <th>966498</th>\n",
       "      <td>2022</td>\n",
       "      <td>663463</td>\n",
       "      <td>69</td>\n",
       "      <td>608648</td>\n",
       "      <td>596059</td>\n",
       "      <td>BAL</td>\n",
       "      <td>K</td>\n",
       "      <td>Rougned Odor strikes out on a foul tip.</td>\n",
       "    </tr>\n",
       "    <tr>\n",
       "      <th>966499</th>\n",
       "      <td>2022</td>\n",
       "      <td>663463</td>\n",
       "      <td>71</td>\n",
       "      <td>669211</td>\n",
       "      <td>621439</td>\n",
       "      <td>BAL</td>\n",
       "      <td>2B</td>\n",
       "      <td>Byron Buxton doubles (5) on a sharp ground bal...</td>\n",
       "    </tr>\n",
       "    <tr>\n",
       "      <th>966500</th>\n",
       "      <td>2022</td>\n",
       "      <td>663463</td>\n",
       "      <td>72</td>\n",
       "      <td>669211</td>\n",
       "      <td>621043</td>\n",
       "      <td>BAL</td>\n",
       "      <td>2B</td>\n",
       "      <td>Orioles challenged (catch or drop), call on th...</td>\n",
       "    </tr>\n",
       "    <tr>\n",
       "      <th>966501</th>\n",
       "      <td>2022</td>\n",
       "      <td>663463</td>\n",
       "      <td>73</td>\n",
       "      <td>643316</td>\n",
       "      <td>593871</td>\n",
       "      <td>BAL</td>\n",
       "      <td>FO</td>\n",
       "      <td>Jorge Polanco out on a sacrifice fly to center...</td>\n",
       "    </tr>\n",
       "    <tr>\n",
       "      <th>966502</th>\n",
       "      <td>2022</td>\n",
       "      <td>663463</td>\n",
       "      <td>74</td>\n",
       "      <td>643316</td>\n",
       "      <td>570482</td>\n",
       "      <td>BAL</td>\n",
       "      <td>K</td>\n",
       "      <td>Gio Urshela called out on strikes.</td>\n",
       "    </tr>\n",
       "  </tbody>\n",
       "</table>\n",
       "<p>966503 rows × 8 columns</p>\n",
       "</div>"
      ],
      "text/plain": [
       "        game_year  game_pk  at_bat_number  pitcher  batter home_team  \\\n",
       "0            2015   413649              1   433587  594777       SEA   \n",
       "1            2015   413649              2   433587  545361       SEA   \n",
       "2            2015   413649              3   433587  405395       SEA   \n",
       "3            2015   413649              4   433587  459964       SEA   \n",
       "4            2015   413649              5   450308  457706       SEA   \n",
       "...           ...      ...            ...      ...     ...       ...   \n",
       "966498       2022   663463             69   608648  596059       BAL   \n",
       "966499       2022   663463             71   669211  621439       BAL   \n",
       "966500       2022   663463             72   669211  621043       BAL   \n",
       "966501       2022   663463             73   643316  593871       BAL   \n",
       "966502       2022   663463             74   643316  570482       BAL   \n",
       "\n",
       "       event_type                                                des  \n",
       "0               K                Kole Calhoun called out on strikes.  \n",
       "1              HR  Mike Trout homers (1) on a fly ball to center ...  \n",
       "2               K           Albert Pujols strikes out on a foul tip.  \n",
       "3               K                   Matt Joyce strikes out swinging.  \n",
       "4              FO  Austin Jackson grounds out, shortstop Erick Ay...  \n",
       "...           ...                                                ...  \n",
       "966498          K            Rougned Odor strikes out on a foul tip.  \n",
       "966499         2B  Byron Buxton doubles (5) on a sharp ground bal...  \n",
       "966500         2B  Orioles challenged (catch or drop), call on th...  \n",
       "966501         FO  Jorge Polanco out on a sacrifice fly to center...  \n",
       "966502          K                 Gio Urshela called out on strikes.  \n",
       "\n",
       "[966503 rows x 8 columns]"
      ]
     },
     "execution_count": 420,
     "metadata": {},
     "output_type": "execute_result"
    }
   ],
   "source": [
    "all_matchUp_df = reg_clean_df[(reg_clean_df['pitcher'].isin(pitcher_quali_list)&(reg_clean_df['batter'].isin(batter_quali_list)))]\\\n",
    "                    .groupby(['game_year', 'game_pk', 'at_bat_number', 'pitcher', 'batter'])\\\n",
    "                    .agg({'home_team':'first',\n",
    "                          'event_type':'first',\n",
    "                         'des':'first'}).reset_index()\n",
    "all_matchUp_df"
   ]
  },
  {
   "cell_type": "code",
   "execution_count": 421,
   "id": "c74a4acf",
   "metadata": {
    "id": "c74a4acf"
   },
   "outputs": [],
   "source": [
    "event_dummies = pd.get_dummies(all_matchUp_df['event_type'])"
   ]
  },
  {
   "cell_type": "code",
   "execution_count": 422,
   "id": "d2b0722d",
   "metadata": {
    "id": "d2b0722d"
   },
   "outputs": [],
   "source": [
    "all_matchUp_df = pd.concat([all_matchUp_df, event_dummies], axis=1)"
   ]
  },
  {
   "cell_type": "code",
   "execution_count": 423,
   "id": "45e73b9a",
   "metadata": {
    "id": "45e73b9a"
   },
   "outputs": [],
   "source": [
    "all_matchUp_pairs_list = [(x, y) for x, y in zip(all_matchUp_df['pitcher'], all_matchUp_df['batter'])]"
   ]
  },
  {
   "cell_type": "code",
   "execution_count": 279,
   "id": "4ed3ba9c",
   "metadata": {
    "id": "4ed3ba9c"
   },
   "outputs": [],
   "source": [
    "P_predicted = np.array([P_matchUp_dict[pair] for pair in all_matchUp_pairs_list])"
   ]
  },
  {
   "cell_type": "markdown",
   "id": "d15d645b",
   "metadata": {
    "id": "d15d645b"
   },
   "source": [
    "# Test for pitcher weight"
   ]
  },
  {
   "cell_type": "code",
   "execution_count": null,
   "id": "c7a64ac8",
   "metadata": {
    "id": "c7a64ac8"
   },
   "outputs": [],
   "source": [
    "# b_score_list = []\n",
    "# for p_weight in tqdm(np.arange(0, 1.05, 0.05)):\n",
    "#     P_matchUp_dict = {}\n",
    "#     for pair in tqdm(matchUp_pairs_list):\n",
    "#         P_steady_matchUp_arr = sim_steady_state_matchUp(pair[0], pair[1], p_weight=p_weight, _return_df=False)\n",
    "#         P_matchUp_dict[pair] = P_steady_matchUp_arr\n",
    "        \n",
    "#     P_predicted = np.array([P_matchUp_dict[pair] for pair in all_matchUp_pairs_list])\n",
    "#     b_score = get_brier_score(P_predicted, event_dummies.values)\n",
    "#     b_score_list.append(b_score)"
   ]
  },
  {
   "cell_type": "code",
   "execution_count": null,
   "id": "289714ee",
   "metadata": {
    "id": "289714ee"
   },
   "outputs": [],
   "source": [
    "# list(zip([w for w in np.arange(0, 1.05, 0.05)], b_score_list))"
   ]
  },
  {
   "cell_type": "markdown",
   "id": "342c6337",
   "metadata": {
    "id": "342c6337"
   },
   "source": [
    "# Predict P using best weight"
   ]
  },
  {
   "cell_type": "code",
   "execution_count": 280,
   "id": "ff052856",
   "metadata": {
    "id": "ff052856"
   },
   "outputs": [],
   "source": [
    "proba_col = [e + '_proba' for e in event_list]"
   ]
  },
  {
   "cell_type": "code",
   "execution_count": 281,
   "id": "fceb94f4",
   "metadata": {
    "colab": {
     "base_uri": "https://localhost:8080/",
     "height": 206
    },
    "executionInfo": {
     "elapsed": 382,
     "status": "ok",
     "timestamp": 1668738109913,
     "user": {
      "displayName": "Jeff Jin",
      "userId": "04519095521378007072"
     },
     "user_tz": 300
    },
    "id": "fceb94f4",
    "outputId": "9b6346da-3c97-4db8-8102-4360603602d6"
   },
   "outputs": [
    {
     "data": {
      "text/html": [
       "<div>\n",
       "<style scoped>\n",
       "    .dataframe tbody tr th:only-of-type {\n",
       "        vertical-align: middle;\n",
       "    }\n",
       "\n",
       "    .dataframe tbody tr th {\n",
       "        vertical-align: top;\n",
       "    }\n",
       "\n",
       "    .dataframe thead th {\n",
       "        text-align: right;\n",
       "    }\n",
       "</style>\n",
       "<table border=\"1\" class=\"dataframe\">\n",
       "  <thead>\n",
       "    <tr style=\"text-align: right;\">\n",
       "      <th></th>\n",
       "      <th>1B_proba</th>\n",
       "      <th>2B_proba</th>\n",
       "      <th>3B_proba</th>\n",
       "      <th>HR_proba</th>\n",
       "      <th>FO_proba</th>\n",
       "      <th>BB_proba</th>\n",
       "      <th>K_proba</th>\n",
       "      <th>other_proba</th>\n",
       "    </tr>\n",
       "  </thead>\n",
       "  <tbody>\n",
       "    <tr>\n",
       "      <th>0</th>\n",
       "      <td>0.135221</td>\n",
       "      <td>0.042009</td>\n",
       "      <td>0.003345</td>\n",
       "      <td>0.036406</td>\n",
       "      <td>0.461338</td>\n",
       "      <td>0.098755</td>\n",
       "      <td>0.219438</td>\n",
       "      <td>0.003202</td>\n",
       "    </tr>\n",
       "    <tr>\n",
       "      <th>1</th>\n",
       "      <td>0.135034</td>\n",
       "      <td>0.046397</td>\n",
       "      <td>0.005115</td>\n",
       "      <td>0.051806</td>\n",
       "      <td>0.410904</td>\n",
       "      <td>0.136197</td>\n",
       "      <td>0.212526</td>\n",
       "      <td>0.001721</td>\n",
       "    </tr>\n",
       "    <tr>\n",
       "      <th>2</th>\n",
       "      <td>0.144574</td>\n",
       "      <td>0.038189</td>\n",
       "      <td>0.001424</td>\n",
       "      <td>0.043201</td>\n",
       "      <td>0.529675</td>\n",
       "      <td>0.082283</td>\n",
       "      <td>0.158312</td>\n",
       "      <td>0.002044</td>\n",
       "    </tr>\n",
       "    <tr>\n",
       "      <th>3</th>\n",
       "      <td>0.126612</td>\n",
       "      <td>0.043922</td>\n",
       "      <td>0.002155</td>\n",
       "      <td>0.034662</td>\n",
       "      <td>0.454338</td>\n",
       "      <td>0.123856</td>\n",
       "      <td>0.212069</td>\n",
       "      <td>0.001894</td>\n",
       "    </tr>\n",
       "    <tr>\n",
       "      <th>4</th>\n",
       "      <td>0.166618</td>\n",
       "      <td>0.051859</td>\n",
       "      <td>0.005137</td>\n",
       "      <td>0.028312</td>\n",
       "      <td>0.473290</td>\n",
       "      <td>0.074641</td>\n",
       "      <td>0.197981</td>\n",
       "      <td>0.001482</td>\n",
       "    </tr>\n",
       "  </tbody>\n",
       "</table>\n",
       "</div>"
      ],
      "text/plain": [
       "   1B_proba  2B_proba  3B_proba  HR_proba  FO_proba  BB_proba   K_proba  \\\n",
       "0  0.135221  0.042009  0.003345  0.036406  0.461338  0.098755  0.219438   \n",
       "1  0.135034  0.046397  0.005115  0.051806  0.410904  0.136197  0.212526   \n",
       "2  0.144574  0.038189  0.001424  0.043201  0.529675  0.082283  0.158312   \n",
       "3  0.126612  0.043922  0.002155  0.034662  0.454338  0.123856  0.212069   \n",
       "4  0.166618  0.051859  0.005137  0.028312  0.473290  0.074641  0.197981   \n",
       "\n",
       "   other_proba  \n",
       "0     0.003202  \n",
       "1     0.001721  \n",
       "2     0.002044  \n",
       "3     0.001894  \n",
       "4     0.001482  "
      ]
     },
     "execution_count": 281,
     "metadata": {},
     "output_type": "execute_result"
    }
   ],
   "source": [
    "P_predicted_df = pd.DataFrame(P_predicted, columns=col)\n",
    "P_predicted_df.head()"
   ]
  },
  {
   "cell_type": "code",
   "execution_count": 282,
   "id": "bca751a3",
   "metadata": {
    "id": "bca751a3"
   },
   "outputs": [],
   "source": [
    "all_matchUp_df = pd.concat([all_matchUp_df, P_predicted_df], axis=1)"
   ]
  },
  {
   "cell_type": "code",
   "execution_count": 284,
   "id": "e65977ec",
   "metadata": {},
   "outputs": [],
   "source": [
    "# normalize proba so it sums up to 1\n",
    "\n",
    "devider = all_matchUp_df[proba_col].sum(axis=1).values\n",
    "\n",
    "for proba in proba_col:\n",
    "    all_matchUp_df[proba] = all_matchUp_df[proba] / devider"
   ]
  },
  {
   "cell_type": "code",
   "execution_count": 80,
   "id": "146771ab",
   "metadata": {
    "id": "146771ab"
   },
   "outputs": [],
   "source": [
    "# all_matchUp_df.to_csv('all_matchUp_df.csv')"
   ]
  },
  {
   "cell_type": "code",
   "execution_count": 288,
   "id": "73d91c1d",
   "metadata": {
    "id": "73d91c1d"
   },
   "outputs": [],
   "source": [
    "sum_actual_df = all_matchUp_df[event_list].sum().rename_axis('events').reset_index(name='count_actual')"
   ]
  },
  {
   "cell_type": "code",
   "execution_count": 289,
   "id": "e1980a66",
   "metadata": {
    "id": "e1980a66"
   },
   "outputs": [],
   "source": [
    "sum_pred_df = all_matchUp_df[proba_col].sum().rename_axis('events_2').reset_index(name='count_pred')"
   ]
  },
  {
   "cell_type": "code",
   "execution_count": 292,
   "id": "inHeeom3l-xu",
   "metadata": {
    "id": "inHeeom3l-xu"
   },
   "outputs": [],
   "source": [
    "sum_all_df = pd.concat([sum_actual_df, sum_pred_df], axis=1)\n",
    "sum_all_df.drop(columns='events_2', inplace=True)"
   ]
  },
  {
   "cell_type": "code",
   "execution_count": 293,
   "id": "U2yrMX5qmW-1",
   "metadata": {
    "id": "U2yrMX5qmW-1"
   },
   "outputs": [],
   "source": [
    "sum_all_df['error_pct'] = (sum_all_df['count_actual'] - sum_all_df['count_pred'])/sum_all_df['count_actual']"
   ]
  },
  {
   "cell_type": "code",
   "execution_count": 294,
   "id": "dfcd9d1f",
   "metadata": {},
   "outputs": [
    {
     "data": {
      "text/html": [
       "<div>\n",
       "<style scoped>\n",
       "    .dataframe tbody tr th:only-of-type {\n",
       "        vertical-align: middle;\n",
       "    }\n",
       "\n",
       "    .dataframe tbody tr th {\n",
       "        vertical-align: top;\n",
       "    }\n",
       "\n",
       "    .dataframe thead th {\n",
       "        text-align: right;\n",
       "    }\n",
       "</style>\n",
       "<table border=\"1\" class=\"dataframe\">\n",
       "  <thead>\n",
       "    <tr style=\"text-align: right;\">\n",
       "      <th></th>\n",
       "      <th>events</th>\n",
       "      <th>count_actual</th>\n",
       "      <th>count_pred</th>\n",
       "      <th>error_pct</th>\n",
       "    </tr>\n",
       "  </thead>\n",
       "  <tbody>\n",
       "    <tr>\n",
       "      <th>0</th>\n",
       "      <td>1B</td>\n",
       "      <td>141446</td>\n",
       "      <td>140793.195694</td>\n",
       "      <td>0.004615</td>\n",
       "    </tr>\n",
       "    <tr>\n",
       "      <th>1</th>\n",
       "      <td>2B</td>\n",
       "      <td>44120</td>\n",
       "      <td>43835.461010</td>\n",
       "      <td>0.006449</td>\n",
       "    </tr>\n",
       "    <tr>\n",
       "      <th>2</th>\n",
       "      <td>3B</td>\n",
       "      <td>4221</td>\n",
       "      <td>4190.795388</td>\n",
       "      <td>0.007156</td>\n",
       "    </tr>\n",
       "    <tr>\n",
       "      <th>3</th>\n",
       "      <td>HR</td>\n",
       "      <td>31324</td>\n",
       "      <td>30998.230392</td>\n",
       "      <td>0.010400</td>\n",
       "    </tr>\n",
       "    <tr>\n",
       "      <th>4</th>\n",
       "      <td>FO</td>\n",
       "      <td>448923</td>\n",
       "      <td>448808.715820</td>\n",
       "      <td>0.000255</td>\n",
       "    </tr>\n",
       "    <tr>\n",
       "      <th>5</th>\n",
       "      <td>BB</td>\n",
       "      <td>86773</td>\n",
       "      <td>87333.731183</td>\n",
       "      <td>-0.006462</td>\n",
       "    </tr>\n",
       "    <tr>\n",
       "      <th>6</th>\n",
       "      <td>K</td>\n",
       "      <td>207438</td>\n",
       "      <td>208278.829645</td>\n",
       "      <td>-0.004053</td>\n",
       "    </tr>\n",
       "    <tr>\n",
       "      <th>7</th>\n",
       "      <td>other</td>\n",
       "      <td>2258</td>\n",
       "      <td>2264.040867</td>\n",
       "      <td>-0.002675</td>\n",
       "    </tr>\n",
       "  </tbody>\n",
       "</table>\n",
       "</div>"
      ],
      "text/plain": [
       "  events  count_actual     count_pred  error_pct\n",
       "0     1B        141446  140793.195694   0.004615\n",
       "1     2B         44120   43835.461010   0.006449\n",
       "2     3B          4221    4190.795388   0.007156\n",
       "3     HR         31324   30998.230392   0.010400\n",
       "4     FO        448923  448808.715820   0.000255\n",
       "5     BB         86773   87333.731183  -0.006462\n",
       "6      K        207438  208278.829645  -0.004053\n",
       "7  other          2258    2264.040867  -0.002675"
      ]
     },
     "execution_count": 294,
     "metadata": {},
     "output_type": "execute_result"
    }
   ],
   "source": [
    "sum_all_df"
   ]
  },
  {
   "cell_type": "code",
   "execution_count": 295,
   "id": "3e60c471",
   "metadata": {},
   "outputs": [
    {
     "data": {
      "text/plain": [
       "966503"
      ]
     },
     "execution_count": 295,
     "metadata": {},
     "output_type": "execute_result"
    }
   ],
   "source": [
    "sum_all_df['count_actual'].sum()"
   ]
  },
  {
   "cell_type": "code",
   "execution_count": 296,
   "id": "99401d1d",
   "metadata": {},
   "outputs": [
    {
     "data": {
      "text/plain": [
       "966502.9999999739"
      ]
     },
     "execution_count": 296,
     "metadata": {},
     "output_type": "execute_result"
    }
   ],
   "source": [
    "sum_all_df['count_pred'].sum()"
   ]
  },
  {
   "cell_type": "markdown",
   "id": "500ff1a9",
   "metadata": {},
   "source": [
    "### Brier Score:"
   ]
  },
  {
   "cell_type": "code",
   "execution_count": 297,
   "id": "6b8e1ad9",
   "metadata": {},
   "outputs": [
    {
     "data": {
      "text/plain": [
       "0.7044897894065886"
      ]
     },
     "execution_count": 297,
     "metadata": {},
     "output_type": "execute_result"
    }
   ],
   "source": [
    "get_brier_score(event_dummies.values, P_predicted)"
   ]
  },
  {
   "cell_type": "markdown",
   "id": "03cf30b8",
   "metadata": {},
   "source": [
    "# Get league average P"
   ]
  },
  {
   "cell_type": "code",
   "execution_count": 98,
   "id": "56968847",
   "metadata": {
    "scrolled": false
   },
   "outputs": [
    {
     "data": {
      "text/html": [
       "<div>\n",
       "<style scoped>\n",
       "    .dataframe tbody tr th:only-of-type {\n",
       "        vertical-align: middle;\n",
       "    }\n",
       "\n",
       "    .dataframe tbody tr th {\n",
       "        vertical-align: top;\n",
       "    }\n",
       "\n",
       "    .dataframe thead th {\n",
       "        text-align: right;\n",
       "    }\n",
       "</style>\n",
       "<table border=\"1\" class=\"dataframe\">\n",
       "  <thead>\n",
       "    <tr style=\"text-align: right;\">\n",
       "      <th></th>\n",
       "      <th>game_year</th>\n",
       "      <th>game_pk</th>\n",
       "      <th>at_bat_number</th>\n",
       "      <th>pitcher</th>\n",
       "      <th>batter</th>\n",
       "      <th>home_team</th>\n",
       "      <th>event_type</th>\n",
       "      <th>des</th>\n",
       "      <th>1B</th>\n",
       "      <th>2B</th>\n",
       "      <th>3B</th>\n",
       "      <th>BB</th>\n",
       "      <th>FO</th>\n",
       "      <th>HR</th>\n",
       "      <th>K</th>\n",
       "      <th>other</th>\n",
       "      <th>1B_proba</th>\n",
       "      <th>2B_proba</th>\n",
       "      <th>3B_proba</th>\n",
       "      <th>HR_proba</th>\n",
       "      <th>FO_proba</th>\n",
       "      <th>BB_proba</th>\n",
       "      <th>K_proba</th>\n",
       "      <th>other_proba</th>\n",
       "    </tr>\n",
       "  </thead>\n",
       "  <tbody>\n",
       "    <tr>\n",
       "      <th>0</th>\n",
       "      <td>2015</td>\n",
       "      <td>413649</td>\n",
       "      <td>1</td>\n",
       "      <td>433587</td>\n",
       "      <td>594777</td>\n",
       "      <td>SEA</td>\n",
       "      <td>K</td>\n",
       "      <td>Kole Calhoun called out on strikes.</td>\n",
       "      <td>0</td>\n",
       "      <td>0</td>\n",
       "      <td>0</td>\n",
       "      <td>0</td>\n",
       "      <td>0</td>\n",
       "      <td>0</td>\n",
       "      <td>1</td>\n",
       "      <td>0</td>\n",
       "      <td>0.135221</td>\n",
       "      <td>0.042009</td>\n",
       "      <td>0.003345</td>\n",
       "      <td>0.036406</td>\n",
       "      <td>0.461338</td>\n",
       "      <td>0.098755</td>\n",
       "      <td>0.219438</td>\n",
       "      <td>0.003202</td>\n",
       "    </tr>\n",
       "    <tr>\n",
       "      <th>1</th>\n",
       "      <td>2015</td>\n",
       "      <td>413649</td>\n",
       "      <td>2</td>\n",
       "      <td>433587</td>\n",
       "      <td>545361</td>\n",
       "      <td>SEA</td>\n",
       "      <td>HR</td>\n",
       "      <td>Mike Trout homers (1) on a fly ball to center ...</td>\n",
       "      <td>0</td>\n",
       "      <td>0</td>\n",
       "      <td>0</td>\n",
       "      <td>0</td>\n",
       "      <td>0</td>\n",
       "      <td>1</td>\n",
       "      <td>0</td>\n",
       "      <td>0</td>\n",
       "      <td>0.135034</td>\n",
       "      <td>0.046397</td>\n",
       "      <td>0.005115</td>\n",
       "      <td>0.051806</td>\n",
       "      <td>0.410904</td>\n",
       "      <td>0.136197</td>\n",
       "      <td>0.212526</td>\n",
       "      <td>0.001721</td>\n",
       "    </tr>\n",
       "    <tr>\n",
       "      <th>2</th>\n",
       "      <td>2015</td>\n",
       "      <td>413649</td>\n",
       "      <td>3</td>\n",
       "      <td>433587</td>\n",
       "      <td>405395</td>\n",
       "      <td>SEA</td>\n",
       "      <td>K</td>\n",
       "      <td>Albert Pujols strikes out on a foul tip.</td>\n",
       "      <td>0</td>\n",
       "      <td>0</td>\n",
       "      <td>0</td>\n",
       "      <td>0</td>\n",
       "      <td>0</td>\n",
       "      <td>0</td>\n",
       "      <td>1</td>\n",
       "      <td>0</td>\n",
       "      <td>0.144574</td>\n",
       "      <td>0.038189</td>\n",
       "      <td>0.001424</td>\n",
       "      <td>0.043201</td>\n",
       "      <td>0.529675</td>\n",
       "      <td>0.082283</td>\n",
       "      <td>0.158312</td>\n",
       "      <td>0.002044</td>\n",
       "    </tr>\n",
       "    <tr>\n",
       "      <th>3</th>\n",
       "      <td>2015</td>\n",
       "      <td>413649</td>\n",
       "      <td>4</td>\n",
       "      <td>433587</td>\n",
       "      <td>459964</td>\n",
       "      <td>SEA</td>\n",
       "      <td>K</td>\n",
       "      <td>Matt Joyce strikes out swinging.</td>\n",
       "      <td>0</td>\n",
       "      <td>0</td>\n",
       "      <td>0</td>\n",
       "      <td>0</td>\n",
       "      <td>0</td>\n",
       "      <td>0</td>\n",
       "      <td>1</td>\n",
       "      <td>0</td>\n",
       "      <td>0.126612</td>\n",
       "      <td>0.043922</td>\n",
       "      <td>0.002155</td>\n",
       "      <td>0.034662</td>\n",
       "      <td>0.454338</td>\n",
       "      <td>0.123856</td>\n",
       "      <td>0.212069</td>\n",
       "      <td>0.001894</td>\n",
       "    </tr>\n",
       "    <tr>\n",
       "      <th>4</th>\n",
       "      <td>2015</td>\n",
       "      <td>413649</td>\n",
       "      <td>5</td>\n",
       "      <td>450308</td>\n",
       "      <td>457706</td>\n",
       "      <td>SEA</td>\n",
       "      <td>FO</td>\n",
       "      <td>Austin Jackson grounds out, shortstop Erick Ay...</td>\n",
       "      <td>0</td>\n",
       "      <td>0</td>\n",
       "      <td>0</td>\n",
       "      <td>0</td>\n",
       "      <td>1</td>\n",
       "      <td>0</td>\n",
       "      <td>0</td>\n",
       "      <td>0</td>\n",
       "      <td>0.166618</td>\n",
       "      <td>0.051859</td>\n",
       "      <td>0.005137</td>\n",
       "      <td>0.028312</td>\n",
       "      <td>0.473290</td>\n",
       "      <td>0.074641</td>\n",
       "      <td>0.197981</td>\n",
       "      <td>0.001482</td>\n",
       "    </tr>\n",
       "    <tr>\n",
       "      <th>...</th>\n",
       "      <td>...</td>\n",
       "      <td>...</td>\n",
       "      <td>...</td>\n",
       "      <td>...</td>\n",
       "      <td>...</td>\n",
       "      <td>...</td>\n",
       "      <td>...</td>\n",
       "      <td>...</td>\n",
       "      <td>...</td>\n",
       "      <td>...</td>\n",
       "      <td>...</td>\n",
       "      <td>...</td>\n",
       "      <td>...</td>\n",
       "      <td>...</td>\n",
       "      <td>...</td>\n",
       "      <td>...</td>\n",
       "      <td>...</td>\n",
       "      <td>...</td>\n",
       "      <td>...</td>\n",
       "      <td>...</td>\n",
       "      <td>...</td>\n",
       "      <td>...</td>\n",
       "      <td>...</td>\n",
       "      <td>...</td>\n",
       "    </tr>\n",
       "    <tr>\n",
       "      <th>966498</th>\n",
       "      <td>2022</td>\n",
       "      <td>663463</td>\n",
       "      <td>69</td>\n",
       "      <td>608648</td>\n",
       "      <td>596059</td>\n",
       "      <td>BAL</td>\n",
       "      <td>K</td>\n",
       "      <td>Rougned Odor strikes out on a foul tip.</td>\n",
       "      <td>0</td>\n",
       "      <td>0</td>\n",
       "      <td>0</td>\n",
       "      <td>0</td>\n",
       "      <td>0</td>\n",
       "      <td>0</td>\n",
       "      <td>1</td>\n",
       "      <td>0</td>\n",
       "      <td>0.130133</td>\n",
       "      <td>0.044971</td>\n",
       "      <td>0.005260</td>\n",
       "      <td>0.038802</td>\n",
       "      <td>0.466375</td>\n",
       "      <td>0.073882</td>\n",
       "      <td>0.238598</td>\n",
       "      <td>0.001640</td>\n",
       "    </tr>\n",
       "    <tr>\n",
       "      <th>966499</th>\n",
       "      <td>2022</td>\n",
       "      <td>663463</td>\n",
       "      <td>71</td>\n",
       "      <td>669211</td>\n",
       "      <td>621439</td>\n",
       "      <td>BAL</td>\n",
       "      <td>2B</td>\n",
       "      <td>Byron Buxton doubles (5) on a sharp ground bal...</td>\n",
       "      <td>0</td>\n",
       "      <td>1</td>\n",
       "      <td>0</td>\n",
       "      <td>0</td>\n",
       "      <td>0</td>\n",
       "      <td>0</td>\n",
       "      <td>0</td>\n",
       "      <td>0</td>\n",
       "      <td>0.127095</td>\n",
       "      <td>0.051801</td>\n",
       "      <td>0.006550</td>\n",
       "      <td>0.041264</td>\n",
       "      <td>0.426049</td>\n",
       "      <td>0.078346</td>\n",
       "      <td>0.266068</td>\n",
       "      <td>0.002154</td>\n",
       "    </tr>\n",
       "    <tr>\n",
       "      <th>966500</th>\n",
       "      <td>2022</td>\n",
       "      <td>663463</td>\n",
       "      <td>72</td>\n",
       "      <td>669211</td>\n",
       "      <td>621043</td>\n",
       "      <td>BAL</td>\n",
       "      <td>2B</td>\n",
       "      <td>Orioles challenged (catch or drop), call on th...</td>\n",
       "      <td>0</td>\n",
       "      <td>1</td>\n",
       "      <td>0</td>\n",
       "      <td>0</td>\n",
       "      <td>0</td>\n",
       "      <td>0</td>\n",
       "      <td>0</td>\n",
       "      <td>0</td>\n",
       "      <td>0.150775</td>\n",
       "      <td>0.049263</td>\n",
       "      <td>0.002211</td>\n",
       "      <td>0.038070</td>\n",
       "      <td>0.444514</td>\n",
       "      <td>0.099473</td>\n",
       "      <td>0.211865</td>\n",
       "      <td>0.003302</td>\n",
       "    </tr>\n",
       "    <tr>\n",
       "      <th>966501</th>\n",
       "      <td>2022</td>\n",
       "      <td>663463</td>\n",
       "      <td>73</td>\n",
       "      <td>643316</td>\n",
       "      <td>593871</td>\n",
       "      <td>BAL</td>\n",
       "      <td>FO</td>\n",
       "      <td>Jorge Polanco out on a sacrifice fly to center...</td>\n",
       "      <td>0</td>\n",
       "      <td>0</td>\n",
       "      <td>0</td>\n",
       "      <td>0</td>\n",
       "      <td>1</td>\n",
       "      <td>0</td>\n",
       "      <td>0</td>\n",
       "      <td>0</td>\n",
       "      <td>0.151935</td>\n",
       "      <td>0.042310</td>\n",
       "      <td>0.004586</td>\n",
       "      <td>0.026146</td>\n",
       "      <td>0.459981</td>\n",
       "      <td>0.109611</td>\n",
       "      <td>0.201986</td>\n",
       "      <td>0.002742</td>\n",
       "    </tr>\n",
       "    <tr>\n",
       "      <th>966502</th>\n",
       "      <td>2022</td>\n",
       "      <td>663463</td>\n",
       "      <td>74</td>\n",
       "      <td>643316</td>\n",
       "      <td>570482</td>\n",
       "      <td>BAL</td>\n",
       "      <td>K</td>\n",
       "      <td>Gio Urshela called out on strikes.</td>\n",
       "      <td>0</td>\n",
       "      <td>0</td>\n",
       "      <td>0</td>\n",
       "      <td>0</td>\n",
       "      <td>0</td>\n",
       "      <td>0</td>\n",
       "      <td>1</td>\n",
       "      <td>0</td>\n",
       "      <td>0.163009</td>\n",
       "      <td>0.041649</td>\n",
       "      <td>0.002466</td>\n",
       "      <td>0.025158</td>\n",
       "      <td>0.459760</td>\n",
       "      <td>0.092489</td>\n",
       "      <td>0.212712</td>\n",
       "      <td>0.001917</td>\n",
       "    </tr>\n",
       "  </tbody>\n",
       "</table>\n",
       "<p>966503 rows × 24 columns</p>\n",
       "</div>"
      ],
      "text/plain": [
       "        game_year  game_pk  at_bat_number  pitcher  batter home_team  \\\n",
       "0            2015   413649              1   433587  594777       SEA   \n",
       "1            2015   413649              2   433587  545361       SEA   \n",
       "2            2015   413649              3   433587  405395       SEA   \n",
       "3            2015   413649              4   433587  459964       SEA   \n",
       "4            2015   413649              5   450308  457706       SEA   \n",
       "...           ...      ...            ...      ...     ...       ...   \n",
       "966498       2022   663463             69   608648  596059       BAL   \n",
       "966499       2022   663463             71   669211  621439       BAL   \n",
       "966500       2022   663463             72   669211  621043       BAL   \n",
       "966501       2022   663463             73   643316  593871       BAL   \n",
       "966502       2022   663463             74   643316  570482       BAL   \n",
       "\n",
       "       event_type                                                des  1B  2B  \\\n",
       "0               K                Kole Calhoun called out on strikes.   0   0   \n",
       "1              HR  Mike Trout homers (1) on a fly ball to center ...   0   0   \n",
       "2               K           Albert Pujols strikes out on a foul tip.   0   0   \n",
       "3               K                   Matt Joyce strikes out swinging.   0   0   \n",
       "4              FO  Austin Jackson grounds out, shortstop Erick Ay...   0   0   \n",
       "...           ...                                                ...  ..  ..   \n",
       "966498          K            Rougned Odor strikes out on a foul tip.   0   0   \n",
       "966499         2B  Byron Buxton doubles (5) on a sharp ground bal...   0   1   \n",
       "966500         2B  Orioles challenged (catch or drop), call on th...   0   1   \n",
       "966501         FO  Jorge Polanco out on a sacrifice fly to center...   0   0   \n",
       "966502          K                 Gio Urshela called out on strikes.   0   0   \n",
       "\n",
       "        3B  BB  FO  HR  K  other  1B_proba  2B_proba  3B_proba  HR_proba  \\\n",
       "0        0   0   0   0  1      0  0.135221  0.042009  0.003345  0.036406   \n",
       "1        0   0   0   1  0      0  0.135034  0.046397  0.005115  0.051806   \n",
       "2        0   0   0   0  1      0  0.144574  0.038189  0.001424  0.043201   \n",
       "3        0   0   0   0  1      0  0.126612  0.043922  0.002155  0.034662   \n",
       "4        0   0   1   0  0      0  0.166618  0.051859  0.005137  0.028312   \n",
       "...     ..  ..  ..  .. ..    ...       ...       ...       ...       ...   \n",
       "966498   0   0   0   0  1      0  0.130133  0.044971  0.005260  0.038802   \n",
       "966499   0   0   0   0  0      0  0.127095  0.051801  0.006550  0.041264   \n",
       "966500   0   0   0   0  0      0  0.150775  0.049263  0.002211  0.038070   \n",
       "966501   0   0   1   0  0      0  0.151935  0.042310  0.004586  0.026146   \n",
       "966502   0   0   0   0  1      0  0.163009  0.041649  0.002466  0.025158   \n",
       "\n",
       "        FO_proba  BB_proba   K_proba  other_proba  \n",
       "0       0.461338  0.098755  0.219438     0.003202  \n",
       "1       0.410904  0.136197  0.212526     0.001721  \n",
       "2       0.529675  0.082283  0.158312     0.002044  \n",
       "3       0.454338  0.123856  0.212069     0.001894  \n",
       "4       0.473290  0.074641  0.197981     0.001482  \n",
       "...          ...       ...       ...          ...  \n",
       "966498  0.466375  0.073882  0.238598     0.001640  \n",
       "966499  0.426049  0.078346  0.266068     0.002154  \n",
       "966500  0.444514  0.099473  0.211865     0.003302  \n",
       "966501  0.459981  0.109611  0.201986     0.002742  \n",
       "966502  0.459760  0.092489  0.212712     0.001917  \n",
       "\n",
       "[966503 rows x 24 columns]"
      ]
     },
     "execution_count": 98,
     "metadata": {},
     "output_type": "execute_result"
    }
   ],
   "source": [
    "all_matchUp_df"
   ]
  },
  {
   "cell_type": "code",
   "execution_count": 99,
   "id": "296dad7f",
   "metadata": {},
   "outputs": [
    {
     "data": {
      "text/plain": [
       "['1B', '2B', '3B', 'HR', 'FO', 'BB', 'K', 'other']"
      ]
     },
     "execution_count": 99,
     "metadata": {},
     "output_type": "execute_result"
    }
   ],
   "source": [
    "event_list"
   ]
  },
  {
   "cell_type": "code",
   "execution_count": 105,
   "id": "fdb0fa50",
   "metadata": {},
   "outputs": [
    {
     "data": {
      "text/html": [
       "<div>\n",
       "<style scoped>\n",
       "    .dataframe tbody tr th:only-of-type {\n",
       "        vertical-align: middle;\n",
       "    }\n",
       "\n",
       "    .dataframe tbody tr th {\n",
       "        vertical-align: top;\n",
       "    }\n",
       "\n",
       "    .dataframe thead th {\n",
       "        text-align: right;\n",
       "    }\n",
       "</style>\n",
       "<table border=\"1\" class=\"dataframe\">\n",
       "  <thead>\n",
       "    <tr style=\"text-align: right;\">\n",
       "      <th></th>\n",
       "      <th>game_year</th>\n",
       "      <th>game_pk</th>\n",
       "      <th>at_bat_number</th>\n",
       "      <th>pitcher</th>\n",
       "      <th>batter</th>\n",
       "      <th>event_type</th>\n",
       "    </tr>\n",
       "  </thead>\n",
       "  <tbody>\n",
       "    <tr>\n",
       "      <th>0</th>\n",
       "      <td>2015</td>\n",
       "      <td>413649</td>\n",
       "      <td>1</td>\n",
       "      <td>433587</td>\n",
       "      <td>594777</td>\n",
       "      <td>K</td>\n",
       "    </tr>\n",
       "    <tr>\n",
       "      <th>1</th>\n",
       "      <td>2015</td>\n",
       "      <td>413649</td>\n",
       "      <td>2</td>\n",
       "      <td>433587</td>\n",
       "      <td>545361</td>\n",
       "      <td>HR</td>\n",
       "    </tr>\n",
       "    <tr>\n",
       "      <th>2</th>\n",
       "      <td>2015</td>\n",
       "      <td>413649</td>\n",
       "      <td>3</td>\n",
       "      <td>433587</td>\n",
       "      <td>405395</td>\n",
       "      <td>K</td>\n",
       "    </tr>\n",
       "    <tr>\n",
       "      <th>3</th>\n",
       "      <td>2015</td>\n",
       "      <td>413649</td>\n",
       "      <td>4</td>\n",
       "      <td>433587</td>\n",
       "      <td>459964</td>\n",
       "      <td>K</td>\n",
       "    </tr>\n",
       "    <tr>\n",
       "      <th>4</th>\n",
       "      <td>2015</td>\n",
       "      <td>413649</td>\n",
       "      <td>5</td>\n",
       "      <td>450308</td>\n",
       "      <td>457706</td>\n",
       "      <td>FO</td>\n",
       "    </tr>\n",
       "  </tbody>\n",
       "</table>\n",
       "</div>"
      ],
      "text/plain": [
       "   game_year  game_pk  at_bat_number  pitcher  batter event_type\n",
       "0       2015   413649              1   433587  594777          K\n",
       "1       2015   413649              2   433587  545361         HR\n",
       "2       2015   413649              3   433587  405395          K\n",
       "3       2015   413649              4   433587  459964          K\n",
       "4       2015   413649              5   450308  457706         FO"
      ]
     },
     "execution_count": 105,
     "metadata": {},
     "output_type": "execute_result"
    }
   ],
   "source": [
    "pa_clean_df = reg_clean_df.groupby(['game_year', 'game_pk', 'at_bat_number', 'pitcher', 'batter']).\\\n",
    "    agg({'event_type':'first'}).reset_index()\n",
    "pa_clean_df.head()"
   ]
  },
  {
   "cell_type": "code",
   "execution_count": 116,
   "id": "0c473664",
   "metadata": {},
   "outputs": [
    {
     "data": {
      "text/html": [
       "<div>\n",
       "<style scoped>\n",
       "    .dataframe tbody tr th:only-of-type {\n",
       "        vertical-align: middle;\n",
       "    }\n",
       "\n",
       "    .dataframe tbody tr th {\n",
       "        vertical-align: top;\n",
       "    }\n",
       "\n",
       "    .dataframe thead th {\n",
       "        text-align: right;\n",
       "    }\n",
       "</style>\n",
       "<table border=\"1\" class=\"dataframe\">\n",
       "  <thead>\n",
       "    <tr style=\"text-align: right;\">\n",
       "      <th></th>\n",
       "      <th>events</th>\n",
       "      <th>proba</th>\n",
       "    </tr>\n",
       "  </thead>\n",
       "  <tbody>\n",
       "    <tr>\n",
       "      <th>0</th>\n",
       "      <td>FO</td>\n",
       "      <td>0.461647</td>\n",
       "    </tr>\n",
       "    <tr>\n",
       "      <th>1</th>\n",
       "      <td>K</td>\n",
       "      <td>0.220688</td>\n",
       "    </tr>\n",
       "    <tr>\n",
       "      <th>2</th>\n",
       "      <td>1B</td>\n",
       "      <td>0.143677</td>\n",
       "    </tr>\n",
       "    <tr>\n",
       "      <th>3</th>\n",
       "      <td>BB</td>\n",
       "      <td>0.091535</td>\n",
       "    </tr>\n",
       "    <tr>\n",
       "      <th>4</th>\n",
       "      <td>2B</td>\n",
       "      <td>0.044507</td>\n",
       "    </tr>\n",
       "    <tr>\n",
       "      <th>5</th>\n",
       "      <td>HR</td>\n",
       "      <td>0.031326</td>\n",
       "    </tr>\n",
       "    <tr>\n",
       "      <th>6</th>\n",
       "      <td>3B</td>\n",
       "      <td>0.004277</td>\n",
       "    </tr>\n",
       "    <tr>\n",
       "      <th>7</th>\n",
       "      <td>other</td>\n",
       "      <td>0.002342</td>\n",
       "    </tr>\n",
       "  </tbody>\n",
       "</table>\n",
       "</div>"
      ],
      "text/plain": [
       "  events     proba\n",
       "0     FO  0.461647\n",
       "1      K  0.220688\n",
       "2     1B  0.143677\n",
       "3     BB  0.091535\n",
       "4     2B  0.044507\n",
       "5     HR  0.031326\n",
       "6     3B  0.004277\n",
       "7  other  0.002342"
      ]
     },
     "execution_count": 116,
     "metadata": {},
     "output_type": "execute_result"
    }
   ],
   "source": [
    "P_league_avg_df = pa_clean_df['event_type'].value_counts(normalize=True).rename_axis('events').reset_index(name='proba')\n",
    "P_league_avg_df"
   ]
  },
  {
   "cell_type": "code",
   "execution_count": 127,
   "id": "3606233d",
   "metadata": {},
   "outputs": [],
   "source": [
    "P_league_avg_arr = np.array([])\n",
    "for e in event_list:\n",
    "    P_league_avg_arr = np.append(P_league_avg_arr, P_league_avg_df[P_league_avg_df['events']==e]['proba'])"
   ]
  },
  {
   "cell_type": "code",
   "execution_count": 130,
   "id": "ea2fe377",
   "metadata": {},
   "outputs": [
    {
     "data": {
      "text/plain": [
       "array([0.14367662, 0.04450721, 0.00427696, 0.03132645, 0.46164692,\n",
       "       0.09153526, 0.22068839, 0.00234221])"
      ]
     },
     "execution_count": 130,
     "metadata": {},
     "output_type": "execute_result"
    }
   ],
   "source": [
    "P_league_avg_arr"
   ]
  },
  {
   "cell_type": "code",
   "execution_count": 300,
   "id": "846ebc31",
   "metadata": {},
   "outputs": [
    {
     "name": "stdout",
     "output_type": "stream",
     "text": [
      "Stored 'P_league_avg_arr' (ndarray)\n"
     ]
    }
   ],
   "source": [
    "%store P_league_avg_arr"
   ]
  },
  {
   "cell_type": "markdown",
   "id": "a24ee87b",
   "metadata": {},
   "source": [
    "## Test accuracy using league average"
   ]
  },
  {
   "cell_type": "code",
   "execution_count": 143,
   "id": "fa3f6bd3",
   "metadata": {},
   "outputs": [
    {
     "data": {
      "text/plain": [
       "966503"
      ]
     },
     "execution_count": 143,
     "metadata": {},
     "output_type": "execute_result"
    }
   ],
   "source": [
    "len(event_dummies.values)"
   ]
  },
  {
   "cell_type": "code",
   "execution_count": 144,
   "id": "eeb2fbf7",
   "metadata": {},
   "outputs": [],
   "source": [
    "P_predicted_league = np.tile(P_league_avg_arr, [966503, 1])"
   ]
  },
  {
   "cell_type": "code",
   "execution_count": 145,
   "id": "16fd70b1",
   "metadata": {},
   "outputs": [
    {
     "data": {
      "text/plain": [
       "0.7125206482413707"
      ]
     },
     "execution_count": 145,
     "metadata": {},
     "output_type": "execute_result"
    }
   ],
   "source": [
    "get_brier_score(event_dummies.values, P_predicted_league)"
   ]
  },
  {
   "cell_type": "markdown",
   "id": "80c0554e",
   "metadata": {},
   "source": [
    "## Test accuracy using random proba"
   ]
  },
  {
   "cell_type": "code",
   "execution_count": 178,
   "id": "d0260070",
   "metadata": {
    "scrolled": true
   },
   "outputs": [
    {
     "data": {
      "text/plain": [
       "0.9723493766792779"
      ]
     },
     "execution_count": 178,
     "metadata": {},
     "output_type": "execute_result"
    }
   ],
   "source": [
    "P_rand = np.random.dirichlet(np.ones(8), size=966503)\n",
    "get_brier_score(event_dummies.values, P_rand)"
   ]
  },
  {
   "cell_type": "markdown",
   "id": "da6d68da",
   "metadata": {},
   "source": [
    "# Test with 0 or 1 p_weight"
   ]
  },
  {
   "cell_type": "code",
   "execution_count": 424,
   "id": "c86239d0",
   "metadata": {},
   "outputs": [],
   "source": [
    "T_batters_dict = joblib.load('T_batters_dict')\n",
    "T_pitchers_dict = joblib.load('T_pitchers_dict')"
   ]
  },
  {
   "cell_type": "code",
   "execution_count": 425,
   "id": "81587bb0",
   "metadata": {},
   "outputs": [],
   "source": [
    "batter_id_list = all_matchUp_df['batter'].to_list()\n",
    "pitchers_id_list = all_matchUp_df['pitcher'].to_list()"
   ]
  },
  {
   "cell_type": "code",
   "execution_count": 450,
   "id": "06c92107",
   "metadata": {},
   "outputs": [
    {
     "data": {
      "application/vnd.jupyter.widget-view+json": {
       "model_id": "b78a5cf0034746efae0fd2493d6683f1",
       "version_major": 2,
       "version_minor": 0
      },
      "text/plain": [
       "  0%|          | 0/210604 [00:00<?, ?it/s]"
      ]
     },
     "metadata": {},
     "output_type": "display_data"
    }
   ],
   "source": [
    "P_matchUp_dict_0 = {}\n",
    "for pair in tqdm(matchUp_pairs_list):\n",
    "    \n",
    "    P_steady_matchUp_arr = sim_steady_state_matchUp(pair[0], pair[1], p_weight=0, _return_df=False)\n",
    "    \n",
    "    P_matchUp_dict_0[pair] = P_steady_matchUp_arr"
   ]
  },
  {
   "cell_type": "code",
   "execution_count": 455,
   "id": "b5079ae8",
   "metadata": {},
   "outputs": [
    {
     "data": {
      "application/vnd.jupyter.widget-view+json": {
       "model_id": "1b78ea7e21d148ee88a095bc032760e8",
       "version_major": 2,
       "version_minor": 0
      },
      "text/plain": [
       "  0%|          | 0/210604 [00:00<?, ?it/s]"
      ]
     },
     "metadata": {},
     "output_type": "display_data"
    }
   ],
   "source": [
    "P_matchUp_dict_1 = {}\n",
    "for pair in tqdm(matchUp_pairs_list):\n",
    "    \n",
    "    P_steady_matchUp_arr = sim_steady_state_matchUp(pair[0], pair[1], p_weight=0.5, _return_df=False)\n",
    "    \n",
    "    P_matchUp_dict_1[pair] = P_steady_matchUp_arr"
   ]
  },
  {
   "cell_type": "code",
   "execution_count": 456,
   "id": "71c1c7f7",
   "metadata": {},
   "outputs": [],
   "source": [
    "P_predicted_pitcher = np.array([P_matchUp_dict_1[pair] for pair in all_matchUp_pairs_list])\n",
    "P_predicted_batter = np.array([P_matchUp_dict_0[pair] for pair in all_matchUp_pairs_list])"
   ]
  },
  {
   "cell_type": "code",
   "execution_count": 457,
   "id": "4a8651f9",
   "metadata": {},
   "outputs": [
    {
     "data": {
      "text/plain": [
       "0.7046486467856168"
      ]
     },
     "execution_count": 457,
     "metadata": {},
     "output_type": "execute_result"
    }
   ],
   "source": [
    "get_brier_score(event_dummies.values, P_predicted_pitcher)"
   ]
  },
  {
   "cell_type": "code",
   "execution_count": 454,
   "id": "31097583",
   "metadata": {},
   "outputs": [
    {
     "data": {
      "text/plain": [
       "0.706241931035905"
      ]
     },
     "execution_count": 454,
     "metadata": {},
     "output_type": "execute_result"
    }
   ],
   "source": [
    "get_brier_score(event_dummies.values, P_predicted_batter)"
   ]
  },
  {
   "cell_type": "markdown",
   "id": "320f532e",
   "metadata": {},
   "source": [
    "# Test Year Weight"
   ]
  },
  {
   "cell_type": "markdown",
   "id": "a7f6b80b",
   "metadata": {},
   "source": [
    "### No Weight"
   ]
  },
  {
   "cell_type": "code",
   "execution_count": null,
   "id": "babbbab9",
   "metadata": {},
   "outputs": [],
   "source": []
  },
  {
   "cell_type": "code",
   "execution_count": null,
   "id": "309dc8c9",
   "metadata": {},
   "outputs": [],
   "source": []
  },
  {
   "cell_type": "code",
   "execution_count": null,
   "id": "817968d5",
   "metadata": {},
   "outputs": [],
   "source": []
  },
  {
   "cell_type": "code",
   "execution_count": null,
   "id": "ceac6ef8",
   "metadata": {},
   "outputs": [],
   "source": []
  },
  {
   "cell_type": "code",
   "execution_count": null,
   "id": "49cdafdd",
   "metadata": {},
   "outputs": [],
   "source": []
  },
  {
   "cell_type": "code",
   "execution_count": 404,
   "id": "1aa934b0",
   "metadata": {},
   "outputs": [
    {
     "data": {
      "application/vnd.jupyter.widget-view+json": {
       "model_id": "19c047af5b6947ccbacb9b59dde4c88a",
       "version_major": 2,
       "version_minor": 0
      },
      "text/plain": [
       "  0%|          | 0/100551 [00:00<?, ?it/s]"
      ]
     },
     "metadata": {},
     "output_type": "display_data"
    },
    {
     "data": {
      "text/plain": [
       "0.6925581590170714"
      ]
     },
     "execution_count": 404,
     "metadata": {},
     "output_type": "execute_result"
    }
   ],
   "source": [
    "# load new T dicts\n",
    "T_batters_dict = joblib.load('T_batters_dict_21_15')\n",
    "T_pitchers_dict = joblib.load('T_pitchers_dict_21_15')\n",
    "\n",
    "all_matchUp_22_df = all_matchUp_df[all_matchUp_df['game_year']==2022].copy()\n",
    "\n",
    "all_matchUp_22_df.shape\n",
    "\n",
    "all_matchUp_22_df.drop(index=all_matchUp_22_df[all_matchUp_22_df['batter'].isin([665161, 677594, 677951, 680757])].index, inplace=True)\n",
    "\n",
    "all_matchUp_22_df.shape\n",
    "\n",
    "matchUp_pairs_22_list = [(x, y) for x, y in zip(all_matchUp_22_df['pitcher'].to_list(), all_matchUp_22_df['batter'].to_list())]\n",
    "\n",
    "P_matchUp_22_dict = {}\n",
    "for pair in tqdm(matchUp_pairs_22_list):\n",
    "    \n",
    "    P_steady_matchUp_arr = sim_steady_state_matchUp(pair[0], pair[1], p_weight=0.4, _return_df=False)\n",
    "    \n",
    "    P_matchUp_22_dict[pair] = P_steady_matchUp_arr\n",
    "\n",
    "P_predicted_22 = np.array([P_matchUp_22_dict[pair] for pair in matchUp_pairs_22_list])\n",
    "\n",
    "event_dummies_22 = pd.get_dummies(all_matchUp_22_df[event_list])\n",
    "\n",
    "get_brier_score(event_dummies_22.values, P_predicted_22)"
   ]
  },
  {
   "cell_type": "markdown",
   "id": "d8543261",
   "metadata": {},
   "source": [
    "### With Weight"
   ]
  },
  {
   "cell_type": "code",
   "execution_count": 323,
   "id": "64498190",
   "metadata": {},
   "outputs": [],
   "source": [
    "# load new T dicts\n",
    "T_batters_dict = joblib.load('T_batters_dict_chris')\n",
    "T_pitchers_dict = joblib.load('T_pitchers_dict_chris')"
   ]
  },
  {
   "cell_type": "code",
   "execution_count": 389,
   "id": "9ad9644f",
   "metadata": {},
   "outputs": [],
   "source": [
    "all_matchUp_22_df = all_matchUp_df[all_matchUp_df['game_year']==2022].copy()"
   ]
  },
  {
   "cell_type": "code",
   "execution_count": 390,
   "id": "f8f758f5",
   "metadata": {},
   "outputs": [
    {
     "data": {
      "text/plain": [
       "(102148, 24)"
      ]
     },
     "execution_count": 390,
     "metadata": {},
     "output_type": "execute_result"
    }
   ],
   "source": [
    "all_matchUp_22_df.shape"
   ]
  },
  {
   "cell_type": "code",
   "execution_count": 391,
   "id": "16168e86",
   "metadata": {},
   "outputs": [],
   "source": [
    "all_matchUp_22_df.drop(index=all_matchUp_22_df[all_matchUp_22_df['batter'].isin([665161, 677594, 677951, 680757])].index, inplace=True)"
   ]
  },
  {
   "cell_type": "code",
   "execution_count": 392,
   "id": "ceada5a6",
   "metadata": {},
   "outputs": [
    {
     "data": {
      "text/plain": [
       "(100551, 24)"
      ]
     },
     "execution_count": 392,
     "metadata": {},
     "output_type": "execute_result"
    }
   ],
   "source": [
    "all_matchUp_22_df.shape"
   ]
  },
  {
   "cell_type": "code",
   "execution_count": 397,
   "id": "cce0f628",
   "metadata": {},
   "outputs": [],
   "source": [
    "matchUp_pairs_22_list = [(x, y) for x, y in zip(all_matchUp_22_df['pitcher'].to_list(), all_matchUp_22_df['batter'].to_list())]"
   ]
  },
  {
   "cell_type": "code",
   "execution_count": 398,
   "id": "8deaeb30",
   "metadata": {},
   "outputs": [
    {
     "data": {
      "application/vnd.jupyter.widget-view+json": {
       "model_id": "97f15c6e7e014933add56d2d806be347",
       "version_major": 2,
       "version_minor": 0
      },
      "text/plain": [
       "  0%|          | 0/100551 [00:00<?, ?it/s]"
      ]
     },
     "metadata": {},
     "output_type": "display_data"
    }
   ],
   "source": [
    "P_matchUp_22_dict = {}\n",
    "for pair in tqdm(matchUp_pairs_22_list):\n",
    "    \n",
    "    P_steady_matchUp_arr = sim_steady_state_matchUp(pair[0], pair[1], p_weight=0.4, _return_df=False)\n",
    "    \n",
    "    P_matchUp_22_dict[pair] = P_steady_matchUp_arr"
   ]
  },
  {
   "cell_type": "code",
   "execution_count": 399,
   "id": "0064e0cf",
   "metadata": {},
   "outputs": [],
   "source": [
    "P_predicted_22 = np.array([P_matchUp_22_dict[pair] for pair in matchUp_pairs_22_list])"
   ]
  },
  {
   "cell_type": "code",
   "execution_count": 402,
   "id": "0832d5b0",
   "metadata": {},
   "outputs": [],
   "source": [
    "event_dummies_22 = pd.get_dummies(all_matchUp_22_df[event_list])"
   ]
  },
  {
   "cell_type": "code",
   "execution_count": 403,
   "id": "a039b45b",
   "metadata": {},
   "outputs": [
    {
     "data": {
      "text/plain": [
       "0.6929780397106874"
      ]
     },
     "execution_count": 403,
     "metadata": {},
     "output_type": "execute_result"
    }
   ],
   "source": [
    "get_brier_score(event_dummies_22.values, P_predicted_22)"
   ]
  },
  {
   "cell_type": "code",
   "execution_count": 406,
   "id": "1c39f338",
   "metadata": {},
   "outputs": [
    {
     "ename": "KeyError",
     "evalue": "(592450, 489119)",
     "output_type": "error",
     "traceback": [
      "\u001b[0;31m---------------------------------------------------------------------------\u001b[0m",
      "\u001b[0;31mKeyError\u001b[0m                                  Traceback (most recent call last)",
      "\u001b[0;32m/var/folders/x_/1k47n6n512j4cw0810rgvky40000gn/T/ipykernel_50414/872881842.py\u001b[0m in \u001b[0;36m<cell line: 1>\u001b[0;34m()\u001b[0m\n\u001b[0;32m----> 1\u001b[0;31m \u001b[0mP_matchUp_dict\u001b[0m\u001b[0;34m[\u001b[0m\u001b[0;34m(\u001b[0m\u001b[0;36m592450\u001b[0m\u001b[0;34m,\u001b[0m \u001b[0;36m489119\u001b[0m\u001b[0;34m)\u001b[0m\u001b[0;34m]\u001b[0m\u001b[0;34m\u001b[0m\u001b[0;34m\u001b[0m\u001b[0m\n\u001b[0m",
      "\u001b[0;31mKeyError\u001b[0m: (592450, 489119)"
     ]
    }
   ],
   "source": [
    "P_matchUp_dict[(592450, 489119)]"
   ]
  },
  {
   "cell_type": "code",
   "execution_count": null,
   "id": "d84738d6",
   "metadata": {},
   "outputs": [],
   "source": []
  }
 ],
 "metadata": {
  "colab": {
   "collapsed_sections": [
    "024af86c",
    "cf5d343b",
    "2f10fefa",
    "292bc213",
    "dda56fc7",
    "18b40d59"
   ],
   "provenance": []
  },
  "gpuClass": "standard",
  "kernelspec": {
   "display_name": "Python [conda env:pitch_seq]",
   "language": "python",
   "name": "conda-env-pitch_seq-py"
  },
  "language_info": {
   "codemirror_mode": {
    "name": "ipython",
    "version": 3
   },
   "file_extension": ".py",
   "mimetype": "text/x-python",
   "name": "python",
   "nbconvert_exporter": "python",
   "pygments_lexer": "ipython3",
   "version": "3.9.13"
  },
  "widgets": {
   "application/vnd.jupyter.widget-state+json": {
    "0a9315fc41214c988eca447bc907fe1e": {
     "model_module": "@jupyter-widgets/controls",
     "model_module_version": "1.5.0",
     "model_name": "HTMLModel",
     "state": {
      "_dom_classes": [],
      "_model_module": "@jupyter-widgets/controls",
      "_model_module_version": "1.5.0",
      "_model_name": "HTMLModel",
      "_view_count": null,
      "_view_module": "@jupyter-widgets/controls",
      "_view_module_version": "1.5.0",
      "_view_name": "HTMLView",
      "description": "",
      "description_tooltip": null,
      "layout": "IPY_MODEL_bc694aa7dca640f7b3cfdc13f2401b01",
      "placeholder": "​",
      "style": "IPY_MODEL_a46212d3eb1f479a81e23a8e6f3e562e",
      "value": "100%"
     }
    },
    "2006e5cf2a164356bac5a56c054f7ece": {
     "model_module": "@jupyter-widgets/controls",
     "model_module_version": "1.5.0",
     "model_name": "ProgressStyleModel",
     "state": {
      "_model_module": "@jupyter-widgets/controls",
      "_model_module_version": "1.5.0",
      "_model_name": "ProgressStyleModel",
      "_view_count": null,
      "_view_module": "@jupyter-widgets/base",
      "_view_module_version": "1.2.0",
      "_view_name": "StyleView",
      "bar_color": null,
      "description_width": ""
     }
    },
    "4a354eba2b014af0b2991360adeddc0e": {
     "model_module": "@jupyter-widgets/controls",
     "model_module_version": "1.5.0",
     "model_name": "HTMLModel",
     "state": {
      "_dom_classes": [],
      "_model_module": "@jupyter-widgets/controls",
      "_model_module_version": "1.5.0",
      "_model_name": "HTMLModel",
      "_view_count": null,
      "_view_module": "@jupyter-widgets/controls",
      "_view_module_version": "1.5.0",
      "_view_name": "HTMLView",
      "description": "",
      "description_tooltip": null,
      "layout": "IPY_MODEL_87cc636986df4e38b908d2d81bdd2949",
      "placeholder": "​",
      "style": "IPY_MODEL_842e0ccb2111459d9551ecd2a5cace24",
      "value": " 142307/142307 [00:57&lt;00:00, 2765.26it/s]"
     }
    },
    "79ea100ccdc04d6a92859031bac9129c": {
     "model_module": "@jupyter-widgets/base",
     "model_module_version": "1.2.0",
     "model_name": "LayoutModel",
     "state": {
      "_model_module": "@jupyter-widgets/base",
      "_model_module_version": "1.2.0",
      "_model_name": "LayoutModel",
      "_view_count": null,
      "_view_module": "@jupyter-widgets/base",
      "_view_module_version": "1.2.0",
      "_view_name": "LayoutView",
      "align_content": null,
      "align_items": null,
      "align_self": null,
      "border": null,
      "bottom": null,
      "display": null,
      "flex": null,
      "flex_flow": null,
      "grid_area": null,
      "grid_auto_columns": null,
      "grid_auto_flow": null,
      "grid_auto_rows": null,
      "grid_column": null,
      "grid_gap": null,
      "grid_row": null,
      "grid_template_areas": null,
      "grid_template_columns": null,
      "grid_template_rows": null,
      "height": null,
      "justify_content": null,
      "justify_items": null,
      "left": null,
      "margin": null,
      "max_height": null,
      "max_width": null,
      "min_height": null,
      "min_width": null,
      "object_fit": null,
      "object_position": null,
      "order": null,
      "overflow": null,
      "overflow_x": null,
      "overflow_y": null,
      "padding": null,
      "right": null,
      "top": null,
      "visibility": null,
      "width": null
     }
    },
    "842e0ccb2111459d9551ecd2a5cace24": {
     "model_module": "@jupyter-widgets/controls",
     "model_module_version": "1.5.0",
     "model_name": "DescriptionStyleModel",
     "state": {
      "_model_module": "@jupyter-widgets/controls",
      "_model_module_version": "1.5.0",
      "_model_name": "DescriptionStyleModel",
      "_view_count": null,
      "_view_module": "@jupyter-widgets/base",
      "_view_module_version": "1.2.0",
      "_view_name": "StyleView",
      "description_width": ""
     }
    },
    "87cc636986df4e38b908d2d81bdd2949": {
     "model_module": "@jupyter-widgets/base",
     "model_module_version": "1.2.0",
     "model_name": "LayoutModel",
     "state": {
      "_model_module": "@jupyter-widgets/base",
      "_model_module_version": "1.2.0",
      "_model_name": "LayoutModel",
      "_view_count": null,
      "_view_module": "@jupyter-widgets/base",
      "_view_module_version": "1.2.0",
      "_view_name": "LayoutView",
      "align_content": null,
      "align_items": null,
      "align_self": null,
      "border": null,
      "bottom": null,
      "display": null,
      "flex": null,
      "flex_flow": null,
      "grid_area": null,
      "grid_auto_columns": null,
      "grid_auto_flow": null,
      "grid_auto_rows": null,
      "grid_column": null,
      "grid_gap": null,
      "grid_row": null,
      "grid_template_areas": null,
      "grid_template_columns": null,
      "grid_template_rows": null,
      "height": null,
      "justify_content": null,
      "justify_items": null,
      "left": null,
      "margin": null,
      "max_height": null,
      "max_width": null,
      "min_height": null,
      "min_width": null,
      "object_fit": null,
      "object_position": null,
      "order": null,
      "overflow": null,
      "overflow_x": null,
      "overflow_y": null,
      "padding": null,
      "right": null,
      "top": null,
      "visibility": null,
      "width": null
     }
    },
    "8a80408fafed42acbad33aaddabdf0ce": {
     "model_module": "@jupyter-widgets/base",
     "model_module_version": "1.2.0",
     "model_name": "LayoutModel",
     "state": {
      "_model_module": "@jupyter-widgets/base",
      "_model_module_version": "1.2.0",
      "_model_name": "LayoutModel",
      "_view_count": null,
      "_view_module": "@jupyter-widgets/base",
      "_view_module_version": "1.2.0",
      "_view_name": "LayoutView",
      "align_content": null,
      "align_items": null,
      "align_self": null,
      "border": null,
      "bottom": null,
      "display": null,
      "flex": null,
      "flex_flow": null,
      "grid_area": null,
      "grid_auto_columns": null,
      "grid_auto_flow": null,
      "grid_auto_rows": null,
      "grid_column": null,
      "grid_gap": null,
      "grid_row": null,
      "grid_template_areas": null,
      "grid_template_columns": null,
      "grid_template_rows": null,
      "height": null,
      "justify_content": null,
      "justify_items": null,
      "left": null,
      "margin": null,
      "max_height": null,
      "max_width": null,
      "min_height": null,
      "min_width": null,
      "object_fit": null,
      "object_position": null,
      "order": null,
      "overflow": null,
      "overflow_x": null,
      "overflow_y": null,
      "padding": null,
      "right": null,
      "top": null,
      "visibility": null,
      "width": null
     }
    },
    "a46212d3eb1f479a81e23a8e6f3e562e": {
     "model_module": "@jupyter-widgets/controls",
     "model_module_version": "1.5.0",
     "model_name": "DescriptionStyleModel",
     "state": {
      "_model_module": "@jupyter-widgets/controls",
      "_model_module_version": "1.5.0",
      "_model_name": "DescriptionStyleModel",
      "_view_count": null,
      "_view_module": "@jupyter-widgets/base",
      "_view_module_version": "1.2.0",
      "_view_name": "StyleView",
      "description_width": ""
     }
    },
    "bc694aa7dca640f7b3cfdc13f2401b01": {
     "model_module": "@jupyter-widgets/base",
     "model_module_version": "1.2.0",
     "model_name": "LayoutModel",
     "state": {
      "_model_module": "@jupyter-widgets/base",
      "_model_module_version": "1.2.0",
      "_model_name": "LayoutModel",
      "_view_count": null,
      "_view_module": "@jupyter-widgets/base",
      "_view_module_version": "1.2.0",
      "_view_name": "LayoutView",
      "align_content": null,
      "align_items": null,
      "align_self": null,
      "border": null,
      "bottom": null,
      "display": null,
      "flex": null,
      "flex_flow": null,
      "grid_area": null,
      "grid_auto_columns": null,
      "grid_auto_flow": null,
      "grid_auto_rows": null,
      "grid_column": null,
      "grid_gap": null,
      "grid_row": null,
      "grid_template_areas": null,
      "grid_template_columns": null,
      "grid_template_rows": null,
      "height": null,
      "justify_content": null,
      "justify_items": null,
      "left": null,
      "margin": null,
      "max_height": null,
      "max_width": null,
      "min_height": null,
      "min_width": null,
      "object_fit": null,
      "object_position": null,
      "order": null,
      "overflow": null,
      "overflow_x": null,
      "overflow_y": null,
      "padding": null,
      "right": null,
      "top": null,
      "visibility": null,
      "width": null
     }
    },
    "c62abd0eb0184f398949abcc1e36b260": {
     "model_module": "@jupyter-widgets/controls",
     "model_module_version": "1.5.0",
     "model_name": "HBoxModel",
     "state": {
      "_dom_classes": [],
      "_model_module": "@jupyter-widgets/controls",
      "_model_module_version": "1.5.0",
      "_model_name": "HBoxModel",
      "_view_count": null,
      "_view_module": "@jupyter-widgets/controls",
      "_view_module_version": "1.5.0",
      "_view_name": "HBoxView",
      "box_style": "",
      "children": [
       "IPY_MODEL_0a9315fc41214c988eca447bc907fe1e",
       "IPY_MODEL_cbb67d032f344304a5d6419b37d0e6be",
       "IPY_MODEL_4a354eba2b014af0b2991360adeddc0e"
      ],
      "layout": "IPY_MODEL_79ea100ccdc04d6a92859031bac9129c"
     }
    },
    "cbb67d032f344304a5d6419b37d0e6be": {
     "model_module": "@jupyter-widgets/controls",
     "model_module_version": "1.5.0",
     "model_name": "FloatProgressModel",
     "state": {
      "_dom_classes": [],
      "_model_module": "@jupyter-widgets/controls",
      "_model_module_version": "1.5.0",
      "_model_name": "FloatProgressModel",
      "_view_count": null,
      "_view_module": "@jupyter-widgets/controls",
      "_view_module_version": "1.5.0",
      "_view_name": "ProgressView",
      "bar_style": "success",
      "description": "",
      "description_tooltip": null,
      "layout": "IPY_MODEL_8a80408fafed42acbad33aaddabdf0ce",
      "max": 142307,
      "min": 0,
      "orientation": "horizontal",
      "style": "IPY_MODEL_2006e5cf2a164356bac5a56c054f7ece",
      "value": 142307
     }
    }
   }
  }
 },
 "nbformat": 4,
 "nbformat_minor": 5
}
