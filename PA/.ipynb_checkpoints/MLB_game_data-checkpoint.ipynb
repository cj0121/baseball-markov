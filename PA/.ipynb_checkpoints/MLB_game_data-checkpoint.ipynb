{
 "cells": [
  {
   "cell_type": "code",
   "execution_count": 18,
   "id": "44b0d4a2",
   "metadata": {},
   "outputs": [
    {
     "data": {
      "application/javascript": [
       "if (!(\"Notification\" in window)) {\n",
       "    alert(\"This browser does not support desktop notifications, so the %%notify magic will not work.\");\n",
       "} else if (Notification.permission !== 'granted' && Notification.permission !== 'denied') {\n",
       "    Notification.requestPermission(function (permission) {\n",
       "        if(!('permission' in Notification)) {\n",
       "            Notification.permission = permission;\n",
       "        }\n",
       "    })\n",
       "}\n"
      ],
      "text/plain": [
       "<IPython.core.display.Javascript object>"
      ]
     },
     "metadata": {},
     "output_type": "display_data"
    }
   ],
   "source": [
    "%load_ext jupyternotify\n",
    "\n",
    "import pandas as pd\n",
    "import numpy as np\n",
    "import statsapi\n",
    "\n",
    "from tqdm.auto import tqdm\n",
    "import datetime\n",
    "from datetime import date\n",
    "# from pydrive2.auth import GoogleAuth\n",
    "# from pydrive2.drive import GoogleDrive"
   ]
  },
  {
   "cell_type": "code",
   "execution_count": 3,
   "id": "cbbcb510",
   "metadata": {},
   "outputs": [],
   "source": [
    "np.set_printoptions(suppress=True)"
   ]
  },
  {
   "cell_type": "code",
   "execution_count": 1,
   "id": "d8e1e9d1",
   "metadata": {},
   "outputs": [],
   "source": [
    "# from IPython.display import display, HTML\n",
    "# display(HTML(\"<style>.container { width:100% !important; }</style>\"))"
   ]
  },
  {
   "cell_type": "code",
   "execution_count": 4,
   "id": "1e47aec1",
   "metadata": {},
   "outputs": [
    {
     "name": "stdout",
     "output_type": "stream",
     "text": [
      "Login time: 2022-09-06 12:46:29.672931\n"
     ]
    }
   ],
   "source": [
    "# # Get current time\n",
    "# current_time = pd.to_datetime(datetime.datetime.now())\n",
    "# today = pd.to_datetime(date.today())\n",
    "# print(f\"Login time: {current_time}\") "
   ]
  },
  {
   "cell_type": "code",
   "execution_count": 4,
   "id": "9d8b4aa1",
   "metadata": {},
   "outputs": [],
   "source": [
    "# # Google drive authentication\n",
    "# auth_ok = False\n",
    "# try:\n",
    "#     gauth = GoogleAuth(settings_file='settings.yaml') # configure Auth with settings file\n",
    "#     if not gauth.credentials:\n",
    "#         gauth.GetFlow()\n",
    "#         gauth.flow.params.update({'access_type': 'offline'})\n",
    "#         gauth.flow.params.update({'approval_prompt': 'force'})\n",
    "#         gauth.LocalWebserverAuth() # manual authentication if Auth didn't work\n",
    "#     elif gauth.access_token_expired: # refresh access token if expired\n",
    "#         try:\n",
    "#             gauth.Refresh()\n",
    "#         except Exception as e:\n",
    "#             gauth.Authorize()\n",
    "#     else: # auto Auth working\n",
    "#         gauth.Authorize()\n",
    "#     gauth.SaveCredentialsFile(\"mycreds.txt\") # save credentials\n",
    "\n",
    "#     drive = GoogleDrive(gauth)\n",
    "#     auth_ok = True\n",
    "#     print(\"    Google authentication successful.\")\n",
    "# except:\n",
    "#     print(\"    Google authentication failed. New data will not be uploaded to google drive.\")"
   ]
  },
  {
   "cell_type": "code",
   "execution_count": 5,
   "id": "2c45b658",
   "metadata": {},
   "outputs": [],
   "source": [
    "def pull_api(game_id): \n",
    "    '''Pull MLB game data (game_type, game_num, date, teams, temperature, wind, etc.) from mlb_stats_api. '''\n",
    "    data = statsapi.get('game', {'gamePk': game_id}, force=False)\n",
    "\n",
    "    game_pk = game_id\n",
    "    try:\n",
    "        game_type = data['gameData']['game']['type']\n",
    "    except:\n",
    "        game_type = np.nan\n",
    "\n",
    "    try:\n",
    "        game_num = data['gameData']['game']['gameNumber']\n",
    "    except:\n",
    "        game_num = np.nan\n",
    "\n",
    "    try:\n",
    "        officialDate = data['gameData']['datetime']['officialDate']\n",
    "    except:\n",
    "        officialDate = np.nan\n",
    "\n",
    "    try:\n",
    "        away_team = data['gameData']['teams']['away']['teamCode']\n",
    "    except:\n",
    "        away_team = np.nan\n",
    "\n",
    "    try:\n",
    "        away_team_abb = data['gameData']['teams']['away']['abbreviation']\n",
    "    except:\n",
    "        away_team_abb = np.nan\n",
    "\n",
    "    try:\n",
    "        home_team = data['gameData']['teams']['home']['teamCode']\n",
    "    except:\n",
    "        home_team = np.nan\n",
    "\n",
    "    try:\n",
    "        home_team_abb = data['gameData']['teams']['home']['abbreviation']\n",
    "    except:\n",
    "        home_team_abb = np.nan\n",
    "\n",
    "    try:\n",
    "        weather_cond = data['gameData']['weather']['condition']\n",
    "    except:\n",
    "        weather_cond = np.nan\n",
    "\n",
    "    try:\n",
    "        temp = data['gameData']['weather']['temp']\n",
    "    except:\n",
    "        temp = np.nan\n",
    "\n",
    "    try:\n",
    "        wind = data['gameData']['weather']['wind']\n",
    "    except:\n",
    "        wind = np.nan\n",
    "\n",
    "    try:\n",
    "        ump_id = data['liveData']['boxscore']['officials'][0]['official']['id']\n",
    "    except:\n",
    "        ump_id = np.nan\n",
    "\n",
    "    try:\n",
    "        ump_name = data['liveData']['boxscore']['officials'][0]['official']['fullName']\n",
    "    except:\n",
    "        ump_name = np.nan\n",
    "\n",
    "    return np.array(\n",
    "        [game_pk, game_num, game_type, officialDate, away_team, away_team_abb, home_team, home_team_abb, weather_cond,\n",
    "         temp, wind, ump_id, ump_name])"
   ]
  },
  {
   "cell_type": "code",
   "execution_count": 6,
   "id": "b3a8536e",
   "metadata": {},
   "outputs": [
    {
     "name": "stderr",
     "output_type": "stream",
     "text": [
      "/Users/honeybunny/opt/anaconda3/lib/python3.9/site-packages/IPython/core/interactiveshell.py:3135: DtypeWarning: Columns (44) have mixed types.Specify dtype option on import or set low_memory=False.\n",
      "  has_raised = await self.run_ast_nodes(code_ast.body, cell_name,\n"
     ]
    }
   ],
   "source": [
    "df_all = pd.read_csv('data/PitchData_15-22.csv', index_col=[0])"
   ]
  },
  {
   "cell_type": "code",
   "execution_count": 10,
   "id": "f7c3632c",
   "metadata": {},
   "outputs": [],
   "source": [
    "new_game_ids = df_all[df_all['game_type']=='R']['game_pk'].unique()"
   ]
  },
  {
   "cell_type": "code",
   "execution_count": 11,
   "id": "65f1a9c7",
   "metadata": {},
   "outputs": [
    {
     "data": {
      "text/plain": [
       "array([663451, 663352, 663272, ..., 413650, 413649, 413661])"
      ]
     },
     "execution_count": 11,
     "metadata": {},
     "output_type": "execute_result"
    }
   ],
   "source": [
    "new_game_ids"
   ]
  },
  {
   "cell_type": "code",
   "execution_count": 20,
   "id": "d358f683",
   "metadata": {},
   "outputs": [
    {
     "data": {
      "text/plain": [
       "17904"
      ]
     },
     "execution_count": 20,
     "metadata": {},
     "output_type": "execute_result"
    }
   ],
   "source": [
    "len(new_game_ids)"
   ]
  },
  {
   "cell_type": "code",
   "execution_count": 32,
   "id": "a7f000be",
   "metadata": {},
   "outputs": [],
   "source": [
    "# split full list into 7 chunks with 500000 elements each\n",
    "chunk_size = 3000\n",
    "full_list = new_game_ids\n",
    "chunked_list = [full_list[i:i+chunk_size] for i in range(0, len(full_list), chunk_size)]"
   ]
  },
  {
   "cell_type": "code",
   "execution_count": 33,
   "id": "57d74c08",
   "metadata": {},
   "outputs": [],
   "source": [
    "def get_data(new_game_ids):\n",
    "    new_game_arr = np.empty([0, 13])\n",
    "    for game_id in tqdm(new_game_ids):\n",
    "        new_game_arr = np.concatenate([new_game_arr, [pull_api(game_id)]])\n",
    "\n",
    "    new_game_df = pd.DataFrame(data=new_game_arr, columns=['game_pk', 'game_num', 'game_type', 'official_date',\n",
    "                                                           'away_team', 'away_team_abb', 'home_team', 'home_team_abb',\n",
    "                                                           'weather_cond', 'temp', 'wind', 'ump_id', 'ump_name'])\n",
    "    \n",
    "    return new_game_df"
   ]
  },
  {
   "cell_type": "code",
   "execution_count": 35,
   "id": "9020fccd",
   "metadata": {},
   "outputs": [
    {
     "data": {
      "application/json": {
       "ascii": false,
       "bar_format": null,
       "colour": null,
       "elapsed": 0.06862521171569824,
       "initial": 0,
       "n": 0,
       "ncols": null,
       "nrows": 24,
       "postfix": null,
       "prefix": "",
       "rate": null,
       "total": 6,
       "unit": "it",
       "unit_divisor": 1000,
       "unit_scale": false
      },
      "application/vnd.jupyter.widget-view+json": {
       "model_id": "ffd2633ac92e4ff7b2a99718de551942",
       "version_major": 2,
       "version_minor": 0
      },
      "text/plain": [
       "  0%|          | 0/6 [00:00<?, ?it/s]"
      ]
     },
     "metadata": {},
     "output_type": "display_data"
    },
    {
     "data": {
      "application/json": {
       "ascii": false,
       "bar_format": null,
       "colour": null,
       "elapsed": 0.03586316108703613,
       "initial": 0,
       "n": 0,
       "ncols": null,
       "nrows": 24,
       "postfix": null,
       "prefix": "",
       "rate": null,
       "total": 3000,
       "unit": "it",
       "unit_divisor": 1000,
       "unit_scale": false
      },
      "application/vnd.jupyter.widget-view+json": {
       "model_id": "f7d8a21aaa2f4677a82ec226efb72bf5",
       "version_major": 2,
       "version_minor": 0
      },
      "text/plain": [
       "  0%|          | 0/3000 [00:00<?, ?it/s]"
      ]
     },
     "metadata": {},
     "output_type": "display_data"
    },
    {
     "data": {
      "application/json": {
       "ascii": false,
       "bar_format": null,
       "colour": null,
       "elapsed": 0.015598058700561523,
       "initial": 0,
       "n": 0,
       "ncols": null,
       "nrows": 24,
       "postfix": null,
       "prefix": "",
       "rate": null,
       "total": 3000,
       "unit": "it",
       "unit_divisor": 1000,
       "unit_scale": false
      },
      "application/vnd.jupyter.widget-view+json": {
       "model_id": "13dfd4d150fc43c2b89a5baeea6aabd3",
       "version_major": 2,
       "version_minor": 0
      },
      "text/plain": [
       "  0%|          | 0/3000 [00:00<?, ?it/s]"
      ]
     },
     "metadata": {},
     "output_type": "display_data"
    },
    {
     "data": {
      "application/json": {
       "ascii": false,
       "bar_format": null,
       "colour": null,
       "elapsed": 0.017306804656982422,
       "initial": 0,
       "n": 0,
       "ncols": null,
       "nrows": 24,
       "postfix": null,
       "prefix": "",
       "rate": null,
       "total": 3000,
       "unit": "it",
       "unit_divisor": 1000,
       "unit_scale": false
      },
      "application/vnd.jupyter.widget-view+json": {
       "model_id": "26ea117a378e4e7991c55de8d16c0003",
       "version_major": 2,
       "version_minor": 0
      },
      "text/plain": [
       "  0%|          | 0/3000 [00:00<?, ?it/s]"
      ]
     },
     "metadata": {},
     "output_type": "display_data"
    },
    {
     "data": {
      "application/json": {
       "ascii": false,
       "bar_format": null,
       "colour": null,
       "elapsed": 0.017251968383789062,
       "initial": 0,
       "n": 0,
       "ncols": null,
       "nrows": 24,
       "postfix": null,
       "prefix": "",
       "rate": null,
       "total": 3000,
       "unit": "it",
       "unit_divisor": 1000,
       "unit_scale": false
      },
      "application/vnd.jupyter.widget-view+json": {
       "model_id": "0cb6ed1a3d6041869c073210c52f2b75",
       "version_major": 2,
       "version_minor": 0
      },
      "text/plain": [
       "  0%|          | 0/3000 [00:00<?, ?it/s]"
      ]
     },
     "metadata": {},
     "output_type": "display_data"
    },
    {
     "data": {
      "application/json": {
       "ascii": false,
       "bar_format": null,
       "colour": null,
       "elapsed": 0.015491008758544922,
       "initial": 0,
       "n": 0,
       "ncols": null,
       "nrows": 24,
       "postfix": null,
       "prefix": "",
       "rate": null,
       "total": 3000,
       "unit": "it",
       "unit_divisor": 1000,
       "unit_scale": false
      },
      "application/vnd.jupyter.widget-view+json": {
       "model_id": "2d00e8aa02f145a09678fbe5d68d330f",
       "version_major": 2,
       "version_minor": 0
      },
      "text/plain": [
       "  0%|          | 0/3000 [00:00<?, ?it/s]"
      ]
     },
     "metadata": {},
     "output_type": "display_data"
    },
    {
     "data": {
      "application/json": {
       "ascii": false,
       "bar_format": null,
       "colour": null,
       "elapsed": 0.014862060546875,
       "initial": 0,
       "n": 0,
       "ncols": null,
       "nrows": 24,
       "postfix": null,
       "prefix": "",
       "rate": null,
       "total": 2904,
       "unit": "it",
       "unit_divisor": 1000,
       "unit_scale": false
      },
      "application/vnd.jupyter.widget-view+json": {
       "model_id": "424dfa61f41e451e94b3632c2521efde",
       "version_major": 2,
       "version_minor": 0
      },
      "text/plain": [
       "  0%|          | 0/2904 [00:00<?, ?it/s]"
      ]
     },
     "metadata": {},
     "output_type": "display_data"
    }
   ],
   "source": [
    "df_list = []\n",
    "for chunk in tqdm(chunked_list):\n",
    "    df = get_data(chunk)\n",
    "    df_list.append(df)"
   ]
  },
  {
   "cell_type": "code",
   "execution_count": 39,
   "id": "96e452e2",
   "metadata": {},
   "outputs": [
    {
     "data": {
      "application/json": {
       "ascii": false,
       "bar_format": null,
       "colour": null,
       "elapsed": 0.03759908676147461,
       "initial": 0,
       "n": 0,
       "ncols": null,
       "nrows": 24,
       "postfix": null,
       "prefix": "",
       "rate": null,
       "total": 6,
       "unit": "it",
       "unit_divisor": 1000,
       "unit_scale": false
      },
      "application/vnd.jupyter.widget-view+json": {
       "model_id": "565f9f3e7c1f4acebabcd90ec9f66455",
       "version_major": 2,
       "version_minor": 0
      },
      "text/plain": [
       "  0%|          | 0/6 [00:00<?, ?it/s]"
      ]
     },
     "metadata": {},
     "output_type": "display_data"
    }
   ],
   "source": [
    "df_all = pd.DataFrame()\n",
    "for df in df_list:\n",
    "    df_all = pd.concat([df_all, df])"
   ]
  },
  {
   "cell_type": "code",
   "execution_count": null,
   "id": "a8f9df16",
   "metadata": {},
   "outputs": [],
   "source": [
    "df_all[df_all['wind'].isna()]\n",
    "\n",
    "df_all.loc[2054, 'wind'] = '0 mph, L To R'\n",
    "\n",
    "wind = df_all['wind'].str.split(',', expand=True).copy()\n",
    "wind[['speed', 'unit']] = wind[0].str.split(' ', expand=True).copy()\n",
    "wind['speed'] = wind['speed'].astype(int)\n",
    "wind[1] = wind[1].str.strip()\n",
    "\n",
    "df_all[['wind_speed', 'wind_direction']] = wind[['speed', 1]]"
   ]
  },
  {
   "cell_type": "code",
   "execution_count": 41,
   "id": "df3844c3",
   "metadata": {
    "scrolled": true
   },
   "outputs": [],
   "source": [
    "# df_all.to_csv('GameData_15-22.csv')"
   ]
  }
 ],
 "metadata": {
  "kernelspec": {
   "display_name": "Python 3 (ipykernel)",
   "language": "python",
   "name": "python3"
  },
  "language_info": {
   "codemirror_mode": {
    "name": "ipython",
    "version": 3
   },
   "file_extension": ".py",
   "mimetype": "text/x-python",
   "name": "python",
   "nbconvert_exporter": "python",
   "pygments_lexer": "ipython3",
   "version": "3.9.13"
  }
 },
 "nbformat": 4,
 "nbformat_minor": 5
}
