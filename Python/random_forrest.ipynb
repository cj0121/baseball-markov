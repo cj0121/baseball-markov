{
 "cells": [
  {
   "cell_type": "code",
   "execution_count": 1,
   "id": "ecc0e6d1",
   "metadata": {},
   "outputs": [
    {
     "data": {
      "application/javascript": [
       "if (!(\"Notification\" in window)) {\n",
       "    alert(\"This browser does not support desktop notifications, so the %%notify magic will not work.\");\n",
       "} else if (Notification.permission !== 'granted' && Notification.permission !== 'denied') {\n",
       "    Notification.requestPermission(function (permission) {\n",
       "        if(!('permission' in Notification)) {\n",
       "            Notification.permission = permission;\n",
       "        }\n",
       "    })\n",
       "}\n"
      ],
      "text/plain": [
       "<IPython.core.display.Javascript object>"
      ]
     },
     "metadata": {},
     "output_type": "display_data"
    }
   ],
   "source": [
    "%load_ext jupyternotify\n",
    "\n",
    "# import os\n",
    "import pandas as pd\n",
    "import numpy as np\n",
    "import matplotlib.pyplot as plt\n",
    "import seaborn as sns\n",
    "import time\n",
    "# import timeit\n",
    "import main\n",
    "\n",
    "from tqdm.auto import tqdm\n",
    "# from scipy.stats import *\n",
    "\n",
    "pd.set_option('display.max_columns', None)"
   ]
  },
  {
   "cell_type": "code",
   "execution_count": 2,
   "id": "4ea42986",
   "metadata": {},
   "outputs": [],
   "source": [
    "from sklearn.ensemble import RandomForestClassifier\n",
    "from sklearn.ensemble import RandomForestRegressor\n",
    "from sklearn.model_selection import GridSearchCV \n",
    "from sklearn.model_selection import RandomizedSearchCV \n",
    "from sklearn.metrics import classification_report, confusion_matrix, accuracy_score\n",
    "\n",
    "from sklearn.model_selection import KFold\n",
    "from sklearn.model_selection import train_test_split"
   ]
  },
  {
   "cell_type": "code",
   "execution_count": 3,
   "id": "9ce788ef",
   "metadata": {},
   "outputs": [],
   "source": [
    "np.set_printoptions(suppress=True)"
   ]
  },
  {
   "cell_type": "code",
   "execution_count": 4,
   "id": "52c92a54",
   "metadata": {},
   "outputs": [
    {
     "data": {
      "text/html": [
       "<style>.container { width:70% !important; }</style>"
      ],
      "text/plain": [
       "<IPython.core.display.HTML object>"
      ]
     },
     "metadata": {},
     "output_type": "display_data"
    }
   ],
   "source": [
    "from IPython.display import display, HTML\n",
    "display(HTML(\"<style>.container { width:70% !important; }</style>\"))"
   ]
  },
  {
   "cell_type": "code",
   "execution_count": 5,
   "id": "860fedd0",
   "metadata": {},
   "outputs": [],
   "source": [
    "def extract_proba(arr) -> np.array:\n",
    "    arr_len = len(arr[0])\n",
    "    \n",
    "    single_arr = np.reshape(arr[0][:, 1], [arr_len, 1])\n",
    "    double_arr = np.reshape(arr[1][:, 1], [arr_len, 1])\n",
    "    triple_arr = np.reshape(arr[2][:, 1], [arr_len, 1])\n",
    "    hr_arr = np.reshape(arr[3][:, 1], [arr_len, 1])\n",
    "    fo_arr = np.reshape(arr[4][:, 1], [arr_len, 1])\n",
    "    bb_arr = np.reshape(arr[5][:, 1], [arr_len, 1])\n",
    "    k_arr = np.reshape(arr[6][:, 1], [arr_len, 1])\n",
    "    other_arr = np.reshape(arr[7][:, 1], [arr_len, 1])\n",
    "    proba_arr = np.concatenate([single_arr, double_arr, triple_arr, hr_arr, fo_arr, bb_arr, k_arr, other_arr], axis=1)\n",
    "    \n",
    "    return proba_arr"
   ]
  },
  {
   "cell_type": "code",
   "execution_count": 6,
   "id": "d934bc43",
   "metadata": {},
   "outputs": [],
   "source": [
    "def clf_performance(classifier, title=None):\n",
    "    if title != None:\n",
    "        print(title)\n",
    "    print('Best Score: ' + str(classifier.best_score_))\n",
    "    print('Best Parameters: ' + str(classifier.best_params_))"
   ]
  },
  {
   "cell_type": "code",
   "execution_count": 7,
   "id": "6c947c0f",
   "metadata": {},
   "outputs": [],
   "source": [
    "data_df = pd.read_csv('data/pa_df_19.csv', index_col=[0])"
   ]
  },
  {
   "cell_type": "code",
   "execution_count": 8,
   "id": "3f9d73d2",
   "metadata": {},
   "outputs": [
    {
     "name": "stdout",
     "output_type": "stream",
     "text": [
      "train size: (50196, 26)\n",
      "val size: (16732, 26)\n",
      "test size: (16733, 26)\n"
     ]
    }
   ],
   "source": [
    "train_val_df, test_df = train_test_split(data_df, test_size=0.2, random_state=0, shuffle=True)\n",
    "train_df, val_df = train_test_split(train_val_df, test_size=0.25, random_state=0, shuffle=True)\n",
    "print(f\"train size: {train_df.shape}\")\n",
    "print(f\"val size: {val_df.shape}\")\n",
    "print(f\"test size: {test_df.shape}\")"
   ]
  },
  {
   "cell_type": "markdown",
   "id": "e0c69aac",
   "metadata": {},
   "source": [
    "# Baseline Model, No RF"
   ]
  },
  {
   "cell_type": "code",
   "execution_count": 9,
   "id": "dd98fa4a",
   "metadata": {},
   "outputs": [
    {
     "data": {
      "text/plain": [
       "['1B', '2B', '3B', 'HR', 'FO', 'BB', 'K', 'other']"
      ]
     },
     "execution_count": 9,
     "metadata": {},
     "output_type": "execute_result"
    }
   ],
   "source": [
    "main.EVENT_LIST"
   ]
  },
  {
   "cell_type": "code",
   "execution_count": 10,
   "id": "f4228846",
   "metadata": {
    "scrolled": true
   },
   "outputs": [
    {
     "data": {
      "text/plain": [
       "['1B_proba',\n",
       " '2B_proba',\n",
       " '3B_proba',\n",
       " 'HR_proba',\n",
       " 'FO_proba',\n",
       " 'BB_proba',\n",
       " 'K_proba',\n",
       " 'other_proba']"
      ]
     },
     "execution_count": 10,
     "metadata": {},
     "output_type": "execute_result"
    }
   ],
   "source": [
    "main.PROBA_LIST"
   ]
  },
  {
   "cell_type": "code",
   "execution_count": 11,
   "id": "7a2a97c4",
   "metadata": {},
   "outputs": [],
   "source": [
    "X_all = data_df[main.PROBA_LIST].values\n",
    "X_train = train_df[main.PROBA_LIST].values\n",
    "X_val = val_df[main.PROBA_LIST].values\n",
    "X_train_val = train_val_df[main.PROBA_LIST].values\n",
    "X_test = test_df[main.PROBA_LIST].values"
   ]
  },
  {
   "cell_type": "code",
   "execution_count": 12,
   "id": "2eb8e860",
   "metadata": {},
   "outputs": [],
   "source": [
    "y_all = data_df[main.EVENT_LIST].values\n",
    "y_train = train_df[main.EVENT_LIST].values\n",
    "y_val = val_df[main.EVENT_LIST].values\n",
    "y_train_val = train_val_df[main.EVENT_LIST].values\n",
    "y_test = test_df[main.EVENT_LIST].values"
   ]
  },
  {
   "cell_type": "code",
   "execution_count": 13,
   "id": "63568b25",
   "metadata": {},
   "outputs": [
    {
     "data": {
      "text/plain": [
       "0.7025291959761956"
      ]
     },
     "execution_count": 13,
     "metadata": {},
     "output_type": "execute_result"
    }
   ],
   "source": [
    "main.get_brier_score(y_test, X_test)"
   ]
  },
  {
   "cell_type": "markdown",
   "id": "64754d67",
   "metadata": {},
   "source": [
    "# Baseline RF Default"
   ]
  },
  {
   "cell_type": "markdown",
   "id": "eee9ad0d",
   "metadata": {},
   "source": [
    "## Classifier"
   ]
  },
  {
   "cell_type": "code",
   "execution_count": 14,
   "id": "609bc435",
   "metadata": {},
   "outputs": [],
   "source": [
    "start = time.time()"
   ]
  },
  {
   "cell_type": "code",
   "execution_count": 15,
   "id": "e156a0bd",
   "metadata": {},
   "outputs": [],
   "source": [
    "clf = RandomForestClassifier(random_state=1, n_jobs=6, max_features=None)\n",
    "rf_baseline_def = clf.fit(X_train, y_train)"
   ]
  },
  {
   "cell_type": "code",
   "execution_count": 16,
   "id": "15979f4e",
   "metadata": {},
   "outputs": [
    {
     "data": {
      "text/plain": [
       "12.276416063308716"
      ]
     },
     "execution_count": 16,
     "metadata": {},
     "output_type": "execute_result"
    }
   ],
   "source": [
    "time.time() - start"
   ]
  },
  {
   "cell_type": "code",
   "execution_count": 17,
   "id": "5f028ff9",
   "metadata": {},
   "outputs": [
    {
     "data": {
      "text/plain": [
       "0.8755914800716054"
      ]
     },
     "execution_count": 17,
     "metadata": {},
     "output_type": "execute_result"
    }
   ],
   "source": [
    "proba_arr = rf_baseline_def.predict_proba(X_test)\n",
    "y_test_pred = extract_proba(proba_arr)\n",
    "main.get_brier_score(y_test, y_test_pred)"
   ]
  },
  {
   "cell_type": "code",
   "execution_count": null,
   "id": "e8631998",
   "metadata": {},
   "outputs": [],
   "source": []
  },
  {
   "cell_type": "code",
   "execution_count": null,
   "id": "ff5e3aad",
   "metadata": {},
   "outputs": [],
   "source": []
  },
  {
   "cell_type": "code",
   "execution_count": null,
   "id": "c4336d47",
   "metadata": {},
   "outputs": [],
   "source": []
  },
  {
   "cell_type": "code",
   "execution_count": null,
   "id": "6f39452e",
   "metadata": {},
   "outputs": [],
   "source": [
    "proba_arr = rf_baseline_def.predict_proba(X_test)"
   ]
  },
  {
   "cell_type": "code",
   "execution_count": null,
   "id": "0ba331fb",
   "metadata": {},
   "outputs": [],
   "source": [
    "y_test_pred = extract_proba(proba_arr)"
   ]
  },
  {
   "cell_type": "code",
   "execution_count": null,
   "id": "ce2d3ab8",
   "metadata": {},
   "outputs": [],
   "source": [
    "main.get_brier_score(y_test, y_test_pred)"
   ]
  },
  {
   "cell_type": "code",
   "execution_count": null,
   "id": "30bffcd7",
   "metadata": {},
   "outputs": [],
   "source": [
    "%%notify\n",
    "pass"
   ]
  },
  {
   "cell_type": "markdown",
   "id": "283dec97",
   "metadata": {},
   "source": [
    "# Baseline RF"
   ]
  },
  {
   "cell_type": "code",
   "execution_count": null,
   "id": "f46d3999",
   "metadata": {},
   "outputs": [],
   "source": [
    "start = time.time()"
   ]
  },
  {
   "cell_type": "code",
   "execution_count": null,
   "id": "3be29c3f",
   "metadata": {},
   "outputs": [],
   "source": [
    "clf = RandomForestClassifier(random_state=0)\n",
    "param_grid =  {'n_estimators': [250], \n",
    "                  'max_depth': [7, 15, 25],\n",
    "                  'max_features': ['sqrt', None],\n",
    "                  'min_samples_leaf': [3, 8, 12],\n",
    "                  'min_samples_split': [2, 4, 7],\n",
    "                  'max_samples': [0.5, 0.8]}\n",
    "                                  \n",
    "rf_baseline_1 = RandomizedSearchCV(clf, param_distributions=param_grid, n_iter=100, cv=5, verbose=1, n_jobs=5)\n",
    "best_rf_baseline_1 = rf_baseline_1.fit(X_train, y_train)"
   ]
  },
  {
   "cell_type": "code",
   "execution_count": null,
   "id": "f95dd05b",
   "metadata": {},
   "outputs": [],
   "source": [
    "clf_performance(best_rf_baseline_1)"
   ]
  },
  {
   "cell_type": "code",
   "execution_count": null,
   "id": "30e6ead9",
   "metadata": {},
   "outputs": [],
   "source": [
    "time.time() - start"
   ]
  },
  {
   "cell_type": "code",
   "execution_count": null,
   "id": "886a81ba",
   "metadata": {},
   "outputs": [],
   "source": [
    "y_pred_proba_baseline_1 = extract_proba(best_rf_baseline_1.predict_proba(X_test))"
   ]
  },
  {
   "cell_type": "code",
   "execution_count": null,
   "id": "ac8e6726",
   "metadata": {},
   "outputs": [],
   "source": [
    "main.get_brier_score(y_test, y_pred_proba_baseline_1)"
   ]
  },
  {
   "cell_type": "code",
   "execution_count": null,
   "id": "7d2297b5",
   "metadata": {},
   "outputs": [],
   "source": [
    "y_test[0]"
   ]
  },
  {
   "cell_type": "code",
   "execution_count": null,
   "id": "144c12af",
   "metadata": {},
   "outputs": [],
   "source": [
    "X_test[0]"
   ]
  },
  {
   "cell_type": "code",
   "execution_count": null,
   "id": "05530352",
   "metadata": {},
   "outputs": [],
   "source": [
    "y_pred_proba_baseline_1[0]"
   ]
  },
  {
   "cell_type": "code",
   "execution_count": null,
   "id": "aa24099a",
   "metadata": {},
   "outputs": [],
   "source": [
    "arr = best_rf_baseline_1.predict_proba(X_test)"
   ]
  },
  {
   "cell_type": "code",
   "execution_count": null,
   "id": "49839eef",
   "metadata": {},
   "outputs": [],
   "source": [
    "X_test[0]"
   ]
  },
  {
   "cell_type": "code",
   "execution_count": null,
   "id": "ef269946",
   "metadata": {},
   "outputs": [],
   "source": [
    "print(arr[0][:, 1].mean())\n",
    "print(arr[1][:, 1].mean())\n",
    "print(arr[2][:, 1].mean())\n",
    "print(arr[3][:, 1].mean())\n",
    "print(arr[4][:, 1].mean())\n",
    "print(arr[5][:, 1].mean())\n",
    "print(arr[6][:, 1].mean())\n",
    "print(arr[7][:, 1].mean())"
   ]
  }
 ],
 "metadata": {
  "kernelspec": {
   "display_name": "Python [conda env:bb_sim]",
   "language": "python",
   "name": "conda-env-bb_sim-py"
  },
  "language_info": {
   "codemirror_mode": {
    "name": "ipython",
    "version": 3
   },
   "file_extension": ".py",
   "mimetype": "text/x-python",
   "name": "python",
   "nbconvert_exporter": "python",
   "pygments_lexer": "ipython3",
   "version": "3.9.13"
  }
 },
 "nbformat": 4,
 "nbformat_minor": 5
}
