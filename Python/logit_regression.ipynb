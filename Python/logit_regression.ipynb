{
 "cells": [
  {
   "cell_type": "code",
   "execution_count": 7,
   "id": "ff65b0ff",
   "metadata": {
    "id": "ff65b0ff"
   },
   "outputs": [
    {
     "name": "stdout",
     "output_type": "stream",
     "text": [
      "The jupyternotify extension is already loaded. To reload it, use:\n",
      "  %reload_ext jupyternotify\n"
     ]
    }
   ],
   "source": [
    "%load_ext jupyternotify\n",
    "\n",
    "# import os\n",
    "import pandas as pd\n",
    "import numpy as np\n",
    "import matplotlib.pyplot as plt\n",
    "import seaborn as sns\n",
    "import time\n",
    "import timeit\n",
    "import joblib\n",
    "import utils\n",
    "\n",
    "from tqdm.auto import tqdm\n",
    "# from scipy.stats import *\n",
    "\n",
    "pd.set_option('display.max_columns', None)"
   ]
  },
  {
   "cell_type": "code",
   "execution_count": 8,
   "id": "f7854b12",
   "metadata": {},
   "outputs": [],
   "source": [
    "import importlib\n",
    "# importlib.reload(utils)"
   ]
  },
  {
   "cell_type": "code",
   "execution_count": 9,
   "id": "4546ece4",
   "metadata": {},
   "outputs": [],
   "source": [
    "# pd.set_option('display.max_colwidth', None)\n",
    "\n",
    "pd.set_option('display.float_format', lambda x: '%.5f' % x)\n",
    "np.set_printoptions(suppress=True)"
   ]
  },
  {
   "cell_type": "code",
   "execution_count": 10,
   "id": "3471dc5d",
   "metadata": {},
   "outputs": [
    {
     "data": {
      "text/html": [
       "<style>.container { width:100% !important; }</style>"
      ],
      "text/plain": [
       "<IPython.core.display.HTML object>"
      ]
     },
     "metadata": {},
     "output_type": "display_data"
    }
   ],
   "source": [
    "from IPython.display import display, HTML\n",
    "display(HTML(\"<style>.container { width:100% !important; }</style>\"))"
   ]
  },
  {
   "cell_type": "code",
   "execution_count": 11,
   "id": "21971c1f",
   "metadata": {},
   "outputs": [],
   "source": [
    "# data_df_1522 = pd.read_csv('../data/PitchDataCleanedLean_15-22.csv', index_col=[0])\n",
    "# data_train_df = data_df_1522[data_df_1522['game_year'].isin([2015, 2016, 2017, 2018])].copy()\n",
    "# data_test_df = data_df_1522[data_df_1522['game_year']==2019].copy()"
   ]
  },
  {
   "cell_type": "markdown",
   "id": "8d8487bd",
   "metadata": {},
   "source": [
    "### Load T dicts"
   ]
  },
  {
   "cell_type": "code",
   "execution_count": 12,
   "id": "0320fcaf",
   "metadata": {},
   "outputs": [],
   "source": [
    "T_batters_dict_1518 = joblib.load('T_batters_dict_1518')\n",
    "T_pitchers_dict_1518 = joblib.load('T_pitchers_dict_1518')\n",
    "\n",
    "pitcher_quali_list = list(T_pitchers_dict_1518.keys())\n",
    "batter_quali_list = list(T_batters_dict_1518.keys())"
   ]
  },
  {
   "cell_type": "markdown",
   "id": "39f78db9",
   "metadata": {},
   "source": [
    "# Logit Regression"
   ]
  },
  {
   "cell_type": "code",
   "execution_count": 41,
   "id": "0487842f",
   "metadata": {},
   "outputs": [],
   "source": [
    "from sklearn.model_selection import KFold\n",
    "from sklearn.model_selection import train_test_split\n",
    "from sklearn.preprocessing import StandardScaler\n",
    "\n",
    "from sklearn.linear_model import LogisticRegression\n",
    "\n",
    "from sklearn.calibration import CalibratedClassifierCV"
   ]
  },
  {
   "cell_type": "code",
   "execution_count": 14,
   "id": "9a47d898",
   "metadata": {},
   "outputs": [],
   "source": [
    "pa_data_1519 = pd.read_csv('../../data/PA_data_merged_15-19_012323.csv', index_col=[0])\n",
    "# remove 'other'\n",
    "pa_data_1519 = pa_data_1519[pa_data_1519['event_type']!='other'].copy()"
   ]
  },
  {
   "cell_type": "code",
   "execution_count": 17,
   "id": "ab4e8989",
   "metadata": {
    "scrolled": true
   },
   "outputs": [
    {
     "name": "stdout",
     "output_type": "stream",
     "text": [
      "train size: (434677, 36)\n",
      "val size: (108670, 36)\n",
      "test size: (83464, 36)\n"
     ]
    }
   ],
   "source": [
    "train_val_df = pa_data_1519[pa_data_1519['game_year'].isin([2015, 2016, 2017, 2018])].copy()\n",
    "train_val_df = train_val_df[(train_val_df['pitcher'].isin(pitcher_quali_list))&(train_val_df['batter'].isin(batter_quali_list))].copy()\n",
    "test_df = pa_data_1519[pa_data_1519['game_year']==2019].copy()\n",
    "test_df = test_df[(test_df['pitcher'].isin(pitcher_quali_list))&(test_df['batter'].isin(batter_quali_list))].copy()\n",
    "\n",
    "train_df, val_df = train_test_split(train_val_df, test_size=0.2, random_state=0, shuffle=True)\n",
    "\n",
    "train_df = train_df.reset_index(drop=True)\n",
    "val_df = val_df.reset_index(drop=True)\n",
    "test_df = test_df.reset_index(drop=True)\n",
    "\n",
    "print(f\"train size: {train_df.shape}\")\n",
    "print(f\"val size: {val_df.shape}\")\n",
    "print(f\"test size: {test_df.shape}\")"
   ]
  },
  {
   "cell_type": "code",
   "execution_count": 18,
   "id": "0729ce01",
   "metadata": {
    "scrolled": true
   },
   "outputs": [],
   "source": [
    "# create matchup lists to loop through later\n",
    "train_matchup_list = list(zip(train_df['pitcher'], train_df['batter']))\n",
    "val_matchup_list = list(zip(val_df['pitcher'], val_df['batter']))\n",
    "test_matchup_list = list(zip(test_df['pitcher'], test_df['batter']))"
   ]
  },
  {
   "cell_type": "code",
   "execution_count": 19,
   "id": "d3782521",
   "metadata": {},
   "outputs": [],
   "source": [
    "y_train = train_df['event_type'].values\n",
    "y_val = val_df['event_type'].values\n",
    "y_test = test_df['event_type'].values\n",
    "\n",
    "y_train_factor = pd.factorize(train_df['event_type'].values)[0]\n",
    "y_val_factor = pd.factorize(val_df['event_type'].values)[0]\n",
    "y_test_factor = pd.factorize(test_df['event_type'].values)[0]\n",
    "\n",
    "y_train_binary = train_df[utils.EVENT_LIST].values\n",
    "y_val_binary = val_df[utils.EVENT_LIST].values\n",
    "y_test_binary = test_df[utils.EVENT_LIST].values"
   ]
  },
  {
   "cell_type": "markdown",
   "id": "3e0941a3",
   "metadata": {},
   "source": [
    "# Random Forest T matrix as X"
   ]
  },
  {
   "cell_type": "code",
   "execution_count": 20,
   "id": "be025ff2",
   "metadata": {},
   "outputs": [
    {
     "data": {
      "application/vnd.jupyter.widget-view+json": {
       "model_id": "9d568726f2f14110bc67408978e94f61",
       "version_major": 2,
       "version_minor": 0
      },
      "text/plain": [
       "  0%|          | 0/491 [00:00<?, ?it/s]"
      ]
     },
     "metadata": {},
     "output_type": "display_data"
    },
    {
     "data": {
      "application/vnd.jupyter.widget-view+json": {
       "model_id": "d5710f0a6e4d4b3f9764b6cc5743d9d6",
       "version_major": 2,
       "version_minor": 0
      },
      "text/plain": [
       "  0%|          | 0/487 [00:00<?, ?it/s]"
      ]
     },
     "metadata": {},
     "output_type": "display_data"
    }
   ],
   "source": [
    "master_map = [[False, True, False, False, True, False, False, False, False, False, False, False, True, True, True, True, True, True, False],\n",
    " [False, False, True, False, False, True, False, False, False, False, False, False, True, True, True, True, True, True, False],\n",
    " [False, False, False, True, False, False, True, False, False, False, False, False, True, True, True, True, True, True, False],\n",
    " [False, False, False, False, False, False, False, True, False, False, False, False, True, True, True, True, True, True, False],\n",
    " [False, False, False, False, False, True, False, False, True, False, False, False, True, True, True, True, True, True, False],\n",
    " [False, False, False, False, False, False, True, False, False, True, False, False, True, True, True, True, True, True, False],\n",
    " [False, False, False, False, False, False, False, True, False, False, True, False, True, True, True, True, True, True, False],\n",
    " [False, False, False, False, False, False, False, False, False, False, False, True, True, True, True, True, True, True, False],\n",
    " [False, False, False, False, False, False, False, False, True, True, False, False, True, True, True, True, True, True, True],\n",
    " [False, False, False, False, False, False, False, False, False, True, True, False, True, True, True, True, True, True, True],\n",
    " [False, False, False, False, False, False, False, False, False, False, True, True, True, True, True, True, True, True, True],\n",
    " [False, False, False, False, False, False, False, False, False, False, False, True, True, True, True, True, True, True, True]]\n",
    "\n",
    "import itertools\n",
    "\n",
    "# get feature names\n",
    "feature_names = list(itertools.product(utils.COUNT_LIST_STR, utils.COUNT_LIST_STR + utils.EVENT_LIST))\n",
    "feature_names = [f[0]+'-'+f[1] for f in feature_names]\n",
    "feature_names = np.array(feature_names)[np.array(master_map).flatten()]\n",
    "p_feature_names = ['pitcher-'+f for f in feature_names]\n",
    "b_feature_names = ['batter-'+f for f in feature_names]\n",
    "feature_names = np.array(p_feature_names + b_feature_names)\n",
    "\n",
    "\n",
    "T_batters_RF_1518_trans = {}\n",
    "for key, item in tqdm(T_batters_dict_1518.items()):\n",
    "    T_batter_long = []\n",
    "    for i in range(12):\n",
    "        T_count = item[i][master_map[i]].tolist()\n",
    "        T_batter_long+=T_count\n",
    "    T_batters_RF_1518_trans[key] = T_batter_long\n",
    "\n",
    "T_pitchers_RF_1518_trans = {}\n",
    "for key, item in tqdm(T_pitchers_dict_1518.items()):\n",
    "    T_pitcher_long = []\n",
    "    for i in range(12):\n",
    "        T_count = item[i][master_map[i]].tolist()\n",
    "        T_pitcher_long+=T_count\n",
    "    T_pitchers_RF_1518_trans[key] = T_pitcher_long"
   ]
  },
  {
   "cell_type": "code",
   "execution_count": 21,
   "id": "66daffe0",
   "metadata": {},
   "outputs": [
    {
     "data": {
      "application/vnd.jupyter.widget-view+json": {
       "model_id": "5157b2c0bb9f4e5b845d2a8cf1b93cb8",
       "version_major": 2,
       "version_minor": 0
      },
      "text/plain": [
       "  0%|          | 0/434677 [00:00<?, ?it/s]"
      ]
     },
     "metadata": {},
     "output_type": "display_data"
    },
    {
     "data": {
      "application/vnd.jupyter.widget-view+json": {
       "model_id": "90f9ed48b5cd4ecf801b3adc2e020d76",
       "version_major": 2,
       "version_minor": 0
      },
      "text/plain": [
       "  0%|          | 0/108670 [00:00<?, ?it/s]"
      ]
     },
     "metadata": {},
     "output_type": "display_data"
    },
    {
     "data": {
      "application/vnd.jupyter.widget-view+json": {
       "model_id": "76995ac6411c4b30b65781d58ea78a66",
       "version_major": 2,
       "version_minor": 0
      },
      "text/plain": [
       "  0%|          | 0/83464 [00:00<?, ?it/s]"
      ]
     },
     "metadata": {},
     "output_type": "display_data"
    }
   ],
   "source": [
    "X_train = []\n",
    "for train_matchup in tqdm(train_matchup_list):\n",
    "    pitcher = train_matchup[0]\n",
    "    batter = train_matchup[1]\n",
    "\n",
    "    X_row = np.concatenate([T_pitchers_RF_1518_trans[pitcher], T_batters_RF_1518_trans[batter]]).tolist()\n",
    "    X_train+=[X_row]\n",
    "X_train = np.array(X_train)\n",
    "    \n",
    "X_val = []\n",
    "for val_matchup in tqdm(val_matchup_list):\n",
    "    pitcher = val_matchup[0]\n",
    "    batter = val_matchup[1]\n",
    "\n",
    "    X_row = np.concatenate([T_pitchers_RF_1518_trans[pitcher], T_batters_RF_1518_trans[batter]]).tolist()\n",
    "    X_val+=[X_row]    \n",
    "X_val = np.array(X_val)\n",
    "\n",
    "X_test = []\n",
    "for test_matchup in tqdm(test_matchup_list):\n",
    "    pitcher = test_matchup[0]\n",
    "    batter = test_matchup[1]\n",
    "\n",
    "    X_row = np.concatenate([T_pitchers_RF_1518_trans[pitcher], T_batters_RF_1518_trans[batter]]).tolist()\n",
    "    X_test+=[X_row]\n",
    "X_test = np.array(X_test)"
   ]
  },
  {
   "cell_type": "code",
   "execution_count": 30,
   "id": "39fbb842",
   "metadata": {},
   "outputs": [],
   "source": [
    "scaler = StandardScaler()\n",
    "X_train_std = scaler.fit_transform(X_train)\n",
    "X_val_std = scaler.transform(X_val)\n",
    "X_test_std = scaler.transform(X_test)"
   ]
  },
  {
   "cell_type": "code",
   "execution_count": 22,
   "id": "e13f7995",
   "metadata": {},
   "outputs": [],
   "source": [
    "# create X df with column names to make easy for feature selection\n",
    "X_train_df = pd.DataFrame(X_train, columns=feature_names)\n",
    "X_val_df = pd.DataFrame(X_val, columns=feature_names)\n",
    "X_test_df = pd.DataFrame(X_test, columns=feature_names)\n",
    "\n",
    "train_df = pd.concat([train_df, X_train_df], axis=1)\n",
    "val_df = pd.concat([val_df, X_val_df], axis=1)\n",
    "test_df = pd.concat([test_df, X_test_df], axis=1)"
   ]
  },
  {
   "cell_type": "code",
   "execution_count": 32,
   "id": "5759d494",
   "metadata": {},
   "outputs": [],
   "source": [
    "reg = LogisticRegression(random_state=0, max_iter=500)\n",
    "model_logit_default = reg.fit(X_train_std, y_train)"
   ]
  },
  {
   "cell_type": "code",
   "execution_count": 46,
   "id": "f92d5f41",
   "metadata": {},
   "outputs": [],
   "source": [
    "y_pred = model_logit_default.predict_proba(X_test_std)"
   ]
  },
  {
   "cell_type": "code",
   "execution_count": 36,
   "id": "2b908dea",
   "metadata": {},
   "outputs": [
    {
     "data": {
      "text/plain": [
       "0.7093742343714293"
      ]
     },
     "execution_count": 36,
     "metadata": {},
     "output_type": "execute_result"
    }
   ],
   "source": [
    "utils.get_brier_score(y_test_binary, y_pred)"
   ]
  },
  {
   "cell_type": "code",
   "execution_count": 49,
   "id": "d00789dd",
   "metadata": {},
   "outputs": [
    {
     "data": {
      "text/plain": [
       "CalibratedClassifierCV(base_estimator=LogisticRegression(max_iter=500,\n",
       "                                                         random_state=0),\n",
       "                       cv=5, n_jobs=5)"
      ]
     },
     "execution_count": 49,
     "metadata": {},
     "output_type": "execute_result"
    }
   ],
   "source": [
    "model_logit_default_cal = CalibratedClassifierCV(model_logit_default, method='sigmoid', cv=5, n_jobs=5)\n",
    "model_logit_default_cal.fit(X_val_std, y_val)"
   ]
  },
  {
   "cell_type": "code",
   "execution_count": 50,
   "id": "e5724267",
   "metadata": {},
   "outputs": [],
   "source": [
    "y_pred_cal = model_logit_default_cal.predict_proba(X_test_std)"
   ]
  },
  {
   "cell_type": "code",
   "execution_count": 51,
   "id": "efcf6fc9",
   "metadata": {},
   "outputs": [
    {
     "data": {
      "text/plain": [
       "0.7095601988994151"
      ]
     },
     "execution_count": 51,
     "metadata": {},
     "output_type": "execute_result"
    }
   ],
   "source": [
    "utils.get_brier_score(y_test_binary, y_pred_cal)"
   ]
  },
  {
   "cell_type": "code",
   "execution_count": 47,
   "id": "16616c38",
   "metadata": {},
   "outputs": [
    {
     "data": {
      "text/plain": [
       "0.7096750735004942"
      ]
     },
     "execution_count": 47,
     "metadata": {},
     "output_type": "execute_result"
    }
   ],
   "source": [
    "utils.get_brier_score(y_test_binary, y_pred_cal)"
   ]
  }
 ],
 "metadata": {
  "kernelspec": {
   "display_name": "Python [conda env:bb_sim]",
   "language": "python",
   "name": "conda-env-bb_sim-py"
  },
  "language_info": {
   "codemirror_mode": {
    "name": "ipython",
    "version": 3
   },
   "file_extension": ".py",
   "mimetype": "text/x-python",
   "name": "python",
   "nbconvert_exporter": "python",
   "pygments_lexer": "ipython3",
   "version": "3.9.13"
  }
 },
 "nbformat": 4,
 "nbformat_minor": 5
}
