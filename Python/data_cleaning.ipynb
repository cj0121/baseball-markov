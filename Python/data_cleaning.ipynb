{
 "cells": [
  {
   "cell_type": "code",
   "execution_count": 35,
   "id": "ff65b0ff",
   "metadata": {
    "id": "ff65b0ff"
   },
   "outputs": [
    {
     "name": "stdout",
     "output_type": "stream",
     "text": [
      "The jupyternotify extension is already loaded. To reload it, use:\n",
      "  %reload_ext jupyternotify\n"
     ]
    }
   ],
   "source": [
    "%load_ext jupyternotify\n",
    "\n",
    "import pandas as pd\n",
    "import numpy as np\n",
    "import time\n",
    "import utils\n",
    "\n",
    "from tqdm.auto import tqdm\n",
    "\n",
    "pd.set_option('display.max_columns', None)"
   ]
  },
  {
   "cell_type": "code",
   "execution_count": 36,
   "id": "4546ece4",
   "metadata": {},
   "outputs": [],
   "source": [
    "# pd.set_option('display.max_colwidth', None)"
   ]
  },
  {
   "cell_type": "code",
   "execution_count": 37,
   "id": "3471dc5d",
   "metadata": {},
   "outputs": [
    {
     "data": {
      "text/html": [
       "<style>.container { width:100% !important; }</style>"
      ],
      "text/plain": [
       "<IPython.core.display.HTML object>"
      ]
     },
     "metadata": {},
     "output_type": "display_data"
    }
   ],
   "source": [
    "from IPython.display import display, HTML\n",
    "display(HTML(\"<style>.container { width:100% !important; }</style>\"))"
   ]
  },
  {
   "cell_type": "code",
   "execution_count": 4,
   "id": "GbLOqmQ0CMh_",
   "metadata": {
    "colab": {
     "background_save": true
    },
    "id": "GbLOqmQ0CMh_",
    "scrolled": true
   },
   "outputs": [
    {
     "name": "stderr",
     "output_type": "stream",
     "text": [
      "/var/folders/x_/1k47n6n512j4cw0810rgvky40000gn/T/ipykernel_6838/843727565.py:1: DtypeWarning: Columns (44) have mixed types. Specify dtype option on import or set low_memory=False.\n",
      "  raw_all_df = pd.read_csv('../data/PitchData_15-22.csv', index_col=[0])\n"
     ]
    }
   ],
   "source": [
    "raw_all_df = pd.read_csv('../data/PitchData_15-22.csv', index_col=[0])\n",
    "reg_all_df = raw_all_df[raw_all_df['game_type']=='R'].copy()\n",
    "reg_all_df.reset_index(inplace=True, drop=True)\n",
    "\n",
    "# create seperate pitch index for later merging operation\n",
    "reg_all_df.reset_index(inplace=True)\n",
    "reg_all_df.rename(columns={'index':'pitch_index'}, inplace=True)\n",
    "\n",
    "reg_all_df['n_count'] = 1"
   ]
  },
  {
   "cell_type": "code",
   "execution_count": 5,
   "id": "17de8f59",
   "metadata": {
    "id": "17de8f59"
   },
   "outputs": [],
   "source": [
    "# # Visual inspection\n",
    "# reg_all_df = utils.get_vid_link(reg_all_df)"
   ]
  },
  {
   "cell_type": "markdown",
   "id": "be7a4ee0",
   "metadata": {},
   "source": [
    "# remove bad PAs\n",
    "PA that changed pitcher or batter or doesn't contain events"
   ]
  },
  {
   "cell_type": "code",
   "execution_count": 6,
   "id": "b732d019",
   "metadata": {},
   "outputs": [
    {
     "data": {
      "text/html": [
       "<div>\n",
       "<style scoped>\n",
       "    .dataframe tbody tr th:only-of-type {\n",
       "        vertical-align: middle;\n",
       "    }\n",
       "\n",
       "    .dataframe tbody tr th {\n",
       "        vertical-align: top;\n",
       "    }\n",
       "\n",
       "    .dataframe thead th {\n",
       "        text-align: right;\n",
       "    }\n",
       "</style>\n",
       "<table border=\"1\" class=\"dataframe\">\n",
       "  <thead>\n",
       "    <tr style=\"text-align: right;\">\n",
       "      <th></th>\n",
       "      <th>game_year</th>\n",
       "      <th>game_pk</th>\n",
       "      <th>at_bat_number</th>\n",
       "      <th>pitcher</th>\n",
       "      <th>batter</th>\n",
       "      <th>events</th>\n",
       "      <th>des</th>\n",
       "      <th>pitch_index</th>\n",
       "    </tr>\n",
       "  </thead>\n",
       "  <tbody>\n",
       "    <tr>\n",
       "      <th>0</th>\n",
       "      <td>2015</td>\n",
       "      <td>413649</td>\n",
       "      <td>1</td>\n",
       "      <td>433587</td>\n",
       "      <td>594777</td>\n",
       "      <td>strikeout</td>\n",
       "      <td>Kole Calhoun called out on strikes.</td>\n",
       "      <td>5274688</td>\n",
       "    </tr>\n",
       "    <tr>\n",
       "      <th>1</th>\n",
       "      <td>2015</td>\n",
       "      <td>413649</td>\n",
       "      <td>2</td>\n",
       "      <td>433587</td>\n",
       "      <td>545361</td>\n",
       "      <td>home_run</td>\n",
       "      <td>Mike Trout homers (1) on a fly ball to center ...</td>\n",
       "      <td>5274680</td>\n",
       "    </tr>\n",
       "    <tr>\n",
       "      <th>2</th>\n",
       "      <td>2015</td>\n",
       "      <td>413649</td>\n",
       "      <td>3</td>\n",
       "      <td>433587</td>\n",
       "      <td>405395</td>\n",
       "      <td>strikeout</td>\n",
       "      <td>Albert Pujols strikes out on a foul tip.</td>\n",
       "      <td>5274673</td>\n",
       "    </tr>\n",
       "    <tr>\n",
       "      <th>3</th>\n",
       "      <td>2015</td>\n",
       "      <td>413649</td>\n",
       "      <td>4</td>\n",
       "      <td>433587</td>\n",
       "      <td>459964</td>\n",
       "      <td>strikeout</td>\n",
       "      <td>Matt Joyce strikes out swinging.</td>\n",
       "      <td>5274670</td>\n",
       "    </tr>\n",
       "    <tr>\n",
       "      <th>4</th>\n",
       "      <td>2015</td>\n",
       "      <td>413649</td>\n",
       "      <td>5</td>\n",
       "      <td>450308</td>\n",
       "      <td>457706</td>\n",
       "      <td>field_out</td>\n",
       "      <td>Austin Jackson grounds out, shortstop Erick Ay...</td>\n",
       "      <td>5274668</td>\n",
       "    </tr>\n",
       "  </tbody>\n",
       "</table>\n",
       "</div>"
      ],
      "text/plain": [
       "   game_year  game_pk  at_bat_number  pitcher  batter     events  \\\n",
       "0       2015   413649              1   433587  594777  strikeout   \n",
       "1       2015   413649              2   433587  545361   home_run   \n",
       "2       2015   413649              3   433587  405395  strikeout   \n",
       "3       2015   413649              4   433587  459964  strikeout   \n",
       "4       2015   413649              5   450308  457706  field_out   \n",
       "\n",
       "                                                 des  pitch_index  \n",
       "0                Kole Calhoun called out on strikes.      5274688  \n",
       "1  Mike Trout homers (1) on a fly ball to center ...      5274680  \n",
       "2           Albert Pujols strikes out on a foul tip.      5274673  \n",
       "3                   Matt Joyce strikes out swinging.      5274670  \n",
       "4  Austin Jackson grounds out, shortstop Erick Ay...      5274668  "
      ]
     },
     "execution_count": 6,
     "metadata": {},
     "output_type": "execute_result"
    }
   ],
   "source": [
    "pa_df = reg_all_df.groupby(['game_year', 'game_pk', 'at_bat_number', 'pitcher', 'batter']).agg({\n",
    "    'events':'first',\n",
    "    'des':'first',\n",
    "    'pitch_index':'first'\n",
    "}).reset_index()\n",
    "pa_df.head()"
   ]
  },
  {
   "cell_type": "code",
   "execution_count": 7,
   "id": "baf81e53",
   "metadata": {},
   "outputs": [],
   "source": [
    "# create df of duplicated pa\n",
    "pa_dup = pa_df[pa_df.duplicated(subset=['game_pk', 'at_bat_number'], keep='first')]\n",
    "pa_dup_list = [(x, y) for x, y in zip(pa_dup['game_pk'], pa_dup['at_bat_number'])]\n",
    "\n",
    "drop_idx = []\n",
    "\n",
    "for pa in pa_dup_list:\n",
    "    drop_idx += reg_all_df[(reg_all_df['game_pk']==pa[0])&(reg_all_df['at_bat_number']==pa[1])].index.to_list()\n",
    "\n",
    "# drop duplicated PA\n",
    "reg_all_df.drop(index=drop_idx, inplace=True)"
   ]
  },
  {
   "cell_type": "code",
   "execution_count": 8,
   "id": "c1060f6f",
   "metadata": {},
   "outputs": [
    {
     "data": {
      "text/plain": [
       "(5272280, 94)"
      ]
     },
     "execution_count": 8,
     "metadata": {},
     "output_type": "execute_result"
    }
   ],
   "source": [
    "reg_all_df.shape"
   ]
  },
  {
   "cell_type": "code",
   "execution_count": 9,
   "id": "750e45ab",
   "metadata": {
    "scrolled": true
   },
   "outputs": [
    {
     "data": {
      "text/html": [
       "<div>\n",
       "<style scoped>\n",
       "    .dataframe tbody tr th:only-of-type {\n",
       "        vertical-align: middle;\n",
       "    }\n",
       "\n",
       "    .dataframe tbody tr th {\n",
       "        vertical-align: top;\n",
       "    }\n",
       "\n",
       "    .dataframe thead th {\n",
       "        text-align: right;\n",
       "    }\n",
       "</style>\n",
       "<table border=\"1\" class=\"dataframe\">\n",
       "  <thead>\n",
       "    <tr style=\"text-align: right;\">\n",
       "      <th></th>\n",
       "      <th>game_year</th>\n",
       "      <th>game_pk</th>\n",
       "      <th>at_bat_number</th>\n",
       "      <th>pitcher</th>\n",
       "      <th>batter</th>\n",
       "      <th>events</th>\n",
       "      <th>des</th>\n",
       "      <th>pitch_index</th>\n",
       "    </tr>\n",
       "  </thead>\n",
       "  <tbody>\n",
       "    <tr>\n",
       "      <th>0</th>\n",
       "      <td>2015</td>\n",
       "      <td>413649</td>\n",
       "      <td>1</td>\n",
       "      <td>433587</td>\n",
       "      <td>594777</td>\n",
       "      <td>strikeout</td>\n",
       "      <td>Kole Calhoun called out on strikes.</td>\n",
       "      <td>5274688</td>\n",
       "    </tr>\n",
       "    <tr>\n",
       "      <th>1</th>\n",
       "      <td>2015</td>\n",
       "      <td>413649</td>\n",
       "      <td>2</td>\n",
       "      <td>433587</td>\n",
       "      <td>545361</td>\n",
       "      <td>home_run</td>\n",
       "      <td>Mike Trout homers (1) on a fly ball to center ...</td>\n",
       "      <td>5274680</td>\n",
       "    </tr>\n",
       "    <tr>\n",
       "      <th>2</th>\n",
       "      <td>2015</td>\n",
       "      <td>413649</td>\n",
       "      <td>3</td>\n",
       "      <td>433587</td>\n",
       "      <td>405395</td>\n",
       "      <td>strikeout</td>\n",
       "      <td>Albert Pujols strikes out on a foul tip.</td>\n",
       "      <td>5274673</td>\n",
       "    </tr>\n",
       "    <tr>\n",
       "      <th>3</th>\n",
       "      <td>2015</td>\n",
       "      <td>413649</td>\n",
       "      <td>4</td>\n",
       "      <td>433587</td>\n",
       "      <td>459964</td>\n",
       "      <td>strikeout</td>\n",
       "      <td>Matt Joyce strikes out swinging.</td>\n",
       "      <td>5274670</td>\n",
       "    </tr>\n",
       "    <tr>\n",
       "      <th>4</th>\n",
       "      <td>2015</td>\n",
       "      <td>413649</td>\n",
       "      <td>5</td>\n",
       "      <td>450308</td>\n",
       "      <td>457706</td>\n",
       "      <td>field_out</td>\n",
       "      <td>Austin Jackson grounds out, shortstop Erick Ay...</td>\n",
       "      <td>5274668</td>\n",
       "    </tr>\n",
       "  </tbody>\n",
       "</table>\n",
       "</div>"
      ],
      "text/plain": [
       "   game_year  game_pk  at_bat_number  pitcher  batter     events  \\\n",
       "0       2015   413649              1   433587  594777  strikeout   \n",
       "1       2015   413649              2   433587  545361   home_run   \n",
       "2       2015   413649              3   433587  405395  strikeout   \n",
       "3       2015   413649              4   433587  459964  strikeout   \n",
       "4       2015   413649              5   450308  457706  field_out   \n",
       "\n",
       "                                                 des  pitch_index  \n",
       "0                Kole Calhoun called out on strikes.      5274688  \n",
       "1  Mike Trout homers (1) on a fly ball to center ...      5274680  \n",
       "2           Albert Pujols strikes out on a foul tip.      5274673  \n",
       "3                   Matt Joyce strikes out swinging.      5274670  \n",
       "4  Austin Jackson grounds out, shortstop Erick Ay...      5274668  "
      ]
     },
     "execution_count": 9,
     "metadata": {},
     "output_type": "execute_result"
    }
   ],
   "source": [
    "# re-create pa_df\n",
    "pa_df = reg_all_df.groupby(['game_year', 'game_pk', 'at_bat_number', 'pitcher', 'batter']).agg({\n",
    "    'events':'first',\n",
    "    'des':'first',\n",
    "    'pitch_index':'first'\n",
    "}).reset_index()\n",
    "pa_df.head()"
   ]
  },
  {
   "cell_type": "code",
   "execution_count": 10,
   "id": "261d2fdf",
   "metadata": {},
   "outputs": [
    {
     "data": {
      "text/html": [
       "<div>\n",
       "<style scoped>\n",
       "    .dataframe tbody tr th:only-of-type {\n",
       "        vertical-align: middle;\n",
       "    }\n",
       "\n",
       "    .dataframe tbody tr th {\n",
       "        vertical-align: top;\n",
       "    }\n",
       "\n",
       "    .dataframe thead th {\n",
       "        text-align: right;\n",
       "    }\n",
       "</style>\n",
       "<table border=\"1\" class=\"dataframe\">\n",
       "  <thead>\n",
       "    <tr style=\"text-align: right;\">\n",
       "      <th></th>\n",
       "      <th>game_year</th>\n",
       "      <th>game_pk</th>\n",
       "      <th>at_bat_number</th>\n",
       "      <th>pitcher</th>\n",
       "      <th>batter</th>\n",
       "      <th>events</th>\n",
       "      <th>des</th>\n",
       "      <th>pitch_index</th>\n",
       "    </tr>\n",
       "  </thead>\n",
       "  <tbody>\n",
       "    <tr>\n",
       "      <th>8453</th>\n",
       "      <td>2015</td>\n",
       "      <td>413759</td>\n",
       "      <td>62</td>\n",
       "      <td>466948</td>\n",
       "      <td>572816</td>\n",
       "      <td>None</td>\n",
       "      <td>None</td>\n",
       "      <td>5243123</td>\n",
       "    </tr>\n",
       "    <tr>\n",
       "      <th>14444</th>\n",
       "      <td>2015</td>\n",
       "      <td>413840</td>\n",
       "      <td>22</td>\n",
       "      <td>282332</td>\n",
       "      <td>434658</td>\n",
       "      <td>None</td>\n",
       "      <td>None</td>\n",
       "      <td>5220248</td>\n",
       "    </tr>\n",
       "    <tr>\n",
       "      <th>16995</th>\n",
       "      <td>2015</td>\n",
       "      <td>413873</td>\n",
       "      <td>51</td>\n",
       "      <td>112526</td>\n",
       "      <td>592743</td>\n",
       "      <td>None</td>\n",
       "      <td>None</td>\n",
       "      <td>5210438</td>\n",
       "    </tr>\n",
       "    <tr>\n",
       "      <th>33041</th>\n",
       "      <td>2015</td>\n",
       "      <td>414086</td>\n",
       "      <td>46</td>\n",
       "      <td>572750</td>\n",
       "      <td>648717</td>\n",
       "      <td>None</td>\n",
       "      <td>None</td>\n",
       "      <td>5151816</td>\n",
       "    </tr>\n",
       "  </tbody>\n",
       "</table>\n",
       "</div>"
      ],
      "text/plain": [
       "       game_year  game_pk  at_bat_number  pitcher  batter events   des  \\\n",
       "8453        2015   413759             62   466948  572816   None  None   \n",
       "14444       2015   413840             22   282332  434658   None  None   \n",
       "16995       2015   413873             51   112526  592743   None  None   \n",
       "33041       2015   414086             46   572750  648717   None  None   \n",
       "\n",
       "       pitch_index  \n",
       "8453       5243123  \n",
       "14444      5220248  \n",
       "16995      5210438  \n",
       "33041      5151816  "
      ]
     },
     "execution_count": 10,
     "metadata": {},
     "output_type": "execute_result"
    }
   ],
   "source": [
    "missing_event_df = pa_df[pa_df['events'].isna()].copy()\n",
    "missing_event_df[missing_event_df['des'].isna()]"
   ]
  },
  {
   "cell_type": "code",
   "execution_count": null,
   "id": "d98cbc41",
   "metadata": {},
   "outputs": [],
   "source": []
  },
  {
   "cell_type": "code",
   "execution_count": 11,
   "id": "0054e075",
   "metadata": {},
   "outputs": [],
   "source": [
    "# drop pa if des is None\n",
    "missing_event_df.drop(index=missing_event_df[missing_event_df['des'].isna()].index, inplace=True)\n",
    "\n",
    "for i, r in missing_event_df.iterrows():\n",
    "    missing_event_df.loc[i, 'events_imputed'] = 'BB' if 'intentionally walks' in r['des'] else 'other'"
   ]
  },
  {
   "cell_type": "code",
   "execution_count": 12,
   "id": "578761d7",
   "metadata": {},
   "outputs": [
    {
     "data": {
      "text/html": [
       "<div>\n",
       "<style scoped>\n",
       "    .dataframe tbody tr th:only-of-type {\n",
       "        vertical-align: middle;\n",
       "    }\n",
       "\n",
       "    .dataframe tbody tr th {\n",
       "        vertical-align: top;\n",
       "    }\n",
       "\n",
       "    .dataframe thead th {\n",
       "        text-align: right;\n",
       "    }\n",
       "</style>\n",
       "<table border=\"1\" class=\"dataframe\">\n",
       "  <thead>\n",
       "    <tr style=\"text-align: right;\">\n",
       "      <th></th>\n",
       "      <th>game_year</th>\n",
       "      <th>game_pk</th>\n",
       "      <th>at_bat_number</th>\n",
       "      <th>pitcher</th>\n",
       "      <th>batter</th>\n",
       "      <th>events</th>\n",
       "      <th>des</th>\n",
       "      <th>pitch_index</th>\n",
       "      <th>events_imputed</th>\n",
       "    </tr>\n",
       "  </thead>\n",
       "  <tbody>\n",
       "    <tr>\n",
       "      <th>1856</th>\n",
       "      <td>2015</td>\n",
       "      <td>413674</td>\n",
       "      <td>68</td>\n",
       "      <td>449097</td>\n",
       "      <td>452672</td>\n",
       "      <td>None</td>\n",
       "      <td>Ryan Hanigan reaches on catcher interference b...</td>\n",
       "      <td>5267816</td>\n",
       "      <td>other</td>\n",
       "    </tr>\n",
       "    <tr>\n",
       "      <th>5082</th>\n",
       "      <td>2015</td>\n",
       "      <td>413716</td>\n",
       "      <td>16</td>\n",
       "      <td>477132</td>\n",
       "      <td>572041</td>\n",
       "      <td>None</td>\n",
       "      <td>With A.  J. Pollock batting, Archie Bradley pi...</td>\n",
       "      <td>5255843</td>\n",
       "      <td>other</td>\n",
       "    </tr>\n",
       "    <tr>\n",
       "      <th>6236</th>\n",
       "      <td>2015</td>\n",
       "      <td>413731</td>\n",
       "      <td>4</td>\n",
       "      <td>518567</td>\n",
       "      <td>435062</td>\n",
       "      <td>None</td>\n",
       "      <td>With Howie Kendrick batting, Jimmy Rollins pic...</td>\n",
       "      <td>5251510</td>\n",
       "      <td>other</td>\n",
       "    </tr>\n",
       "    <tr>\n",
       "      <th>6504</th>\n",
       "      <td>2015</td>\n",
       "      <td>413734</td>\n",
       "      <td>38</td>\n",
       "      <td>594987</td>\n",
       "      <td>516416</td>\n",
       "      <td>None</td>\n",
       "      <td>Carlos Gomez picked off and caught stealing 3r...</td>\n",
       "      <td>5250549</td>\n",
       "      <td>other</td>\n",
       "    </tr>\n",
       "    <tr>\n",
       "      <th>8798</th>\n",
       "      <td>2015</td>\n",
       "      <td>413764</td>\n",
       "      <td>42</td>\n",
       "      <td>518774</td>\n",
       "      <td>429667</td>\n",
       "      <td>None</td>\n",
       "      <td>Ryan Howard reaches on catcher interference by...</td>\n",
       "      <td>5241841</td>\n",
       "      <td>other</td>\n",
       "    </tr>\n",
       "  </tbody>\n",
       "</table>\n",
       "</div>"
      ],
      "text/plain": [
       "      game_year  game_pk  at_bat_number  pitcher  batter events  \\\n",
       "1856       2015   413674             68   449097  452672   None   \n",
       "5082       2015   413716             16   477132  572041   None   \n",
       "6236       2015   413731              4   518567  435062   None   \n",
       "6504       2015   413734             38   594987  516416   None   \n",
       "8798       2015   413764             42   518774  429667   None   \n",
       "\n",
       "                                                    des  pitch_index  \\\n",
       "1856  Ryan Hanigan reaches on catcher interference b...      5267816   \n",
       "5082  With A.  J. Pollock batting, Archie Bradley pi...      5255843   \n",
       "6236  With Howie Kendrick batting, Jimmy Rollins pic...      5251510   \n",
       "6504  Carlos Gomez picked off and caught stealing 3r...      5250549   \n",
       "8798  Ryan Howard reaches on catcher interference by...      5241841   \n",
       "\n",
       "     events_imputed  \n",
       "1856          other  \n",
       "5082          other  \n",
       "6236          other  \n",
       "6504          other  \n",
       "8798          other  "
      ]
     },
     "execution_count": 12,
     "metadata": {},
     "output_type": "execute_result"
    }
   ],
   "source": [
    "missing_event_df.head()"
   ]
  },
  {
   "cell_type": "code",
   "execution_count": 13,
   "id": "fe87e75e",
   "metadata": {
    "scrolled": true
   },
   "outputs": [
    {
     "data": {
      "text/plain": [
       "(1727, 9)"
      ]
     },
     "execution_count": 13,
     "metadata": {},
     "output_type": "execute_result"
    }
   ],
   "source": [
    "missing_event_df.shape"
   ]
  },
  {
   "cell_type": "code",
   "execution_count": 14,
   "id": "829da75d",
   "metadata": {
    "scrolled": true
   },
   "outputs": [],
   "source": [
    "reg_all_df = reg_all_df.merge(\n",
    "    missing_event_df[['pitch_index', 'events_imputed']], on=['pitch_index'], how='left', suffixes=('', '_y')\n",
    ")"
   ]
  },
  {
   "cell_type": "code",
   "execution_count": 15,
   "id": "24e34f81",
   "metadata": {},
   "outputs": [],
   "source": [
    "# drop pitches if des is None\n",
    "reg_all_df.drop(index=reg_all_df[reg_all_df['des'].isna()].index, inplace=True)"
   ]
  },
  {
   "cell_type": "code",
   "execution_count": 16,
   "id": "0cb15e0b",
   "metadata": {},
   "outputs": [],
   "source": [
    "reg_all_df.loc[reg_all_df['events'].isna(), 'events'] = reg_all_df['events_imputed']\n",
    "reg_all_df.reset_index(drop=True, inplace=True)"
   ]
  },
  {
   "cell_type": "code",
   "execution_count": 17,
   "id": "588dcb9a",
   "metadata": {},
   "outputs": [
    {
     "data": {
      "text/plain": [
       "(5272267, 95)"
      ]
     },
     "execution_count": 17,
     "metadata": {},
     "output_type": "execute_result"
    }
   ],
   "source": [
    "reg_all_df.shape"
   ]
  },
  {
   "cell_type": "markdown",
   "id": "292bc213",
   "metadata": {
    "id": "292bc213"
   },
   "source": [
    "# Remove ball 4 and strike 3 rows"
   ]
  },
  {
   "cell_type": "code",
   "execution_count": 18,
   "id": "9403af2d",
   "metadata": {
    "colab": {
     "base_uri": "https://localhost:8080/"
    },
    "executionInfo": {
     "elapsed": 14,
     "status": "ok",
     "timestamp": 1668737184486,
     "user": {
      "displayName": "Jeff Jin",
      "userId": "04519095521378007072"
     },
     "user_tz": 300
    },
    "id": "9403af2d",
    "outputId": "d922f79c-1b4d-488a-f633-6162312be082",
    "scrolled": true
   },
   "outputs": [
    {
     "data": {
      "text/plain": [
       "0    2377217\n",
       "1    1570376\n",
       "2     891515\n",
       "3     433139\n",
       "4         20\n",
       "Name: balls, dtype: int64"
      ]
     },
     "execution_count": 18,
     "metadata": {},
     "output_type": "execute_result"
    }
   ],
   "source": [
    "reg_all_df['balls'].value_counts()"
   ]
  },
  {
   "cell_type": "code",
   "execution_count": 19,
   "id": "bd742416",
   "metadata": {
    "colab": {
     "base_uri": "https://localhost:8080/"
    },
    "executionInfo": {
     "elapsed": 13,
     "status": "ok",
     "timestamp": 1668737184487,
     "user": {
      "displayName": "Jeff Jin",
      "userId": "04519095521378007072"
     },
     "user_tz": 300
    },
    "id": "bd742416",
    "outputId": "eb032fe4-8925-4f7f-99ee-d0909cda23f6",
    "scrolled": true
   },
   "outputs": [
    {
     "data": {
      "text/plain": [
       "0    2122301\n",
       "1    1608040\n",
       "2    1541925\n",
       "3          1\n",
       "Name: strikes, dtype: int64"
      ]
     },
     "execution_count": 19,
     "metadata": {},
     "output_type": "execute_result"
    }
   ],
   "source": [
    "reg_all_df['strikes'].value_counts()"
   ]
  },
  {
   "cell_type": "code",
   "execution_count": 20,
   "id": "4fb87a17",
   "metadata": {
    "colab": {
     "base_uri": "https://localhost:8080/"
    },
    "executionInfo": {
     "elapsed": 359,
     "status": "ok",
     "timestamp": 1668737184834,
     "user": {
      "displayName": "Jeff Jin",
      "userId": "04519095521378007072"
     },
     "user_tz": 300
    },
    "id": "4fb87a17",
    "outputId": "cca2dad1-3ba5-49cb-8e10-493023cc7511",
    "scrolled": true
   },
   "outputs": [
    {
     "data": {
      "text/html": [
       "<div>\n",
       "<style scoped>\n",
       "    .dataframe tbody tr th:only-of-type {\n",
       "        vertical-align: middle;\n",
       "    }\n",
       "\n",
       "    .dataframe tbody tr th {\n",
       "        vertical-align: top;\n",
       "    }\n",
       "\n",
       "    .dataframe thead th {\n",
       "        text-align: right;\n",
       "    }\n",
       "</style>\n",
       "<table border=\"1\" class=\"dataframe\">\n",
       "  <thead>\n",
       "    <tr style=\"text-align: right;\">\n",
       "      <th></th>\n",
       "      <th>balls</th>\n",
       "      <th>strikes</th>\n",
       "      <th>game_pk</th>\n",
       "      <th>at_bat_number</th>\n",
       "    </tr>\n",
       "  </thead>\n",
       "  <tbody>\n",
       "    <tr>\n",
       "      <th>26157</th>\n",
       "      <td>4</td>\n",
       "      <td>2</td>\n",
       "      <td>661097</td>\n",
       "      <td>58</td>\n",
       "    </tr>\n",
       "    <tr>\n",
       "      <th>250201</th>\n",
       "      <td>1</td>\n",
       "      <td>3</td>\n",
       "      <td>662725</td>\n",
       "      <td>21</td>\n",
       "    </tr>\n",
       "    <tr>\n",
       "      <th>650016</th>\n",
       "      <td>4</td>\n",
       "      <td>2</td>\n",
       "      <td>662390</td>\n",
       "      <td>63</td>\n",
       "    </tr>\n",
       "    <tr>\n",
       "      <th>1085773</th>\n",
       "      <td>4</td>\n",
       "      <td>2</td>\n",
       "      <td>633530</td>\n",
       "      <td>44</td>\n",
       "    </tr>\n",
       "    <tr>\n",
       "      <th>1438229</th>\n",
       "      <td>4</td>\n",
       "      <td>2</td>\n",
       "      <td>630892</td>\n",
       "      <td>74</td>\n",
       "    </tr>\n",
       "    <tr>\n",
       "      <th>2217116</th>\n",
       "      <td>4</td>\n",
       "      <td>1</td>\n",
       "      <td>566783</td>\n",
       "      <td>67</td>\n",
       "    </tr>\n",
       "    <tr>\n",
       "      <th>2671331</th>\n",
       "      <td>4</td>\n",
       "      <td>2</td>\n",
       "      <td>530969</td>\n",
       "      <td>66</td>\n",
       "    </tr>\n",
       "    <tr>\n",
       "      <th>2997499</th>\n",
       "      <td>4</td>\n",
       "      <td>2</td>\n",
       "      <td>529872</td>\n",
       "      <td>28</td>\n",
       "    </tr>\n",
       "    <tr>\n",
       "      <th>3357945</th>\n",
       "      <td>4</td>\n",
       "      <td>2</td>\n",
       "      <td>491781</td>\n",
       "      <td>45</td>\n",
       "    </tr>\n",
       "    <tr>\n",
       "      <th>4738467</th>\n",
       "      <td>4</td>\n",
       "      <td>2</td>\n",
       "      <td>415513</td>\n",
       "      <td>4</td>\n",
       "    </tr>\n",
       "    <tr>\n",
       "      <th>5089645</th>\n",
       "      <td>4</td>\n",
       "      <td>1</td>\n",
       "      <td>414292</td>\n",
       "      <td>41</td>\n",
       "    </tr>\n",
       "    <tr>\n",
       "      <th>5214816</th>\n",
       "      <td>4</td>\n",
       "      <td>2</td>\n",
       "      <td>413849</td>\n",
       "      <td>40</td>\n",
       "    </tr>\n",
       "  </tbody>\n",
       "</table>\n",
       "</div>"
      ],
      "text/plain": [
       "         balls  strikes  game_pk  at_bat_number\n",
       "26157        4        2   661097             58\n",
       "250201       1        3   662725             21\n",
       "650016       4        2   662390             63\n",
       "1085773      4        2   633530             44\n",
       "1438229      4        2   630892             74\n",
       "2217116      4        1   566783             67\n",
       "2671331      4        2   530969             66\n",
       "2997499      4        2   529872             28\n",
       "3357945      4        2   491781             45\n",
       "4738467      4        2   415513              4\n",
       "5089645      4        1   414292             41\n",
       "5214816      4        2   413849             40"
      ]
     },
     "execution_count": 20,
     "metadata": {},
     "output_type": "execute_result"
    }
   ],
   "source": [
    "b4s3_df = reg_all_df[(reg_all_df['balls']==4)|(reg_all_df['strikes']==3)][['balls', 'strikes', 'game_pk', 'at_bat_number']].drop_duplicates(subset=['game_pk', 'at_bat_number'], keep='first').copy()\n",
    "b4s3_df"
   ]
  },
  {
   "cell_type": "code",
   "execution_count": 21,
   "id": "2fdf4a76",
   "metadata": {
    "id": "2fdf4a76"
   },
   "outputs": [],
   "source": [
    "# remove pa with ball 4 and strike 3\n",
    "\n",
    "drop_idx = []\n",
    "for i, r in b4s3_df.iterrows():\n",
    "    drop_idx += reg_all_df[(reg_all_df['game_pk']==r[2])&(reg_all_df['at_bat_number']==r[3])].index.to_list()"
   ]
  },
  {
   "cell_type": "code",
   "execution_count": 22,
   "id": "0a09b99d",
   "metadata": {},
   "outputs": [
    {
     "data": {
      "text/plain": [
       "Int64Index([5214816, 5214817, 5214818, 5214819, 5214820, 5214821, 5214822], dtype='int64')"
      ]
     },
     "execution_count": 22,
     "metadata": {},
     "output_type": "execute_result"
    }
   ],
   "source": [
    "reg_all_df[(reg_all_df['game_pk']==r[2])&(reg_all_df['at_bat_number']==r[3])].index"
   ]
  },
  {
   "cell_type": "code",
   "execution_count": 23,
   "id": "7db0ffee",
   "metadata": {
    "id": "7db0ffee"
   },
   "outputs": [],
   "source": [
    "reg_clean_df = reg_all_df.drop(index=drop_idx)"
   ]
  },
  {
   "cell_type": "code",
   "execution_count": 24,
   "id": "7774c908",
   "metadata": {},
   "outputs": [
    {
     "data": {
      "text/plain": [
       "Int64Index([], dtype='int64')"
      ]
     },
     "execution_count": 24,
     "metadata": {},
     "output_type": "execute_result"
    }
   ],
   "source": [
    "reg_clean_df[(reg_clean_df['game_pk']==r[2])&(reg_clean_df['at_bat_number']==r[3])].index"
   ]
  },
  {
   "cell_type": "code",
   "execution_count": 25,
   "id": "68f92fb8",
   "metadata": {
    "colab": {
     "base_uri": "https://localhost:8080/"
    },
    "executionInfo": {
     "elapsed": 11,
     "status": "ok",
     "timestamp": 1668737186508,
     "user": {
      "displayName": "Jeff Jin",
      "userId": "04519095521378007072"
     },
     "user_tz": 300
    },
    "id": "68f92fb8",
    "outputId": "981bfb57-1cbc-40d6-8795-4876bb958f0f"
   },
   "outputs": [
    {
     "data": {
      "text/plain": [
       "92"
      ]
     },
     "execution_count": 25,
     "metadata": {},
     "output_type": "execute_result"
    }
   ],
   "source": [
    "#pitches dropped\n",
    "reg_all_df.shape[0] - reg_clean_df.shape[0]"
   ]
  },
  {
   "cell_type": "markdown",
   "id": "5617e825",
   "metadata": {},
   "source": [
    "# Create event_type"
   ]
  },
  {
   "cell_type": "code",
   "execution_count": 26,
   "id": "b2283067",
   "metadata": {
    "id": "b2283067"
   },
   "outputs": [],
   "source": [
    "B1_list = 'single'\n",
    "B2_list = 'double'\n",
    "B3_list = 'triple'\n",
    "HR_list = 'home_run'\n",
    "FO_list = ['field_out', 'grounded_into_double_play', 'sac_bunt', 'force_out', 'field_error', \n",
    "            'sac_fly', 'double_play', 'fielders_choice', 'fielders_choice_out', 'sac_fly_double_play',\n",
    "           'sac_bunt_double_play', 'triple_play']\n",
    "K_list = ['strikeout', 'strikeout_double_play']\n",
    "BB_list = ['walk','hit_by_pitch', 'intent_walk', 'BB']\n",
    "other_list = ['caught_stealing_2b', 'caught_stealing_home','other_out', 'pickoff_3b', 'catcher_interf', \n",
    "              'caught_stealing_3b', 'wild_pitch', 'passed_ball', 'stolen_base_2b', 'pickoff_2b', \n",
    "              'pickoff_1b', 'pickoff_caught_stealing_2b', 'game_advisory', 'pickoff_caught_stealing_3b',\n",
    "              'pickoff_caught_stealing_home', 'runner_double_play', 'other', 'stolen_base_home',\n",
    "             'pickoff_error_2b', 'ejection', 'pickoff_error_2b', 'stolen_base_3b']"
   ]
  },
  {
   "cell_type": "code",
   "execution_count": 27,
   "id": "ba8aca6d",
   "metadata": {},
   "outputs": [
    {
     "data": {
      "text/plain": [
       "[nan]"
      ]
     },
     "execution_count": 27,
     "metadata": {},
     "output_type": "execute_result"
    }
   ],
   "source": [
    "# check if any events are not counted\n",
    "e_list = reg_clean_df['events'].unique()\n",
    "[e for e in e_list if e not in FO_list + K_list + BB_list + other_list + [B1_list] + [B2_list] + [B3_list] + [HR_list]]"
   ]
  },
  {
   "cell_type": "code",
   "execution_count": 28,
   "id": "1e9a3155",
   "metadata": {
    "id": "1e9a3155"
   },
   "outputs": [],
   "source": [
    "reg_clean_df.loc[reg_clean_df['events']=='single', 'event_type'] = '1B'\n",
    "reg_clean_df.loc[reg_clean_df['events']=='double', 'event_type'] = '2B'\n",
    "reg_clean_df.loc[reg_clean_df['events']=='triple', 'event_type'] = '3B'\n",
    "reg_clean_df.loc[reg_clean_df['events']=='home_run', 'event_type'] = 'HR'\n",
    "reg_clean_df.loc[reg_clean_df['events'].isin(FO_list), 'event_type'] = 'FO'\n",
    "reg_clean_df.loc[reg_clean_df['events'].isin(K_list), 'event_type'] = 'K'\n",
    "reg_clean_df.loc[reg_clean_df['events'].isin(BB_list), 'event_type'] = 'BB'\n",
    "reg_clean_df.loc[reg_clean_df['events'].isin(other_list), 'event_type'] = 'other'"
   ]
  },
  {
   "cell_type": "code",
   "execution_count": null,
   "id": "61b3ec9f",
   "metadata": {},
   "outputs": [],
   "source": [
    "# drop un-needed columns to increase MC run speed\n",
    "col_keep = [\n",
    "    'pitch_index', 'game_year', 'game_pk', 'at_bat_number', \n",
    "    'home_team', 'away_team', 'pitch_type', 'game_date',\n",
    "    'player_name', 'batter', 'pitcher', 'stand', 'p_throws', \n",
    "    'event_type', 'des', 'inning', 'inning_topbot',\n",
    "    'balls', 'strikes', 'n_count'\n",
    "]\n",
    "\n",
    "reg_clean_lean_df = reg_clean_df[col_keep].copy()"
   ]
  },
  {
   "cell_type": "code",
   "execution_count": 41,
   "id": "012522ac",
   "metadata": {},
   "outputs": [],
   "source": [
    "# reg_clean_lean_df.to_csv('data/PitchDataCleanedLean_15-22.csv')"
   ]
  },
  {
   "cell_type": "markdown",
   "id": "800c18c6",
   "metadata": {},
   "source": [
    "# Group PA"
   ]
  },
  {
   "cell_type": "code",
   "execution_count": 38,
   "id": "eab12c6f",
   "metadata": {},
   "outputs": [],
   "source": [
    "reg_clean_lean_df = pd.read_csv('../data/PitchDataCleanedLean_15-22.csv', index_col=[0])"
   ]
  },
  {
   "cell_type": "code",
   "execution_count": 42,
   "id": "af292084",
   "metadata": {},
   "outputs": [],
   "source": [
    "pa_df = reg_clean_lean_df.groupby(['game_year', 'game_pk', 'at_bat_number', 'pitcher', 'batter']).agg({\n",
    "    'home_team':'first',\n",
    "    'away_team':'first',\n",
    "    'inning_topbot':'first',\n",
    "    'stand':'first',\n",
    "    'p_throws':'first',\n",
    "    'event_type':'first',\n",
    "    'des':'first'\n",
    "}).reset_index()\n",
    "\n",
    "event_df = pd.get_dummies(pa_df['event_type'])\n",
    "\n",
    "event_df = event_df[utils.EVENT_LIST].copy()\n",
    "\n",
    "pa_df = pd.concat([pa_df, event_df], axis=1)"
   ]
  },
  {
   "cell_type": "code",
   "execution_count": 43,
   "id": "5bb771e9",
   "metadata": {},
   "outputs": [
    {
     "data": {
      "text/html": [
       "<div>\n",
       "<style scoped>\n",
       "    .dataframe tbody tr th:only-of-type {\n",
       "        vertical-align: middle;\n",
       "    }\n",
       "\n",
       "    .dataframe tbody tr th {\n",
       "        vertical-align: top;\n",
       "    }\n",
       "\n",
       "    .dataframe thead th {\n",
       "        text-align: right;\n",
       "    }\n",
       "</style>\n",
       "<table border=\"1\" class=\"dataframe\">\n",
       "  <thead>\n",
       "    <tr style=\"text-align: right;\">\n",
       "      <th></th>\n",
       "      <th>game_year</th>\n",
       "      <th>game_pk</th>\n",
       "      <th>at_bat_number</th>\n",
       "      <th>pitcher</th>\n",
       "      <th>batter</th>\n",
       "      <th>home_team</th>\n",
       "      <th>away_team</th>\n",
       "      <th>inning_topbot</th>\n",
       "      <th>stand</th>\n",
       "      <th>p_throws</th>\n",
       "      <th>event_type</th>\n",
       "      <th>des</th>\n",
       "      <th>1B</th>\n",
       "      <th>2B</th>\n",
       "      <th>3B</th>\n",
       "      <th>HR</th>\n",
       "      <th>FO</th>\n",
       "      <th>BB</th>\n",
       "      <th>K</th>\n",
       "      <th>other</th>\n",
       "    </tr>\n",
       "  </thead>\n",
       "  <tbody>\n",
       "    <tr>\n",
       "      <th>0</th>\n",
       "      <td>2015</td>\n",
       "      <td>413649</td>\n",
       "      <td>1</td>\n",
       "      <td>433587</td>\n",
       "      <td>594777</td>\n",
       "      <td>SEA</td>\n",
       "      <td>LAA</td>\n",
       "      <td>Top</td>\n",
       "      <td>L</td>\n",
       "      <td>R</td>\n",
       "      <td>K</td>\n",
       "      <td>Kole Calhoun called out on strikes.</td>\n",
       "      <td>0</td>\n",
       "      <td>0</td>\n",
       "      <td>0</td>\n",
       "      <td>0</td>\n",
       "      <td>0</td>\n",
       "      <td>0</td>\n",
       "      <td>1</td>\n",
       "      <td>0</td>\n",
       "    </tr>\n",
       "    <tr>\n",
       "      <th>1</th>\n",
       "      <td>2015</td>\n",
       "      <td>413649</td>\n",
       "      <td>2</td>\n",
       "      <td>433587</td>\n",
       "      <td>545361</td>\n",
       "      <td>SEA</td>\n",
       "      <td>LAA</td>\n",
       "      <td>Top</td>\n",
       "      <td>R</td>\n",
       "      <td>R</td>\n",
       "      <td>HR</td>\n",
       "      <td>Mike Trout homers (1) on a fly ball to center ...</td>\n",
       "      <td>0</td>\n",
       "      <td>0</td>\n",
       "      <td>0</td>\n",
       "      <td>1</td>\n",
       "      <td>0</td>\n",
       "      <td>0</td>\n",
       "      <td>0</td>\n",
       "      <td>0</td>\n",
       "    </tr>\n",
       "    <tr>\n",
       "      <th>2</th>\n",
       "      <td>2015</td>\n",
       "      <td>413649</td>\n",
       "      <td>3</td>\n",
       "      <td>433587</td>\n",
       "      <td>405395</td>\n",
       "      <td>SEA</td>\n",
       "      <td>LAA</td>\n",
       "      <td>Top</td>\n",
       "      <td>R</td>\n",
       "      <td>R</td>\n",
       "      <td>K</td>\n",
       "      <td>Albert Pujols strikes out on a foul tip.</td>\n",
       "      <td>0</td>\n",
       "      <td>0</td>\n",
       "      <td>0</td>\n",
       "      <td>0</td>\n",
       "      <td>0</td>\n",
       "      <td>0</td>\n",
       "      <td>1</td>\n",
       "      <td>0</td>\n",
       "    </tr>\n",
       "    <tr>\n",
       "      <th>3</th>\n",
       "      <td>2015</td>\n",
       "      <td>413649</td>\n",
       "      <td>4</td>\n",
       "      <td>433587</td>\n",
       "      <td>459964</td>\n",
       "      <td>SEA</td>\n",
       "      <td>LAA</td>\n",
       "      <td>Top</td>\n",
       "      <td>L</td>\n",
       "      <td>R</td>\n",
       "      <td>K</td>\n",
       "      <td>Matt Joyce strikes out swinging.</td>\n",
       "      <td>0</td>\n",
       "      <td>0</td>\n",
       "      <td>0</td>\n",
       "      <td>0</td>\n",
       "      <td>0</td>\n",
       "      <td>0</td>\n",
       "      <td>1</td>\n",
       "      <td>0</td>\n",
       "    </tr>\n",
       "    <tr>\n",
       "      <th>4</th>\n",
       "      <td>2015</td>\n",
       "      <td>413649</td>\n",
       "      <td>5</td>\n",
       "      <td>450308</td>\n",
       "      <td>457706</td>\n",
       "      <td>SEA</td>\n",
       "      <td>LAA</td>\n",
       "      <td>Bot</td>\n",
       "      <td>R</td>\n",
       "      <td>R</td>\n",
       "      <td>FO</td>\n",
       "      <td>Austin Jackson grounds out, shortstop Erick Ay...</td>\n",
       "      <td>0</td>\n",
       "      <td>0</td>\n",
       "      <td>0</td>\n",
       "      <td>0</td>\n",
       "      <td>1</td>\n",
       "      <td>0</td>\n",
       "      <td>0</td>\n",
       "      <td>0</td>\n",
       "    </tr>\n",
       "  </tbody>\n",
       "</table>\n",
       "</div>"
      ],
      "text/plain": [
       "   game_year  game_pk  at_bat_number  pitcher  batter home_team away_team  \\\n",
       "0       2015   413649              1   433587  594777       SEA       LAA   \n",
       "1       2015   413649              2   433587  545361       SEA       LAA   \n",
       "2       2015   413649              3   433587  405395       SEA       LAA   \n",
       "3       2015   413649              4   433587  459964       SEA       LAA   \n",
       "4       2015   413649              5   450308  457706       SEA       LAA   \n",
       "\n",
       "  inning_topbot stand p_throws event_type  \\\n",
       "0           Top     L        R          K   \n",
       "1           Top     R        R         HR   \n",
       "2           Top     R        R          K   \n",
       "3           Top     L        R          K   \n",
       "4           Bot     R        R         FO   \n",
       "\n",
       "                                                 des  1B  2B  3B  HR  FO  BB  \\\n",
       "0                Kole Calhoun called out on strikes.   0   0   0   0   0   0   \n",
       "1  Mike Trout homers (1) on a fly ball to center ...   0   0   0   1   0   0   \n",
       "2           Albert Pujols strikes out on a foul tip.   0   0   0   0   0   0   \n",
       "3                   Matt Joyce strikes out swinging.   0   0   0   0   0   0   \n",
       "4  Austin Jackson grounds out, shortstop Erick Ay...   0   0   0   0   1   0   \n",
       "\n",
       "   K  other  \n",
       "0  1      0  \n",
       "1  0      0  \n",
       "2  1      0  \n",
       "3  1      0  \n",
       "4  0      0  "
      ]
     },
     "execution_count": 43,
     "metadata": {},
     "output_type": "execute_result"
    }
   ],
   "source": [
    "pa_df.head()"
   ]
  },
  {
   "cell_type": "code",
   "execution_count": 46,
   "id": "34aa96a2",
   "metadata": {},
   "outputs": [],
   "source": [
    "pa_df_1519 = pa_df[~pa_df['game_year'].isin([2022, 2021, 2020])].copy()"
   ]
  },
  {
   "cell_type": "code",
   "execution_count": 49,
   "id": "ad0de535",
   "metadata": {},
   "outputs": [],
   "source": [
    "# pa_df_1519.to_csv('../data/PA_data_15-19.csv')\n",
    "\n",
    "# pa_df.to_csv('../data/PA_data_15-22.csv')"
   ]
  }
 ],
 "metadata": {
  "kernelspec": {
   "display_name": "Python [conda env:bb_sim]",
   "language": "python",
   "name": "conda-env-bb_sim-py"
  },
  "language_info": {
   "codemirror_mode": {
    "name": "ipython",
    "version": 3
   },
   "file_extension": ".py",
   "mimetype": "text/x-python",
   "name": "python",
   "nbconvert_exporter": "python",
   "pygments_lexer": "ipython3",
   "version": "3.9.13"
  }
 },
 "nbformat": 4,
 "nbformat_minor": 5
}
