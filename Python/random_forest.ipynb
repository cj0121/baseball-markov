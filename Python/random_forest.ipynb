{
 "cells": [
  {
   "cell_type": "code",
   "execution_count": 1,
   "id": "ff65b0ff",
   "metadata": {
    "id": "ff65b0ff"
   },
   "outputs": [
    {
     "data": {
      "application/javascript": [
       "if (!(\"Notification\" in window)) {\n",
       "    alert(\"This browser does not support desktop notifications, so the %%notify magic will not work.\");\n",
       "} else if (Notification.permission !== 'granted' && Notification.permission !== 'denied') {\n",
       "    Notification.requestPermission(function (permission) {\n",
       "        if(!('permission' in Notification)) {\n",
       "            Notification.permission = permission;\n",
       "        }\n",
       "    })\n",
       "}\n"
      ],
      "text/plain": [
       "<IPython.core.display.Javascript object>"
      ]
     },
     "metadata": {},
     "output_type": "display_data"
    }
   ],
   "source": [
    "%load_ext jupyternotify\n",
    "\n",
    "# import os\n",
    "import pandas as pd\n",
    "import numpy as np\n",
    "import matplotlib.pyplot as plt\n",
    "import seaborn as sns\n",
    "import time\n",
    "import timeit\n",
    "import joblib\n",
    "import utils\n",
    "\n",
    "from tqdm.auto import tqdm\n",
    "# from scipy.stats import *\n",
    "\n",
    "pd.set_option('display.max_columns', None)"
   ]
  },
  {
   "cell_type": "code",
   "execution_count": 2,
   "id": "f7854b12",
   "metadata": {},
   "outputs": [],
   "source": [
    "import importlib\n",
    "# importlib.reload(utils)"
   ]
  },
  {
   "cell_type": "code",
   "execution_count": 3,
   "id": "4546ece4",
   "metadata": {},
   "outputs": [],
   "source": [
    "# pd.set_option('display.max_colwidth', None)\n",
    "\n",
    "pd.set_option('display.float_format', lambda x: '%.5f' % x)\n",
    "np.set_printoptions(suppress=True)"
   ]
  },
  {
   "cell_type": "code",
   "execution_count": 5,
   "id": "3471dc5d",
   "metadata": {},
   "outputs": [
    {
     "data": {
      "text/html": [
       "<style>.container { width:70% !important; }</style>"
      ],
      "text/plain": [
       "<IPython.core.display.HTML object>"
      ]
     },
     "metadata": {},
     "output_type": "display_data"
    }
   ],
   "source": [
    "from IPython.display import display, HTML\n",
    "display(HTML(\"<style>.container { width:70% !important; }</style>\"))"
   ]
  },
  {
   "cell_type": "code",
   "execution_count": 5,
   "id": "21971c1f",
   "metadata": {},
   "outputs": [],
   "source": [
    "# data_df_1522 = pd.read_csv('../data/PitchDataCleanedLean_15-22.csv', index_col=[0])\n",
    "# data_train_df = data_df_1522[data_df_1522['game_year'].isin([2015, 2016, 2017, 2018])].copy()\n",
    "# data_test_df = data_df_1522[data_df_1522['game_year']==2019].copy()"
   ]
  },
  {
   "cell_type": "code",
   "execution_count": 6,
   "id": "0320fcaf",
   "metadata": {},
   "outputs": [],
   "source": [
    "### Load Transition Matrices ###\n",
    "T_batters_dict_1518 = joblib.load('T_batters_dict_1518')\n",
    "T_pitchers_dict_1518 = joblib.load('T_pitchers_dict_1518')\n",
    "\n",
    "pitcher_quali_list = list(T_pitchers_dict_1518.keys())\n",
    "batter_quali_list = list(T_batters_dict_1518.keys())"
   ]
  },
  {
   "cell_type": "code",
   "execution_count": 7,
   "id": "63b83a22",
   "metadata": {},
   "outputs": [],
   "source": [
    "from sklearn.ensemble import RandomForestClassifier\n",
    "from sklearn.model_selection import KFold\n",
    "from sklearn.model_selection import train_test_split\n",
    "from sklearn.preprocessing import StandardScaler"
   ]
  },
  {
   "cell_type": "code",
   "execution_count": 9,
   "id": "9a47d898",
   "metadata": {},
   "outputs": [],
   "source": [
    "pa_data_1519 = pd.read_csv('../data/PA_data_merged_15-19_012323.csv', index_col=[0])\n",
    "# remove 'other'\n",
    "pa_data_1519 = pa_data_1519[pa_data_1519['event_type']!='other'].copy()"
   ]
  },
  {
   "cell_type": "code",
   "execution_count": 10,
   "id": "ab4e8989",
   "metadata": {
    "scrolled": true
   },
   "outputs": [
    {
     "name": "stdout",
     "output_type": "stream",
     "text": [
      "train size: (434677, 36)\n",
      "val size: (108670, 36)\n",
      "test size: (83464, 36)\n"
     ]
    }
   ],
   "source": [
    "### Train/Val/Test Split ###\n",
    "train_val_df = pa_data_1519[pa_data_1519['game_year'].isin([2015, 2016, 2017, 2018])].copy()\n",
    "train_val_df = train_val_df[(train_val_df['pitcher'].isin(pitcher_quali_list))&(train_val_df['batter'].isin(batter_quali_list))].copy()\n",
    "test_df = pa_data_1519[pa_data_1519['game_year']==2019].copy()\n",
    "test_df = test_df[(test_df['pitcher'].isin(pitcher_quali_list))&(test_df['batter'].isin(batter_quali_list))].copy()\n",
    "\n",
    "train_df, val_df = train_test_split(train_val_df, test_size=0.2, random_state=0, shuffle=True)\n",
    "\n",
    "train_df = train_df.reset_index(drop=True)\n",
    "val_df = val_df.reset_index(drop=True)\n",
    "test_df = test_df.reset_index(drop=True)\n",
    "\n",
    "print(f\"train size: {train_df.shape}\")\n",
    "print(f\"val size: {val_df.shape}\")\n",
    "print(f\"test size: {test_df.shape}\")"
   ]
  },
  {
   "cell_type": "code",
   "execution_count": 11,
   "id": "0729ce01",
   "metadata": {
    "scrolled": true
   },
   "outputs": [],
   "source": [
    "# create matchup lists to loop through later\n",
    "train_matchup_list = list(zip(train_df['pitcher'], train_df['batter']))\n",
    "val_matchup_list = list(zip(val_df['pitcher'], val_df['batter']))\n",
    "test_matchup_list = list(zip(test_df['pitcher'], test_df['batter']))"
   ]
  },
  {
   "cell_type": "code",
   "execution_count": 12,
   "id": "d3782521",
   "metadata": {},
   "outputs": [],
   "source": [
    "### Encode Target Variables ###\n",
    "y_train = train_df['event_type'].values\n",
    "y_val = val_df['event_type'].values\n",
    "y_test = test_df['event_type'].values\n",
    "\n",
    "y_train_factor = pd.factorize(train_df['event_type'].values)[0]\n",
    "y_val_factor = pd.factorize(val_df['event_type'].values)[0]\n",
    "y_test_factor = pd.factorize(test_df['event_type'].values)[0]\n",
    "\n",
    "y_train_binary = train_df[utils.EVENT_LIST].values\n",
    "y_val_binary = val_df[utils.EVENT_LIST].values\n",
    "y_test_binary = test_df[utils.EVENT_LIST].values"
   ]
  },
  {
   "cell_type": "markdown",
   "id": "3e0941a3",
   "metadata": {},
   "source": [
    "# Random Forest T matrix as X"
   ]
  },
  {
   "cell_type": "code",
   "execution_count": 11,
   "id": "be025ff2",
   "metadata": {},
   "outputs": [
    {
     "data": {
      "application/vnd.jupyter.widget-view+json": {
       "model_id": "ecf61801426a465981b55e1bb202e84d",
       "version_major": 2,
       "version_minor": 0
      },
      "text/plain": [
       "  0%|          | 0/491 [00:00<?, ?it/s]"
      ]
     },
     "metadata": {},
     "output_type": "display_data"
    },
    {
     "data": {
      "application/vnd.jupyter.widget-view+json": {
       "model_id": "d27db47de1bb4ba5bae7e8806da3da35",
       "version_major": 2,
       "version_minor": 0
      },
      "text/plain": [
       "  0%|          | 0/487 [00:00<?, ?it/s]"
      ]
     },
     "metadata": {},
     "output_type": "display_data"
    }
   ],
   "source": [
    "import itertools\n",
    "\n",
    "# create feature names\n",
    "feature_names = list(itertools.product(utils.COUNT_LIST_STR, utils.COUNT_LIST_STR + utils.EVENT_LIST))\n",
    "feature_names = [f[0]+'-'+f[1] for f in feature_names]\n",
    "feature_names = np.array(feature_names)[np.array(utils.MASTER_MAP).flatten()]\n",
    "p_feature_names = ['pitcher-'+f for f in feature_names]\n",
    "b_feature_names = ['batter-'+f for f in feature_names]\n",
    "feature_names = np.array(p_feature_names + b_feature_names)\n",
    "\n",
    "\n",
    "T_batters_RF_1518 = {}\n",
    "for key, item in tqdm(T_batters_dict_1518.items()):\n",
    "    T_batter_long = []\n",
    "    for i in range(12):\n",
    "        T_count = item[i][utils.MASTER_MAP[i]].tolist()\n",
    "        T_batter_long+=T_count\n",
    "    T_batters_RF_1518[key] = T_batter_long\n",
    "\n",
    "T_pitchers_RF_1518 = {}\n",
    "for key, item in tqdm(T_pitchers_dict_1518.items()):\n",
    "    T_pitcher_long = []\n",
    "    for i in range(12):\n",
    "        T_count = item[i][utils.MASTER_MAP[i]].tolist()\n",
    "        T_pitcher_long+=T_count\n",
    "    T_pitchers_RF_1518[key] = T_pitcher_long\n",
    "    \n",
    "# # dump dict\n",
    "# joblib.dump(T_batters_RF_1518, 'T_batters_RF_1518')\n",
    "# joblib.dump(T_pitchers_RF_1518, 'T_pitchers_RF_1518')"
   ]
  },
  {
   "cell_type": "code",
   "execution_count": 16,
   "id": "81b164b9",
   "metadata": {},
   "outputs": [],
   "source": [
    "# ### Load RF transition matrices ###\n",
    "# T_batters_RF_1518 = joblib.load('T_batters_RF_1518')\n",
    "# T_pitchers_RF_1518 = joblib.load('T_pitchers_RF_1518')"
   ]
  },
  {
   "cell_type": "code",
   "execution_count": 12,
   "id": "66daffe0",
   "metadata": {},
   "outputs": [
    {
     "data": {
      "application/vnd.jupyter.widget-view+json": {
       "model_id": "73bdee89ea734ba98e45b76422282f2e",
       "version_major": 2,
       "version_minor": 0
      },
      "text/plain": [
       "  0%|          | 0/434677 [00:00<?, ?it/s]"
      ]
     },
     "metadata": {},
     "output_type": "display_data"
    },
    {
     "data": {
      "application/vnd.jupyter.widget-view+json": {
       "model_id": "04c5dc0df0444207bec642dace782ea9",
       "version_major": 2,
       "version_minor": 0
      },
      "text/plain": [
       "  0%|          | 0/108670 [00:00<?, ?it/s]"
      ]
     },
     "metadata": {},
     "output_type": "display_data"
    },
    {
     "data": {
      "application/vnd.jupyter.widget-view+json": {
       "model_id": "224d4a12b25945b29317479af16e3488",
       "version_major": 2,
       "version_minor": 0
      },
      "text/plain": [
       "  0%|          | 0/83464 [00:00<?, ?it/s]"
      ]
     },
     "metadata": {},
     "output_type": "display_data"
    }
   ],
   "source": [
    "X_train = []\n",
    "for train_matchup in tqdm(train_matchup_list):\n",
    "    pitcher = train_matchup[0]\n",
    "    batter = train_matchup[1]\n",
    "\n",
    "    X_row = np.concatenate([T_pitchers_RF_1518[pitcher], T_batters_RF_1518[batter]]).tolist()\n",
    "    X_train+=[X_row]\n",
    "X_train = np.array(X_train)\n",
    "    \n",
    "X_val = []\n",
    "for val_matchup in tqdm(val_matchup_list):\n",
    "    pitcher = val_matchup[0]\n",
    "    batter = val_matchup[1]\n",
    "\n",
    "    X_row = np.concatenate([T_pitchers_RF_1518[pitcher], T_batters_RF_1518[batter]]).tolist()\n",
    "    X_val+=[X_row]    \n",
    "X_val = np.array(X_val)\n",
    "\n",
    "X_test = []\n",
    "for test_matchup in tqdm(test_matchup_list):\n",
    "    pitcher = test_matchup[0]\n",
    "    batter = test_matchup[1]\n",
    "\n",
    "    X_row = np.concatenate([T_pitchers_RF_1518[pitcher], T_batters_RF_1518[batter]]).tolist()\n",
    "    X_test+=[X_row]\n",
    "X_test = np.array(X_test)"
   ]
  },
  {
   "cell_type": "code",
   "execution_count": 13,
   "id": "e13f7995",
   "metadata": {},
   "outputs": [],
   "source": [
    "# create X df with column names to make easy for feature selection\n",
    "X_train_df = pd.DataFrame(X_train, columns=feature_names)\n",
    "X_val_df = pd.DataFrame(X_val, columns=feature_names)\n",
    "X_test_df = pd.DataFrame(X_test, columns=feature_names)\n",
    "\n",
    "train_df = pd.concat([train_df, X_train_df], axis=1)\n",
    "val_df = pd.concat([val_df, X_val_df], axis=1)\n",
    "test_df = pd.concat([test_df, X_test_df], axis=1)"
   ]
  },
  {
   "cell_type": "markdown",
   "id": "81397586",
   "metadata": {},
   "source": [
    "### Default RF Model"
   ]
  },
  {
   "cell_type": "code",
   "execution_count": 19,
   "id": "529a73d3",
   "metadata": {},
   "outputs": [
    {
     "name": "stdout",
     "output_type": "stream",
     "text": [
      "RF Uncal: 0.831067\n"
     ]
    }
   ],
   "source": [
    "clf = RandomForestClassifier(random_state=0, n_jobs=5)\n",
    "\n",
    "model_rf_default = clf.fit(X_train, y_train)\n",
    "y_pred_rf_uncal = model_rf_default.predict_proba(X_test)\n",
    "print(f\"RF Uncal: {utils.get_brier_score(y_test_binary, y_pred_rf_uncal):4f}\")\n",
    "\n",
    "model_rf_default_cal = CalibratedClassifierCV(model_rf_default, method='isotonic', cv=5, n_jobs=5)\n",
    "model_rf_default_cal.fit(X_val, y_val)\n",
    "y_pred_rf_cal = model_rf_default_cal.predict_proba(X_test)\n",
    "print(f\"RF cal: {utils.get_brier_score(y_test_binary, y_pred_rf_cal):4f}\")"
   ]
  },
  {
   "cell_type": "markdown",
   "id": "fda0e5c8",
   "metadata": {},
   "source": [
    "### Results:\n",
    "\n",
    "RF default uncal: 0.831067\n",
    "\n",
    "RF default cal: 0.714180"
   ]
  },
  {
   "cell_type": "markdown",
   "id": "378e9cf1",
   "metadata": {},
   "source": [
    "# PCA"
   ]
  },
  {
   "cell_type": "code",
   "execution_count": 17,
   "id": "95ce3497",
   "metadata": {},
   "outputs": [],
   "source": [
    "# Import required libraries\n",
    "from sklearn.decomposition import PCA"
   ]
  },
  {
   "cell_type": "code",
   "execution_count": 27,
   "id": "932b493d",
   "metadata": {},
   "outputs": [
    {
     "data": {
      "text/plain": [
       "PCA()"
      ]
     },
     "execution_count": 27,
     "metadata": {},
     "output_type": "execute_result"
    }
   ],
   "source": [
    "pca = PCA()\n",
    "pca.fit(X_train)"
   ]
  },
  {
   "cell_type": "code",
   "execution_count": 28,
   "id": "ad770b2c",
   "metadata": {},
   "outputs": [
    {
     "data": {
      "image/png": "[encoded data removed]",
      "text/plain": [
       "<Figure size 640x480 with 1 Axes>"
      ]
     },
     "metadata": {},
     "output_type": "display_data"
    }
   ],
   "source": [
    "plt.plot(pca.explained_variance_ratio_)\n",
    "plt.show()"
   ]
  },
  {
   "cell_type": "code",
   "execution_count": 18,
   "id": "40758cca",
   "metadata": {},
   "outputs": [],
   "source": [
    "pca = PCA(n_components=25)\n",
    "X_train_pca = pca.fit_transform(X_train)\n",
    "X_val_pca = pca.transform(X_val)\n",
    "X_test_pca = pca.transform(X_test)"
   ]
  },
  {
   "cell_type": "code",
   "execution_count": 51,
   "id": "0bf9d4c4",
   "metadata": {},
   "outputs": [
    {
     "name": "stdout",
     "output_type": "stream",
     "text": [
      "T Uncal: 0.807538\n"
     ]
    }
   ],
   "source": [
    "clf = RandomForestClassifier(random_state=0, n_jobs=5)\n",
    "clf_pca_T = clf.fit(X_train_pca, y_train)\n",
    "y_pred_pca_uncal = clf_pca_T.predict_proba(X_test_pca)\n",
    "print(f\"T Uncal: {utils.get_brier_score(y_test_binary, y_pred_pca_uncal):4f}\")"
   ]
  },
  {
   "cell_type": "code",
   "execution_count": 52,
   "id": "90232861",
   "metadata": {
    "scrolled": true
   },
   "outputs": [
    {
     "name": "stdout",
     "output_type": "stream",
     "text": [
      "P, cal: 0.714280\n"
     ]
    }
   ],
   "source": [
    "clf_calibrated_pca = CalibratedClassifierCV(clf_pca_T, method='isotonic', cv=5, n_jobs=5)\n",
    "clf_calibrated_pca.fit(X_val_pca, y_val)\n",
    "y_pred_pca_cal = clf_calibrated_pca.predict_proba(X_test_pca)\n",
    "print(f\"P, cal: {utils.get_brier_score(y_test_binary, y_pred_pca_cal):4f}\")"
   ]
  },
  {
   "cell_type": "code",
   "execution_count": 33,
   "id": "cc526f20",
   "metadata": {},
   "outputs": [
    {
     "data": {
      "application/vnd.jupyter.widget-view+json": {
       "model_id": "8dee6613f8ef4e5b8cfc4424e8891d94",
       "version_major": 2,
       "version_minor": 0
      },
      "text/plain": [
       "  0%|          | 0/5 [00:00<?, ?it/s]"
      ]
     },
     "metadata": {},
     "output_type": "display_data"
    },
    {
     "name": "stdout",
     "output_type": "stream",
     "text": [
      "N Components: 15\n",
      "PCA Uncal: 0.827524\n",
      "PCA Cal: 0.714395\n",
      "N Components: 20\n",
      "PCA Uncal: 0.800912\n",
      "PCA Cal: 0.714352\n",
      "N Components: 25\n",
      "PCA Uncal: 0.806961\n",
      "PCA Cal: 0.714277\n",
      "N Components: 30\n",
      "PCA Uncal: 0.808137\n",
      "PCA Cal: 0.714230\n",
      "N Components: 45\n",
      "PCA Uncal: 0.815322\n",
      "PCA Cal: 0.714275\n"
     ]
    }
   ],
   "source": [
    "for n_components in tqdm([15, 20, 25, 30, 45]):\n",
    "    print(f\"N Components: {n_components}\")\n",
    "    pca = PCA(n_components=n_components, random_state=0)\n",
    "    X_train_pca = pca.fit_transform(X_train)\n",
    "    X_val_pca = pca.transform(X_val)\n",
    "    X_test_pca = pca.transform(X_test)\n",
    "\n",
    "    clf = RandomForestClassifier(random_state=0, n_jobs=5)\n",
    "    model_rf_pca = clf.fit(X_train_pca, y_train)\n",
    "    y_pred_rf_pca_uncal = model_rf_pca.predict_proba(X_test_pca)\n",
    "    print(f\"PCA Uncal: {utils.get_brier_score(y_test_binary, y_pred_rf_pca_uncal):4f}\")\n",
    "\n",
    "    model_rf_pca_cal = CalibratedClassifierCV(model_rf_pca, method='isotonic', cv=5, n_jobs=5)\n",
    "    model_rf_pca_cal.fit(X_val_pca, y_val)\n",
    "    y_pred_rf_pca_cal = model_rf_pca_cal.predict_proba(X_test_pca)\n",
    "    print(f\"PCA Cal: {utils.get_brier_score(y_test_binary, y_pred_rf_pca_cal):4f}\")"
   ]
  },
  {
   "cell_type": "markdown",
   "id": "a9bbb450",
   "metadata": {},
   "source": [
    "### Results: \n",
    "\n",
    "###### PCA(n_components=15):\n",
    "\n",
    "Uncal: 0.827524\n",
    "\n",
    "Cal: 0.714395\n",
    "\n",
    "###### PCA(n_components=20):\n",
    "\n",
    "Uncal: 0.800912\n",
    "\n",
    "Cal: 0.714352\n",
    "\n",
    "###### PCA(n_components=25):\n",
    "\n",
    "Uncal: 0.806961\n",
    "\n",
    "Cal: 0.714277\n",
    "\n",
    "###### PCA(n_components=30):\n",
    "\n",
    "Uncal: 0.808137\n",
    "\n",
    "Cal: 0.714230\n",
    "\n",
    "###### PCA(n_components=45):\n",
    "\n",
    "Uncal: 0.815322\n",
    "\n",
    "Cal: 0.714275"
   ]
  },
  {
   "cell_type": "markdown",
   "id": "b1a99b90",
   "metadata": {},
   "source": [
    "# Std Scale"
   ]
  },
  {
   "cell_type": "code",
   "execution_count": 14,
   "id": "a091bc52",
   "metadata": {},
   "outputs": [],
   "source": [
    "scaler = StandardScaler()\n",
    "X_train_std = scaler.fit_transform(X_train)\n",
    "X_val_std = scaler.transform(X_val)\n",
    "X_test_std = scaler.transform(X_test)"
   ]
  },
  {
   "cell_type": "code",
   "execution_count": null,
   "id": "832e101a",
   "metadata": {},
   "outputs": [],
   "source": [
    "pca_std = PCA(n_components=20, random_state=0)\n",
    "X_train_std_pca = pca_std.fit_transform(X_train_std)\n",
    "X_val_std_pca = pca_std.transform(X_val_std)\n",
    "X_test_std_pca = pca_std.transform(X_test_std)\n",
    "\n",
    "clf = RandomForestClassifier(random_state=0, n_jobs=5)\n",
    "model_rf_std_pca_uncal = clf.fit(X_train_std_pca, y_train)\n",
    "y_pred_rf_std_pca_uncal = model_rf_std_pca_uncal.predict_proba(X_test_std_pca)\n",
    "print(f\"RF PCA STD Uncal: {utils.get_brier_score(y_test_binary, y_pred_rf_std_pca_uncal):4f}\")\n",
    "\n",
    "model_rf_std_pca_cal = CalibratedClassifierCV(model_rf_std_pca_uncal, method='isotonic', cv=5, n_jobs=5)\n",
    "model_rf_std_pca_cal.fit(X_val_std_pca, y_val)\n",
    "y_pred_rf_std_pca_cal = model_rf_std_pca_cal.predict_proba(X_test_std_pca)\n",
    "print(f\"T PCA STD Cal: {utils.get_brier_score(y_test_binary, y_pred_rf_std_pca_cal):4f}\")"
   ]
  },
  {
   "cell_type": "markdown",
   "id": "f4a39fe6",
   "metadata": {},
   "source": [
    "### Results: \n",
    "\n",
    "###### STD PCA(n_components=25):\n",
    "\n",
    "Uncal: 0.774887\n",
    "\n",
    "Cal: 0.714138"
   ]
  },
  {
   "cell_type": "markdown",
   "id": "b5ed4bbc",
   "metadata": {},
   "source": [
    "# CaliForest"
   ]
  },
  {
   "cell_type": "code",
   "execution_count": 20,
   "id": "f718edea",
   "metadata": {},
   "outputs": [],
   "source": [
    "from califorest import CaliForest"
   ]
  },
  {
   "cell_type": "markdown",
   "id": "41cf26bd",
   "metadata": {},
   "source": [
    "## Without PCA"
   ]
  },
  {
   "cell_type": "code",
   "execution_count": 170,
   "id": "5528bdc8",
   "metadata": {},
   "outputs": [
    {
     "data": {
      "text/plain": [
       "CaliForest(max_depth=None, n_estimators=100)"
      ]
     },
     "execution_count": 170,
     "metadata": {},
     "output_type": "execute_result"
    }
   ],
   "source": [
    "# Single\n",
    "model_b1_califorest = CaliForest(n_estimators=100,\n",
    "                    max_depth=None,\n",
    "                    min_samples_split=2,\n",
    "                    min_samples_leaf=1,\n",
    "                    ctype=\"isotonic\")\n",
    "model_b1_califorest.fit(X_train_T, y_train_binary[:, 0])\n",
    "y_pred_b1_califorest = model_b1_califorest.predict_proba(X_test_T)[:, 1]"
   ]
  },
  {
   "cell_type": "code",
   "execution_count": 174,
   "id": "b435b855",
   "metadata": {},
   "outputs": [
    {
     "data": {
      "text/plain": [
       "CaliForest(max_depth=None, n_estimators=100)"
      ]
     },
     "execution_count": 174,
     "metadata": {},
     "output_type": "execute_result"
    }
   ],
   "source": [
    "# Double\n",
    "model_b2_califorest = CaliForest(n_estimators=100,\n",
    "                    max_depth=None,\n",
    "                    min_samples_split=2,\n",
    "                    min_samples_leaf=1,\n",
    "                    ctype=\"isotonic\")\n",
    "model_b2_califorest.fit(X_train_T, y_train_binary[:, 1])\n",
    "y_pred_b2_califorest = model_b2_califorest.predict_proba(X_test_T)[:, 1]"
   ]
  },
  {
   "cell_type": "code",
   "execution_count": 204,
   "id": "6bcb30dd",
   "metadata": {},
   "outputs": [
    {
     "data": {
      "text/plain": [
       "(array([0.04518907, 0.0452027 , 0.04755319, 0.04820048, 0.05560014]),\n",
       " array([52231, 15889,   161, 15170,    13]))"
      ]
     },
     "execution_count": 204,
     "metadata": {},
     "output_type": "execute_result"
    }
   ],
   "source": [
    "np.unique(y_pred_b2_califorest, return_counts=True)"
   ]
  },
  {
   "cell_type": "code",
   "execution_count": 217,
   "id": "bf7b3a1a",
   "metadata": {},
   "outputs": [
    {
     "data": {
      "text/plain": [
       "CaliForest(max_depth=None, n_estimators=100)"
      ]
     },
     "execution_count": 217,
     "metadata": {},
     "output_type": "execute_result"
    }
   ],
   "source": [
    "# Triple\n",
    "model_b3_califorest = CaliForest(n_estimators=100,\n",
    "                    max_depth=None,\n",
    "                    min_samples_split=2,\n",
    "                    min_samples_leaf=1,\n",
    "                    ctype=\"isotonic\")\n",
    "model_b3_califorest.fit(X_train_T, y_train_binary[:, 2])\n",
    "y_pred_b3_califorest = model_b3_califorest.predict_proba(X_test_T)[:, 1]"
   ]
  },
  {
   "cell_type": "code",
   "execution_count": 220,
   "id": "183ab941",
   "metadata": {},
   "outputs": [
    {
     "data": {
      "text/plain": [
       "(array([0.00445217, 0.00611645, 0.00620312, 0.00819967, 0.00940265,\n",
       "        0.00975874, 0.00998284, 0.01131834, 0.01268891, 0.01775535]),\n",
       " array([61021,  4791, 16918,     7,   137,     4,   406,     1,   153,\n",
       "           26]))"
      ]
     },
     "execution_count": 220,
     "metadata": {},
     "output_type": "execute_result"
    }
   ],
   "source": [
    "# check unique prediction values\n",
    "np.unique(y_pred_b3_califorest, return_counts=True)"
   ]
  },
  {
   "cell_type": "code",
   "execution_count": 236,
   "id": "84ab4086",
   "metadata": {},
   "outputs": [
    {
     "data": {
      "text/plain": [
       "CaliForest(max_depth=None, n_estimators=100)"
      ]
     },
     "execution_count": 236,
     "metadata": {},
     "output_type": "execute_result"
    }
   ],
   "source": [
    "# Homerun\n",
    "model_hr_califorest = CaliForest(n_estimators=100,\n",
    "                    max_depth=None,\n",
    "                    min_samples_split=2,\n",
    "                    min_samples_leaf=1,\n",
    "                    ctype=\"isotonic\")\n",
    "model_hr_califorest.fit(X_train_T, y_train_binary[:, 3])\n",
    "y_pred_hr_califorest = model_hr_califorest.predict_proba(X_test_T)[:, 1]"
   ]
  },
  {
   "cell_type": "code",
   "execution_count": 239,
   "id": "3449ddb6",
   "metadata": {},
   "outputs": [
    {
     "data": {
      "text/plain": [
       "CaliForest(max_depth=None, n_estimators=100)"
      ]
     },
     "execution_count": 239,
     "metadata": {},
     "output_type": "execute_result"
    }
   ],
   "source": [
    "# Fieldout\n",
    "model_fo_califorest = CaliForest(n_estimators=100,\n",
    "                    max_depth=None,\n",
    "                    min_samples_split=2,\n",
    "                    min_samples_leaf=1,\n",
    "                    ctype=\"isotonic\")\n",
    "model_fo_califorest.fit(X_train_T, y_train_binary[:, 4])\n",
    "y_pred_fo_califorest = model_fo_califorest.predict_proba(X_test_T)[:, 1]"
   ]
  },
  {
   "cell_type": "code",
   "execution_count": 251,
   "id": "49d877bc",
   "metadata": {},
   "outputs": [
    {
     "data": {
      "text/plain": [
       "CaliForest(max_depth=None, n_estimators=100)"
      ]
     },
     "execution_count": 251,
     "metadata": {},
     "output_type": "execute_result"
    }
   ],
   "source": [
    "# Walk\n",
    "model_bb_califorest = CaliForest(n_estimators=100,\n",
    "                    max_depth=None,\n",
    "                    min_samples_split=2,\n",
    "                    min_samples_leaf=1,\n",
    "                    ctype=\"isotonic\")\n",
    "model_bb_califorest.fit(X_train_T, y_train_binary[:, 5])\n",
    "y_pred_bb_califorest = model_bb_califorest.predict_proba(X_test_T)[:, 1]"
   ]
  },
  {
   "cell_type": "code",
   "execution_count": 252,
   "id": "d39a19fc",
   "metadata": {},
   "outputs": [
    {
     "data": {
      "text/plain": [
       "CaliForest(max_depth=None, n_estimators=100)"
      ]
     },
     "execution_count": 252,
     "metadata": {},
     "output_type": "execute_result"
    }
   ],
   "source": [
    "# Strikeout\n",
    "model_k_califorest = CaliForest(n_estimators=100,\n",
    "                    max_depth=None,\n",
    "                    min_samples_split=2,\n",
    "                    min_samples_leaf=1,\n",
    "                    ctype=\"isotonic\")\n",
    "model_k_califorest.fit(X_train_T, y_train_binary[:, 6])\n",
    "y_pred_k_califorest = model_k_califorest.predict_proba(X_test_T)[:, 1]"
   ]
  },
  {
   "cell_type": "code",
   "execution_count": 273,
   "id": "1302d199",
   "metadata": {},
   "outputs": [],
   "source": [
    "y_pred_all_califorest = np.concatenate([\n",
    "    np.expand_dims(y_pred_b1_califorest, axis=1),\n",
    "    np.expand_dims(y_pred_b2_califorest, axis=1),\n",
    "    np.expand_dims(y_pred_b3_califorest, axis=1),\n",
    "    np.expand_dims(y_pred_hr_califorest, axis=1),\n",
    "    np.expand_dims(y_pred_fo_califorest, axis=1),\n",
    "    np.expand_dims(y_pred_bb_califorest, axis=1),\n",
    "    np.expand_dims(y_pred_k_califorest, axis=1)\n",
    "], axis=1)\n",
    "# normalize probability to 1:\n",
    "y_pred_all_califorest = utils.normalize_arr(y_pred_all_califorest)"
   ]
  },
  {
   "cell_type": "code",
   "execution_count": 345,
   "id": "044034ad",
   "metadata": {},
   "outputs": [
    {
     "name": "stdout",
     "output_type": "stream",
     "text": [
      "Califorest B Score: 0.7082242879762285\n"
     ]
    }
   ],
   "source": [
    "# Califorest, no PCA, One model for each class, default params\n",
    "print(f\"Califorest B Score: {utils.get_brier_score(y_test_binary, y_pred_all_califorest)}\")"
   ]
  },
  {
   "cell_type": "markdown",
   "id": "229a4ca7",
   "metadata": {},
   "source": [
    "### Results:\n",
    "#### Califorest, no PCA, 1 model for each class, default params: 0.7082242879762285"
   ]
  },
  {
   "cell_type": "markdown",
   "id": "9d2ac7d9",
   "metadata": {},
   "source": [
    "## With PCA"
   ]
  },
  {
   "cell_type": "code",
   "execution_count": 22,
   "id": "16a5d88d",
   "metadata": {},
   "outputs": [],
   "source": [
    "# Single\n",
    "model_b1_califorest_pca = CaliForest(n_estimators=100,\n",
    "                    max_depth=None,\n",
    "                    min_samples_split=2,\n",
    "                    min_samples_leaf=1,\n",
    "                    ctype=\"isotonic\")\n",
    "model_b1_califorest_pca.fit(X_train_pca, y_train_binary[:, 0])\n",
    "y_pred_b1_califorest_pca = model_b1_califorest_pca.predict_proba(X_test_pca)[:, 1]"
   ]
  },
  {
   "cell_type": "code",
   "execution_count": 26,
   "id": "5a02cc15",
   "metadata": {},
   "outputs": [],
   "source": [
    "# Double\n",
    "model_b2_califorest_pca = CaliForest(n_estimators=100,\n",
    "                    max_depth=None,\n",
    "                    min_samples_split=2,\n",
    "                    min_samples_leaf=1,\n",
    "                    ctype=\"isotonic\")\n",
    "model_b2_califorest_pca.fit(X_train_pca, y_train_binary[:, 1])\n",
    "y_pred_b2_califorest_pca = model_b2_califorest_pca.predict_proba(X_test_pca)[:, 1]"
   ]
  },
  {
   "cell_type": "code",
   "execution_count": 27,
   "id": "549037a2",
   "metadata": {},
   "outputs": [],
   "source": [
    "# Triple\n",
    "model_b3_califorest_pca = CaliForest(n_estimators=100,\n",
    "                    max_depth=None,\n",
    "                    min_samples_split=2,\n",
    "                    min_samples_leaf=1,\n",
    "                    ctype=\"isotonic\")\n",
    "model_b3_califorest_pca.fit(X_train_pca, y_train_binary[:, 2])\n",
    "y_pred_b3_califorest_pca = model_b3_califorest_pca.predict_proba(X_test_pca)[:, 1]"
   ]
  },
  {
   "cell_type": "code",
   "execution_count": 28,
   "id": "0e7b4b97",
   "metadata": {},
   "outputs": [],
   "source": [
    "# Homerun\n",
    "model_hr_califorest_pca = CaliForest(n_estimators=100,\n",
    "                    max_depth=None,\n",
    "                    min_samples_split=2,\n",
    "                    min_samples_leaf=1,\n",
    "                    ctype=\"isotonic\")\n",
    "model_hr_califorest_pca.fit(X_train_pca, y_train_binary[:, 3])\n",
    "y_pred_hr_califorest_pca = model_hr_califorest_pca.predict_proba(X_test_pca)[:, 1]"
   ]
  },
  {
   "cell_type": "code",
   "execution_count": 29,
   "id": "f4901e68",
   "metadata": {},
   "outputs": [],
   "source": [
    "# Fieldout\n",
    "model_fo_califorest_pca = CaliForest(n_estimators=100,\n",
    "                    max_depth=None,\n",
    "                    min_samples_split=2,\n",
    "                    min_samples_leaf=1,\n",
    "                    ctype=\"isotonic\")\n",
    "model_fo_califorest_pca.fit(X_train_pca, y_train_binary[:, 4])\n",
    "y_pred_fo_califorest_pca = model_fo_califorest_pca.predict_proba(X_test_pca)[:, 1]"
   ]
  },
  {
   "cell_type": "code",
   "execution_count": 30,
   "id": "4e5d0722",
   "metadata": {},
   "outputs": [],
   "source": [
    "# Walk\n",
    "model_bb_califorest_pca = CaliForest(n_estimators=100,\n",
    "                    max_depth=None,\n",
    "                    min_samples_split=2,\n",
    "                    min_samples_leaf=1,\n",
    "                    ctype=\"isotonic\")\n",
    "model_bb_califorest_pca.fit(X_train_pca, y_train_binary[:, 5])\n",
    "y_pred_bb_califorest_pca = model_bb_califorest_pca.predict_proba(X_test_pca)[:, 1]"
   ]
  },
  {
   "cell_type": "code",
   "execution_count": 32,
   "id": "ce689515",
   "metadata": {},
   "outputs": [],
   "source": [
    "# Strikeout\n",
    "model_k_califorest_pca = CaliForest(n_estimators=100,\n",
    "                    max_depth=None,\n",
    "                    min_samples_split=2,\n",
    "                    min_samples_leaf=1,\n",
    "                    ctype=\"isotonic\")\n",
    "model_k_califorest_pca.fit(X_train_pca, y_train_binary[:, 6])\n",
    "y_pred_k_califorest_pca = model_k_califorest_pca.predict_proba(X_test_pca)[:, 1]"
   ]
  },
  {
   "cell_type": "code",
   "execution_count": 34,
   "id": "af449124",
   "metadata": {},
   "outputs": [],
   "source": [
    "y_pred_califorest_pca = np.concatenate([\n",
    "    np.expand_dims(y_pred_b1_califorest_pca, axis=1),\n",
    "    np.expand_dims(y_pred_b2_califorest_pca, axis=1),\n",
    "    np.expand_dims(y_pred_b3_califorest_pca, axis=1),\n",
    "    np.expand_dims(y_pred_hr_califorest_pca, axis=1),\n",
    "    np.expand_dims(y_pred_fo_califorest_pca, axis=1),\n",
    "    np.expand_dims(y_pred_bb_califorest_pca, axis=1),\n",
    "    np.expand_dims(y_pred_k_califorest_pca, axis=1)\n",
    "], axis=1)\n",
    "# normalize probability to 1:\n",
    "y_pred_califorest_pca = utils.normalize_arr(y_pred_califorest_pca)"
   ]
  },
  {
   "cell_type": "code",
   "execution_count": 35,
   "id": "0b1fff75",
   "metadata": {},
   "outputs": [
    {
     "name": "stdout",
     "output_type": "stream",
     "text": [
      "Califorest B Score: 0.7081221348261737\n"
     ]
    }
   ],
   "source": [
    "# Califorest, no PCA, One model for each class, default params\n",
    "print(f\"Califorest B Score: {utils.get_brier_score(y_test_binary, y_pred_califorest_pca)}\")"
   ]
  },
  {
   "cell_type": "markdown",
   "id": "53566949",
   "metadata": {},
   "source": [
    "# STD PCA"
   ]
  },
  {
   "cell_type": "code",
   "execution_count": 40,
   "id": "fa3c62cc",
   "metadata": {},
   "outputs": [],
   "source": [
    "start = time.time()"
   ]
  },
  {
   "cell_type": "code",
   "execution_count": 41,
   "id": "36de8587",
   "metadata": {},
   "outputs": [
    {
     "name": "stdout",
     "output_type": "stream",
     "text": [
      "Califorest B Score: 0.7078940880695483\n"
     ]
    }
   ],
   "source": [
    "# Single\n",
    "model_b1_califorest_std_pca = CaliForest(n_estimators=100,\n",
    "                    max_depth=None,\n",
    "                    min_samples_split=2,\n",
    "                    min_samples_leaf=1,\n",
    "                    ctype=\"isotonic\")\n",
    "model_b1_califorest_std_pca.fit(X_train_std_pca, y_train_binary[:, 0])\n",
    "y_pred_b1_califorest_std_pca = model_b1_califorest_std_pca.predict_proba(X_test_std_pca)[:, 1]\n",
    "\n",
    "# Double\n",
    "model_b2_califorest_std_pca = CaliForest(n_estimators=100,\n",
    "                    max_depth=None,\n",
    "                    min_samples_split=2,\n",
    "                    min_samples_leaf=1,\n",
    "                    ctype=\"isotonic\")\n",
    "model_b2_califorest_std_pca.fit(X_train_std_pca, y_train_binary[:, 1])\n",
    "y_pred_b2_califorest_std_pca = model_b2_califorest_std_pca.predict_proba(X_test_std_pca)[:, 1]\n",
    "\n",
    "# Triple\n",
    "model_b3_califorest_std_pca = CaliForest(n_estimators=100,\n",
    "                    max_depth=None,\n",
    "                    min_samples_split=2,\n",
    "                    min_samples_leaf=1,\n",
    "                    ctype=\"isotonic\")\n",
    "model_b3_califorest_std_pca.fit(X_train_std_pca, y_train_binary[:, 2])\n",
    "y_pred_b3_califorest_std_pca = model_b3_califorest_std_pca.predict_proba(X_test_std_pca)[:, 1]\n",
    "\n",
    "# Homerun\n",
    "model_hr_califorest_std_pca = CaliForest(n_estimators=100,\n",
    "                    max_depth=None,\n",
    "                    min_samples_split=2,\n",
    "                    min_samples_leaf=1,\n",
    "                    ctype=\"isotonic\")\n",
    "model_hr_califorest_std_pca.fit(X_train_std_pca, y_train_binary[:, 3])\n",
    "y_pred_hr_califorest_std_pca = model_hr_califorest_std_pca.predict_proba(X_test_std_pca)[:, 1]\n",
    "\n",
    "# Fieldout\n",
    "model_fo_califorest_std_pca = CaliForest(n_estimators=100,\n",
    "                    max_depth=None,\n",
    "                    min_samples_split=2,\n",
    "                    min_samples_leaf=1,\n",
    "                    ctype=\"isotonic\")\n",
    "model_fo_califorest_std_pca.fit(X_train_std_pca, y_train_binary[:, 4])\n",
    "y_pred_fo_califorest_std_pca = model_fo_califorest_std_pca.predict_proba(X_test_std_pca)[:, 1]\n",
    "\n",
    "# Walk\n",
    "model_bb_califorest_std_pca = CaliForest(n_estimators=100,\n",
    "                    max_depth=None,\n",
    "                    min_samples_split=2,\n",
    "                    min_samples_leaf=1,\n",
    "                    ctype=\"isotonic\")\n",
    "model_bb_califorest_std_pca.fit(X_train_std_pca, y_train_binary[:, 5])\n",
    "y_pred_bb_califorest_std_pca = model_bb_califorest_std_pca.predict_proba(X_test_std_pca)[:, 1]\n",
    "\n",
    "# Strikeout\n",
    "model_k_califorest_std_pca = CaliForest(n_estimators=100,\n",
    "                    max_depth=None,\n",
    "                    min_samples_split=2,\n",
    "                    min_samples_leaf=1,\n",
    "                    ctype=\"isotonic\")\n",
    "model_k_califorest_std_pca.fit(X_train_std_pca, y_train_binary[:, 6])\n",
    "y_pred_k_califorest_std_pca = model_k_califorest_std_pca.predict_proba(X_test_std_pca)[:, 1]\n",
    "\n",
    "y_pred_califorest_std_pca = np.concatenate([\n",
    "    np.expand_dims(y_pred_b1_califorest_std_pca, axis=1),\n",
    "    np.expand_dims(y_pred_b2_califorest_std_pca, axis=1),\n",
    "    np.expand_dims(y_pred_b3_califorest_std_pca, axis=1),\n",
    "    np.expand_dims(y_pred_hr_califorest_std_pca, axis=1),\n",
    "    np.expand_dims(y_pred_fo_califorest_std_pca, axis=1),\n",
    "    np.expand_dims(y_pred_bb_califorest_std_pca, axis=1),\n",
    "    np.expand_dims(y_pred_k_califorest_std_pca, axis=1)\n",
    "], axis=1)\n",
    "# normalize probability to 1:\n",
    "y_pred_califorest_std_pca = utils.normalize_arr(y_pred_califorest_std_pca)\n",
    "\n",
    "# Califorest, no PCA, One model for each class, default params\n",
    "print(f\"Califorest B Score: {utils.get_brier_score(y_test_binary, y_pred_califorest_std_pca)}\")"
   ]
  },
  {
   "cell_type": "markdown",
   "id": "63a11b52",
   "metadata": {},
   "source": [
    "STD PCA Califorest B Score: 0.7078940880695483"
   ]
  },
  {
   "cell_type": "code",
   "execution_count": 42,
   "id": "547540aa",
   "metadata": {},
   "outputs": [
    {
     "data": {
      "text/plain": [
       "1583.8940210342407"
      ]
     },
     "execution_count": 42,
     "metadata": {},
     "output_type": "execute_result"
    }
   ],
   "source": [
    "time.time() - start"
   ]
  }
 ],
 "metadata": {
  "colab": {
   "collapsed_sections": [
    "024af86c",
    "cf5d343b",
    "2f10fefa",
    "292bc213",
    "dda56fc7",
    "18b40d59"
   ],
   "provenance": []
  },
  "gpuClass": "standard",
  "kernelspec": {
   "display_name": "Python [conda env:bb_sim]",
   "language": "python",
   "name": "conda-env-bb_sim-py"
  },
  "language_info": {
   "codemirror_mode": {
    "name": "ipython",
    "version": 3
   },
   "file_extension": ".py",
   "mimetype": "text/x-python",
   "name": "python",
   "nbconvert_exporter": "python",
   "pygments_lexer": "ipython3",
   "version": "3.9.13"
  },
  "widgets": {
   "application/vnd.jupyter.widget-state+json": {
    "0a9315fc41214c988eca447bc907fe1e": {
     "model_module": "@jupyter-widgets/controls",
     "model_module_version": "1.5.0",
     "model_name": "HTMLModel",
     "state": {
      "_dom_classes": [],
      "_model_module": "@jupyter-widgets/controls",
      "_model_module_version": "1.5.0",
      "_model_name": "HTMLModel",
      "_view_count": null,
      "_view_module": "@jupyter-widgets/controls",
      "_view_module_version": "1.5.0",
      "_view_name": "HTMLView",
      "description": "",
      "description_tooltip": null,
      "layout": "IPY_MODEL_bc694aa7dca640f7b3cfdc13f2401b01",
      "placeholder": "​",
      "style": "IPY_MODEL_a46212d3eb1f479a81e23a8e6f3e562e",
      "value": "100%"
     }
    },
    "2006e5cf2a164356bac5a56c054f7ece": {
     "model_module": "@jupyter-widgets/controls",
     "model_module_version": "1.5.0",
     "model_name": "ProgressStyleModel",
     "state": {
      "_model_module": "@jupyter-widgets/controls",
      "_model_module_version": "1.5.0",
      "_model_name": "ProgressStyleModel",
      "_view_count": null,
      "_view_module": "@jupyter-widgets/base",
      "_view_module_version": "1.2.0",
      "_view_name": "StyleView",
      "bar_color": null,
      "description_width": ""
     }
    },
    "4a354eba2b014af0b2991360adeddc0e": {
     "model_module": "@jupyter-widgets/controls",
     "model_module_version": "1.5.0",
     "model_name": "HTMLModel",
     "state": {
      "_dom_classes": [],
      "_model_module": "@jupyter-widgets/controls",
      "_model_module_version": "1.5.0",
      "_model_name": "HTMLModel",
      "_view_count": null,
      "_view_module": "@jupyter-widgets/controls",
      "_view_module_version": "1.5.0",
      "_view_name": "HTMLView",
      "description": "",
      "description_tooltip": null,
      "layout": "IPY_MODEL_87cc636986df4e38b908d2d81bdd2949",
      "placeholder": "​",
      "style": "IPY_MODEL_842e0ccb2111459d9551ecd2a5cace24",
      "value": " 142307/142307 [00:57&lt;00:00, 2765.26it/s]"
     }
    },
    "79ea100ccdc04d6a92859031bac9129c": {
     "model_module": "@jupyter-widgets/base",
     "model_module_version": "1.2.0",
     "model_name": "LayoutModel",
     "state": {
      "_model_module": "@jupyter-widgets/base",
      "_model_module_version": "1.2.0",
      "_model_name": "LayoutModel",
      "_view_count": null,
      "_view_module": "@jupyter-widgets/base",
      "_view_module_version": "1.2.0",
      "_view_name": "LayoutView",
      "align_content": null,
      "align_items": null,
      "align_self": null,
      "border": null,
      "bottom": null,
      "display": null,
      "flex": null,
      "flex_flow": null,
      "grid_area": null,
      "grid_auto_columns": null,
      "grid_auto_flow": null,
      "grid_auto_rows": null,
      "grid_column": null,
      "grid_gap": null,
      "grid_row": null,
      "grid_template_areas": null,
      "grid_template_columns": null,
      "grid_template_rows": null,
      "height": null,
      "justify_content": null,
      "justify_items": null,
      "left": null,
      "margin": null,
      "max_height": null,
      "max_width": null,
      "min_height": null,
      "min_width": null,
      "object_fit": null,
      "object_position": null,
      "order": null,
      "overflow": null,
      "overflow_x": null,
      "overflow_y": null,
      "padding": null,
      "right": null,
      "top": null,
      "visibility": null,
      "width": null
     }
    },
    "842e0ccb2111459d9551ecd2a5cace24": {
     "model_module": "@jupyter-widgets/controls",
     "model_module_version": "1.5.0",
     "model_name": "DescriptionStyleModel",
     "state": {
      "_model_module": "@jupyter-widgets/controls",
      "_model_module_version": "1.5.0",
      "_model_name": "DescriptionStyleModel",
      "_view_count": null,
      "_view_module": "@jupyter-widgets/base",
      "_view_module_version": "1.2.0",
      "_view_name": "StyleView",
      "description_width": ""
     }
    },
    "87cc636986df4e38b908d2d81bdd2949": {
     "model_module": "@jupyter-widgets/base",
     "model_module_version": "1.2.0",
     "model_name": "LayoutModel",
     "state": {
      "_model_module": "@jupyter-widgets/base",
      "_model_module_version": "1.2.0",
      "_model_name": "LayoutModel",
      "_view_count": null,
      "_view_module": "@jupyter-widgets/base",
      "_view_module_version": "1.2.0",
      "_view_name": "LayoutView",
      "align_content": null,
      "align_items": null,
      "align_self": null,
      "border": null,
      "bottom": null,
      "display": null,
      "flex": null,
      "flex_flow": null,
      "grid_area": null,
      "grid_auto_columns": null,
      "grid_auto_flow": null,
      "grid_auto_rows": null,
      "grid_column": null,
      "grid_gap": null,
      "grid_row": null,
      "grid_template_areas": null,
      "grid_template_columns": null,
      "grid_template_rows": null,
      "height": null,
      "justify_content": null,
      "justify_items": null,
      "left": null,
      "margin": null,
      "max_height": null,
      "max_width": null,
      "min_height": null,
      "min_width": null,
      "object_fit": null,
      "object_position": null,
      "order": null,
      "overflow": null,
      "overflow_x": null,
      "overflow_y": null,
      "padding": null,
      "right": null,
      "top": null,
      "visibility": null,
      "width": null
     }
    },
    "8a80408fafed42acbad33aaddabdf0ce": {
     "model_module": "@jupyter-widgets/base",
     "model_module_version": "1.2.0",
     "model_name": "LayoutModel",
     "state": {
      "_model_module": "@jupyter-widgets/base",
      "_model_module_version": "1.2.0",
      "_model_name": "LayoutModel",
      "_view_count": null,
      "_view_module": "@jupyter-widgets/base",
      "_view_module_version": "1.2.0",
      "_view_name": "LayoutView",
      "align_content": null,
      "align_items": null,
      "align_self": null,
      "border": null,
      "bottom": null,
      "display": null,
      "flex": null,
      "flex_flow": null,
      "grid_area": null,
      "grid_auto_columns": null,
      "grid_auto_flow": null,
      "grid_auto_rows": null,
      "grid_column": null,
      "grid_gap": null,
      "grid_row": null,
      "grid_template_areas": null,
      "grid_template_columns": null,
      "grid_template_rows": null,
      "height": null,
      "justify_content": null,
      "justify_items": null,
      "left": null,
      "margin": null,
      "max_height": null,
      "max_width": null,
      "min_height": null,
      "min_width": null,
      "object_fit": null,
      "object_position": null,
      "order": null,
      "overflow": null,
      "overflow_x": null,
      "overflow_y": null,
      "padding": null,
      "right": null,
      "top": null,
      "visibility": null,
      "width": null
     }
    },
    "a46212d3eb1f479a81e23a8e6f3e562e": {
     "model_module": "@jupyter-widgets/controls",
     "model_module_version": "1.5.0",
     "model_name": "DescriptionStyleModel",
     "state": {
      "_model_module": "@jupyter-widgets/controls",
      "_model_module_version": "1.5.0",
      "_model_name": "DescriptionStyleModel",
      "_view_count": null,
      "_view_module": "@jupyter-widgets/base",
      "_view_module_version": "1.2.0",
      "_view_name": "StyleView",
      "description_width": ""
     }
    },
    "bc694aa7dca640f7b3cfdc13f2401b01": {
     "model_module": "@jupyter-widgets/base",
     "model_module_version": "1.2.0",
     "model_name": "LayoutModel",
     "state": {
      "_model_module": "@jupyter-widgets/base",
      "_model_module_version": "1.2.0",
      "_model_name": "LayoutModel",
      "_view_count": null,
      "_view_module": "@jupyter-widgets/base",
      "_view_module_version": "1.2.0",
      "_view_name": "LayoutView",
      "align_content": null,
      "align_items": null,
      "align_self": null,
      "border": null,
      "bottom": null,
      "display": null,
      "flex": null,
      "flex_flow": null,
      "grid_area": null,
      "grid_auto_columns": null,
      "grid_auto_flow": null,
      "grid_auto_rows": null,
      "grid_column": null,
      "grid_gap": null,
      "grid_row": null,
      "grid_template_areas": null,
      "grid_template_columns": null,
      "grid_template_rows": null,
      "height": null,
      "justify_content": null,
      "justify_items": null,
      "left": null,
      "margin": null,
      "max_height": null,
      "max_width": null,
      "min_height": null,
      "min_width": null,
      "object_fit": null,
      "object_position": null,
      "order": null,
      "overflow": null,
      "overflow_x": null,
      "overflow_y": null,
      "padding": null,
      "right": null,
      "top": null,
      "visibility": null,
      "width": null
     }
    },
    "c62abd0eb0184f398949abcc1e36b260": {
     "model_module": "@jupyter-widgets/controls",
     "model_module_version": "1.5.0",
     "model_name": "HBoxModel",
     "state": {
      "_dom_classes": [],
      "_model_module": "@jupyter-widgets/controls",
      "_model_module_version": "1.5.0",
      "_model_name": "HBoxModel",
      "_view_count": null,
      "_view_module": "@jupyter-widgets/controls",
      "_view_module_version": "1.5.0",
      "_view_name": "HBoxView",
      "box_style": "",
      "children": [
       "IPY_MODEL_0a9315fc41214c988eca447bc907fe1e",
       "IPY_MODEL_cbb67d032f344304a5d6419b37d0e6be",
       "IPY_MODEL_4a354eba2b014af0b2991360adeddc0e"
      ],
      "layout": "IPY_MODEL_79ea100ccdc04d6a92859031bac9129c"
     }
    },
    "cbb67d032f344304a5d6419b37d0e6be": {
     "model_module": "@jupyter-widgets/controls",
     "model_module_version": "1.5.0",
     "model_name": "FloatProgressModel",
     "state": {
      "_dom_classes": [],
      "_model_module": "@jupyter-widgets/controls",
      "_model_module_version": "1.5.0",
      "_model_name": "FloatProgressModel",
      "_view_count": null,
      "_view_module": "@jupyter-widgets/controls",
      "_view_module_version": "1.5.0",
      "_view_name": "ProgressView",
      "bar_style": "success",
      "description": "",
      "description_tooltip": null,
      "layout": "IPY_MODEL_8a80408fafed42acbad33aaddabdf0ce",
      "max": 142307,
      "min": 0,
      "orientation": "horizontal",
      "style": "IPY_MODEL_2006e5cf2a164356bac5a56c054f7ece",
      "value": 142307
     }
    }
   }
  }
 },
 "nbformat": 4,
 "nbformat_minor": 5
}
