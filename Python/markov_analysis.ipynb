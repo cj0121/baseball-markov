{
 "cells": [
  {
   "cell_type": "code",
   "execution_count": 20,
   "id": "ff65b0ff",
   "metadata": {
    "id": "ff65b0ff"
   },
   "outputs": [
    {
     "name": "stdout",
     "output_type": "stream",
     "text": [
      "The jupyternotify extension is already loaded. To reload it, use:\n",
      "  %reload_ext jupyternotify\n"
     ]
    }
   ],
   "source": [
    "%load_ext jupyternotify\n",
    "\n",
    "# import os\n",
    "import pandas as pd\n",
    "import numpy as np\n",
    "import matplotlib.pyplot as plt\n",
    "import seaborn as sns\n",
    "import time\n",
    "import timeit\n",
    "import joblib\n",
    "\n",
    "import main\n",
    "\n",
    "from sklearn.model_selection import train_test_split\n",
    "from tqdm.auto import tqdm\n",
    "# from scipy.stats import *\n",
    "\n",
    "pd.set_option('display.max_columns', None)"
   ]
  },
  {
   "cell_type": "code",
   "execution_count": 21,
   "id": "4546ece4",
   "metadata": {},
   "outputs": [],
   "source": [
    "# pd.set_option('display.max_colwidth', None)\n",
    "\n",
    "pd.set_option('display.float_format', lambda x: '%.5f' % x)"
   ]
  },
  {
   "cell_type": "code",
   "execution_count": 22,
   "id": "3471dc5d",
   "metadata": {},
   "outputs": [
    {
     "data": {
      "text/html": [
       "<style>.container { width:70% !important; }</style>"
      ],
      "text/plain": [
       "<IPython.core.display.HTML object>"
      ]
     },
     "metadata": {},
     "output_type": "display_data"
    }
   ],
   "source": [
    "from IPython.display import display, HTML\n",
    "display(HTML(\"<style>.container { width:70% !important; }</style>\"))"
   ]
  },
  {
   "cell_type": "code",
   "execution_count": 23,
   "id": "dmJ0CSFb-8T7",
   "metadata": {
    "colab": {
     "base_uri": "https://localhost:8080/"
    },
    "executionInfo": {
     "elapsed": 15620,
     "status": "ok",
     "timestamp": 1668737101425,
     "user": {
      "displayName": "Jeff Jin",
      "userId": "04519095521378007072"
     },
     "user_tz": 300
    },
    "id": "dmJ0CSFb-8T7",
    "outputId": "f4791553-7270-468e-c01e-1fcd6f709ac6"
   },
   "outputs": [],
   "source": [
    "# from google.colab import drive\n",
    "# drive.mount('/content/drive')"
   ]
  },
  {
   "cell_type": "code",
   "execution_count": 24,
   "id": "21971c1f",
   "metadata": {},
   "outputs": [],
   "source": [
    "data_df_1522 = pd.read_csv('data/PitchDataCleanedLean_15-22.csv', index_col=[0])"
   ]
  },
  {
   "cell_type": "code",
   "execution_count": 25,
   "id": "bb8aa3c6",
   "metadata": {},
   "outputs": [],
   "source": [
    "data_train_df = data_df_1522[data_df_1522['game_year'].isin([2015, 2016, 2017, 2018])].copy()"
   ]
  },
  {
   "cell_type": "code",
   "execution_count": 26,
   "id": "7313f7b8",
   "metadata": {},
   "outputs": [],
   "source": [
    "# data_df_1518 = pd.read_csv('data/PitchDataCleanedLean_15-18.csv', index_col=[0])"
   ]
  },
  {
   "cell_type": "code",
   "execution_count": 27,
   "id": "362970a4",
   "metadata": {},
   "outputs": [],
   "source": [
    "data_test_df = data_df_1522[data_df_1522['game_year']==2019].copy()"
   ]
  },
  {
   "cell_type": "code",
   "execution_count": 9,
   "id": "35ef9ccf",
   "metadata": {},
   "outputs": [],
   "source": [
    "# data_df_19 = pd.read_csv('data/PitchDataCleanedLean_19.csv', index_col=[0])"
   ]
  },
  {
   "cell_type": "code",
   "execution_count": 10,
   "id": "4d74c696",
   "metadata": {},
   "outputs": [],
   "source": [
    "# B_COUNT_LIST = [0, 1, 2, 3]\n",
    "# S_COUNT_LIST = [0, 1, 2]\n",
    "# EVENT_LIST = ['1B', '2B', '3B', 'HR', 'FO', 'BB', 'K', 'other']\n",
    "# COUNT_LIST = [(b, s) for s in S_COUNT_LIST for b in B_COUNT_LIST]"
   ]
  },
  {
   "cell_type": "markdown",
   "id": "cf5d343b",
   "metadata": {
    "id": "cf5d343b"
   },
   "source": [
    "# Player filter"
   ]
  },
  {
   "cell_type": "code",
   "execution_count": 11,
   "id": "6992de8d",
   "metadata": {
    "colab": {
     "base_uri": "https://localhost:8080/"
    },
    "executionInfo": {
     "elapsed": 461,
     "status": "ok",
     "timestamp": 1668737182926,
     "user": {
      "displayName": "Jeff Jin",
      "userId": "04519095521378007072"
     },
     "user_tz": 300
    },
    "id": "6992de8d",
    "outputId": "f9c0b400-a295-4980-8e05-76f24f468963"
   },
   "outputs": [
    {
     "name": "stdout",
     "output_type": "stream",
     "text": [
      "(491, 2)\n",
      "(487, 2)\n"
     ]
    }
   ],
   "source": [
    "pa_batter = data_train_df.groupby(['batter', 'game_pk', 'at_bat_number']).agg({'n_count':sum}).reset_index()\n",
    "pa_batter['n_count'] = 1\n",
    "pa_batter = pa_batter.groupby('batter').agg({'n_count':sum}).reset_index()\n",
    "pa_batter.head()\n",
    "\n",
    "pa_batter['n_count'].mean()\n",
    "\n",
    "print(pa_batter[pa_batter['n_count']>=400].shape)\n",
    "\n",
    "pa_pitcher = data_train_df.groupby(['pitcher', 'game_pk', 'at_bat_number']).agg({'n_count':sum}).reset_index()\n",
    "pa_pitcher['n_count'] = 1\n",
    "pa_pitcher = pa_pitcher.groupby(['pitcher']).agg({'n_count':sum}).reset_index().copy()\n",
    "\n",
    "pa_pitcher['n_count'].mean()\n",
    "\n",
    "print(pa_pitcher[pa_pitcher['n_count']>=500].shape)"
   ]
  },
  {
   "cell_type": "markdown",
   "id": "2f10fefa",
   "metadata": {
    "id": "2f10fefa"
   },
   "source": [
    "## Create player filter"
   ]
  },
  {
   "cell_type": "code",
   "execution_count": 12,
   "id": "a5644b41",
   "metadata": {
    "id": "a5644b41"
   },
   "outputs": [
    {
     "data": {
      "text/plain": [
       "491"
      ]
     },
     "execution_count": 12,
     "metadata": {},
     "output_type": "execute_result"
    }
   ],
   "source": [
    "batter_quali_list = pa_batter[pa_batter['n_count']>=400]['batter'].to_list()\n",
    "len(batter_quali_list)"
   ]
  },
  {
   "cell_type": "code",
   "execution_count": 13,
   "id": "3de42ed9",
   "metadata": {},
   "outputs": [],
   "source": [
    "# %store batter_quali_list"
   ]
  },
  {
   "cell_type": "code",
   "execution_count": 14,
   "id": "55bf74c6",
   "metadata": {
    "id": "55bf74c6"
   },
   "outputs": [
    {
     "data": {
      "text/plain": [
       "487"
      ]
     },
     "execution_count": 14,
     "metadata": {},
     "output_type": "execute_result"
    }
   ],
   "source": [
    "pitcher_quali_list = pa_pitcher[pa_pitcher['n_count']>=500]['pitcher'].to_list()\n",
    "len(pitcher_quali_list)"
   ]
  },
  {
   "cell_type": "markdown",
   "id": "ebc2c711",
   "metadata": {},
   "source": [
    "# Markov Chain"
   ]
  },
  {
   "cell_type": "code",
   "execution_count": 15,
   "id": "1738a7bd",
   "metadata": {},
   "outputs": [],
   "source": [
    "# 592450"
   ]
  },
  {
   "cell_type": "code",
   "execution_count": 16,
   "id": "fb76bf6f",
   "metadata": {},
   "outputs": [],
   "source": [
    "# Mike Trout T matrix\n",
    "\n",
    "player_id = 545361\n",
    "\n",
    "T = main.get_player_T(player_id, is_pitcher=False, data_df=data_train_df)"
   ]
  },
  {
   "cell_type": "code",
   "execution_count": 19,
   "id": "86dc096d",
   "metadata": {},
   "outputs": [
    {
     "data": {
      "text/html": [
       "<div>\n",
       "<style scoped>\n",
       "    .dataframe tbody tr th:only-of-type {\n",
       "        vertical-align: middle;\n",
       "    }\n",
       "\n",
       "    .dataframe tbody tr th {\n",
       "        vertical-align: top;\n",
       "    }\n",
       "\n",
       "    .dataframe thead th {\n",
       "        text-align: right;\n",
       "    }\n",
       "</style>\n",
       "<table border=\"1\" class=\"dataframe\">\n",
       "  <thead>\n",
       "    <tr style=\"text-align: right;\">\n",
       "      <th></th>\n",
       "      <th>(0, 0)</th>\n",
       "      <th>(1, 0)</th>\n",
       "      <th>(2, 0)</th>\n",
       "      <th>(3, 0)</th>\n",
       "      <th>(0, 1)</th>\n",
       "      <th>(1, 1)</th>\n",
       "      <th>(2, 1)</th>\n",
       "      <th>(3, 1)</th>\n",
       "      <th>(0, 2)</th>\n",
       "      <th>(1, 2)</th>\n",
       "      <th>(2, 2)</th>\n",
       "      <th>(3, 2)</th>\n",
       "      <th>1B</th>\n",
       "      <th>2B</th>\n",
       "      <th>3B</th>\n",
       "      <th>HR</th>\n",
       "      <th>FO</th>\n",
       "      <th>BB</th>\n",
       "      <th>K</th>\n",
       "      <th>other</th>\n",
       "    </tr>\n",
       "  </thead>\n",
       "  <tbody>\n",
       "    <tr>\n",
       "      <th>(0, 0)</th>\n",
       "      <td>0.00000</td>\n",
       "      <td>0.41626</td>\n",
       "      <td>0.00000</td>\n",
       "      <td>0.00000</td>\n",
       "      <td>0.52655</td>\n",
       "      <td>0.00000</td>\n",
       "      <td>0.00000</td>\n",
       "      <td>0.00000</td>\n",
       "      <td>0.00000</td>\n",
       "      <td>0.00000</td>\n",
       "      <td>0.00000</td>\n",
       "      <td>0.00000</td>\n",
       "      <td>0.01307</td>\n",
       "      <td>0.00531</td>\n",
       "      <td>0.00041</td>\n",
       "      <td>0.00572</td>\n",
       "      <td>0.03023</td>\n",
       "      <td>0.00245</td>\n",
       "      <td>0.00000</td>\n",
       "      <td>0.00000</td>\n",
       "    </tr>\n",
       "    <tr>\n",
       "      <th>(1, 0)</th>\n",
       "      <td>0.00000</td>\n",
       "      <td>0.00000</td>\n",
       "      <td>0.38469</td>\n",
       "      <td>0.00000</td>\n",
       "      <td>0.00000</td>\n",
       "      <td>0.49166</td>\n",
       "      <td>0.00000</td>\n",
       "      <td>0.00000</td>\n",
       "      <td>0.00000</td>\n",
       "      <td>0.00000</td>\n",
       "      <td>0.00000</td>\n",
       "      <td>0.00000</td>\n",
       "      <td>0.03140</td>\n",
       "      <td>0.00589</td>\n",
       "      <td>0.00196</td>\n",
       "      <td>0.01079</td>\n",
       "      <td>0.06869</td>\n",
       "      <td>0.00393</td>\n",
       "      <td>0.00000</td>\n",
       "      <td>0.00098</td>\n",
       "    </tr>\n",
       "    <tr>\n",
       "      <th>(2, 0)</th>\n",
       "      <td>0.00000</td>\n",
       "      <td>0.00000</td>\n",
       "      <td>0.00000</td>\n",
       "      <td>0.39031</td>\n",
       "      <td>0.00000</td>\n",
       "      <td>0.00000</td>\n",
       "      <td>0.47704</td>\n",
       "      <td>0.00000</td>\n",
       "      <td>0.00000</td>\n",
       "      <td>0.00000</td>\n",
       "      <td>0.00000</td>\n",
       "      <td>0.00000</td>\n",
       "      <td>0.02806</td>\n",
       "      <td>0.00765</td>\n",
       "      <td>0.00000</td>\n",
       "      <td>0.02041</td>\n",
       "      <td>0.06888</td>\n",
       "      <td>0.00765</td>\n",
       "      <td>0.00000</td>\n",
       "      <td>0.00000</td>\n",
       "    </tr>\n",
       "    <tr>\n",
       "      <th>(3, 0)</th>\n",
       "      <td>0.00000</td>\n",
       "      <td>0.00000</td>\n",
       "      <td>0.00000</td>\n",
       "      <td>0.00000</td>\n",
       "      <td>0.00000</td>\n",
       "      <td>0.00000</td>\n",
       "      <td>0.00000</td>\n",
       "      <td>0.49020</td>\n",
       "      <td>0.00000</td>\n",
       "      <td>0.00000</td>\n",
       "      <td>0.00000</td>\n",
       "      <td>0.00000</td>\n",
       "      <td>0.00654</td>\n",
       "      <td>0.00000</td>\n",
       "      <td>0.00000</td>\n",
       "      <td>0.00000</td>\n",
       "      <td>0.02614</td>\n",
       "      <td>0.47712</td>\n",
       "      <td>0.00000</td>\n",
       "      <td>0.00000</td>\n",
       "    </tr>\n",
       "    <tr>\n",
       "      <th>(0, 1)</th>\n",
       "      <td>0.00000</td>\n",
       "      <td>0.00000</td>\n",
       "      <td>0.00000</td>\n",
       "      <td>0.00000</td>\n",
       "      <td>0.00000</td>\n",
       "      <td>0.47634</td>\n",
       "      <td>0.00000</td>\n",
       "      <td>0.00000</td>\n",
       "      <td>0.37161</td>\n",
       "      <td>0.00000</td>\n",
       "      <td>0.00000</td>\n",
       "      <td>0.00000</td>\n",
       "      <td>0.02793</td>\n",
       "      <td>0.01319</td>\n",
       "      <td>0.00388</td>\n",
       "      <td>0.01396</td>\n",
       "      <td>0.08689</td>\n",
       "      <td>0.00543</td>\n",
       "      <td>0.00000</td>\n",
       "      <td>0.00078</td>\n",
       "    </tr>\n",
       "    <tr>\n",
       "      <th>(1, 1)</th>\n",
       "      <td>0.00000</td>\n",
       "      <td>0.00000</td>\n",
       "      <td>0.00000</td>\n",
       "      <td>0.00000</td>\n",
       "      <td>0.00000</td>\n",
       "      <td>0.00000</td>\n",
       "      <td>0.39821</td>\n",
       "      <td>0.00000</td>\n",
       "      <td>0.00000</td>\n",
       "      <td>0.43049</td>\n",
       "      <td>0.00000</td>\n",
       "      <td>0.00000</td>\n",
       "      <td>0.04215</td>\n",
       "      <td>0.00807</td>\n",
       "      <td>0.00090</td>\n",
       "      <td>0.01883</td>\n",
       "      <td>0.09865</td>\n",
       "      <td>0.00269</td>\n",
       "      <td>0.00000</td>\n",
       "      <td>0.00000</td>\n",
       "    </tr>\n",
       "    <tr>\n",
       "      <th>(2, 1)</th>\n",
       "      <td>0.00000</td>\n",
       "      <td>0.00000</td>\n",
       "      <td>0.00000</td>\n",
       "      <td>0.00000</td>\n",
       "      <td>0.00000</td>\n",
       "      <td>0.00000</td>\n",
       "      <td>0.00000</td>\n",
       "      <td>0.31854</td>\n",
       "      <td>0.00000</td>\n",
       "      <td>0.00000</td>\n",
       "      <td>0.46276</td>\n",
       "      <td>0.00000</td>\n",
       "      <td>0.04279</td>\n",
       "      <td>0.02853</td>\n",
       "      <td>0.00000</td>\n",
       "      <td>0.01426</td>\n",
       "      <td>0.12678</td>\n",
       "      <td>0.00634</td>\n",
       "      <td>0.00000</td>\n",
       "      <td>0.00000</td>\n",
       "    </tr>\n",
       "    <tr>\n",
       "      <th>(3, 1)</th>\n",
       "      <td>0.00000</td>\n",
       "      <td>0.00000</td>\n",
       "      <td>0.00000</td>\n",
       "      <td>0.00000</td>\n",
       "      <td>0.00000</td>\n",
       "      <td>0.00000</td>\n",
       "      <td>0.00000</td>\n",
       "      <td>0.00000</td>\n",
       "      <td>0.00000</td>\n",
       "      <td>0.00000</td>\n",
       "      <td>0.00000</td>\n",
       "      <td>0.43841</td>\n",
       "      <td>0.04710</td>\n",
       "      <td>0.01812</td>\n",
       "      <td>0.00362</td>\n",
       "      <td>0.03261</td>\n",
       "      <td>0.14130</td>\n",
       "      <td>0.31884</td>\n",
       "      <td>0.00000</td>\n",
       "      <td>0.00000</td>\n",
       "    </tr>\n",
       "    <tr>\n",
       "      <th>(0, 2)</th>\n",
       "      <td>0.00000</td>\n",
       "      <td>0.00000</td>\n",
       "      <td>0.00000</td>\n",
       "      <td>0.00000</td>\n",
       "      <td>0.00000</td>\n",
       "      <td>0.00000</td>\n",
       "      <td>0.00000</td>\n",
       "      <td>0.00000</td>\n",
       "      <td>0.16112</td>\n",
       "      <td>0.58319</td>\n",
       "      <td>0.00000</td>\n",
       "      <td>0.00000</td>\n",
       "      <td>0.02977</td>\n",
       "      <td>0.00350</td>\n",
       "      <td>0.00000</td>\n",
       "      <td>0.01401</td>\n",
       "      <td>0.09107</td>\n",
       "      <td>0.00525</td>\n",
       "      <td>0.11208</td>\n",
       "      <td>0.00000</td>\n",
       "    </tr>\n",
       "    <tr>\n",
       "      <th>(1, 2)</th>\n",
       "      <td>0.00000</td>\n",
       "      <td>0.00000</td>\n",
       "      <td>0.00000</td>\n",
       "      <td>0.00000</td>\n",
       "      <td>0.00000</td>\n",
       "      <td>0.00000</td>\n",
       "      <td>0.00000</td>\n",
       "      <td>0.00000</td>\n",
       "      <td>0.00000</td>\n",
       "      <td>0.17125</td>\n",
       "      <td>0.52599</td>\n",
       "      <td>0.00000</td>\n",
       "      <td>0.04077</td>\n",
       "      <td>0.00815</td>\n",
       "      <td>0.00204</td>\n",
       "      <td>0.00917</td>\n",
       "      <td>0.08563</td>\n",
       "      <td>0.00408</td>\n",
       "      <td>0.15291</td>\n",
       "      <td>0.00000</td>\n",
       "    </tr>\n",
       "    <tr>\n",
       "      <th>(2, 2)</th>\n",
       "      <td>0.00000</td>\n",
       "      <td>0.00000</td>\n",
       "      <td>0.00000</td>\n",
       "      <td>0.00000</td>\n",
       "      <td>0.00000</td>\n",
       "      <td>0.00000</td>\n",
       "      <td>0.00000</td>\n",
       "      <td>0.00000</td>\n",
       "      <td>0.00000</td>\n",
       "      <td>0.00000</td>\n",
       "      <td>0.22382</td>\n",
       "      <td>0.41018</td>\n",
       "      <td>0.04515</td>\n",
       "      <td>0.01633</td>\n",
       "      <td>0.00384</td>\n",
       "      <td>0.01537</td>\n",
       "      <td>0.11431</td>\n",
       "      <td>0.00384</td>\n",
       "      <td>0.16715</td>\n",
       "      <td>0.00000</td>\n",
       "    </tr>\n",
       "    <tr>\n",
       "      <th>(3, 2)</th>\n",
       "      <td>0.00000</td>\n",
       "      <td>0.00000</td>\n",
       "      <td>0.00000</td>\n",
       "      <td>0.00000</td>\n",
       "      <td>0.00000</td>\n",
       "      <td>0.00000</td>\n",
       "      <td>0.00000</td>\n",
       "      <td>0.00000</td>\n",
       "      <td>0.00000</td>\n",
       "      <td>0.00000</td>\n",
       "      <td>0.00000</td>\n",
       "      <td>0.26738</td>\n",
       "      <td>0.05214</td>\n",
       "      <td>0.02005</td>\n",
       "      <td>0.00267</td>\n",
       "      <td>0.02540</td>\n",
       "      <td>0.16043</td>\n",
       "      <td>0.31016</td>\n",
       "      <td>0.16176</td>\n",
       "      <td>0.00000</td>\n",
       "    </tr>\n",
       "    <tr>\n",
       "      <th>1B</th>\n",
       "      <td>0.00000</td>\n",
       "      <td>0.00000</td>\n",
       "      <td>0.00000</td>\n",
       "      <td>0.00000</td>\n",
       "      <td>0.00000</td>\n",
       "      <td>0.00000</td>\n",
       "      <td>0.00000</td>\n",
       "      <td>0.00000</td>\n",
       "      <td>0.00000</td>\n",
       "      <td>0.00000</td>\n",
       "      <td>0.00000</td>\n",
       "      <td>0.00000</td>\n",
       "      <td>1.00000</td>\n",
       "      <td>0.00000</td>\n",
       "      <td>0.00000</td>\n",
       "      <td>0.00000</td>\n",
       "      <td>0.00000</td>\n",
       "      <td>0.00000</td>\n",
       "      <td>0.00000</td>\n",
       "      <td>0.00000</td>\n",
       "    </tr>\n",
       "    <tr>\n",
       "      <th>2B</th>\n",
       "      <td>0.00000</td>\n",
       "      <td>0.00000</td>\n",
       "      <td>0.00000</td>\n",
       "      <td>0.00000</td>\n",
       "      <td>0.00000</td>\n",
       "      <td>0.00000</td>\n",
       "      <td>0.00000</td>\n",
       "      <td>0.00000</td>\n",
       "      <td>0.00000</td>\n",
       "      <td>0.00000</td>\n",
       "      <td>0.00000</td>\n",
       "      <td>0.00000</td>\n",
       "      <td>0.00000</td>\n",
       "      <td>1.00000</td>\n",
       "      <td>0.00000</td>\n",
       "      <td>0.00000</td>\n",
       "      <td>0.00000</td>\n",
       "      <td>0.00000</td>\n",
       "      <td>0.00000</td>\n",
       "      <td>0.00000</td>\n",
       "    </tr>\n",
       "    <tr>\n",
       "      <th>3B</th>\n",
       "      <td>0.00000</td>\n",
       "      <td>0.00000</td>\n",
       "      <td>0.00000</td>\n",
       "      <td>0.00000</td>\n",
       "      <td>0.00000</td>\n",
       "      <td>0.00000</td>\n",
       "      <td>0.00000</td>\n",
       "      <td>0.00000</td>\n",
       "      <td>0.00000</td>\n",
       "      <td>0.00000</td>\n",
       "      <td>0.00000</td>\n",
       "      <td>0.00000</td>\n",
       "      <td>0.00000</td>\n",
       "      <td>0.00000</td>\n",
       "      <td>1.00000</td>\n",
       "      <td>0.00000</td>\n",
       "      <td>0.00000</td>\n",
       "      <td>0.00000</td>\n",
       "      <td>0.00000</td>\n",
       "      <td>0.00000</td>\n",
       "    </tr>\n",
       "    <tr>\n",
       "      <th>HR</th>\n",
       "      <td>0.00000</td>\n",
       "      <td>0.00000</td>\n",
       "      <td>0.00000</td>\n",
       "      <td>0.00000</td>\n",
       "      <td>0.00000</td>\n",
       "      <td>0.00000</td>\n",
       "      <td>0.00000</td>\n",
       "      <td>0.00000</td>\n",
       "      <td>0.00000</td>\n",
       "      <td>0.00000</td>\n",
       "      <td>0.00000</td>\n",
       "      <td>0.00000</td>\n",
       "      <td>0.00000</td>\n",
       "      <td>0.00000</td>\n",
       "      <td>0.00000</td>\n",
       "      <td>1.00000</td>\n",
       "      <td>0.00000</td>\n",
       "      <td>0.00000</td>\n",
       "      <td>0.00000</td>\n",
       "      <td>0.00000</td>\n",
       "    </tr>\n",
       "    <tr>\n",
       "      <th>FO</th>\n",
       "      <td>0.00000</td>\n",
       "      <td>0.00000</td>\n",
       "      <td>0.00000</td>\n",
       "      <td>0.00000</td>\n",
       "      <td>0.00000</td>\n",
       "      <td>0.00000</td>\n",
       "      <td>0.00000</td>\n",
       "      <td>0.00000</td>\n",
       "      <td>0.00000</td>\n",
       "      <td>0.00000</td>\n",
       "      <td>0.00000</td>\n",
       "      <td>0.00000</td>\n",
       "      <td>0.00000</td>\n",
       "      <td>0.00000</td>\n",
       "      <td>0.00000</td>\n",
       "      <td>0.00000</td>\n",
       "      <td>1.00000</td>\n",
       "      <td>0.00000</td>\n",
       "      <td>0.00000</td>\n",
       "      <td>0.00000</td>\n",
       "    </tr>\n",
       "    <tr>\n",
       "      <th>BB</th>\n",
       "      <td>0.00000</td>\n",
       "      <td>0.00000</td>\n",
       "      <td>0.00000</td>\n",
       "      <td>0.00000</td>\n",
       "      <td>0.00000</td>\n",
       "      <td>0.00000</td>\n",
       "      <td>0.00000</td>\n",
       "      <td>0.00000</td>\n",
       "      <td>0.00000</td>\n",
       "      <td>0.00000</td>\n",
       "      <td>0.00000</td>\n",
       "      <td>0.00000</td>\n",
       "      <td>0.00000</td>\n",
       "      <td>0.00000</td>\n",
       "      <td>0.00000</td>\n",
       "      <td>0.00000</td>\n",
       "      <td>0.00000</td>\n",
       "      <td>1.00000</td>\n",
       "      <td>0.00000</td>\n",
       "      <td>0.00000</td>\n",
       "    </tr>\n",
       "    <tr>\n",
       "      <th>K</th>\n",
       "      <td>0.00000</td>\n",
       "      <td>0.00000</td>\n",
       "      <td>0.00000</td>\n",
       "      <td>0.00000</td>\n",
       "      <td>0.00000</td>\n",
       "      <td>0.00000</td>\n",
       "      <td>0.00000</td>\n",
       "      <td>0.00000</td>\n",
       "      <td>0.00000</td>\n",
       "      <td>0.00000</td>\n",
       "      <td>0.00000</td>\n",
       "      <td>0.00000</td>\n",
       "      <td>0.00000</td>\n",
       "      <td>0.00000</td>\n",
       "      <td>0.00000</td>\n",
       "      <td>0.00000</td>\n",
       "      <td>0.00000</td>\n",
       "      <td>0.00000</td>\n",
       "      <td>1.00000</td>\n",
       "      <td>0.00000</td>\n",
       "    </tr>\n",
       "    <tr>\n",
       "      <th>other</th>\n",
       "      <td>0.00000</td>\n",
       "      <td>0.00000</td>\n",
       "      <td>0.00000</td>\n",
       "      <td>0.00000</td>\n",
       "      <td>0.00000</td>\n",
       "      <td>0.00000</td>\n",
       "      <td>0.00000</td>\n",
       "      <td>0.00000</td>\n",
       "      <td>0.00000</td>\n",
       "      <td>0.00000</td>\n",
       "      <td>0.00000</td>\n",
       "      <td>0.00000</td>\n",
       "      <td>0.00000</td>\n",
       "      <td>0.00000</td>\n",
       "      <td>0.00000</td>\n",
       "      <td>0.00000</td>\n",
       "      <td>0.00000</td>\n",
       "      <td>0.00000</td>\n",
       "      <td>0.00000</td>\n",
       "      <td>1.00000</td>\n",
       "    </tr>\n",
       "  </tbody>\n",
       "</table>\n",
       "</div>"
      ],
      "text/plain": [
       "        (0, 0)  (1, 0)  (2, 0)  (3, 0)  (0, 1)  (1, 1)  (2, 1)  (3, 1)  \\\n",
       "(0, 0) 0.00000 0.41626 0.00000 0.00000 0.52655 0.00000 0.00000 0.00000   \n",
       "(1, 0) 0.00000 0.00000 0.38469 0.00000 0.00000 0.49166 0.00000 0.00000   \n",
       "(2, 0) 0.00000 0.00000 0.00000 0.39031 0.00000 0.00000 0.47704 0.00000   \n",
       "(3, 0) 0.00000 0.00000 0.00000 0.00000 0.00000 0.00000 0.00000 0.49020   \n",
       "(0, 1) 0.00000 0.00000 0.00000 0.00000 0.00000 0.47634 0.00000 0.00000   \n",
       "(1, 1) 0.00000 0.00000 0.00000 0.00000 0.00000 0.00000 0.39821 0.00000   \n",
       "(2, 1) 0.00000 0.00000 0.00000 0.00000 0.00000 0.00000 0.00000 0.31854   \n",
       "(3, 1) 0.00000 0.00000 0.00000 0.00000 0.00000 0.00000 0.00000 0.00000   \n",
       "(0, 2) 0.00000 0.00000 0.00000 0.00000 0.00000 0.00000 0.00000 0.00000   \n",
       "(1, 2) 0.00000 0.00000 0.00000 0.00000 0.00000 0.00000 0.00000 0.00000   \n",
       "(2, 2) 0.00000 0.00000 0.00000 0.00000 0.00000 0.00000 0.00000 0.00000   \n",
       "(3, 2) 0.00000 0.00000 0.00000 0.00000 0.00000 0.00000 0.00000 0.00000   \n",
       "1B     0.00000 0.00000 0.00000 0.00000 0.00000 0.00000 0.00000 0.00000   \n",
       "2B     0.00000 0.00000 0.00000 0.00000 0.00000 0.00000 0.00000 0.00000   \n",
       "3B     0.00000 0.00000 0.00000 0.00000 0.00000 0.00000 0.00000 0.00000   \n",
       "HR     0.00000 0.00000 0.00000 0.00000 0.00000 0.00000 0.00000 0.00000   \n",
       "FO     0.00000 0.00000 0.00000 0.00000 0.00000 0.00000 0.00000 0.00000   \n",
       "BB     0.00000 0.00000 0.00000 0.00000 0.00000 0.00000 0.00000 0.00000   \n",
       "K      0.00000 0.00000 0.00000 0.00000 0.00000 0.00000 0.00000 0.00000   \n",
       "other  0.00000 0.00000 0.00000 0.00000 0.00000 0.00000 0.00000 0.00000   \n",
       "\n",
       "        (0, 2)  (1, 2)  (2, 2)  (3, 2)      1B      2B      3B      HR  \\\n",
       "(0, 0) 0.00000 0.00000 0.00000 0.00000 0.01307 0.00531 0.00041 0.00572   \n",
       "(1, 0) 0.00000 0.00000 0.00000 0.00000 0.03140 0.00589 0.00196 0.01079   \n",
       "(2, 0) 0.00000 0.00000 0.00000 0.00000 0.02806 0.00765 0.00000 0.02041   \n",
       "(3, 0) 0.00000 0.00000 0.00000 0.00000 0.00654 0.00000 0.00000 0.00000   \n",
       "(0, 1) 0.37161 0.00000 0.00000 0.00000 0.02793 0.01319 0.00388 0.01396   \n",
       "(1, 1) 0.00000 0.43049 0.00000 0.00000 0.04215 0.00807 0.00090 0.01883   \n",
       "(2, 1) 0.00000 0.00000 0.46276 0.00000 0.04279 0.02853 0.00000 0.01426   \n",
       "(3, 1) 0.00000 0.00000 0.00000 0.43841 0.04710 0.01812 0.00362 0.03261   \n",
       "(0, 2) 0.16112 0.58319 0.00000 0.00000 0.02977 0.00350 0.00000 0.01401   \n",
       "(1, 2) 0.00000 0.17125 0.52599 0.00000 0.04077 0.00815 0.00204 0.00917   \n",
       "(2, 2) 0.00000 0.00000 0.22382 0.41018 0.04515 0.01633 0.00384 0.01537   \n",
       "(3, 2) 0.00000 0.00000 0.00000 0.26738 0.05214 0.02005 0.00267 0.02540   \n",
       "1B     0.00000 0.00000 0.00000 0.00000 1.00000 0.00000 0.00000 0.00000   \n",
       "2B     0.00000 0.00000 0.00000 0.00000 0.00000 1.00000 0.00000 0.00000   \n",
       "3B     0.00000 0.00000 0.00000 0.00000 0.00000 0.00000 1.00000 0.00000   \n",
       "HR     0.00000 0.00000 0.00000 0.00000 0.00000 0.00000 0.00000 1.00000   \n",
       "FO     0.00000 0.00000 0.00000 0.00000 0.00000 0.00000 0.00000 0.00000   \n",
       "BB     0.00000 0.00000 0.00000 0.00000 0.00000 0.00000 0.00000 0.00000   \n",
       "K      0.00000 0.00000 0.00000 0.00000 0.00000 0.00000 0.00000 0.00000   \n",
       "other  0.00000 0.00000 0.00000 0.00000 0.00000 0.00000 0.00000 0.00000   \n",
       "\n",
       "            FO      BB       K   other  \n",
       "(0, 0) 0.03023 0.00245 0.00000 0.00000  \n",
       "(1, 0) 0.06869 0.00393 0.00000 0.00098  \n",
       "(2, 0) 0.06888 0.00765 0.00000 0.00000  \n",
       "(3, 0) 0.02614 0.47712 0.00000 0.00000  \n",
       "(0, 1) 0.08689 0.00543 0.00000 0.00078  \n",
       "(1, 1) 0.09865 0.00269 0.00000 0.00000  \n",
       "(2, 1) 0.12678 0.00634 0.00000 0.00000  \n",
       "(3, 1) 0.14130 0.31884 0.00000 0.00000  \n",
       "(0, 2) 0.09107 0.00525 0.11208 0.00000  \n",
       "(1, 2) 0.08563 0.00408 0.15291 0.00000  \n",
       "(2, 2) 0.11431 0.00384 0.16715 0.00000  \n",
       "(3, 2) 0.16043 0.31016 0.16176 0.00000  \n",
       "1B     0.00000 0.00000 0.00000 0.00000  \n",
       "2B     0.00000 0.00000 0.00000 0.00000  \n",
       "3B     0.00000 0.00000 0.00000 0.00000  \n",
       "HR     0.00000 0.00000 0.00000 0.00000  \n",
       "FO     1.00000 0.00000 0.00000 0.00000  \n",
       "BB     0.00000 1.00000 0.00000 0.00000  \n",
       "K      0.00000 0.00000 1.00000 0.00000  \n",
       "other  0.00000 0.00000 0.00000 1.00000  "
      ]
     },
     "execution_count": 19,
     "metadata": {},
     "output_type": "execute_result"
    }
   ],
   "source": [
    "main.convert_T_df(T)"
   ]
  },
  {
   "cell_type": "code",
   "execution_count": 17,
   "id": "423f7b9e",
   "metadata": {},
   "outputs": [
    {
     "data": {
      "text/html": [
       "<div>\n",
       "<style scoped>\n",
       "    .dataframe tbody tr th:only-of-type {\n",
       "        vertical-align: middle;\n",
       "    }\n",
       "\n",
       "    .dataframe tbody tr th {\n",
       "        vertical-align: top;\n",
       "    }\n",
       "\n",
       "    .dataframe thead th {\n",
       "        text-align: right;\n",
       "    }\n",
       "</style>\n",
       "<table border=\"1\" class=\"dataframe\">\n",
       "  <thead>\n",
       "    <tr style=\"text-align: right;\">\n",
       "      <th></th>\n",
       "      <th>(0, 0)</th>\n",
       "      <th>(1, 0)</th>\n",
       "      <th>(2, 0)</th>\n",
       "      <th>(3, 0)</th>\n",
       "      <th>(0, 1)</th>\n",
       "      <th>(1, 1)</th>\n",
       "      <th>(2, 1)</th>\n",
       "      <th>(3, 1)</th>\n",
       "      <th>(0, 2)</th>\n",
       "      <th>(1, 2)</th>\n",
       "      <th>(2, 2)</th>\n",
       "      <th>(3, 2)</th>\n",
       "      <th>1B</th>\n",
       "      <th>2B</th>\n",
       "      <th>3B</th>\n",
       "      <th>HR</th>\n",
       "      <th>FO</th>\n",
       "      <th>BB</th>\n",
       "      <th>K</th>\n",
       "      <th>other</th>\n",
       "    </tr>\n",
       "  </thead>\n",
       "  <tbody>\n",
       "    <tr>\n",
       "      <th>(0, 0)</th>\n",
       "      <td>0.00000</td>\n",
       "      <td>0.00000</td>\n",
       "      <td>0.00000</td>\n",
       "      <td>0.00000</td>\n",
       "      <td>0.00000</td>\n",
       "      <td>0.00000</td>\n",
       "      <td>0.00000</td>\n",
       "      <td>0.00000</td>\n",
       "      <td>0.00000</td>\n",
       "      <td>0.00000</td>\n",
       "      <td>0.00000</td>\n",
       "      <td>0.00000</td>\n",
       "      <td>0.13971</td>\n",
       "      <td>0.04616</td>\n",
       "      <td>0.00735</td>\n",
       "      <td>0.05801</td>\n",
       "      <td>0.36397</td>\n",
       "      <td>0.17606</td>\n",
       "      <td>0.20792</td>\n",
       "      <td>0.00082</td>\n",
       "    </tr>\n",
       "    <tr>\n",
       "      <th>(1, 0)</th>\n",
       "      <td>0.00000</td>\n",
       "      <td>0.00000</td>\n",
       "      <td>0.00000</td>\n",
       "      <td>0.00000</td>\n",
       "      <td>0.00000</td>\n",
       "      <td>0.00000</td>\n",
       "      <td>0.00000</td>\n",
       "      <td>0.00000</td>\n",
       "      <td>0.00000</td>\n",
       "      <td>0.00000</td>\n",
       "      <td>0.00000</td>\n",
       "      <td>0.00000</td>\n",
       "      <td>0.13545</td>\n",
       "      <td>0.04256</td>\n",
       "      <td>0.00607</td>\n",
       "      <td>0.05677</td>\n",
       "      <td>0.34521</td>\n",
       "      <td>0.25221</td>\n",
       "      <td>0.16075</td>\n",
       "      <td>0.00098</td>\n",
       "    </tr>\n",
       "    <tr>\n",
       "      <th>(2, 0)</th>\n",
       "      <td>0.00000</td>\n",
       "      <td>0.00000</td>\n",
       "      <td>0.00000</td>\n",
       "      <td>0.00000</td>\n",
       "      <td>0.00000</td>\n",
       "      <td>0.00000</td>\n",
       "      <td>0.00000</td>\n",
       "      <td>0.00000</td>\n",
       "      <td>0.00000</td>\n",
       "      <td>0.00000</td>\n",
       "      <td>0.00000</td>\n",
       "      <td>0.00000</td>\n",
       "      <td>0.09905</td>\n",
       "      <td>0.03944</td>\n",
       "      <td>0.00331</td>\n",
       "      <td>0.05204</td>\n",
       "      <td>0.27908</td>\n",
       "      <td>0.42055</td>\n",
       "      <td>0.10653</td>\n",
       "      <td>0.00000</td>\n",
       "    </tr>\n",
       "    <tr>\n",
       "      <th>(3, 0)</th>\n",
       "      <td>0.00000</td>\n",
       "      <td>0.00000</td>\n",
       "      <td>0.00000</td>\n",
       "      <td>0.00000</td>\n",
       "      <td>0.00000</td>\n",
       "      <td>0.00000</td>\n",
       "      <td>0.00000</td>\n",
       "      <td>0.00000</td>\n",
       "      <td>0.00000</td>\n",
       "      <td>0.00000</td>\n",
       "      <td>0.00000</td>\n",
       "      <td>0.00000</td>\n",
       "      <td>0.04492</td>\n",
       "      <td>0.01476</td>\n",
       "      <td>0.00256</td>\n",
       "      <td>0.02344</td>\n",
       "      <td>0.14247</td>\n",
       "      <td>0.72440</td>\n",
       "      <td>0.04745</td>\n",
       "      <td>0.00000</td>\n",
       "    </tr>\n",
       "    <tr>\n",
       "      <th>(0, 1)</th>\n",
       "      <td>0.00000</td>\n",
       "      <td>0.00000</td>\n",
       "      <td>0.00000</td>\n",
       "      <td>0.00000</td>\n",
       "      <td>0.00000</td>\n",
       "      <td>0.00000</td>\n",
       "      <td>0.00000</td>\n",
       "      <td>0.00000</td>\n",
       "      <td>0.00000</td>\n",
       "      <td>0.00000</td>\n",
       "      <td>0.00000</td>\n",
       "      <td>0.00000</td>\n",
       "      <td>0.13342</td>\n",
       "      <td>0.04393</td>\n",
       "      <td>0.00839</td>\n",
       "      <td>0.05443</td>\n",
       "      <td>0.36093</td>\n",
       "      <td>0.13033</td>\n",
       "      <td>0.26780</td>\n",
       "      <td>0.00078</td>\n",
       "    </tr>\n",
       "    <tr>\n",
       "      <th>(1, 1)</th>\n",
       "      <td>0.00000</td>\n",
       "      <td>0.00000</td>\n",
       "      <td>0.00000</td>\n",
       "      <td>0.00000</td>\n",
       "      <td>0.00000</td>\n",
       "      <td>0.00000</td>\n",
       "      <td>0.00000</td>\n",
       "      <td>0.00000</td>\n",
       "      <td>0.00000</td>\n",
       "      <td>0.00000</td>\n",
       "      <td>0.00000</td>\n",
       "      <td>0.00000</td>\n",
       "      <td>0.13412</td>\n",
       "      <td>0.04373</td>\n",
       "      <td>0.00577</td>\n",
       "      <td>0.05279</td>\n",
       "      <td>0.34404</td>\n",
       "      <td>0.17594</td>\n",
       "      <td>0.24361</td>\n",
       "      <td>0.00000</td>\n",
       "    </tr>\n",
       "    <tr>\n",
       "      <th>(2, 1)</th>\n",
       "      <td>0.00000</td>\n",
       "      <td>0.00000</td>\n",
       "      <td>0.00000</td>\n",
       "      <td>0.00000</td>\n",
       "      <td>0.00000</td>\n",
       "      <td>0.00000</td>\n",
       "      <td>0.00000</td>\n",
       "      <td>0.00000</td>\n",
       "      <td>0.00000</td>\n",
       "      <td>0.00000</td>\n",
       "      <td>0.00000</td>\n",
       "      <td>0.00000</td>\n",
       "      <td>0.11205</td>\n",
       "      <td>0.05455</td>\n",
       "      <td>0.00485</td>\n",
       "      <td>0.04713</td>\n",
       "      <td>0.32408</td>\n",
       "      <td>0.27285</td>\n",
       "      <td>0.18449</td>\n",
       "      <td>0.00000</td>\n",
       "    </tr>\n",
       "    <tr>\n",
       "      <th>(3, 1)</th>\n",
       "      <td>0.00000</td>\n",
       "      <td>0.00000</td>\n",
       "      <td>0.00000</td>\n",
       "      <td>0.00000</td>\n",
       "      <td>0.00000</td>\n",
       "      <td>0.00000</td>\n",
       "      <td>0.00000</td>\n",
       "      <td>0.00000</td>\n",
       "      <td>0.00000</td>\n",
       "      <td>0.00000</td>\n",
       "      <td>0.00000</td>\n",
       "      <td>0.00000</td>\n",
       "      <td>0.07830</td>\n",
       "      <td>0.03012</td>\n",
       "      <td>0.00522</td>\n",
       "      <td>0.04781</td>\n",
       "      <td>0.23731</td>\n",
       "      <td>0.50444</td>\n",
       "      <td>0.09680</td>\n",
       "      <td>0.00000</td>\n",
       "    </tr>\n",
       "    <tr>\n",
       "      <th>(0, 2)</th>\n",
       "      <td>0.00000</td>\n",
       "      <td>0.00000</td>\n",
       "      <td>0.00000</td>\n",
       "      <td>0.00000</td>\n",
       "      <td>0.00000</td>\n",
       "      <td>0.00000</td>\n",
       "      <td>0.00000</td>\n",
       "      <td>0.00000</td>\n",
       "      <td>0.00000</td>\n",
       "      <td>0.00000</td>\n",
       "      <td>0.00000</td>\n",
       "      <td>0.00000</td>\n",
       "      <td>0.11196</td>\n",
       "      <td>0.02668</td>\n",
       "      <td>0.00475</td>\n",
       "      <td>0.04122</td>\n",
       "      <td>0.29643</td>\n",
       "      <td>0.11058</td>\n",
       "      <td>0.40838</td>\n",
       "      <td>0.00000</td>\n",
       "    </tr>\n",
       "    <tr>\n",
       "      <th>(1, 2)</th>\n",
       "      <td>0.00000</td>\n",
       "      <td>0.00000</td>\n",
       "      <td>0.00000</td>\n",
       "      <td>0.00000</td>\n",
       "      <td>0.00000</td>\n",
       "      <td>0.00000</td>\n",
       "      <td>0.00000</td>\n",
       "      <td>0.00000</td>\n",
       "      <td>0.00000</td>\n",
       "      <td>0.00000</td>\n",
       "      <td>0.00000</td>\n",
       "      <td>0.00000</td>\n",
       "      <td>0.10999</td>\n",
       "      <td>0.03237</td>\n",
       "      <td>0.00683</td>\n",
       "      <td>0.03527</td>\n",
       "      <td>0.27024</td>\n",
       "      <td>0.15006</td>\n",
       "      <td>0.39524</td>\n",
       "      <td>0.00000</td>\n",
       "    </tr>\n",
       "    <tr>\n",
       "      <th>(2, 2)</th>\n",
       "      <td>0.00000</td>\n",
       "      <td>0.00000</td>\n",
       "      <td>0.00000</td>\n",
       "      <td>0.00000</td>\n",
       "      <td>0.00000</td>\n",
       "      <td>0.00000</td>\n",
       "      <td>0.00000</td>\n",
       "      <td>0.00000</td>\n",
       "      <td>0.00000</td>\n",
       "      <td>0.00000</td>\n",
       "      <td>0.00000</td>\n",
       "      <td>0.00000</td>\n",
       "      <td>0.09578</td>\n",
       "      <td>0.03550</td>\n",
       "      <td>0.00688</td>\n",
       "      <td>0.03812</td>\n",
       "      <td>0.26300</td>\n",
       "      <td>0.22868</td>\n",
       "      <td>0.33203</td>\n",
       "      <td>0.00000</td>\n",
       "    </tr>\n",
       "    <tr>\n",
       "      <th>(3, 2)</th>\n",
       "      <td>0.00000</td>\n",
       "      <td>0.00000</td>\n",
       "      <td>0.00000</td>\n",
       "      <td>0.00000</td>\n",
       "      <td>0.00000</td>\n",
       "      <td>0.00000</td>\n",
       "      <td>0.00000</td>\n",
       "      <td>0.00000</td>\n",
       "      <td>0.00000</td>\n",
       "      <td>0.00000</td>\n",
       "      <td>0.00000</td>\n",
       "      <td>0.00000</td>\n",
       "      <td>0.07117</td>\n",
       "      <td>0.02737</td>\n",
       "      <td>0.00365</td>\n",
       "      <td>0.03467</td>\n",
       "      <td>0.21898</td>\n",
       "      <td>0.42336</td>\n",
       "      <td>0.22080</td>\n",
       "      <td>0.00000</td>\n",
       "    </tr>\n",
       "    <tr>\n",
       "      <th>1B</th>\n",
       "      <td>0.00000</td>\n",
       "      <td>0.00000</td>\n",
       "      <td>0.00000</td>\n",
       "      <td>0.00000</td>\n",
       "      <td>0.00000</td>\n",
       "      <td>0.00000</td>\n",
       "      <td>0.00000</td>\n",
       "      <td>0.00000</td>\n",
       "      <td>0.00000</td>\n",
       "      <td>0.00000</td>\n",
       "      <td>0.00000</td>\n",
       "      <td>0.00000</td>\n",
       "      <td>1.00000</td>\n",
       "      <td>0.00000</td>\n",
       "      <td>0.00000</td>\n",
       "      <td>0.00000</td>\n",
       "      <td>0.00000</td>\n",
       "      <td>0.00000</td>\n",
       "      <td>0.00000</td>\n",
       "      <td>0.00000</td>\n",
       "    </tr>\n",
       "    <tr>\n",
       "      <th>2B</th>\n",
       "      <td>0.00000</td>\n",
       "      <td>0.00000</td>\n",
       "      <td>0.00000</td>\n",
       "      <td>0.00000</td>\n",
       "      <td>0.00000</td>\n",
       "      <td>0.00000</td>\n",
       "      <td>0.00000</td>\n",
       "      <td>0.00000</td>\n",
       "      <td>0.00000</td>\n",
       "      <td>0.00000</td>\n",
       "      <td>0.00000</td>\n",
       "      <td>0.00000</td>\n",
       "      <td>0.00000</td>\n",
       "      <td>1.00000</td>\n",
       "      <td>0.00000</td>\n",
       "      <td>0.00000</td>\n",
       "      <td>0.00000</td>\n",
       "      <td>0.00000</td>\n",
       "      <td>0.00000</td>\n",
       "      <td>0.00000</td>\n",
       "    </tr>\n",
       "    <tr>\n",
       "      <th>3B</th>\n",
       "      <td>0.00000</td>\n",
       "      <td>0.00000</td>\n",
       "      <td>0.00000</td>\n",
       "      <td>0.00000</td>\n",
       "      <td>0.00000</td>\n",
       "      <td>0.00000</td>\n",
       "      <td>0.00000</td>\n",
       "      <td>0.00000</td>\n",
       "      <td>0.00000</td>\n",
       "      <td>0.00000</td>\n",
       "      <td>0.00000</td>\n",
       "      <td>0.00000</td>\n",
       "      <td>0.00000</td>\n",
       "      <td>0.00000</td>\n",
       "      <td>1.00000</td>\n",
       "      <td>0.00000</td>\n",
       "      <td>0.00000</td>\n",
       "      <td>0.00000</td>\n",
       "      <td>0.00000</td>\n",
       "      <td>0.00000</td>\n",
       "    </tr>\n",
       "    <tr>\n",
       "      <th>HR</th>\n",
       "      <td>0.00000</td>\n",
       "      <td>0.00000</td>\n",
       "      <td>0.00000</td>\n",
       "      <td>0.00000</td>\n",
       "      <td>0.00000</td>\n",
       "      <td>0.00000</td>\n",
       "      <td>0.00000</td>\n",
       "      <td>0.00000</td>\n",
       "      <td>0.00000</td>\n",
       "      <td>0.00000</td>\n",
       "      <td>0.00000</td>\n",
       "      <td>0.00000</td>\n",
       "      <td>0.00000</td>\n",
       "      <td>0.00000</td>\n",
       "      <td>0.00000</td>\n",
       "      <td>1.00000</td>\n",
       "      <td>0.00000</td>\n",
       "      <td>0.00000</td>\n",
       "      <td>0.00000</td>\n",
       "      <td>0.00000</td>\n",
       "    </tr>\n",
       "    <tr>\n",
       "      <th>FO</th>\n",
       "      <td>0.00000</td>\n",
       "      <td>0.00000</td>\n",
       "      <td>0.00000</td>\n",
       "      <td>0.00000</td>\n",
       "      <td>0.00000</td>\n",
       "      <td>0.00000</td>\n",
       "      <td>0.00000</td>\n",
       "      <td>0.00000</td>\n",
       "      <td>0.00000</td>\n",
       "      <td>0.00000</td>\n",
       "      <td>0.00000</td>\n",
       "      <td>0.00000</td>\n",
       "      <td>0.00000</td>\n",
       "      <td>0.00000</td>\n",
       "      <td>0.00000</td>\n",
       "      <td>0.00000</td>\n",
       "      <td>1.00000</td>\n",
       "      <td>0.00000</td>\n",
       "      <td>0.00000</td>\n",
       "      <td>0.00000</td>\n",
       "    </tr>\n",
       "    <tr>\n",
       "      <th>BB</th>\n",
       "      <td>0.00000</td>\n",
       "      <td>0.00000</td>\n",
       "      <td>0.00000</td>\n",
       "      <td>0.00000</td>\n",
       "      <td>0.00000</td>\n",
       "      <td>0.00000</td>\n",
       "      <td>0.00000</td>\n",
       "      <td>0.00000</td>\n",
       "      <td>0.00000</td>\n",
       "      <td>0.00000</td>\n",
       "      <td>0.00000</td>\n",
       "      <td>0.00000</td>\n",
       "      <td>0.00000</td>\n",
       "      <td>0.00000</td>\n",
       "      <td>0.00000</td>\n",
       "      <td>0.00000</td>\n",
       "      <td>0.00000</td>\n",
       "      <td>1.00000</td>\n",
       "      <td>0.00000</td>\n",
       "      <td>0.00000</td>\n",
       "    </tr>\n",
       "    <tr>\n",
       "      <th>K</th>\n",
       "      <td>0.00000</td>\n",
       "      <td>0.00000</td>\n",
       "      <td>0.00000</td>\n",
       "      <td>0.00000</td>\n",
       "      <td>0.00000</td>\n",
       "      <td>0.00000</td>\n",
       "      <td>0.00000</td>\n",
       "      <td>0.00000</td>\n",
       "      <td>0.00000</td>\n",
       "      <td>0.00000</td>\n",
       "      <td>0.00000</td>\n",
       "      <td>0.00000</td>\n",
       "      <td>0.00000</td>\n",
       "      <td>0.00000</td>\n",
       "      <td>0.00000</td>\n",
       "      <td>0.00000</td>\n",
       "      <td>0.00000</td>\n",
       "      <td>0.00000</td>\n",
       "      <td>1.00000</td>\n",
       "      <td>0.00000</td>\n",
       "    </tr>\n",
       "    <tr>\n",
       "      <th>other</th>\n",
       "      <td>0.00000</td>\n",
       "      <td>0.00000</td>\n",
       "      <td>0.00000</td>\n",
       "      <td>0.00000</td>\n",
       "      <td>0.00000</td>\n",
       "      <td>0.00000</td>\n",
       "      <td>0.00000</td>\n",
       "      <td>0.00000</td>\n",
       "      <td>0.00000</td>\n",
       "      <td>0.00000</td>\n",
       "      <td>0.00000</td>\n",
       "      <td>0.00000</td>\n",
       "      <td>0.00000</td>\n",
       "      <td>0.00000</td>\n",
       "      <td>0.00000</td>\n",
       "      <td>0.00000</td>\n",
       "      <td>0.00000</td>\n",
       "      <td>0.00000</td>\n",
       "      <td>0.00000</td>\n",
       "      <td>1.00000</td>\n",
       "    </tr>\n",
       "  </tbody>\n",
       "</table>\n",
       "</div>"
      ],
      "text/plain": [
       "        (0, 0)  (1, 0)  (2, 0)  (3, 0)  (0, 1)  (1, 1)  (2, 1)  (3, 1)  \\\n",
       "(0, 0) 0.00000 0.00000 0.00000 0.00000 0.00000 0.00000 0.00000 0.00000   \n",
       "(1, 0) 0.00000 0.00000 0.00000 0.00000 0.00000 0.00000 0.00000 0.00000   \n",
       "(2, 0) 0.00000 0.00000 0.00000 0.00000 0.00000 0.00000 0.00000 0.00000   \n",
       "(3, 0) 0.00000 0.00000 0.00000 0.00000 0.00000 0.00000 0.00000 0.00000   \n",
       "(0, 1) 0.00000 0.00000 0.00000 0.00000 0.00000 0.00000 0.00000 0.00000   \n",
       "(1, 1) 0.00000 0.00000 0.00000 0.00000 0.00000 0.00000 0.00000 0.00000   \n",
       "(2, 1) 0.00000 0.00000 0.00000 0.00000 0.00000 0.00000 0.00000 0.00000   \n",
       "(3, 1) 0.00000 0.00000 0.00000 0.00000 0.00000 0.00000 0.00000 0.00000   \n",
       "(0, 2) 0.00000 0.00000 0.00000 0.00000 0.00000 0.00000 0.00000 0.00000   \n",
       "(1, 2) 0.00000 0.00000 0.00000 0.00000 0.00000 0.00000 0.00000 0.00000   \n",
       "(2, 2) 0.00000 0.00000 0.00000 0.00000 0.00000 0.00000 0.00000 0.00000   \n",
       "(3, 2) 0.00000 0.00000 0.00000 0.00000 0.00000 0.00000 0.00000 0.00000   \n",
       "1B     0.00000 0.00000 0.00000 0.00000 0.00000 0.00000 0.00000 0.00000   \n",
       "2B     0.00000 0.00000 0.00000 0.00000 0.00000 0.00000 0.00000 0.00000   \n",
       "3B     0.00000 0.00000 0.00000 0.00000 0.00000 0.00000 0.00000 0.00000   \n",
       "HR     0.00000 0.00000 0.00000 0.00000 0.00000 0.00000 0.00000 0.00000   \n",
       "FO     0.00000 0.00000 0.00000 0.00000 0.00000 0.00000 0.00000 0.00000   \n",
       "BB     0.00000 0.00000 0.00000 0.00000 0.00000 0.00000 0.00000 0.00000   \n",
       "K      0.00000 0.00000 0.00000 0.00000 0.00000 0.00000 0.00000 0.00000   \n",
       "other  0.00000 0.00000 0.00000 0.00000 0.00000 0.00000 0.00000 0.00000   \n",
       "\n",
       "        (0, 2)  (1, 2)  (2, 2)  (3, 2)      1B      2B      3B      HR  \\\n",
       "(0, 0) 0.00000 0.00000 0.00000 0.00000 0.13971 0.04616 0.00735 0.05801   \n",
       "(1, 0) 0.00000 0.00000 0.00000 0.00000 0.13545 0.04256 0.00607 0.05677   \n",
       "(2, 0) 0.00000 0.00000 0.00000 0.00000 0.09905 0.03944 0.00331 0.05204   \n",
       "(3, 0) 0.00000 0.00000 0.00000 0.00000 0.04492 0.01476 0.00256 0.02344   \n",
       "(0, 1) 0.00000 0.00000 0.00000 0.00000 0.13342 0.04393 0.00839 0.05443   \n",
       "(1, 1) 0.00000 0.00000 0.00000 0.00000 0.13412 0.04373 0.00577 0.05279   \n",
       "(2, 1) 0.00000 0.00000 0.00000 0.00000 0.11205 0.05455 0.00485 0.04713   \n",
       "(3, 1) 0.00000 0.00000 0.00000 0.00000 0.07830 0.03012 0.00522 0.04781   \n",
       "(0, 2) 0.00000 0.00000 0.00000 0.00000 0.11196 0.02668 0.00475 0.04122   \n",
       "(1, 2) 0.00000 0.00000 0.00000 0.00000 0.10999 0.03237 0.00683 0.03527   \n",
       "(2, 2) 0.00000 0.00000 0.00000 0.00000 0.09578 0.03550 0.00688 0.03812   \n",
       "(3, 2) 0.00000 0.00000 0.00000 0.00000 0.07117 0.02737 0.00365 0.03467   \n",
       "1B     0.00000 0.00000 0.00000 0.00000 1.00000 0.00000 0.00000 0.00000   \n",
       "2B     0.00000 0.00000 0.00000 0.00000 0.00000 1.00000 0.00000 0.00000   \n",
       "3B     0.00000 0.00000 0.00000 0.00000 0.00000 0.00000 1.00000 0.00000   \n",
       "HR     0.00000 0.00000 0.00000 0.00000 0.00000 0.00000 0.00000 1.00000   \n",
       "FO     0.00000 0.00000 0.00000 0.00000 0.00000 0.00000 0.00000 0.00000   \n",
       "BB     0.00000 0.00000 0.00000 0.00000 0.00000 0.00000 0.00000 0.00000   \n",
       "K      0.00000 0.00000 0.00000 0.00000 0.00000 0.00000 0.00000 0.00000   \n",
       "other  0.00000 0.00000 0.00000 0.00000 0.00000 0.00000 0.00000 0.00000   \n",
       "\n",
       "            FO      BB       K   other  \n",
       "(0, 0) 0.36397 0.17606 0.20792 0.00082  \n",
       "(1, 0) 0.34521 0.25221 0.16075 0.00098  \n",
       "(2, 0) 0.27908 0.42055 0.10653 0.00000  \n",
       "(3, 0) 0.14247 0.72440 0.04745 0.00000  \n",
       "(0, 1) 0.36093 0.13033 0.26780 0.00078  \n",
       "(1, 1) 0.34404 0.17594 0.24361 0.00000  \n",
       "(2, 1) 0.32408 0.27285 0.18449 0.00000  \n",
       "(3, 1) 0.23731 0.50444 0.09680 0.00000  \n",
       "(0, 2) 0.29643 0.11058 0.40838 0.00000  \n",
       "(1, 2) 0.27024 0.15006 0.39524 0.00000  \n",
       "(2, 2) 0.26300 0.22868 0.33203 0.00000  \n",
       "(3, 2) 0.21898 0.42336 0.22080 0.00000  \n",
       "1B     0.00000 0.00000 0.00000 0.00000  \n",
       "2B     0.00000 0.00000 0.00000 0.00000  \n",
       "3B     0.00000 0.00000 0.00000 0.00000  \n",
       "HR     0.00000 0.00000 0.00000 0.00000  \n",
       "FO     1.00000 0.00000 0.00000 0.00000  \n",
       "BB     0.00000 1.00000 0.00000 0.00000  \n",
       "K      0.00000 0.00000 1.00000 0.00000  \n",
       "other  0.00000 0.00000 0.00000 1.00000  "
      ]
     },
     "execution_count": 17,
     "metadata": {},
     "output_type": "execute_result"
    }
   ],
   "source": [
    "main.convert_T_df(main.sim_steady_state(T))"
   ]
  },
  {
   "cell_type": "markdown",
   "id": "d4f44896",
   "metadata": {
    "id": "d4f44896"
   },
   "source": [
    "# Get all player T"
   ]
  },
  {
   "cell_type": "code",
   "execution_count": null,
   "id": "6492e45f",
   "metadata": {},
   "outputs": [],
   "source": [
    "# T_batters_dict_1518_new = main.get_allplayers_T(batter_quali_list, data_train_df)\n",
    "\n",
    "# T_pitchers_dict_1518_new = main.get_allplayers_T(pitcher_quali_list, data_train_df, True)"
   ]
  },
  {
   "cell_type": "code",
   "execution_count": null,
   "id": "7b59af80",
   "metadata": {},
   "outputs": [],
   "source": [
    "# joblib.dump(T_batters_dict_1518_new, 'data/T/T_batters_dict_1518_new')\n",
    "# joblib.dump(T_pitchers_dict_1518_new, 'data/T/T_pitchers_dict_1518_new')"
   ]
  },
  {
   "cell_type": "markdown",
   "id": "4e4556ba",
   "metadata": {
    "id": "4e4556ba"
   },
   "source": [
    "### Dump T dicts"
   ]
  },
  {
   "cell_type": "markdown",
   "id": "8d8487bd",
   "metadata": {},
   "source": [
    "### Load T dicts"
   ]
  },
  {
   "cell_type": "code",
   "execution_count": null,
   "id": "0320fcaf",
   "metadata": {},
   "outputs": [],
   "source": [
    "# T_batters_dict_jan18 = joblib.load('data/T/T_batters_dict_jan18')\n",
    "# T_pitchers_dict_jan18 = joblib.load('data/T/T_pitchers_dict_jan18')"
   ]
  },
  {
   "cell_type": "code",
   "execution_count": 12,
   "id": "1bc6084a",
   "metadata": {},
   "outputs": [],
   "source": [
    "T_batters_dict_1518_new = joblib.load('data/T/T_batters_dict_1518_new')\n",
    "T_pitchers_dict_1518_new = joblib.load('data/T/T_pitchers_dict_1518_new')"
   ]
  },
  {
   "cell_type": "code",
   "execution_count": null,
   "id": "dcac6d34",
   "metadata": {},
   "outputs": [],
   "source": [
    "# # create quali list from T dict keys\n",
    "# batter_quali_list = list(T_batters_dict_jan18.keys())\n",
    "# pitcher_quali_list = list(T_pitchers_dict_jan18.keys())\n",
    "\n",
    "# len(batter_quali_list)\n",
    "\n",
    "# len(pitcher_quali_list)"
   ]
  },
  {
   "cell_type": "markdown",
   "id": "18b40d59",
   "metadata": {
    "id": "18b40d59"
   },
   "source": [
    "# create matchup steady state "
   ]
  },
  {
   "cell_type": "code",
   "execution_count": null,
   "id": "ce7411f0",
   "metadata": {
    "id": "c1a6c5ce"
   },
   "outputs": [],
   "source": [
    "trout_id = 545361\n",
    "verlander_id = 434378\n",
    "p_weight = 0.4\n",
    "\n",
    "T_batter = T_batters_dict[trout_id]\n",
    "T_pitcher = T_pitchers_dict[verlander_id]\n",
    "\n",
    "T_matchUp = (T_pitcher*p_weight + T_batter*(1-p_weight))\n",
    "\n",
    "P_steady_matchUp = main.sim_steady_state(T_matchUp)\n",
    "\n",
    "P_steady_matchUp_df = main.convert_T_df(P_steady_matchUp)\n",
    "\n",
    "P_steady_matchUp_df = P_steady_matchUp_df.iloc[:12][P_steady_matchUp_df.columns[-8:]].copy()\n",
    "\n",
    "steady_state_matchUp = main.sim_steady_state_matchUp(verlander_id, trout_id, batter_dict=T_batters_dict, pitcher_dict=T_pitchers_dict)\n",
    "steady_state_matchUp"
   ]
  },
  {
   "cell_type": "code",
   "execution_count": null,
   "id": "14f8dffb",
   "metadata": {
    "scrolled": true
   },
   "outputs": [],
   "source": [
    "emp_matchUp_T = main.get_emp_matchUp_T(verlander_id, trout_id, data_train_df)\n",
    "\n",
    "emp_steady_state = main.sim_steady_state(emp_matchUp_T)"
   ]
  },
  {
   "cell_type": "code",
   "execution_count": null,
   "id": "d367dbf3",
   "metadata": {},
   "outputs": [],
   "source": [
    "steady = main.convert_T_df(emp_steady_state)"
   ]
  },
  {
   "cell_type": "code",
   "execution_count": null,
   "id": "7761c083",
   "metadata": {},
   "outputs": [],
   "source": [
    "steady"
   ]
  },
  {
   "cell_type": "code",
   "execution_count": null,
   "id": "fba4d4c3",
   "metadata": {},
   "outputs": [],
   "source": []
  },
  {
   "cell_type": "code",
   "execution_count": null,
   "id": "13c5616f",
   "metadata": {},
   "outputs": [],
   "source": []
  },
  {
   "cell_type": "code",
   "execution_count": null,
   "id": "4c972e33",
   "metadata": {},
   "outputs": [],
   "source": []
  },
  {
   "cell_type": "code",
   "execution_count": null,
   "id": "15356686",
   "metadata": {},
   "outputs": [],
   "source": []
  },
  {
   "cell_type": "code",
   "execution_count": null,
   "id": "91ed97c6",
   "metadata": {},
   "outputs": [],
   "source": []
  },
  {
   "cell_type": "code",
   "execution_count": null,
   "id": "08b80539",
   "metadata": {},
   "outputs": [],
   "source": []
  },
  {
   "cell_type": "code",
   "execution_count": null,
   "id": "c3081e10",
   "metadata": {},
   "outputs": [],
   "source": []
  },
  {
   "cell_type": "markdown",
   "id": "1d4f8198",
   "metadata": {},
   "source": [
    "# Test for pitcher weight"
   ]
  },
  {
   "cell_type": "code",
   "execution_count": 32,
   "id": "a9283281",
   "metadata": {},
   "outputs": [],
   "source": [
    "pa_df = data_test_df[(data_test_df['pitcher'].isin(pitcher_quali_list)&(data_test_df['batter'].isin(batter_quali_list)))]\\\n",
    "                    .groupby(['game_year', 'game_pk', 'at_bat_number', 'pitcher', 'batter'])\\\n",
    "                    .agg({\n",
    "    'home_team':'first',\n",
    "    'stand':'first',\n",
    "    'p_throws':'first',\n",
    "    'event_type':'first',\n",
    "    'des':'first'\n",
    "}).reset_index()"
   ]
  },
  {
   "cell_type": "code",
   "execution_count": 33,
   "id": "0e3413af",
   "metadata": {},
   "outputs": [],
   "source": [
    "event_df = pd.get_dummies(pa_df['event_type'])\n",
    "event_df = event_df[main.EVENT_LIST].copy()\n",
    "\n",
    "pa_df = pd.concat([pa_df, event_df], axis=1).copy()\n",
    "\n",
    "event_arr = event_df.values"
   ]
  },
  {
   "cell_type": "code",
   "execution_count": 34,
   "id": "8161e2bc",
   "metadata": {},
   "outputs": [],
   "source": [
    "matchup_pairs_full = list(zip(pa_df['pitcher'], pa_df['batter']))"
   ]
  },
  {
   "cell_type": "code",
   "execution_count": 35,
   "id": "9119796d",
   "metadata": {},
   "outputs": [
    {
     "data": {
      "text/plain": [
       "83661"
      ]
     },
     "execution_count": 35,
     "metadata": {},
     "output_type": "execute_result"
    }
   ],
   "source": [
    "len(matchup_pairs_full)"
   ]
  },
  {
   "cell_type": "code",
   "execution_count": 36,
   "id": "f41ad01f",
   "metadata": {},
   "outputs": [],
   "source": [
    "# b_score_list = []\n",
    "# for p_weight in tqdm(np.arange(0, 1.05, 0.05)):\n",
    "#     P_matchUp_dict = {}\n",
    "#     for pair in tqdm(matchUp_pairs_list):\n",
    "#         P_steady_matchUp_arr = sim_steady_state_matchUp(pair[0], pair[1], p_weight=p_weight, _return_df=False)\n",
    "#         P_matchUp_dict[pair] = P_steady_matchUp_arr\n",
    "        \n",
    "#     P_predicted = np.array([P_matchUp_dict[pair] for pair in all_matchUp_pairs_list])\n",
    "#     b_score = get_brier_score(P_predicted, event_dummies.values)\n",
    "#     b_score_list.append(b_score)\n",
    "\n",
    "# list(zip([w for w in np.arange(0, 1.05, 0.05)], b_score_list))"
   ]
  },
  {
   "cell_type": "code",
   "execution_count": 37,
   "id": "3bdd144e",
   "metadata": {},
   "outputs": [],
   "source": [
    "matchup_sets_df = data_test_df[(data_test_df['pitcher'].isin(pitcher_quali_list)&(data_test_df['batter'].isin(batter_quali_list)))]\\\n",
    ".groupby(['pitcher', 'batter']).agg({'n_count':sum}).reset_index()"
   ]
  },
  {
   "cell_type": "code",
   "execution_count": 38,
   "id": "91908aea",
   "metadata": {},
   "outputs": [
    {
     "data": {
      "text/plain": [
       "(31448, 3)"
      ]
     },
     "execution_count": 38,
     "metadata": {},
     "output_type": "execute_result"
    }
   ],
   "source": [
    "matchup_sets_df.shape"
   ]
  },
  {
   "cell_type": "code",
   "execution_count": 39,
   "id": "89c6c758",
   "metadata": {},
   "outputs": [],
   "source": [
    "matchup_pairs_list = list(zip(matchup_sets_df['pitcher'], matchup_sets_df['batter']))"
   ]
  },
  {
   "cell_type": "code",
   "execution_count": 40,
   "id": "4a423c78",
   "metadata": {},
   "outputs": [],
   "source": [
    "def normalize_P(P_arr):\n",
    "    devider = P_arr.sum(axis=1)\n",
    "    devider = np.reshape(devider, [len(devider), 1])\n",
    "    return P_arr / devider"
   ]
  },
  {
   "cell_type": "code",
   "execution_count": 41,
   "id": "ab49f344",
   "metadata": {},
   "outputs": [],
   "source": [
    "def test_p_weight(p_weight_list, matchup_test_list, batter_dict, pitcher_dict):\n",
    "    b_score_list = []\n",
    "    for p_weight in tqdm(p_weight_list):\n",
    "        P_matchup_dict = {}\n",
    "        for pair in tqdm(matchup_pairs_list):\n",
    "            P_matchup_dict[pair] = main.sim_steady_state_matchUp(pair[0], pair[1], p_weight=p_weight, _return_df=False, batter_dict=batter_dict, pitcher_dict=pitcher_dict)\n",
    "\n",
    "        P_predicted = np.array([P_matchup_dict[pair] for pair in matchup_test_list])\n",
    "        # normalize proba to 1\n",
    "        P_predicted = normalize_P(P_predicted)\n",
    "        b_score_list.append(main.get_brier_score(P_predicted, event_arr))\n",
    "    return b_score_list"
   ]
  },
  {
   "cell_type": "code",
   "execution_count": 25,
   "id": "917c4073",
   "metadata": {
    "collapsed": true
   },
   "outputs": [
    {
     "data": {
      "application/vnd.jupyter.widget-view+json": {
       "model_id": "02063c7a67714515a797c9be1acc6c0a",
       "version_major": 2,
       "version_minor": 0
      },
      "text/plain": [
       "  0%|          | 0/11 [00:00<?, ?it/s]"
      ]
     },
     "metadata": {},
     "output_type": "display_data"
    },
    {
     "data": {
      "application/vnd.jupyter.widget-view+json": {
       "model_id": "d6c3181b3aa6448f93b27fdc95bc6cdb",
       "version_major": 2,
       "version_minor": 0
      },
      "text/plain": [
       "  0%|          | 0/31448 [00:00<?, ?it/s]"
      ]
     },
     "metadata": {},
     "output_type": "display_data"
    },
    {
     "data": {
      "application/vnd.jupyter.widget-view+json": {
       "model_id": "8477795a1d8a4674be9aa4976f860b71",
       "version_major": 2,
       "version_minor": 0
      },
      "text/plain": [
       "  0%|          | 0/31448 [00:00<?, ?it/s]"
      ]
     },
     "metadata": {},
     "output_type": "display_data"
    },
    {
     "data": {
      "application/vnd.jupyter.widget-view+json": {
       "model_id": "6362fce9628244128526c4561c4a2b73",
       "version_major": 2,
       "version_minor": 0
      },
      "text/plain": [
       "  0%|          | 0/31448 [00:00<?, ?it/s]"
      ]
     },
     "metadata": {},
     "output_type": "display_data"
    },
    {
     "data": {
      "application/vnd.jupyter.widget-view+json": {
       "model_id": "d1697e8ca15b4e5781fdbd082d3602c1",
       "version_major": 2,
       "version_minor": 0
      },
      "text/plain": [
       "  0%|          | 0/31448 [00:00<?, ?it/s]"
      ]
     },
     "metadata": {},
     "output_type": "display_data"
    },
    {
     "data": {
      "application/vnd.jupyter.widget-view+json": {
       "model_id": "f3d67ff56e7d4594bb08f34d4d170ff9",
       "version_major": 2,
       "version_minor": 0
      },
      "text/plain": [
       "  0%|          | 0/31448 [00:00<?, ?it/s]"
      ]
     },
     "metadata": {},
     "output_type": "display_data"
    },
    {
     "data": {
      "application/vnd.jupyter.widget-view+json": {
       "model_id": "46783438bfbb4ee5bc645f4516cc55b3",
       "version_major": 2,
       "version_minor": 0
      },
      "text/plain": [
       "  0%|          | 0/31448 [00:00<?, ?it/s]"
      ]
     },
     "metadata": {},
     "output_type": "display_data"
    },
    {
     "data": {
      "application/vnd.jupyter.widget-view+json": {
       "model_id": "036ad074284b44819e6d0f9a11dbfc56",
       "version_major": 2,
       "version_minor": 0
      },
      "text/plain": [
       "  0%|          | 0/31448 [00:00<?, ?it/s]"
      ]
     },
     "metadata": {},
     "output_type": "display_data"
    },
    {
     "data": {
      "application/vnd.jupyter.widget-view+json": {
       "model_id": "399e122e869c422ba3d12e25c541db0a",
       "version_major": 2,
       "version_minor": 0
      },
      "text/plain": [
       "  0%|          | 0/31448 [00:00<?, ?it/s]"
      ]
     },
     "metadata": {},
     "output_type": "display_data"
    },
    {
     "data": {
      "application/vnd.jupyter.widget-view+json": {
       "model_id": "7f508e5e7d05444cbf261573efe21ba8",
       "version_major": 2,
       "version_minor": 0
      },
      "text/plain": [
       "  0%|          | 0/31448 [00:00<?, ?it/s]"
      ]
     },
     "metadata": {},
     "output_type": "display_data"
    },
    {
     "data": {
      "application/vnd.jupyter.widget-view+json": {
       "model_id": "1ed6f98bb0df44258eb12c1e60b2de1e",
       "version_major": 2,
       "version_minor": 0
      },
      "text/plain": [
       "  0%|          | 0/31448 [00:00<?, ?it/s]"
      ]
     },
     "metadata": {},
     "output_type": "display_data"
    },
    {
     "data": {
      "application/vnd.jupyter.widget-view+json": {
       "model_id": "d289c8a8aa924f869ded6ff0d8324a24",
       "version_major": 2,
       "version_minor": 0
      },
      "text/plain": [
       "  0%|          | 0/31448 [00:00<?, ?it/s]"
      ]
     },
     "metadata": {},
     "output_type": "display_data"
    }
   ],
   "source": [
    "p_weight_list = [0, 0.1, 0.2, 0.3, 0.4, 0.5, 0.6, 0.7, 0.8, 0.9, 1]\n",
    "b_score_list = test_p_weight(p_weight_list, matchup_pairs_full, T_batters_dict_1518_new, T_pitchers_dict_1518_new)"
   ]
  },
  {
   "cell_type": "code",
   "execution_count": 26,
   "id": "5e0e3959",
   "metadata": {},
   "outputs": [
    {
     "data": {
      "text/plain": [
       "[(0, 0.7050986238475694),\n",
       " (0.1, 0.7043698644282578),\n",
       " (0.2, 0.7038931313650366),\n",
       " (0.3, 0.7036651693156838),\n",
       " (0.4, 0.7036837368239015),\n",
       " (0.5, 0.7039475929398252),\n",
       " (0.6, 0.7044564881417013),\n",
       " (0.7, 0.705211159667),\n",
       " (0.8, 0.7062133314084829),\n",
       " (0.9, 0.7074657185768091),\n",
       " (1, 0.7089720373780425)]"
      ]
     },
     "execution_count": 26,
     "metadata": {},
     "output_type": "execute_result"
    }
   ],
   "source": [
    "list(zip(p_weight_list, b_score_list))"
   ]
  },
  {
   "cell_type": "code",
   "execution_count": 27,
   "id": "bdda4dcc",
   "metadata": {
    "scrolled": false
   },
   "outputs": [
    {
     "data": {
      "text/plain": [
       "<AxesSubplot:>"
      ]
     },
     "execution_count": 27,
     "metadata": {},
     "output_type": "execute_result"
    },
    {
     "data": {
      "image/png": "[encoded data removed]",
      "text/plain": [
       "<Figure size 640x480 with 1 Axes>"
      ]
     },
     "metadata": {},
     "output_type": "display_data"
    }
   ],
   "source": [
    "sns.lineplot(y=b_score_list, x=p_weight_list)"
   ]
  },
  {
   "cell_type": "code",
   "execution_count": 28,
   "id": "45f8a15d",
   "metadata": {
    "collapsed": true
   },
   "outputs": [
    {
     "data": {
      "application/vnd.jupyter.widget-view+json": {
       "model_id": "22949d75671e43a0a61c1c1128cefdb5",
       "version_major": 2,
       "version_minor": 0
      },
      "text/plain": [
       "  0%|          | 0/11 [00:00<?, ?it/s]"
      ]
     },
     "metadata": {},
     "output_type": "display_data"
    },
    {
     "data": {
      "application/vnd.jupyter.widget-view+json": {
       "model_id": "3df4c3633864455eb5338b6f2fb7f3bc",
       "version_major": 2,
       "version_minor": 0
      },
      "text/plain": [
       "  0%|          | 0/31448 [00:00<?, ?it/s]"
      ]
     },
     "metadata": {},
     "output_type": "display_data"
    },
    {
     "data": {
      "application/vnd.jupyter.widget-view+json": {
       "model_id": "aa6b025caa80455db4ab22720dcdff92",
       "version_major": 2,
       "version_minor": 0
      },
      "text/plain": [
       "  0%|          | 0/31448 [00:00<?, ?it/s]"
      ]
     },
     "metadata": {},
     "output_type": "display_data"
    },
    {
     "data": {
      "application/vnd.jupyter.widget-view+json": {
       "model_id": "6967b51903e3481c9508aff8d30f0fbc",
       "version_major": 2,
       "version_minor": 0
      },
      "text/plain": [
       "  0%|          | 0/31448 [00:00<?, ?it/s]"
      ]
     },
     "metadata": {},
     "output_type": "display_data"
    },
    {
     "data": {
      "application/vnd.jupyter.widget-view+json": {
       "model_id": "8548230b681f4f729ded5dff7788cefb",
       "version_major": 2,
       "version_minor": 0
      },
      "text/plain": [
       "  0%|          | 0/31448 [00:00<?, ?it/s]"
      ]
     },
     "metadata": {},
     "output_type": "display_data"
    },
    {
     "data": {
      "application/vnd.jupyter.widget-view+json": {
       "model_id": "08bac7b7ce244e1ea72e8d96dc3ee855",
       "version_major": 2,
       "version_minor": 0
      },
      "text/plain": [
       "  0%|          | 0/31448 [00:00<?, ?it/s]"
      ]
     },
     "metadata": {},
     "output_type": "display_data"
    },
    {
     "data": {
      "application/vnd.jupyter.widget-view+json": {
       "model_id": "4fb016a612e64d2eb8bd0755b9411fc7",
       "version_major": 2,
       "version_minor": 0
      },
      "text/plain": [
       "  0%|          | 0/31448 [00:00<?, ?it/s]"
      ]
     },
     "metadata": {},
     "output_type": "display_data"
    },
    {
     "data": {
      "application/vnd.jupyter.widget-view+json": {
       "model_id": "cdff42677ebf49839328417553e8beba",
       "version_major": 2,
       "version_minor": 0
      },
      "text/plain": [
       "  0%|          | 0/31448 [00:00<?, ?it/s]"
      ]
     },
     "metadata": {},
     "output_type": "display_data"
    },
    {
     "data": {
      "application/vnd.jupyter.widget-view+json": {
       "model_id": "9de5259c370642b0bdf0557d9f47dc59",
       "version_major": 2,
       "version_minor": 0
      },
      "text/plain": [
       "  0%|          | 0/31448 [00:00<?, ?it/s]"
      ]
     },
     "metadata": {},
     "output_type": "display_data"
    },
    {
     "data": {
      "application/vnd.jupyter.widget-view+json": {
       "model_id": "9e35669797db40d4acec8af1cffa2a48",
       "version_major": 2,
       "version_minor": 0
      },
      "text/plain": [
       "  0%|          | 0/31448 [00:00<?, ?it/s]"
      ]
     },
     "metadata": {},
     "output_type": "display_data"
    },
    {
     "data": {
      "application/vnd.jupyter.widget-view+json": {
       "model_id": "93fc3567ed7a46a58e3d9174b5230561",
       "version_major": 2,
       "version_minor": 0
      },
      "text/plain": [
       "  0%|          | 0/31448 [00:00<?, ?it/s]"
      ]
     },
     "metadata": {},
     "output_type": "display_data"
    },
    {
     "data": {
      "application/vnd.jupyter.widget-view+json": {
       "model_id": "737b0c1b8d6a423fa4e48ba69fecb2ec",
       "version_major": 2,
       "version_minor": 0
      },
      "text/plain": [
       "  0%|          | 0/31448 [00:00<?, ?it/s]"
      ]
     },
     "metadata": {},
     "output_type": "display_data"
    }
   ],
   "source": [
    "p_weight_list_2 = [0.27, 0.28, 0.29, 0.3, 0.31, 0.32, 0.33, 0.34, 0.35, 0.36, 0.37]\n",
    "b_score_list_2 = test_p_weight(p_weight_list_2, matchup_pairs_full, T_batters_dict_1518_new, T_pitchers_dict_1518_new)"
   ]
  },
  {
   "cell_type": "code",
   "execution_count": 29,
   "id": "c4d82799",
   "metadata": {
    "scrolled": true
   },
   "outputs": [
    {
     "data": {
      "text/plain": [
       "[(0.27, 0.7037075897899283),\n",
       " (0.28, 0.7036909821138065),\n",
       " (0.29, 0.7036768425852262),\n",
       " (0.3, 0.7036651693156838),\n",
       " (0.31, 0.7036559605167703),\n",
       " (0.32, 0.7036492145000567),\n",
       " (0.33, 0.7036449296769832),\n",
       " (0.34, 0.703643104558753),\n",
       " (0.35, 0.7036437377562312),\n",
       " (0.36, 0.7036468279798469),\n",
       " (0.37, 0.7036523740394993)]"
      ]
     },
     "execution_count": 29,
     "metadata": {},
     "output_type": "execute_result"
    }
   ],
   "source": [
    "list(zip(p_weight_list_2, b_score_list_2))"
   ]
  },
  {
   "cell_type": "code",
   "execution_count": 32,
   "id": "50c1331f",
   "metadata": {},
   "outputs": [
    {
     "data": {
      "text/plain": [
       "0.703643104558753"
      ]
     },
     "execution_count": 32,
     "metadata": {},
     "output_type": "execute_result"
    }
   ],
   "source": [
    "np.array(b_score_list_2).min()"
   ]
  },
  {
   "cell_type": "code",
   "execution_count": 33,
   "id": "2c889fda",
   "metadata": {
    "scrolled": false
   },
   "outputs": [
    {
     "data": {
      "text/plain": [
       "<AxesSubplot:>"
      ]
     },
     "execution_count": 33,
     "metadata": {},
     "output_type": "execute_result"
    },
    {
     "data": {
      "image/png": "[encoded data removed]",
      "text/plain": [
       "<Figure size 640x480 with 1 Axes>"
      ]
     },
     "metadata": {},
     "output_type": "display_data"
    }
   ],
   "source": [
    "sns.lineplot(y=b_score_list_2, x=p_weight_list_2)"
   ]
  },
  {
   "cell_type": "markdown",
   "id": "0690effc",
   "metadata": {},
   "source": [
    "### Best p_weight = 0.34"
   ]
  },
  {
   "cell_type": "markdown",
   "id": "342c6337",
   "metadata": {
    "id": "342c6337"
   },
   "source": [
    "# Predict P using best weight"
   ]
  },
  {
   "cell_type": "code",
   "execution_count": 42,
   "id": "343760fb",
   "metadata": {},
   "outputs": [
    {
     "data": {
      "application/vnd.jupyter.widget-view+json": {
       "model_id": "88268448e5964eeb89176f438adaf419",
       "version_major": 2,
       "version_minor": 0
      },
      "text/plain": [
       "  0%|          | 0/31448 [00:00<?, ?it/s]"
      ]
     },
     "metadata": {},
     "output_type": "display_data"
    },
    {
     "ename": "NameError",
     "evalue": "name 'T_batters_dict_1518_new' is not defined",
     "output_type": "error",
     "traceback": [
      "\u001b[0;31m---------------------------------------------------------------------------\u001b[0m",
      "\u001b[0;31mNameError\u001b[0m                                 Traceback (most recent call last)",
      "\u001b[0;32m/var/folders/x_/1k47n6n512j4cw0810rgvky40000gn/T/ipykernel_99121/1996667210.py\u001b[0m in \u001b[0;36m<module>\u001b[0;34m\u001b[0m\n\u001b[1;32m      1\u001b[0m \u001b[0mP_matchup_dict\u001b[0m \u001b[0;34m=\u001b[0m \u001b[0;34m{\u001b[0m\u001b[0;34m}\u001b[0m\u001b[0;34m\u001b[0m\u001b[0;34m\u001b[0m\u001b[0m\n\u001b[1;32m      2\u001b[0m \u001b[0;32mfor\u001b[0m \u001b[0mpair\u001b[0m \u001b[0;32min\u001b[0m \u001b[0mtqdm\u001b[0m\u001b[0;34m(\u001b[0m\u001b[0mmatchup_pairs_list\u001b[0m\u001b[0;34m)\u001b[0m\u001b[0;34m:\u001b[0m\u001b[0;34m\u001b[0m\u001b[0;34m\u001b[0m\u001b[0m\n\u001b[0;32m----> 3\u001b[0;31m     \u001b[0mP_matchup_dict\u001b[0m\u001b[0;34m[\u001b[0m\u001b[0mpair\u001b[0m\u001b[0;34m]\u001b[0m \u001b[0;34m=\u001b[0m \u001b[0mmain\u001b[0m\u001b[0;34m.\u001b[0m\u001b[0msim_steady_state_matchUp\u001b[0m\u001b[0;34m(\u001b[0m\u001b[0mpair\u001b[0m\u001b[0;34m[\u001b[0m\u001b[0;36m0\u001b[0m\u001b[0;34m]\u001b[0m\u001b[0;34m,\u001b[0m \u001b[0mpair\u001b[0m\u001b[0;34m[\u001b[0m\u001b[0;36m1\u001b[0m\u001b[0;34m]\u001b[0m\u001b[0;34m,\u001b[0m \u001b[0mp_weight\u001b[0m\u001b[0;34m=\u001b[0m\u001b[0;36m0.34\u001b[0m\u001b[0;34m,\u001b[0m \u001b[0m_return_df\u001b[0m\u001b[0;34m=\u001b[0m\u001b[0;32mFalse\u001b[0m\u001b[0;34m,\u001b[0m \u001b[0mbatter_dict\u001b[0m\u001b[0;34m=\u001b[0m\u001b[0mT_batters_dict_1518_new\u001b[0m\u001b[0;34m,\u001b[0m \u001b[0mpitcher_dict\u001b[0m\u001b[0;34m=\u001b[0m\u001b[0mT_pitchers_dict_1518_new\u001b[0m\u001b[0;34m)\u001b[0m\u001b[0;34m\u001b[0m\u001b[0;34m\u001b[0m\u001b[0m\n\u001b[0m\u001b[1;32m      4\u001b[0m \u001b[0;34m\u001b[0m\u001b[0m\n\u001b[1;32m      5\u001b[0m \u001b[0mP_predicted\u001b[0m \u001b[0;34m=\u001b[0m \u001b[0mnp\u001b[0m\u001b[0;34m.\u001b[0m\u001b[0marray\u001b[0m\u001b[0;34m(\u001b[0m\u001b[0;34m[\u001b[0m\u001b[0mP_matchup_dict\u001b[0m\u001b[0;34m[\u001b[0m\u001b[0mpair\u001b[0m\u001b[0;34m]\u001b[0m \u001b[0;32mfor\u001b[0m \u001b[0mpair\u001b[0m \u001b[0;32min\u001b[0m \u001b[0mmatchup_pairs_full\u001b[0m\u001b[0;34m]\u001b[0m\u001b[0;34m)\u001b[0m\u001b[0;34m\u001b[0m\u001b[0;34m\u001b[0m\u001b[0m\n",
      "\u001b[0;31mNameError\u001b[0m: name 'T_batters_dict_1518_new' is not defined"
     ]
    }
   ],
   "source": [
    "P_matchup_dict = {}\n",
    "for pair in tqdm(matchup_pairs_list):\n",
    "    P_matchup_dict[pair] = main.sim_steady_state_matchUp(pair[0], pair[1], p_weight=0.34, _return_df=False, batter_dict=T_batters_dict_1518_new, pitcher_dict=T_pitchers_dict_1518_new)\n",
    "\n",
    "P_predicted = np.array([P_matchup_dict[pair] for pair in matchup_pairs_full])"
   ]
  },
  {
   "cell_type": "code",
   "execution_count": 39,
   "id": "327eacdf",
   "metadata": {},
   "outputs": [],
   "source": [
    "P_predicted = normalize_P(P_predicted)"
   ]
  },
  {
   "cell_type": "code",
   "execution_count": 42,
   "id": "18542149",
   "metadata": {},
   "outputs": [
    {
     "data": {
      "text/html": [
       "<div>\n",
       "<style scoped>\n",
       "    .dataframe tbody tr th:only-of-type {\n",
       "        vertical-align: middle;\n",
       "    }\n",
       "\n",
       "    .dataframe tbody tr th {\n",
       "        vertical-align: top;\n",
       "    }\n",
       "\n",
       "    .dataframe thead th {\n",
       "        text-align: right;\n",
       "    }\n",
       "</style>\n",
       "<table border=\"1\" class=\"dataframe\">\n",
       "  <thead>\n",
       "    <tr style=\"text-align: right;\">\n",
       "      <th></th>\n",
       "      <th>1B_proba</th>\n",
       "      <th>2B_proba</th>\n",
       "      <th>3B_proba</th>\n",
       "      <th>HR_proba</th>\n",
       "      <th>FO_proba</th>\n",
       "      <th>BB_proba</th>\n",
       "      <th>K_proba</th>\n",
       "      <th>other_proba</th>\n",
       "    </tr>\n",
       "  </thead>\n",
       "  <tbody>\n",
       "    <tr>\n",
       "      <th>0</th>\n",
       "      <td>0.15233</td>\n",
       "      <td>0.04098</td>\n",
       "      <td>0.00338</td>\n",
       "      <td>0.03334</td>\n",
       "      <td>0.43525</td>\n",
       "      <td>0.11523</td>\n",
       "      <td>0.21681</td>\n",
       "      <td>0.00269</td>\n",
       "    </tr>\n",
       "    <tr>\n",
       "      <th>1</th>\n",
       "      <td>0.14255</td>\n",
       "      <td>0.04247</td>\n",
       "      <td>0.00706</td>\n",
       "      <td>0.03926</td>\n",
       "      <td>0.48365</td>\n",
       "      <td>0.06675</td>\n",
       "      <td>0.21571</td>\n",
       "      <td>0.00255</td>\n",
       "    </tr>\n",
       "    <tr>\n",
       "      <th>2</th>\n",
       "      <td>0.17078</td>\n",
       "      <td>0.05048</td>\n",
       "      <td>0.00624</td>\n",
       "      <td>0.02255</td>\n",
       "      <td>0.51881</td>\n",
       "      <td>0.07257</td>\n",
       "      <td>0.15697</td>\n",
       "      <td>0.00160</td>\n",
       "    </tr>\n",
       "    <tr>\n",
       "      <th>3</th>\n",
       "      <td>0.10098</td>\n",
       "      <td>0.03763</td>\n",
       "      <td>0.00461</td>\n",
       "      <td>0.05643</td>\n",
       "      <td>0.37191</td>\n",
       "      <td>0.11328</td>\n",
       "      <td>0.31327</td>\n",
       "      <td>0.00189</td>\n",
       "    </tr>\n",
       "    <tr>\n",
       "      <th>4</th>\n",
       "      <td>0.15671</td>\n",
       "      <td>0.05101</td>\n",
       "      <td>0.00390</td>\n",
       "      <td>0.03310</td>\n",
       "      <td>0.48403</td>\n",
       "      <td>0.07751</td>\n",
       "      <td>0.19030</td>\n",
       "      <td>0.00345</td>\n",
       "    </tr>\n",
       "  </tbody>\n",
       "</table>\n",
       "</div>"
      ],
      "text/plain": [
       "   1B_proba  2B_proba  3B_proba  HR_proba  FO_proba  BB_proba  K_proba  \\\n",
       "0   0.15233   0.04098   0.00338   0.03334   0.43525   0.11523  0.21681   \n",
       "1   0.14255   0.04247   0.00706   0.03926   0.48365   0.06675  0.21571   \n",
       "2   0.17078   0.05048   0.00624   0.02255   0.51881   0.07257  0.15697   \n",
       "3   0.10098   0.03763   0.00461   0.05643   0.37191   0.11328  0.31327   \n",
       "4   0.15671   0.05101   0.00390   0.03310   0.48403   0.07751  0.19030   \n",
       "\n",
       "   other_proba  \n",
       "0      0.00269  \n",
       "1      0.00255  \n",
       "2      0.00160  \n",
       "3      0.00189  \n",
       "4      0.00345  "
      ]
     },
     "execution_count": 42,
     "metadata": {},
     "output_type": "execute_result"
    }
   ],
   "source": [
    "P_predicted_df = pd.DataFrame(P_predicted, columns=main.PROBA_LIST)\n",
    "P_predicted_df.head()"
   ]
  },
  {
   "cell_type": "code",
   "execution_count": 43,
   "id": "bca751a3",
   "metadata": {
    "id": "bca751a3"
   },
   "outputs": [],
   "source": [
    "pa_df = pd.concat([pa_df, P_predicted_df], axis=1)"
   ]
  },
  {
   "cell_type": "code",
   "execution_count": 58,
   "id": "146771ab",
   "metadata": {
    "id": "146771ab"
   },
   "outputs": [],
   "source": [
    "# pa_df.to_csv('data/PA_data_19_012023.csv')"
   ]
  },
  {
   "cell_type": "code",
   "execution_count": 45,
   "id": "7205d657",
   "metadata": {},
   "outputs": [
    {
     "data": {
      "text/html": [
       "<div>\n",
       "<style scoped>\n",
       "    .dataframe tbody tr th:only-of-type {\n",
       "        vertical-align: middle;\n",
       "    }\n",
       "\n",
       "    .dataframe tbody tr th {\n",
       "        vertical-align: top;\n",
       "    }\n",
       "\n",
       "    .dataframe thead th {\n",
       "        text-align: right;\n",
       "    }\n",
       "</style>\n",
       "<table border=\"1\" class=\"dataframe\">\n",
       "  <thead>\n",
       "    <tr style=\"text-align: right;\">\n",
       "      <th></th>\n",
       "      <th>game_year</th>\n",
       "      <th>game_pk</th>\n",
       "      <th>at_bat_number</th>\n",
       "      <th>pitcher</th>\n",
       "      <th>batter</th>\n",
       "      <th>home_team</th>\n",
       "      <th>stand</th>\n",
       "      <th>p_throws</th>\n",
       "      <th>event_type</th>\n",
       "      <th>des</th>\n",
       "      <th>1B</th>\n",
       "      <th>2B</th>\n",
       "      <th>3B</th>\n",
       "      <th>HR</th>\n",
       "      <th>FO</th>\n",
       "      <th>BB</th>\n",
       "      <th>K</th>\n",
       "      <th>other</th>\n",
       "      <th>1B_proba</th>\n",
       "      <th>2B_proba</th>\n",
       "      <th>3B_proba</th>\n",
       "      <th>HR_proba</th>\n",
       "      <th>FO_proba</th>\n",
       "      <th>BB_proba</th>\n",
       "      <th>K_proba</th>\n",
       "      <th>other_proba</th>\n",
       "    </tr>\n",
       "  </thead>\n",
       "  <tbody>\n",
       "    <tr>\n",
       "      <th>0</th>\n",
       "      <td>2019</td>\n",
       "      <td>564734</td>\n",
       "      <td>1</td>\n",
       "      <td>518774</td>\n",
       "      <td>425783</td>\n",
       "      <td>LAA</td>\n",
       "      <td>L</td>\n",
       "      <td>R</td>\n",
       "      <td>BB</td>\n",
       "      <td>Shin-Soo Choo hit by pitch.</td>\n",
       "      <td>0</td>\n",
       "      <td>0</td>\n",
       "      <td>0</td>\n",
       "      <td>0</td>\n",
       "      <td>0</td>\n",
       "      <td>1</td>\n",
       "      <td>0</td>\n",
       "      <td>0</td>\n",
       "      <td>0.15233</td>\n",
       "      <td>0.04098</td>\n",
       "      <td>0.00338</td>\n",
       "      <td>0.03334</td>\n",
       "      <td>0.43525</td>\n",
       "      <td>0.11523</td>\n",
       "      <td>0.21681</td>\n",
       "      <td>0.00269</td>\n",
       "    </tr>\n",
       "    <tr>\n",
       "      <th>1</th>\n",
       "      <td>2019</td>\n",
       "      <td>564734</td>\n",
       "      <td>2</td>\n",
       "      <td>518774</td>\n",
       "      <td>596059</td>\n",
       "      <td>LAA</td>\n",
       "      <td>L</td>\n",
       "      <td>R</td>\n",
       "      <td>K</td>\n",
       "      <td>Rougned Odor strikes out swinging.</td>\n",
       "      <td>0</td>\n",
       "      <td>0</td>\n",
       "      <td>0</td>\n",
       "      <td>0</td>\n",
       "      <td>0</td>\n",
       "      <td>0</td>\n",
       "      <td>1</td>\n",
       "      <td>0</td>\n",
       "      <td>0.14255</td>\n",
       "      <td>0.04247</td>\n",
       "      <td>0.00706</td>\n",
       "      <td>0.03926</td>\n",
       "      <td>0.48365</td>\n",
       "      <td>0.06675</td>\n",
       "      <td>0.21571</td>\n",
       "      <td>0.00255</td>\n",
       "    </tr>\n",
       "    <tr>\n",
       "      <th>2</th>\n",
       "      <td>2019</td>\n",
       "      <td>564734</td>\n",
       "      <td>3</td>\n",
       "      <td>518774</td>\n",
       "      <td>462101</td>\n",
       "      <td>LAA</td>\n",
       "      <td>R</td>\n",
       "      <td>R</td>\n",
       "      <td>1B</td>\n",
       "      <td>Elvis Andrus singles on a line drive to right ...</td>\n",
       "      <td>1</td>\n",
       "      <td>0</td>\n",
       "      <td>0</td>\n",
       "      <td>0</td>\n",
       "      <td>0</td>\n",
       "      <td>0</td>\n",
       "      <td>0</td>\n",
       "      <td>0</td>\n",
       "      <td>0.17078</td>\n",
       "      <td>0.05048</td>\n",
       "      <td>0.00624</td>\n",
       "      <td>0.02255</td>\n",
       "      <td>0.51881</td>\n",
       "      <td>0.07257</td>\n",
       "      <td>0.15697</td>\n",
       "      <td>0.00160</td>\n",
       "    </tr>\n",
       "    <tr>\n",
       "      <th>3</th>\n",
       "      <td>2019</td>\n",
       "      <td>564734</td>\n",
       "      <td>4</td>\n",
       "      <td>518774</td>\n",
       "      <td>608336</td>\n",
       "      <td>LAA</td>\n",
       "      <td>L</td>\n",
       "      <td>R</td>\n",
       "      <td>HR</td>\n",
       "      <td>Joey Gallo homers (2) on a fly ball to center ...</td>\n",
       "      <td>0</td>\n",
       "      <td>0</td>\n",
       "      <td>0</td>\n",
       "      <td>1</td>\n",
       "      <td>0</td>\n",
       "      <td>0</td>\n",
       "      <td>0</td>\n",
       "      <td>0</td>\n",
       "      <td>0.10098</td>\n",
       "      <td>0.03763</td>\n",
       "      <td>0.00461</td>\n",
       "      <td>0.05643</td>\n",
       "      <td>0.37191</td>\n",
       "      <td>0.11328</td>\n",
       "      <td>0.31327</td>\n",
       "      <td>0.00189</td>\n",
       "    </tr>\n",
       "    <tr>\n",
       "      <th>4</th>\n",
       "      <td>2019</td>\n",
       "      <td>564734</td>\n",
       "      <td>5</td>\n",
       "      <td>518774</td>\n",
       "      <td>452678</td>\n",
       "      <td>LAA</td>\n",
       "      <td>L</td>\n",
       "      <td>R</td>\n",
       "      <td>BB</td>\n",
       "      <td>Asdrubal Cabrera walks.</td>\n",
       "      <td>0</td>\n",
       "      <td>0</td>\n",
       "      <td>0</td>\n",
       "      <td>0</td>\n",
       "      <td>0</td>\n",
       "      <td>1</td>\n",
       "      <td>0</td>\n",
       "      <td>0</td>\n",
       "      <td>0.15671</td>\n",
       "      <td>0.05101</td>\n",
       "      <td>0.00390</td>\n",
       "      <td>0.03310</td>\n",
       "      <td>0.48403</td>\n",
       "      <td>0.07751</td>\n",
       "      <td>0.19030</td>\n",
       "      <td>0.00345</td>\n",
       "    </tr>\n",
       "  </tbody>\n",
       "</table>\n",
       "</div>"
      ],
      "text/plain": [
       "   game_year  game_pk  at_bat_number  pitcher  batter home_team stand  \\\n",
       "0       2019   564734              1   518774  425783       LAA     L   \n",
       "1       2019   564734              2   518774  596059       LAA     L   \n",
       "2       2019   564734              3   518774  462101       LAA     R   \n",
       "3       2019   564734              4   518774  608336       LAA     L   \n",
       "4       2019   564734              5   518774  452678       LAA     L   \n",
       "\n",
       "  p_throws event_type                                                des  1B  \\\n",
       "0        R         BB                        Shin-Soo Choo hit by pitch.   0   \n",
       "1        R          K                 Rougned Odor strikes out swinging.   0   \n",
       "2        R         1B  Elvis Andrus singles on a line drive to right ...   1   \n",
       "3        R         HR  Joey Gallo homers (2) on a fly ball to center ...   0   \n",
       "4        R         BB                            Asdrubal Cabrera walks.   0   \n",
       "\n",
       "   2B  3B  HR  FO  BB  K  other  1B_proba  2B_proba  3B_proba  HR_proba  \\\n",
       "0   0   0   0   0   1  0      0   0.15233   0.04098   0.00338   0.03334   \n",
       "1   0   0   0   0   0  1      0   0.14255   0.04247   0.00706   0.03926   \n",
       "2   0   0   0   0   0  0      0   0.17078   0.05048   0.00624   0.02255   \n",
       "3   0   0   1   0   0  0      0   0.10098   0.03763   0.00461   0.05643   \n",
       "4   0   0   0   0   1  0      0   0.15671   0.05101   0.00390   0.03310   \n",
       "\n",
       "   FO_proba  BB_proba  K_proba  other_proba  \n",
       "0   0.43525   0.11523  0.21681      0.00269  \n",
       "1   0.48365   0.06675  0.21571      0.00255  \n",
       "2   0.51881   0.07257  0.15697      0.00160  \n",
       "3   0.37191   0.11328  0.31327      0.00189  \n",
       "4   0.48403   0.07751  0.19030      0.00345  "
      ]
     },
     "execution_count": 45,
     "metadata": {},
     "output_type": "execute_result"
    }
   ],
   "source": [
    "pa_df.head()"
   ]
  },
  {
   "cell_type": "code",
   "execution_count": 46,
   "id": "73d91c1d",
   "metadata": {
    "id": "73d91c1d"
   },
   "outputs": [],
   "source": [
    "sum_actual_df = pa_df[main.EVENT_LIST].sum().rename_axis('events').reset_index(name='count_actual')"
   ]
  },
  {
   "cell_type": "code",
   "execution_count": 47,
   "id": "e1980a66",
   "metadata": {
    "id": "e1980a66"
   },
   "outputs": [],
   "source": [
    "sum_pred_df = pa_df[main.PROBA_LIST].sum().rename_axis('events_2').reset_index(name='count_pred')"
   ]
  },
  {
   "cell_type": "code",
   "execution_count": 48,
   "id": "inHeeom3l-xu",
   "metadata": {
    "id": "inHeeom3l-xu"
   },
   "outputs": [],
   "source": [
    "sum_all_df = pd.concat([sum_actual_df, sum_pred_df], axis=1)\n",
    "sum_all_df.drop(columns='events_2', inplace=True)"
   ]
  },
  {
   "cell_type": "code",
   "execution_count": 49,
   "id": "U2yrMX5qmW-1",
   "metadata": {
    "id": "U2yrMX5qmW-1"
   },
   "outputs": [],
   "source": [
    "sum_all_df['error_pct'] = (sum_all_df['count_actual'] - sum_all_df['count_pred'])/sum_all_df['count_actual']"
   ]
  },
  {
   "cell_type": "code",
   "execution_count": 50,
   "id": "dfcd9d1f",
   "metadata": {},
   "outputs": [
    {
     "data": {
      "text/html": [
       "<div>\n",
       "<style scoped>\n",
       "    .dataframe tbody tr th:only-of-type {\n",
       "        vertical-align: middle;\n",
       "    }\n",
       "\n",
       "    .dataframe tbody tr th {\n",
       "        vertical-align: top;\n",
       "    }\n",
       "\n",
       "    .dataframe thead th {\n",
       "        text-align: right;\n",
       "    }\n",
       "</style>\n",
       "<table border=\"1\" class=\"dataframe\">\n",
       "  <thead>\n",
       "    <tr style=\"text-align: right;\">\n",
       "      <th></th>\n",
       "      <th>events</th>\n",
       "      <th>count_actual</th>\n",
       "      <th>count_pred</th>\n",
       "      <th>error_pct</th>\n",
       "    </tr>\n",
       "  </thead>\n",
       "  <tbody>\n",
       "    <tr>\n",
       "      <th>0</th>\n",
       "      <td>1B</td>\n",
       "      <td>11810</td>\n",
       "      <td>12484.61327</td>\n",
       "      <td>-0.05712</td>\n",
       "    </tr>\n",
       "    <tr>\n",
       "      <th>1</th>\n",
       "      <td>2B</td>\n",
       "      <td>3920</td>\n",
       "      <td>3869.04310</td>\n",
       "      <td>0.01300</td>\n",
       "    </tr>\n",
       "    <tr>\n",
       "      <th>2</th>\n",
       "      <td>3B</td>\n",
       "      <td>349</td>\n",
       "      <td>417.13177</td>\n",
       "      <td>-0.19522</td>\n",
       "    </tr>\n",
       "    <tr>\n",
       "      <th>3</th>\n",
       "      <td>HR</td>\n",
       "      <td>3149</td>\n",
       "      <td>2633.29953</td>\n",
       "      <td>0.16377</td>\n",
       "    </tr>\n",
       "    <tr>\n",
       "      <th>4</th>\n",
       "      <td>FO</td>\n",
       "      <td>38240</td>\n",
       "      <td>38725.51532</td>\n",
       "      <td>-0.01270</td>\n",
       "    </tr>\n",
       "    <tr>\n",
       "      <th>5</th>\n",
       "      <td>BB</td>\n",
       "      <td>7622</td>\n",
       "      <td>7529.57748</td>\n",
       "      <td>0.01213</td>\n",
       "    </tr>\n",
       "    <tr>\n",
       "      <th>6</th>\n",
       "      <td>K</td>\n",
       "      <td>18374</td>\n",
       "      <td>17806.33149</td>\n",
       "      <td>0.03090</td>\n",
       "    </tr>\n",
       "    <tr>\n",
       "      <th>7</th>\n",
       "      <td>other</td>\n",
       "      <td>197</td>\n",
       "      <td>195.48803</td>\n",
       "      <td>0.00767</td>\n",
       "    </tr>\n",
       "  </tbody>\n",
       "</table>\n",
       "</div>"
      ],
      "text/plain": [
       "  events  count_actual  count_pred  error_pct\n",
       "0     1B         11810 12484.61327   -0.05712\n",
       "1     2B          3920  3869.04310    0.01300\n",
       "2     3B           349   417.13177   -0.19522\n",
       "3     HR          3149  2633.29953    0.16377\n",
       "4     FO         38240 38725.51532   -0.01270\n",
       "5     BB          7622  7529.57748    0.01213\n",
       "6      K         18374 17806.33149    0.03090\n",
       "7  other           197   195.48803    0.00767"
      ]
     },
     "execution_count": 50,
     "metadata": {},
     "output_type": "execute_result"
    }
   ],
   "source": [
    "sum_all_df"
   ]
  },
  {
   "cell_type": "code",
   "execution_count": 51,
   "id": "3e60c471",
   "metadata": {},
   "outputs": [
    {
     "data": {
      "text/plain": [
       "83661"
      ]
     },
     "execution_count": 51,
     "metadata": {},
     "output_type": "execute_result"
    }
   ],
   "source": [
    "sum_all_df['count_actual'].sum()"
   ]
  },
  {
   "cell_type": "code",
   "execution_count": 52,
   "id": "99401d1d",
   "metadata": {},
   "outputs": [
    {
     "data": {
      "text/plain": [
       "83661.0"
      ]
     },
     "execution_count": 52,
     "metadata": {},
     "output_type": "execute_result"
    }
   ],
   "source": [
    "sum_all_df['count_pred'].sum()"
   ]
  },
  {
   "cell_type": "code",
   "execution_count": null,
   "id": "25e6184d",
   "metadata": {},
   "outputs": [],
   "source": []
  },
  {
   "cell_type": "code",
   "execution_count": null,
   "id": "08333016",
   "metadata": {},
   "outputs": [],
   "source": []
  },
  {
   "cell_type": "markdown",
   "id": "500ff1a9",
   "metadata": {},
   "source": [
    "### Brier Score:"
   ]
  },
  {
   "cell_type": "code",
   "execution_count": null,
   "id": "9818a1de",
   "metadata": {},
   "outputs": [],
   "source": [
    "# without year weight\n",
    "main.get_brier_score(pa_df[main.EVENT_LIST].values, P_predicted_df[main.PROBA_LIST].values)"
   ]
  },
  {
   "cell_type": "code",
   "execution_count": null,
   "id": "6b8e1ad9",
   "metadata": {},
   "outputs": [],
   "source": [
    "# with year weight\n",
    "main.get_brier_score(pa_df[main.EVENT_LIST].values, P_predicted_df_jan18[main.PROBA_LIST].values)"
   ]
  },
  {
   "cell_type": "markdown",
   "id": "7b5155f5",
   "metadata": {},
   "source": [
    "### Baseline Brier Score: 0.7036459613287046"
   ]
  },
  {
   "cell_type": "markdown",
   "id": "03cf30b8",
   "metadata": {},
   "source": [
    "# Get league average P"
   ]
  },
  {
   "cell_type": "code",
   "execution_count": 28,
   "id": "fdb0fa50",
   "metadata": {},
   "outputs": [
    {
     "data": {
      "text/html": [
       "<div>\n",
       "<style scoped>\n",
       "    .dataframe tbody tr th:only-of-type {\n",
       "        vertical-align: middle;\n",
       "    }\n",
       "\n",
       "    .dataframe tbody tr th {\n",
       "        vertical-align: top;\n",
       "    }\n",
       "\n",
       "    .dataframe thead th {\n",
       "        text-align: right;\n",
       "    }\n",
       "</style>\n",
       "<table border=\"1\" class=\"dataframe\">\n",
       "  <thead>\n",
       "    <tr style=\"text-align: right;\">\n",
       "      <th></th>\n",
       "      <th>game_year</th>\n",
       "      <th>game_pk</th>\n",
       "      <th>at_bat_number</th>\n",
       "      <th>pitcher</th>\n",
       "      <th>batter</th>\n",
       "      <th>event_type</th>\n",
       "    </tr>\n",
       "  </thead>\n",
       "  <tbody>\n",
       "    <tr>\n",
       "      <th>0</th>\n",
       "      <td>2019</td>\n",
       "      <td>564734</td>\n",
       "      <td>1</td>\n",
       "      <td>518774</td>\n",
       "      <td>425783</td>\n",
       "      <td>BB</td>\n",
       "    </tr>\n",
       "    <tr>\n",
       "      <th>1</th>\n",
       "      <td>2019</td>\n",
       "      <td>564734</td>\n",
       "      <td>2</td>\n",
       "      <td>518774</td>\n",
       "      <td>596059</td>\n",
       "      <td>K</td>\n",
       "    </tr>\n",
       "    <tr>\n",
       "      <th>2</th>\n",
       "      <td>2019</td>\n",
       "      <td>564734</td>\n",
       "      <td>3</td>\n",
       "      <td>518774</td>\n",
       "      <td>462101</td>\n",
       "      <td>1B</td>\n",
       "    </tr>\n",
       "    <tr>\n",
       "      <th>3</th>\n",
       "      <td>2019</td>\n",
       "      <td>564734</td>\n",
       "      <td>4</td>\n",
       "      <td>518774</td>\n",
       "      <td>608336</td>\n",
       "      <td>HR</td>\n",
       "    </tr>\n",
       "    <tr>\n",
       "      <th>4</th>\n",
       "      <td>2019</td>\n",
       "      <td>564734</td>\n",
       "      <td>5</td>\n",
       "      <td>518774</td>\n",
       "      <td>452678</td>\n",
       "      <td>BB</td>\n",
       "    </tr>\n",
       "  </tbody>\n",
       "</table>\n",
       "</div>"
      ],
      "text/plain": [
       "   game_year  game_pk  at_bat_number  pitcher  batter event_type\n",
       "0       2019   564734              1   518774  425783         BB\n",
       "1       2019   564734              2   518774  596059          K\n",
       "2       2019   564734              3   518774  462101         1B\n",
       "3       2019   564734              4   518774  608336         HR\n",
       "4       2019   564734              5   518774  452678         BB"
      ]
     },
     "execution_count": 28,
     "metadata": {},
     "output_type": "execute_result"
    }
   ],
   "source": [
    "pa_df_1518 = data_test_df[(data_test_df['pitcher'].isin(pitcher_quali_list)&(data_test_df['batter'].isin(batter_quali_list)))]\\\n",
    "            .groupby(['game_year', 'game_pk', 'at_bat_number', 'pitcher', 'batter']).\\\n",
    "            agg({'event_type':'first'}).reset_index()\n",
    "pa_df_1518.head()"
   ]
  },
  {
   "cell_type": "code",
   "execution_count": 29,
   "id": "0c473664",
   "metadata": {},
   "outputs": [
    {
     "data": {
      "text/html": [
       "<div>\n",
       "<style scoped>\n",
       "    .dataframe tbody tr th:only-of-type {\n",
       "        vertical-align: middle;\n",
       "    }\n",
       "\n",
       "    .dataframe tbody tr th {\n",
       "        vertical-align: top;\n",
       "    }\n",
       "\n",
       "    .dataframe thead th {\n",
       "        text-align: right;\n",
       "    }\n",
       "</style>\n",
       "<table border=\"1\" class=\"dataframe\">\n",
       "  <thead>\n",
       "    <tr style=\"text-align: right;\">\n",
       "      <th></th>\n",
       "      <th>events</th>\n",
       "      <th>proba</th>\n",
       "    </tr>\n",
       "  </thead>\n",
       "  <tbody>\n",
       "    <tr>\n",
       "      <th>0</th>\n",
       "      <td>FO</td>\n",
       "      <td>0.45708</td>\n",
       "    </tr>\n",
       "    <tr>\n",
       "      <th>1</th>\n",
       "      <td>K</td>\n",
       "      <td>0.21962</td>\n",
       "    </tr>\n",
       "    <tr>\n",
       "      <th>2</th>\n",
       "      <td>1B</td>\n",
       "      <td>0.14116</td>\n",
       "    </tr>\n",
       "    <tr>\n",
       "      <th>3</th>\n",
       "      <td>BB</td>\n",
       "      <td>0.09111</td>\n",
       "    </tr>\n",
       "    <tr>\n",
       "      <th>4</th>\n",
       "      <td>2B</td>\n",
       "      <td>0.04686</td>\n",
       "    </tr>\n",
       "    <tr>\n",
       "      <th>5</th>\n",
       "      <td>HR</td>\n",
       "      <td>0.03764</td>\n",
       "    </tr>\n",
       "    <tr>\n",
       "      <th>6</th>\n",
       "      <td>3B</td>\n",
       "      <td>0.00417</td>\n",
       "    </tr>\n",
       "    <tr>\n",
       "      <th>7</th>\n",
       "      <td>other</td>\n",
       "      <td>0.00235</td>\n",
       "    </tr>\n",
       "  </tbody>\n",
       "</table>\n",
       "</div>"
      ],
      "text/plain": [
       "  events   proba\n",
       "0     FO 0.45708\n",
       "1      K 0.21962\n",
       "2     1B 0.14116\n",
       "3     BB 0.09111\n",
       "4     2B 0.04686\n",
       "5     HR 0.03764\n",
       "6     3B 0.00417\n",
       "7  other 0.00235"
      ]
     },
     "execution_count": 29,
     "metadata": {},
     "output_type": "execute_result"
    }
   ],
   "source": [
    "P_league_avg_df = pa_df_1518['event_type'].value_counts(normalize=True).rename_axis('events').reset_index(name='proba')\n",
    "P_league_avg_df"
   ]
  },
  {
   "cell_type": "code",
   "execution_count": 30,
   "id": "3606233d",
   "metadata": {},
   "outputs": [],
   "source": [
    "P_league_avg_arr = np.array([])\n",
    "for e in main.EVENT_LIST:\n",
    "    P_league_avg_arr = np.append(P_league_avg_arr, P_league_avg_df[P_league_avg_df['events']==e]['proba'])"
   ]
  },
  {
   "cell_type": "markdown",
   "id": "a24ee87b",
   "metadata": {},
   "source": [
    "## Test accuracy using league average"
   ]
  },
  {
   "cell_type": "code",
   "execution_count": 43,
   "id": "eeb2fbf7",
   "metadata": {},
   "outputs": [
    {
     "data": {
      "text/plain": [
       "0.710977484903155"
      ]
     },
     "execution_count": 43,
     "metadata": {},
     "output_type": "execute_result"
    }
   ],
   "source": [
    "P_predicted_league = np.tile(P_league_avg_arr, [len(pa_df), 1])\n",
    "main.get_brier_score(pa_df[main.EVENT_LIST].values, P_predicted_league)"
   ]
  },
  {
   "cell_type": "markdown",
   "id": "80c0554e",
   "metadata": {},
   "source": [
    "## Test accuracy using random proba"
   ]
  },
  {
   "cell_type": "code",
   "execution_count": 44,
   "id": "d0260070",
   "metadata": {
    "scrolled": false
   },
   "outputs": [
    {
     "data": {
      "text/plain": [
       "0.9739460742925328"
      ]
     },
     "execution_count": 44,
     "metadata": {},
     "output_type": "execute_result"
    }
   ],
   "source": [
    "P_rand = np.random.dirichlet(np.ones(8), size=len(pa_df))\n",
    "main.get_brier_score(pa_df[main.EVENT_LIST].values, P_rand)"
   ]
  },
  {
   "cell_type": "code",
   "execution_count": null,
   "id": "8670f738",
   "metadata": {},
   "outputs": [],
   "source": []
  }
 ],
 "metadata": {
  "colab": {
   "collapsed_sections": [
    "024af86c",
    "cf5d343b",
    "2f10fefa",
    "292bc213",
    "dda56fc7",
    "18b40d59"
   ],
   "provenance": []
  },
  "gpuClass": "standard",
  "kernelspec": {
   "display_name": "Python [conda env:bb_sim]",
   "language": "python",
   "name": "conda-env-bb_sim-py"
  },
  "language_info": {
   "codemirror_mode": {
    "name": "ipython",
    "version": 3
   },
   "file_extension": ".py",
   "mimetype": "text/x-python",
   "name": "python",
   "nbconvert_exporter": "python",
   "pygments_lexer": "ipython3",
   "version": "3.9.13"
  },
  "widgets": {
   "application/vnd.jupyter.widget-state+json": {
    "0a9315fc41214c988eca447bc907fe1e": {
     "model_module": "@jupyter-widgets/controls",
     "model_module_version": "1.5.0",
     "model_name": "HTMLModel",
     "state": {
      "_dom_classes": [],
      "_model_module": "@jupyter-widgets/controls",
      "_model_module_version": "1.5.0",
      "_model_name": "HTMLModel",
      "_view_count": null,
      "_view_module": "@jupyter-widgets/controls",
      "_view_module_version": "1.5.0",
      "_view_name": "HTMLView",
      "description": "",
      "description_tooltip": null,
      "layout": "IPY_MODEL_bc694aa7dca640f7b3cfdc13f2401b01",
      "placeholder": "​",
      "style": "IPY_MODEL_a46212d3eb1f479a81e23a8e6f3e562e",
      "value": "100%"
     }
    },
    "2006e5cf2a164356bac5a56c054f7ece": {
     "model_module": "@jupyter-widgets/controls",
     "model_module_version": "1.5.0",
     "model_name": "ProgressStyleModel",
     "state": {
      "_model_module": "@jupyter-widgets/controls",
      "_model_module_version": "1.5.0",
      "_model_name": "ProgressStyleModel",
      "_view_count": null,
      "_view_module": "@jupyter-widgets/base",
      "_view_module_version": "1.2.0",
      "_view_name": "StyleView",
      "bar_color": null,
      "description_width": ""
     }
    },
    "4a354eba2b014af0b2991360adeddc0e": {
     "model_module": "@jupyter-widgets/controls",
     "model_module_version": "1.5.0",
     "model_name": "HTMLModel",
     "state": {
      "_dom_classes": [],
      "_model_module": "@jupyter-widgets/controls",
      "_model_module_version": "1.5.0",
      "_model_name": "HTMLModel",
      "_view_count": null,
      "_view_module": "@jupyter-widgets/controls",
      "_view_module_version": "1.5.0",
      "_view_name": "HTMLView",
      "description": "",
      "description_tooltip": null,
      "layout": "IPY_MODEL_87cc636986df4e38b908d2d81bdd2949",
      "placeholder": "​",
      "style": "IPY_MODEL_842e0ccb2111459d9551ecd2a5cace24",
      "value": " 142307/142307 [00:57&lt;00:00, 2765.26it/s]"
     }
    },
    "79ea100ccdc04d6a92859031bac9129c": {
     "model_module": "@jupyter-widgets/base",
     "model_module_version": "1.2.0",
     "model_name": "LayoutModel",
     "state": {
      "_model_module": "@jupyter-widgets/base",
      "_model_module_version": "1.2.0",
      "_model_name": "LayoutModel",
      "_view_count": null,
      "_view_module": "@jupyter-widgets/base",
      "_view_module_version": "1.2.0",
      "_view_name": "LayoutView",
      "align_content": null,
      "align_items": null,
      "align_self": null,
      "border": null,
      "bottom": null,
      "display": null,
      "flex": null,
      "flex_flow": null,
      "grid_area": null,
      "grid_auto_columns": null,
      "grid_auto_flow": null,
      "grid_auto_rows": null,
      "grid_column": null,
      "grid_gap": null,
      "grid_row": null,
      "grid_template_areas": null,
      "grid_template_columns": null,
      "grid_template_rows": null,
      "height": null,
      "justify_content": null,
      "justify_items": null,
      "left": null,
      "margin": null,
      "max_height": null,
      "max_width": null,
      "min_height": null,
      "min_width": null,
      "object_fit": null,
      "object_position": null,
      "order": null,
      "overflow": null,
      "overflow_x": null,
      "overflow_y": null,
      "padding": null,
      "right": null,
      "top": null,
      "visibility": null,
      "width": null
     }
    },
    "842e0ccb2111459d9551ecd2a5cace24": {
     "model_module": "@jupyter-widgets/controls",
     "model_module_version": "1.5.0",
     "model_name": "DescriptionStyleModel",
     "state": {
      "_model_module": "@jupyter-widgets/controls",
      "_model_module_version": "1.5.0",
      "_model_name": "DescriptionStyleModel",
      "_view_count": null,
      "_view_module": "@jupyter-widgets/base",
      "_view_module_version": "1.2.0",
      "_view_name": "StyleView",
      "description_width": ""
     }
    },
    "87cc636986df4e38b908d2d81bdd2949": {
     "model_module": "@jupyter-widgets/base",
     "model_module_version": "1.2.0",
     "model_name": "LayoutModel",
     "state": {
      "_model_module": "@jupyter-widgets/base",
      "_model_module_version": "1.2.0",
      "_model_name": "LayoutModel",
      "_view_count": null,
      "_view_module": "@jupyter-widgets/base",
      "_view_module_version": "1.2.0",
      "_view_name": "LayoutView",
      "align_content": null,
      "align_items": null,
      "align_self": null,
      "border": null,
      "bottom": null,
      "display": null,
      "flex": null,
      "flex_flow": null,
      "grid_area": null,
      "grid_auto_columns": null,
      "grid_auto_flow": null,
      "grid_auto_rows": null,
      "grid_column": null,
      "grid_gap": null,
      "grid_row": null,
      "grid_template_areas": null,
      "grid_template_columns": null,
      "grid_template_rows": null,
      "height": null,
      "justify_content": null,
      "justify_items": null,
      "left": null,
      "margin": null,
      "max_height": null,
      "max_width": null,
      "min_height": null,
      "min_width": null,
      "object_fit": null,
      "object_position": null,
      "order": null,
      "overflow": null,
      "overflow_x": null,
      "overflow_y": null,
      "padding": null,
      "right": null,
      "top": null,
      "visibility": null,
      "width": null
     }
    },
    "8a80408fafed42acbad33aaddabdf0ce": {
     "model_module": "@jupyter-widgets/base",
     "model_module_version": "1.2.0",
     "model_name": "LayoutModel",
     "state": {
      "_model_module": "@jupyter-widgets/base",
      "_model_module_version": "1.2.0",
      "_model_name": "LayoutModel",
      "_view_count": null,
      "_view_module": "@jupyter-widgets/base",
      "_view_module_version": "1.2.0",
      "_view_name": "LayoutView",
      "align_content": null,
      "align_items": null,
      "align_self": null,
      "border": null,
      "bottom": null,
      "display": null,
      "flex": null,
      "flex_flow": null,
      "grid_area": null,
      "grid_auto_columns": null,
      "grid_auto_flow": null,
      "grid_auto_rows": null,
      "grid_column": null,
      "grid_gap": null,
      "grid_row": null,
      "grid_template_areas": null,
      "grid_template_columns": null,
      "grid_template_rows": null,
      "height": null,
      "justify_content": null,
      "justify_items": null,
      "left": null,
      "margin": null,
      "max_height": null,
      "max_width": null,
      "min_height": null,
      "min_width": null,
      "object_fit": null,
      "object_position": null,
      "order": null,
      "overflow": null,
      "overflow_x": null,
      "overflow_y": null,
      "padding": null,
      "right": null,
      "top": null,
      "visibility": null,
      "width": null
     }
    },
    "a46212d3eb1f479a81e23a8e6f3e562e": {
     "model_module": "@jupyter-widgets/controls",
     "model_module_version": "1.5.0",
     "model_name": "DescriptionStyleModel",
     "state": {
      "_model_module": "@jupyter-widgets/controls",
      "_model_module_version": "1.5.0",
      "_model_name": "DescriptionStyleModel",
      "_view_count": null,
      "_view_module": "@jupyter-widgets/base",
      "_view_module_version": "1.2.0",
      "_view_name": "StyleView",
      "description_width": ""
     }
    },
    "bc694aa7dca640f7b3cfdc13f2401b01": {
     "model_module": "@jupyter-widgets/base",
     "model_module_version": "1.2.0",
     "model_name": "LayoutModel",
     "state": {
      "_model_module": "@jupyter-widgets/base",
      "_model_module_version": "1.2.0",
      "_model_name": "LayoutModel",
      "_view_count": null,
      "_view_module": "@jupyter-widgets/base",
      "_view_module_version": "1.2.0",
      "_view_name": "LayoutView",
      "align_content": null,
      "align_items": null,
      "align_self": null,
      "border": null,
      "bottom": null,
      "display": null,
      "flex": null,
      "flex_flow": null,
      "grid_area": null,
      "grid_auto_columns": null,
      "grid_auto_flow": null,
      "grid_auto_rows": null,
      "grid_column": null,
      "grid_gap": null,
      "grid_row": null,
      "grid_template_areas": null,
      "grid_template_columns": null,
      "grid_template_rows": null,
      "height": null,
      "justify_content": null,
      "justify_items": null,
      "left": null,
      "margin": null,
      "max_height": null,
      "max_width": null,
      "min_height": null,
      "min_width": null,
      "object_fit": null,
      "object_position": null,
      "order": null,
      "overflow": null,
      "overflow_x": null,
      "overflow_y": null,
      "padding": null,
      "right": null,
      "top": null,
      "visibility": null,
      "width": null
     }
    },
    "c62abd0eb0184f398949abcc1e36b260": {
     "model_module": "@jupyter-widgets/controls",
     "model_module_version": "1.5.0",
     "model_name": "HBoxModel",
     "state": {
      "_dom_classes": [],
      "_model_module": "@jupyter-widgets/controls",
      "_model_module_version": "1.5.0",
      "_model_name": "HBoxModel",
      "_view_count": null,
      "_view_module": "@jupyter-widgets/controls",
      "_view_module_version": "1.5.0",
      "_view_name": "HBoxView",
      "box_style": "",
      "children": [
       "IPY_MODEL_0a9315fc41214c988eca447bc907fe1e",
       "IPY_MODEL_cbb67d032f344304a5d6419b37d0e6be",
       "IPY_MODEL_4a354eba2b014af0b2991360adeddc0e"
      ],
      "layout": "IPY_MODEL_79ea100ccdc04d6a92859031bac9129c"
     }
    },
    "cbb67d032f344304a5d6419b37d0e6be": {
     "model_module": "@jupyter-widgets/controls",
     "model_module_version": "1.5.0",
     "model_name": "FloatProgressModel",
     "state": {
      "_dom_classes": [],
      "_model_module": "@jupyter-widgets/controls",
      "_model_module_version": "1.5.0",
      "_model_name": "FloatProgressModel",
      "_view_count": null,
      "_view_module": "@jupyter-widgets/controls",
      "_view_module_version": "1.5.0",
      "_view_name": "ProgressView",
      "bar_style": "success",
      "description": "",
      "description_tooltip": null,
      "layout": "IPY_MODEL_8a80408fafed42acbad33aaddabdf0ce",
      "max": 142307,
      "min": 0,
      "orientation": "horizontal",
      "style": "IPY_MODEL_2006e5cf2a164356bac5a56c054f7ece",
      "value": 142307
     }
    }
   }
  }
 },
 "nbformat": 4,
 "nbformat_minor": 5
}
