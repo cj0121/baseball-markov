{
 "cells": [
  {
   "cell_type": "code",
   "execution_count": 1,
   "id": "d18a7c37",
   "metadata": {},
   "outputs": [
    {
     "data": {
      "application/javascript": [
       "if (!(\"Notification\" in window)) {\n",
       "    alert(\"This browser does not support desktop notifications, so the %%notify magic will not work.\");\n",
       "} else if (Notification.permission !== 'granted' && Notification.permission !== 'denied') {\n",
       "    Notification.requestPermission(function (permission) {\n",
       "        if(!('permission' in Notification)) {\n",
       "            Notification.permission = permission;\n",
       "        }\n",
       "    })\n",
       "}\n"
      ],
      "text/plain": [
       "<IPython.core.display.Javascript object>"
      ]
     },
     "metadata": {},
     "output_type": "display_data"
    }
   ],
   "source": [
    "%load_ext jupyternotify\n",
    "\n",
    "# import os\n",
    "import pandas as pd\n",
    "import numpy as np\n",
    "import matplotlib.pyplot as plt\n",
    "import seaborn as sns\n",
    "import time\n",
    "# import timeit\n",
    "import main\n",
    "import joblib\n",
    "import importlib\n",
    "import xgboost as xgb\n",
    "\n",
    "from tqdm.auto import tqdm\n",
    "# from scipy.stats import *\n",
    "\n",
    "pd.set_option('display.max_columns', None)"
   ]
  },
  {
   "cell_type": "code",
   "execution_count": 2,
   "id": "98aa4a0d",
   "metadata": {},
   "outputs": [],
   "source": [
    "from xgboost import XGBClassifier"
   ]
  },
  {
   "cell_type": "code",
   "execution_count": 3,
   "id": "c3b9eaeb",
   "metadata": {},
   "outputs": [],
   "source": [
    "from sklearn.ensemble import RandomForestClassifier\n",
    "from sklearn.ensemble import RandomForestRegressor\n",
    "from sklearn.model_selection import GridSearchCV \n",
    "from sklearn.model_selection import RandomizedSearchCV \n",
    "from sklearn.metrics import classification_report, confusion_matrix, accuracy_score\n",
    "\n",
    "from sklearn.model_selection import KFold\n",
    "from sklearn.model_selection import train_test_split"
   ]
  },
  {
   "cell_type": "code",
   "execution_count": 4,
   "id": "9ce788ef",
   "metadata": {},
   "outputs": [],
   "source": [
    "np.set_printoptions(suppress=True)"
   ]
  },
  {
   "cell_type": "code",
   "execution_count": 5,
   "id": "52c92a54",
   "metadata": {},
   "outputs": [
    {
     "data": {
      "text/html": [
       "<style>.container { width:70% !important; }</style>"
      ],
      "text/plain": [
       "<IPython.core.display.HTML object>"
      ]
     },
     "metadata": {},
     "output_type": "display_data"
    }
   ],
   "source": [
    "from IPython.display import display, HTML\n",
    "display(HTML(\"<style>.container { width:70% !important; }</style>\"))"
   ]
  },
  {
   "cell_type": "code",
   "execution_count": 6,
   "id": "d934bc43",
   "metadata": {},
   "outputs": [],
   "source": [
    "def clf_performance(classifier, title=None):\n",
    "    if title != None:\n",
    "        print(title)\n",
    "    print('Best Score: ' + str(classifier.best_score_))\n",
    "    print('Best Parameters: ' + str(classifier.best_params_))"
   ]
  },
  {
   "cell_type": "code",
   "execution_count": 321,
   "id": "6c947c0f",
   "metadata": {},
   "outputs": [],
   "source": [
    "# data_df = pd.read_csv('data/PA_data_merged_19_weighted_012223.csv', index_col=[0])"
   ]
  },
  {
   "cell_type": "code",
   "execution_count": 420,
   "id": "3fac16b9",
   "metadata": {},
   "outputs": [],
   "source": [
    "data_df = pd.read_csv('data/PA_data_merged_19_weighted_012223.csv', index_col=[0])"
   ]
  },
  {
   "cell_type": "code",
   "execution_count": 507,
   "id": "349ba489",
   "metadata": {},
   "outputs": [],
   "source": [
    "def process_df(df, batter_list, pitcher_list):\n",
    "    \n",
    "    df = df[(df['pitcher'].isin(pitcher_list))&(df['batter'].isin(batter_list))].copy()\n",
    "    df['pitcher'] = df['pitcher'].astype('category')\n",
    "    df['batter'] = df['batter'].astype('category')\n",
    "    df['ump_id'] = df['ump_id'].astype('category')\n",
    "    df['ump_id'] = df['ump_id'].astype('category')\n",
    "\n",
    "    df['weather_cond'] = df['weather_cond'].str.replace(' ', '').copy()\n",
    "    df['weather_cond'] = 'weather_cond_' + df['weather_cond']\n",
    "    df['wind_direction'] = df['wind_direction'].str.replace(' ', '').copy()\n",
    "    df['wind_direction'] = 'wind_dir_' + df['wind_direction']\n",
    "    df['roof_cond'] = 'roof_cond_' + df['roof_cond']\n",
    "\n",
    "    df = pd.concat([df, pd.get_dummies(df['weather_cond'])], axis=1)\n",
    "    df = pd.concat([df, pd.get_dummies(df['wind_direction'])], axis=1)\n",
    "    df = pd.concat([df, pd.get_dummies(df['roof_cond'])], axis=1)\n",
    "    \n",
    "    return df"
   ]
  },
  {
   "cell_type": "code",
   "execution_count": 550,
   "id": "5d29cbe2",
   "metadata": {},
   "outputs": [],
   "source": [
    "X_col_full = ['game_year', 'pitcher', 'batter', 'ump_id', 'temp', 'wind_speed', 'platoon', 'sprint_speed']\\\n",
    "                + list(data_df['weather_cond'].unique()) + list(data_df['wind_direction'].unique())\\\n",
    "                + list(data_df['wind_direction'].unique()) + list(data_df['roof_cond'].unique())\\\n",
    "                + ['1B_pf', '2B_pf', '3B_pf', 'HR_pf', 'BB_pf', 'K_pf']"
   ]
  },
  {
   "cell_type": "code",
   "execution_count": 425,
   "id": "3f9d73d2",
   "metadata": {},
   "outputs": [
    {
     "name": "stdout",
     "output_type": "stream",
     "text": [
      "train size: (50196, 66)\n",
      "val size: (16732, 66)\n",
      "test size: (16733, 66)\n"
     ]
    }
   ],
   "source": [
    "train_val_df, test_df = train_test_split(data_df, test_size=0.2, random_state=0, shuffle=True)\n",
    "train_df, val_df = train_test_split(train_val_df, test_size=0.25, random_state=0, shuffle=True)\n",
    "print(f\"train size: {train_df.shape}\")\n",
    "print(f\"val size: {val_df.shape}\")\n",
    "print(f\"test size: {test_df.shape}\")"
   ]
  },
  {
   "cell_type": "code",
   "execution_count": 426,
   "id": "7a2a97c4",
   "metadata": {},
   "outputs": [],
   "source": [
    "# baseline_proba_all = data_df[main.PROBA_LIST].values\n",
    "# baseline_proba_train = train_df[main.PROBA_LIST].values\n",
    "# baseline_proba_val = val_df[main.PROBA_LIST].values\n",
    "# baseline_proba_train_val = train_val_df[main.PROBA_LIST].values\n",
    "# baseline_proba_test = test_df[main.PROBA_LIST].values"
   ]
  },
  {
   "cell_type": "code",
   "execution_count": 427,
   "id": "2eb8e860",
   "metadata": {
    "scrolled": true
   },
   "outputs": [],
   "source": [
    "y_all = data_df[main.EVENT_LIST].values\n",
    "y_train = train_df[main.EVENT_LIST].values\n",
    "y_val = val_df[main.EVENT_LIST].values\n",
    "y_train_val = train_val_df[main.EVENT_LIST].values\n",
    "y_test = test_df[main.EVENT_LIST].values"
   ]
  },
  {
   "cell_type": "code",
   "execution_count": 428,
   "id": "383a5e40",
   "metadata": {},
   "outputs": [
    {
     "data": {
      "text/plain": [
       "0.7022930107640629"
      ]
     },
     "execution_count": 428,
     "metadata": {},
     "output_type": "execute_result"
    }
   ],
   "source": [
    "# new \n",
    "main.get_brier_score(baseline_proba_test, y_test)"
   ]
  },
  {
   "cell_type": "code",
   "execution_count": 295,
   "id": "8741ec0f",
   "metadata": {},
   "outputs": [],
   "source": [
    "# X_col = ['pitcher', 'batter', 'platoon']\n",
    "# X_train = train_df[X_col].values\n",
    "# X_test = test_df[X_col].values\n",
    "\n",
    "# clf = XGBClassifier(random_state=0, tree_method='exact')\n",
    "# xgb_def = clf.fit(X_train, y_train)\n",
    "\n",
    "# proba_arr = xgb_def.predict_proba(X_test)\n",
    "# proba_arr = main.normalize_P(proba_arr)"
   ]
  },
  {
   "cell_type": "code",
   "execution_count": 26,
   "id": "9f023bb9",
   "metadata": {},
   "outputs": [],
   "source": []
  },
  {
   "cell_type": "code",
   "execution_count": 154,
   "id": "37889098",
   "metadata": {},
   "outputs": [
    {
     "data": {
      "text/plain": [
       "0.7017426554195402"
      ]
     },
     "execution_count": 154,
     "metadata": {},
     "output_type": "execute_result"
    }
   ],
   "source": [
    "# # X: pitcher, batter, platoon\n",
    "\n",
    "# baseline_weight = 0.8\n",
    "# proba_arr_new = baseline_proba_test*baseline_weight + proba_arr*(1-baseline_weight)\n",
    "# main.get_brier_score(proba_arr_new, y_test)\n",
    "\n",
    "# # bscore: 0.7019216351070303"
   ]
  },
  {
   "cell_type": "markdown",
   "id": "dc7acd81",
   "metadata": {},
   "source": [
    "# Full Variables"
   ]
  },
  {
   "cell_type": "code",
   "execution_count": 331,
   "id": "6fcb946e",
   "metadata": {},
   "outputs": [],
   "source": [
    "X_train = train_df[X_col_full].values\n",
    "X_test = test_df[X_col_full].values"
   ]
  },
  {
   "cell_type": "code",
   "execution_count": 392,
   "id": "7fe68652",
   "metadata": {
    "collapsed": true
   },
   "outputs": [
    {
     "data": {
      "text/plain": [
       "['pitcher',\n",
       " 'batter',\n",
       " 'ump_id',\n",
       " 'temp',\n",
       " 'wind_speed',\n",
       " 'platoon',\n",
       " 'sprint_speed',\n",
       " 'weather_cond_Overcast',\n",
       " 'weather_cond_PartlyCloudy',\n",
       " 'weather_cond_Clear',\n",
       " 'weather_cond_Cloudy',\n",
       " 'weather_cond_Sunny',\n",
       " 'weather_cond_RoofClosed',\n",
       " 'weather_cond_Rain',\n",
       " 'weather_cond_Drizzle',\n",
       " 'weather_cond_Dome',\n",
       " 'wind_dir_OutToLF',\n",
       " 'wind_dir_RToL',\n",
       " 'wind_dir_OutToRF',\n",
       " 'wind_dir_LToR',\n",
       " 'wind_dir_OutToCF',\n",
       " 'wind_dir_None',\n",
       " 'wind_dir_Varies',\n",
       " 'wind_dir_InFromRF',\n",
       " 'wind_dir_InFromLF',\n",
       " 'wind_dir_InFromCF',\n",
       " 'wind_dir_Calm',\n",
       " 'wind_dir_OutToLF',\n",
       " 'wind_dir_RToL',\n",
       " 'wind_dir_OutToRF',\n",
       " 'wind_dir_LToR',\n",
       " 'wind_dir_OutToCF',\n",
       " 'wind_dir_None',\n",
       " 'wind_dir_Varies',\n",
       " 'wind_dir_InFromRF',\n",
       " 'wind_dir_InFromLF',\n",
       " 'wind_dir_InFromCF',\n",
       " 'wind_dir_Calm',\n",
       " 'roof_cond_OpenAir',\n",
       " 'roof_cond_RoofClosed',\n",
       " '1B_pf',\n",
       " '2B_pf',\n",
       " '3B_pf',\n",
       " 'HR_pf',\n",
       " 'BB_pf',\n",
       " 'K_pf']"
      ]
     },
     "execution_count": 392,
     "metadata": {},
     "output_type": "execute_result"
    }
   ],
   "source": [
    "X_col_full"
   ]
  },
  {
   "cell_type": "code",
   "execution_count": 332,
   "id": "11b73745",
   "metadata": {},
   "outputs": [],
   "source": [
    "start = time.time()"
   ]
  },
  {
   "cell_type": "code",
   "execution_count": 391,
   "id": "9ab2a7a0",
   "metadata": {},
   "outputs": [
    {
     "ename": "NameError",
     "evalue": "name 'X_coll_full' is not defined",
     "output_type": "error",
     "traceback": [
      "\u001b[0;31m---------------------------------------------------------------------------\u001b[0m",
      "\u001b[0;31mNameError\u001b[0m                                 Traceback (most recent call last)",
      "\u001b[0;32m/var/folders/x_/1k47n6n512j4cw0810rgvky40000gn/T/ipykernel_71414/3624225749.py\u001b[0m in \u001b[0;36m<module>\u001b[0;34m\u001b[0m\n\u001b[0;32m----> 1\u001b[0;31m \u001b[0mX_coll_full\u001b[0m\u001b[0;34m\u001b[0m\u001b[0;34m\u001b[0m\u001b[0m\n\u001b[0m",
      "\u001b[0;31mNameError\u001b[0m: name 'X_coll_full' is not defined"
     ]
    }
   ],
   "source": [
    "X_coll_full"
   ]
  },
  {
   "cell_type": "code",
   "execution_count": 333,
   "id": "8a0772bc",
   "metadata": {},
   "outputs": [],
   "source": [
    "clf = XGBClassifier(random_state=0, tree_method='hist', enable_categorical=True)\n",
    "xgb_full = clf.fit(X_train, y_train)"
   ]
  },
  {
   "cell_type": "code",
   "execution_count": 334,
   "id": "5e197de7",
   "metadata": {
    "scrolled": true
   },
   "outputs": [
    {
     "data": {
      "text/plain": [
       "2.7268290519714355"
      ]
     },
     "execution_count": 334,
     "metadata": {},
     "output_type": "execute_result"
    }
   ],
   "source": [
    "time.time() - start"
   ]
  },
  {
   "cell_type": "code",
   "execution_count": 335,
   "id": "15f23a4d",
   "metadata": {
    "scrolled": true
   },
   "outputs": [],
   "source": [
    "proba_arr = xgb_full.predict_proba(X_test)\n",
    "proba_arr = main.normalize_P(proba_arr)"
   ]
  },
  {
   "cell_type": "code",
   "execution_count": 345,
   "id": "a1ce69d5",
   "metadata": {},
   "outputs": [
    {
     "data": {
      "text/plain": [
       "0.7018802183589026"
      ]
     },
     "execution_count": 345,
     "metadata": {},
     "output_type": "execute_result"
    }
   ],
   "source": [
    "baseline_weight = 0.89\n",
    "proba_arr_new = baseline_proba_test*baseline_weight + proba_arr*(1-baseline_weight)\n",
    "main.get_brier_score(proba_arr_new, y_test)\n",
    "\n",
    "# bscore: 0.7019216351070303"
   ]
  },
  {
   "cell_type": "code",
   "execution_count": 346,
   "id": "22dd3c70",
   "metadata": {},
   "outputs": [],
   "source": [
    "xgb_full.get_booster().feature_names = X_col_full"
   ]
  },
  {
   "cell_type": "code",
   "execution_count": 394,
   "id": "ea27f3da",
   "metadata": {},
   "outputs": [
    {
     "data": {
      "text/plain": [
       "array([[0.1392214 , 0.04051488, 0.00479236, ..., 0.09665544, 0.17363826,\n",
       "        0.00067245],\n",
       "       [0.15970923, 0.03928761, 0.00095291, ..., 0.15225641, 0.22476981,\n",
       "        0.00241161],\n",
       "       [0.16261056, 0.04334372, 0.00954498, ..., 0.1492422 , 0.25748629,\n",
       "        0.        ],\n",
       "       ...,\n",
       "       [0.16135458, 0.03984064, 0.00398406, ..., 0.13049532, 0.24425252,\n",
       "        0.00531402],\n",
       "       [0.13676162, 0.03376957, 0.00715892, ..., 0.05095861, 0.16028365,\n",
       "        0.00246583],\n",
       "       [0.14991333, 0.05295746, 0.00113822, ..., 0.08876428, 0.27967403,\n",
       "        0.00109502]])"
      ]
     },
     "execution_count": 394,
     "metadata": {},
     "output_type": "execute_result"
    }
   ],
   "source": [
    "X_test"
   ]
  },
  {
   "cell_type": "code",
   "execution_count": 347,
   "id": "0a84d20f",
   "metadata": {},
   "outputs": [
    {
     "data": {
      "text/plain": [
       "<AxesSubplot:title={'center':'Feature importance'}, xlabel='F score', ylabel='Features'>"
      ]
     },
     "execution_count": 347,
     "metadata": {},
     "output_type": "execute_result"
    },
    {
     "data": {
      "image/png": "[encoded data removed]",
      "text/plain": [
       "<Figure size 640x480 with 1 Axes>"
      ]
     },
     "metadata": {},
     "output_type": "display_data"
    }
   ],
   "source": [
    "fig, ax = plt.subplots()\n",
    "plt.tight_layout()\n",
    "xgb.plot_importance(xgb_full.get_booster(), height=0.2, ax=ax)"
   ]
  },
  {
   "cell_type": "markdown",
   "id": "72fcf783",
   "metadata": {},
   "source": [
    "# RFE"
   ]
  },
  {
   "cell_type": "code",
   "execution_count": 232,
   "id": "e4422f2f",
   "metadata": {},
   "outputs": [],
   "source": [
    "from sklearn.feature_selection import RFE\n",
    "from sklearn.feature_selection import RFECV"
   ]
  },
  {
   "cell_type": "code",
   "execution_count": 239,
   "id": "b313e6ae",
   "metadata": {},
   "outputs": [],
   "source": [
    "start = time.time()"
   ]
  },
  {
   "cell_type": "code",
   "execution_count": 240,
   "id": "7d696cbd",
   "metadata": {
    "collapsed": true
   },
   "outputs": [
    {
     "name": "stdout",
     "output_type": "stream",
     "text": [
      "Fitting estimator with 46 features.\n",
      "Fitting estimator with 45 features.\n",
      "Fitting estimator with 44 features.\n",
      "Fitting estimator with 43 features.\n",
      "Fitting estimator with 42 features.\n",
      "Fitting estimator with 41 features.\n",
      "Fitting estimator with 40 features.\n",
      "Fitting estimator with 39 features.\n",
      "Fitting estimator with 38 features.\n",
      "Fitting estimator with 37 features.\n",
      "Fitting estimator with 36 features.\n",
      "Fitting estimator with 35 features.\n",
      "Fitting estimator with 34 features.\n",
      "Fitting estimator with 33 features.\n",
      "Fitting estimator with 32 features.\n",
      "Fitting estimator with 31 features.\n",
      "Fitting estimator with 30 features.\n",
      "Fitting estimator with 29 features.\n"
     ]
    }
   ],
   "source": [
    "clf = XGBClassifier(random_state=0, tree_method='hist', enable_categorical=True)\n",
    "rfecv = RFECV(estimator=clf, step=1, cv=4, scoring='accuracy', n_jobs=5, verbose=2)\n",
    "rfecv = rfecv.fit(X_train, y_train)"
   ]
  },
  {
   "cell_type": "code",
   "execution_count": 241,
   "id": "fa34edc9",
   "metadata": {},
   "outputs": [
    {
     "data": {
      "text/plain": [
       "157.28048825263977"
      ]
     },
     "execution_count": 241,
     "metadata": {},
     "output_type": "execute_result"
    }
   ],
   "source": [
    "time.time() - start"
   ]
  },
  {
   "cell_type": "code",
   "execution_count": 348,
   "id": "8adaa692",
   "metadata": {},
   "outputs": [
    {
     "data": {
      "text/plain": [
       "28"
      ]
     },
     "execution_count": 348,
     "metadata": {},
     "output_type": "execute_result"
    }
   ],
   "source": [
    "rfecv.n_features_\n",
    "# optimal number of features: 28"
   ]
  },
  {
   "cell_type": "markdown",
   "id": "33770f26",
   "metadata": {},
   "source": [
    "## run RFE based on 28 features"
   ]
  },
  {
   "cell_type": "code",
   "execution_count": 349,
   "id": "98baf88c",
   "metadata": {},
   "outputs": [],
   "source": [
    "start = time.time()"
   ]
  },
  {
   "cell_type": "code",
   "execution_count": 350,
   "id": "95cbe9ce",
   "metadata": {},
   "outputs": [],
   "source": [
    "# create the XGBoost model\n",
    "clf = XGBClassifier(random_state=0, tree_method='hist', enable_categorical=True)\n",
    "# create the RFE model and select 10 features\n",
    "rfe = RFE(clf, n_features_to_select=28)\n",
    "rfe = rfe.fit(X_train, y_train)"
   ]
  },
  {
   "cell_type": "code",
   "execution_count": 351,
   "id": "b197b568",
   "metadata": {},
   "outputs": [
    {
     "data": {
      "text/plain": [
       "36.85479211807251"
      ]
     },
     "execution_count": 351,
     "metadata": {},
     "output_type": "execute_result"
    }
   ],
   "source": [
    "time.time() - start"
   ]
  },
  {
   "cell_type": "code",
   "execution_count": 352,
   "id": "e88cca49",
   "metadata": {},
   "outputs": [
    {
     "name": "stdout",
     "output_type": "stream",
     "text": [
      "[ True  True  True  True  True False  True  True  True  True  True  True\n",
      "  True False False  True  True False  True  True  True False  True  True\n",
      "  True  True False False False False False False False False False False\n",
      " False False  True False  True  True  True  True  True  True]\n",
      "[ 1  1  1  1  1  3  1  1  1  1  1  1  1  4  6  1  1  2  1  1  1  5  1  1\n",
      "  1  1  7  8  9 14 13 10 17 18 19 16 11 12  1 15  1  1  1  1  1  1]\n"
     ]
    }
   ],
   "source": [
    "# summarize the selection of the attributes\n",
    "print(rfe.support_)\n",
    "print(rfe.ranking_)"
   ]
  },
  {
   "cell_type": "code",
   "execution_count": 353,
   "id": "55e6cbd4",
   "metadata": {},
   "outputs": [],
   "source": [
    "features_selected = np.array(X_col_full)[rfe.support_]"
   ]
  },
  {
   "cell_type": "code",
   "execution_count": 354,
   "id": "fb0e0ded",
   "metadata": {},
   "outputs": [
    {
     "data": {
      "text/plain": [
       "['platoon',\n",
       " 'weather_cond_Rain',\n",
       " 'weather_cond_Drizzle',\n",
       " 'wind_dir_RToL',\n",
       " 'wind_dir_None',\n",
       " 'wind_dir_Calm',\n",
       " 'wind_dir_RToL',\n",
       " 'wind_dir_None',\n",
       " 'wind_dir_Calm',\n",
       " 'roof_cond_RoofClosed']"
      ]
     },
     "execution_count": 354,
     "metadata": {},
     "output_type": "execute_result"
    }
   ],
   "source": [
    "[x for x in X_col_full if x not in features_selected]"
   ]
  },
  {
   "cell_type": "code",
   "execution_count": 355,
   "id": "1b1898b8",
   "metadata": {},
   "outputs": [],
   "source": [
    "X_train = train_df[features_selected].values\n",
    "X_test = test_df[features_selected].values"
   ]
  },
  {
   "cell_type": "code",
   "execution_count": 356,
   "id": "6434c910",
   "metadata": {},
   "outputs": [],
   "source": [
    "start = time.time()"
   ]
  },
  {
   "cell_type": "code",
   "execution_count": 357,
   "id": "0df79fe9",
   "metadata": {},
   "outputs": [],
   "source": [
    "clf = XGBClassifier(random_state=0, tree_method='hist', enable_categorical=True)\n",
    "xgb_full = clf.fit(X_train, y_train)"
   ]
  },
  {
   "cell_type": "code",
   "execution_count": 358,
   "id": "af8d0140",
   "metadata": {},
   "outputs": [
    {
     "data": {
      "text/plain": [
       "1.8187079429626465"
      ]
     },
     "execution_count": 358,
     "metadata": {},
     "output_type": "execute_result"
    }
   ],
   "source": [
    "time.time() - start"
   ]
  },
  {
   "cell_type": "code",
   "execution_count": 359,
   "id": "7da5a422",
   "metadata": {
    "scrolled": true
   },
   "outputs": [],
   "source": [
    "proba_arr = xgb_full.predict_proba(X_test)\n",
    "proba_arr = main.normalize_P(proba_arr)"
   ]
  },
  {
   "cell_type": "code",
   "execution_count": 361,
   "id": "dc7e75d5",
   "metadata": {},
   "outputs": [
    {
     "data": {
      "text/plain": [
       "0.7020142060924919"
      ]
     },
     "execution_count": 361,
     "metadata": {},
     "output_type": "execute_result"
    }
   ],
   "source": [
    "baseline_weight = 0.89\n",
    "proba_arr_new = baseline_proba_test*baseline_weight + proba_arr*(1-baseline_weight)\n",
    "main.get_brier_score(proba_arr_new, y_test)\n",
    "\n",
    "# bscore: 0.7019216351070303"
   ]
  },
  {
   "cell_type": "code",
   "execution_count": 362,
   "id": "293c77b1",
   "metadata": {
    "scrolled": true
   },
   "outputs": [
    {
     "data": {
      "text/html": [
       "<div>\n",
       "<style scoped>\n",
       "    .dataframe tbody tr th:only-of-type {\n",
       "        vertical-align: middle;\n",
       "    }\n",
       "\n",
       "    .dataframe tbody tr th {\n",
       "        vertical-align: top;\n",
       "    }\n",
       "\n",
       "    .dataframe thead th {\n",
       "        text-align: right;\n",
       "    }\n",
       "</style>\n",
       "<table border=\"1\" class=\"dataframe\">\n",
       "  <thead>\n",
       "    <tr style=\"text-align: right;\">\n",
       "      <th></th>\n",
       "      <th>pa_index</th>\n",
       "      <th>game_year</th>\n",
       "      <th>game_pk</th>\n",
       "      <th>at_bat_number</th>\n",
       "      <th>pitcher</th>\n",
       "      <th>batter</th>\n",
       "      <th>home_team</th>\n",
       "      <th>stand</th>\n",
       "      <th>p_throws</th>\n",
       "      <th>event_type</th>\n",
       "      <th>des</th>\n",
       "      <th>1B</th>\n",
       "      <th>2B</th>\n",
       "      <th>3B</th>\n",
       "      <th>HR</th>\n",
       "      <th>FO</th>\n",
       "      <th>BB</th>\n",
       "      <th>K</th>\n",
       "      <th>other</th>\n",
       "      <th>1B_proba</th>\n",
       "      <th>2B_proba</th>\n",
       "      <th>3B_proba</th>\n",
       "      <th>HR_proba</th>\n",
       "      <th>FO_proba</th>\n",
       "      <th>BB_proba</th>\n",
       "      <th>K_proba</th>\n",
       "      <th>other_proba</th>\n",
       "      <th>weather_cond</th>\n",
       "      <th>temp</th>\n",
       "      <th>ump_id</th>\n",
       "      <th>ump_name</th>\n",
       "      <th>wind_speed</th>\n",
       "      <th>wind_direction</th>\n",
       "      <th>roof_cond</th>\n",
       "      <th>bat_side</th>\n",
       "      <th>condition</th>\n",
       "      <th>1B_pf</th>\n",
       "      <th>2B_pf</th>\n",
       "      <th>3B_pf</th>\n",
       "      <th>HR_pf</th>\n",
       "      <th>BB_pf</th>\n",
       "      <th>K_pf</th>\n",
       "      <th>platoon</th>\n",
       "      <th>sprint_speed</th>\n",
       "      <th>weather_cond_Clear</th>\n",
       "      <th>weather_cond_Cloudy</th>\n",
       "      <th>weather_cond_Dome</th>\n",
       "      <th>weather_cond_Drizzle</th>\n",
       "      <th>weather_cond_Overcast</th>\n",
       "      <th>weather_cond_PartlyCloudy</th>\n",
       "      <th>weather_cond_Rain</th>\n",
       "      <th>weather_cond_RoofClosed</th>\n",
       "      <th>weather_cond_Sunny</th>\n",
       "      <th>wind_dir_Calm</th>\n",
       "      <th>wind_dir_InFromCF</th>\n",
       "      <th>wind_dir_InFromLF</th>\n",
       "      <th>wind_dir_InFromRF</th>\n",
       "      <th>wind_dir_LToR</th>\n",
       "      <th>wind_dir_None</th>\n",
       "      <th>wind_dir_OutToCF</th>\n",
       "      <th>wind_dir_OutToLF</th>\n",
       "      <th>wind_dir_OutToRF</th>\n",
       "      <th>wind_dir_RToL</th>\n",
       "      <th>wind_dir_Varies</th>\n",
       "      <th>roof_cond_OpenAir</th>\n",
       "      <th>roof_cond_RoofClosed</th>\n",
       "    </tr>\n",
       "  </thead>\n",
       "  <tbody>\n",
       "    <tr>\n",
       "      <th>0</th>\n",
       "      <td>0</td>\n",
       "      <td>2019</td>\n",
       "      <td>564734</td>\n",
       "      <td>1</td>\n",
       "      <td>518774</td>\n",
       "      <td>425783</td>\n",
       "      <td>LAA</td>\n",
       "      <td>L</td>\n",
       "      <td>R</td>\n",
       "      <td>BB</td>\n",
       "      <td>Shin-Soo Choo hit by pitch.</td>\n",
       "      <td>0</td>\n",
       "      <td>0</td>\n",
       "      <td>0</td>\n",
       "      <td>0</td>\n",
       "      <td>0</td>\n",
       "      <td>1</td>\n",
       "      <td>0</td>\n",
       "      <td>0</td>\n",
       "      <td>0.151462</td>\n",
       "      <td>0.042527</td>\n",
       "      <td>0.002745</td>\n",
       "      <td>0.034862</td>\n",
       "      <td>0.433322</td>\n",
       "      <td>0.117495</td>\n",
       "      <td>0.215581</td>\n",
       "      <td>0.002005</td>\n",
       "      <td>weather_cond_Overcast</td>\n",
       "      <td>61</td>\n",
       "      <td>482663</td>\n",
       "      <td>David Rackley</td>\n",
       "      <td>6</td>\n",
       "      <td>wind_dir_OutToLF</td>\n",
       "      <td>roof_cond_OpenAir</td>\n",
       "      <td>L</td>\n",
       "      <td>OpenAir</td>\n",
       "      <td>95.0</td>\n",
       "      <td>79.0</td>\n",
       "      <td>95.0</td>\n",
       "      <td>117.0</td>\n",
       "      <td>100.0</td>\n",
       "      <td>103.0</td>\n",
       "      <td>True</td>\n",
       "      <td>26.6</td>\n",
       "      <td>0</td>\n",
       "      <td>0</td>\n",
       "      <td>0</td>\n",
       "      <td>0</td>\n",
       "      <td>1</td>\n",
       "      <td>0</td>\n",
       "      <td>0</td>\n",
       "      <td>0</td>\n",
       "      <td>0</td>\n",
       "      <td>0</td>\n",
       "      <td>0</td>\n",
       "      <td>0</td>\n",
       "      <td>0</td>\n",
       "      <td>0</td>\n",
       "      <td>0</td>\n",
       "      <td>0</td>\n",
       "      <td>1</td>\n",
       "      <td>0</td>\n",
       "      <td>0</td>\n",
       "      <td>0</td>\n",
       "      <td>1</td>\n",
       "      <td>0</td>\n",
       "    </tr>\n",
       "    <tr>\n",
       "      <th>1</th>\n",
       "      <td>1</td>\n",
       "      <td>2019</td>\n",
       "      <td>564734</td>\n",
       "      <td>2</td>\n",
       "      <td>518774</td>\n",
       "      <td>596059</td>\n",
       "      <td>LAA</td>\n",
       "      <td>L</td>\n",
       "      <td>R</td>\n",
       "      <td>K</td>\n",
       "      <td>Rougned Odor strikes out swinging.</td>\n",
       "      <td>0</td>\n",
       "      <td>0</td>\n",
       "      <td>0</td>\n",
       "      <td>0</td>\n",
       "      <td>0</td>\n",
       "      <td>0</td>\n",
       "      <td>1</td>\n",
       "      <td>0</td>\n",
       "      <td>0.145903</td>\n",
       "      <td>0.043049</td>\n",
       "      <td>0.005270</td>\n",
       "      <td>0.038165</td>\n",
       "      <td>0.468883</td>\n",
       "      <td>0.077595</td>\n",
       "      <td>0.219063</td>\n",
       "      <td>0.002071</td>\n",
       "      <td>weather_cond_Overcast</td>\n",
       "      <td>61</td>\n",
       "      <td>482663</td>\n",
       "      <td>David Rackley</td>\n",
       "      <td>6</td>\n",
       "      <td>wind_dir_OutToLF</td>\n",
       "      <td>roof_cond_OpenAir</td>\n",
       "      <td>L</td>\n",
       "      <td>OpenAir</td>\n",
       "      <td>95.0</td>\n",
       "      <td>79.0</td>\n",
       "      <td>95.0</td>\n",
       "      <td>117.0</td>\n",
       "      <td>100.0</td>\n",
       "      <td>103.0</td>\n",
       "      <td>True</td>\n",
       "      <td>27.9</td>\n",
       "      <td>0</td>\n",
       "      <td>0</td>\n",
       "      <td>0</td>\n",
       "      <td>0</td>\n",
       "      <td>1</td>\n",
       "      <td>0</td>\n",
       "      <td>0</td>\n",
       "      <td>0</td>\n",
       "      <td>0</td>\n",
       "      <td>0</td>\n",
       "      <td>0</td>\n",
       "      <td>0</td>\n",
       "      <td>0</td>\n",
       "      <td>0</td>\n",
       "      <td>0</td>\n",
       "      <td>0</td>\n",
       "      <td>1</td>\n",
       "      <td>0</td>\n",
       "      <td>0</td>\n",
       "      <td>0</td>\n",
       "      <td>1</td>\n",
       "      <td>0</td>\n",
       "    </tr>\n",
       "    <tr>\n",
       "      <th>2</th>\n",
       "      <td>2</td>\n",
       "      <td>2019</td>\n",
       "      <td>564734</td>\n",
       "      <td>3</td>\n",
       "      <td>518774</td>\n",
       "      <td>462101</td>\n",
       "      <td>LAA</td>\n",
       "      <td>R</td>\n",
       "      <td>R</td>\n",
       "      <td>1B</td>\n",
       "      <td>Elvis Andrus singles on a line drive to right ...</td>\n",
       "      <td>1</td>\n",
       "      <td>0</td>\n",
       "      <td>0</td>\n",
       "      <td>0</td>\n",
       "      <td>0</td>\n",
       "      <td>0</td>\n",
       "      <td>0</td>\n",
       "      <td>0</td>\n",
       "      <td>0.167873</td>\n",
       "      <td>0.048945</td>\n",
       "      <td>0.006373</td>\n",
       "      <td>0.023627</td>\n",
       "      <td>0.518301</td>\n",
       "      <td>0.072414</td>\n",
       "      <td>0.161688</td>\n",
       "      <td>0.000779</td>\n",
       "      <td>weather_cond_Overcast</td>\n",
       "      <td>61</td>\n",
       "      <td>482663</td>\n",
       "      <td>David Rackley</td>\n",
       "      <td>6</td>\n",
       "      <td>wind_dir_OutToLF</td>\n",
       "      <td>roof_cond_OpenAir</td>\n",
       "      <td>R</td>\n",
       "      <td>OpenAir</td>\n",
       "      <td>101.0</td>\n",
       "      <td>109.0</td>\n",
       "      <td>79.0</td>\n",
       "      <td>90.0</td>\n",
       "      <td>101.0</td>\n",
       "      <td>106.0</td>\n",
       "      <td>False</td>\n",
       "      <td>26.6</td>\n",
       "      <td>0</td>\n",
       "      <td>0</td>\n",
       "      <td>0</td>\n",
       "      <td>0</td>\n",
       "      <td>1</td>\n",
       "      <td>0</td>\n",
       "      <td>0</td>\n",
       "      <td>0</td>\n",
       "      <td>0</td>\n",
       "      <td>0</td>\n",
       "      <td>0</td>\n",
       "      <td>0</td>\n",
       "      <td>0</td>\n",
       "      <td>0</td>\n",
       "      <td>0</td>\n",
       "      <td>0</td>\n",
       "      <td>1</td>\n",
       "      <td>0</td>\n",
       "      <td>0</td>\n",
       "      <td>0</td>\n",
       "      <td>1</td>\n",
       "      <td>0</td>\n",
       "    </tr>\n",
       "    <tr>\n",
       "      <th>3</th>\n",
       "      <td>3</td>\n",
       "      <td>2019</td>\n",
       "      <td>564734</td>\n",
       "      <td>4</td>\n",
       "      <td>518774</td>\n",
       "      <td>608336</td>\n",
       "      <td>LAA</td>\n",
       "      <td>L</td>\n",
       "      <td>R</td>\n",
       "      <td>HR</td>\n",
       "      <td>Joey Gallo homers (2) on a fly ball to center ...</td>\n",
       "      <td>0</td>\n",
       "      <td>0</td>\n",
       "      <td>0</td>\n",
       "      <td>1</td>\n",
       "      <td>0</td>\n",
       "      <td>0</td>\n",
       "      <td>0</td>\n",
       "      <td>0</td>\n",
       "      <td>0.101731</td>\n",
       "      <td>0.040880</td>\n",
       "      <td>0.003790</td>\n",
       "      <td>0.058282</td>\n",
       "      <td>0.380076</td>\n",
       "      <td>0.109429</td>\n",
       "      <td>0.304930</td>\n",
       "      <td>0.000883</td>\n",
       "      <td>weather_cond_Overcast</td>\n",
       "      <td>61</td>\n",
       "      <td>482663</td>\n",
       "      <td>David Rackley</td>\n",
       "      <td>6</td>\n",
       "      <td>wind_dir_OutToLF</td>\n",
       "      <td>roof_cond_OpenAir</td>\n",
       "      <td>L</td>\n",
       "      <td>OpenAir</td>\n",
       "      <td>95.0</td>\n",
       "      <td>79.0</td>\n",
       "      <td>95.0</td>\n",
       "      <td>117.0</td>\n",
       "      <td>100.0</td>\n",
       "      <td>103.0</td>\n",
       "      <td>True</td>\n",
       "      <td>27.8</td>\n",
       "      <td>0</td>\n",
       "      <td>0</td>\n",
       "      <td>0</td>\n",
       "      <td>0</td>\n",
       "      <td>1</td>\n",
       "      <td>0</td>\n",
       "      <td>0</td>\n",
       "      <td>0</td>\n",
       "      <td>0</td>\n",
       "      <td>0</td>\n",
       "      <td>0</td>\n",
       "      <td>0</td>\n",
       "      <td>0</td>\n",
       "      <td>0</td>\n",
       "      <td>0</td>\n",
       "      <td>0</td>\n",
       "      <td>1</td>\n",
       "      <td>0</td>\n",
       "      <td>0</td>\n",
       "      <td>0</td>\n",
       "      <td>1</td>\n",
       "      <td>0</td>\n",
       "    </tr>\n",
       "    <tr>\n",
       "      <th>4</th>\n",
       "      <td>4</td>\n",
       "      <td>2019</td>\n",
       "      <td>564734</td>\n",
       "      <td>5</td>\n",
       "      <td>518774</td>\n",
       "      <td>452678</td>\n",
       "      <td>LAA</td>\n",
       "      <td>L</td>\n",
       "      <td>R</td>\n",
       "      <td>BB</td>\n",
       "      <td>Asdrubal Cabrera walks.</td>\n",
       "      <td>0</td>\n",
       "      <td>0</td>\n",
       "      <td>0</td>\n",
       "      <td>0</td>\n",
       "      <td>0</td>\n",
       "      <td>1</td>\n",
       "      <td>0</td>\n",
       "      <td>0</td>\n",
       "      <td>0.151455</td>\n",
       "      <td>0.054413</td>\n",
       "      <td>0.003026</td>\n",
       "      <td>0.036548</td>\n",
       "      <td>0.484045</td>\n",
       "      <td>0.076387</td>\n",
       "      <td>0.191026</td>\n",
       "      <td>0.003100</td>\n",
       "      <td>weather_cond_Overcast</td>\n",
       "      <td>61</td>\n",
       "      <td>482663</td>\n",
       "      <td>David Rackley</td>\n",
       "      <td>6</td>\n",
       "      <td>wind_dir_OutToLF</td>\n",
       "      <td>roof_cond_OpenAir</td>\n",
       "      <td>L</td>\n",
       "      <td>OpenAir</td>\n",
       "      <td>95.0</td>\n",
       "      <td>79.0</td>\n",
       "      <td>95.0</td>\n",
       "      <td>117.0</td>\n",
       "      <td>100.0</td>\n",
       "      <td>103.0</td>\n",
       "      <td>True</td>\n",
       "      <td>25.4</td>\n",
       "      <td>0</td>\n",
       "      <td>0</td>\n",
       "      <td>0</td>\n",
       "      <td>0</td>\n",
       "      <td>1</td>\n",
       "      <td>0</td>\n",
       "      <td>0</td>\n",
       "      <td>0</td>\n",
       "      <td>0</td>\n",
       "      <td>0</td>\n",
       "      <td>0</td>\n",
       "      <td>0</td>\n",
       "      <td>0</td>\n",
       "      <td>0</td>\n",
       "      <td>0</td>\n",
       "      <td>0</td>\n",
       "      <td>1</td>\n",
       "      <td>0</td>\n",
       "      <td>0</td>\n",
       "      <td>0</td>\n",
       "      <td>1</td>\n",
       "      <td>0</td>\n",
       "    </tr>\n",
       "    <tr>\n",
       "      <th>...</th>\n",
       "      <td>...</td>\n",
       "      <td>...</td>\n",
       "      <td>...</td>\n",
       "      <td>...</td>\n",
       "      <td>...</td>\n",
       "      <td>...</td>\n",
       "      <td>...</td>\n",
       "      <td>...</td>\n",
       "      <td>...</td>\n",
       "      <td>...</td>\n",
       "      <td>...</td>\n",
       "      <td>...</td>\n",
       "      <td>...</td>\n",
       "      <td>...</td>\n",
       "      <td>...</td>\n",
       "      <td>...</td>\n",
       "      <td>...</td>\n",
       "      <td>...</td>\n",
       "      <td>...</td>\n",
       "      <td>...</td>\n",
       "      <td>...</td>\n",
       "      <td>...</td>\n",
       "      <td>...</td>\n",
       "      <td>...</td>\n",
       "      <td>...</td>\n",
       "      <td>...</td>\n",
       "      <td>...</td>\n",
       "      <td>...</td>\n",
       "      <td>...</td>\n",
       "      <td>...</td>\n",
       "      <td>...</td>\n",
       "      <td>...</td>\n",
       "      <td>...</td>\n",
       "      <td>...</td>\n",
       "      <td>...</td>\n",
       "      <td>...</td>\n",
       "      <td>...</td>\n",
       "      <td>...</td>\n",
       "      <td>...</td>\n",
       "      <td>...</td>\n",
       "      <td>...</td>\n",
       "      <td>...</td>\n",
       "      <td>...</td>\n",
       "      <td>...</td>\n",
       "      <td>...</td>\n",
       "      <td>...</td>\n",
       "      <td>...</td>\n",
       "      <td>...</td>\n",
       "      <td>...</td>\n",
       "      <td>...</td>\n",
       "      <td>...</td>\n",
       "      <td>...</td>\n",
       "      <td>...</td>\n",
       "      <td>...</td>\n",
       "      <td>...</td>\n",
       "      <td>...</td>\n",
       "      <td>...</td>\n",
       "      <td>...</td>\n",
       "      <td>...</td>\n",
       "      <td>...</td>\n",
       "      <td>...</td>\n",
       "      <td>...</td>\n",
       "      <td>...</td>\n",
       "      <td>...</td>\n",
       "      <td>...</td>\n",
       "      <td>...</td>\n",
       "    </tr>\n",
       "    <tr>\n",
       "      <th>83656</th>\n",
       "      <td>83656</td>\n",
       "      <td>2019</td>\n",
       "      <td>567632</td>\n",
       "      <td>41</td>\n",
       "      <td>593140</td>\n",
       "      <td>519346</td>\n",
       "      <td>MIL</td>\n",
       "      <td>L</td>\n",
       "      <td>R</td>\n",
       "      <td>HR</td>\n",
       "      <td>Eric Thames homers (23) on a fly ball to cente...</td>\n",
       "      <td>0</td>\n",
       "      <td>0</td>\n",
       "      <td>0</td>\n",
       "      <td>1</td>\n",
       "      <td>0</td>\n",
       "      <td>0</td>\n",
       "      <td>0</td>\n",
       "      <td>0</td>\n",
       "      <td>0.106673</td>\n",
       "      <td>0.044095</td>\n",
       "      <td>0.008567</td>\n",
       "      <td>0.048761</td>\n",
       "      <td>0.357216</td>\n",
       "      <td>0.111985</td>\n",
       "      <td>0.320575</td>\n",
       "      <td>0.002129</td>\n",
       "      <td>weather_cond_RoofClosed</td>\n",
       "      <td>77</td>\n",
       "      <td>427113</td>\n",
       "      <td>Laz Diaz</td>\n",
       "      <td>0</td>\n",
       "      <td>wind_dir_None</td>\n",
       "      <td>roof_cond_RoofClosed</td>\n",
       "      <td>L</td>\n",
       "      <td>RoofClosed</td>\n",
       "      <td>101.0</td>\n",
       "      <td>84.0</td>\n",
       "      <td>72.0</td>\n",
       "      <td>107.0</td>\n",
       "      <td>116.0</td>\n",
       "      <td>103.0</td>\n",
       "      <td>True</td>\n",
       "      <td>26.7</td>\n",
       "      <td>0</td>\n",
       "      <td>0</td>\n",
       "      <td>0</td>\n",
       "      <td>0</td>\n",
       "      <td>0</td>\n",
       "      <td>0</td>\n",
       "      <td>0</td>\n",
       "      <td>1</td>\n",
       "      <td>0</td>\n",
       "      <td>0</td>\n",
       "      <td>0</td>\n",
       "      <td>0</td>\n",
       "      <td>0</td>\n",
       "      <td>0</td>\n",
       "      <td>1</td>\n",
       "      <td>0</td>\n",
       "      <td>0</td>\n",
       "      <td>0</td>\n",
       "      <td>0</td>\n",
       "      <td>0</td>\n",
       "      <td>0</td>\n",
       "      <td>1</td>\n",
       "    </tr>\n",
       "    <tr>\n",
       "      <th>83657</th>\n",
       "      <td>83657</td>\n",
       "      <td>2019</td>\n",
       "      <td>567632</td>\n",
       "      <td>42</td>\n",
       "      <td>593140</td>\n",
       "      <td>456715</td>\n",
       "      <td>MIL</td>\n",
       "      <td>R</td>\n",
       "      <td>R</td>\n",
       "      <td>BB</td>\n",
       "      <td>Lorenzo Cain walks.</td>\n",
       "      <td>0</td>\n",
       "      <td>0</td>\n",
       "      <td>0</td>\n",
       "      <td>0</td>\n",
       "      <td>0</td>\n",
       "      <td>1</td>\n",
       "      <td>0</td>\n",
       "      <td>0</td>\n",
       "      <td>0.181969</td>\n",
       "      <td>0.046169</td>\n",
       "      <td>0.004775</td>\n",
       "      <td>0.022485</td>\n",
       "      <td>0.435797</td>\n",
       "      <td>0.111114</td>\n",
       "      <td>0.195688</td>\n",
       "      <td>0.002003</td>\n",
       "      <td>weather_cond_RoofClosed</td>\n",
       "      <td>77</td>\n",
       "      <td>427113</td>\n",
       "      <td>Laz Diaz</td>\n",
       "      <td>0</td>\n",
       "      <td>wind_dir_None</td>\n",
       "      <td>roof_cond_RoofClosed</td>\n",
       "      <td>R</td>\n",
       "      <td>RoofClosed</td>\n",
       "      <td>96.0</td>\n",
       "      <td>79.0</td>\n",
       "      <td>61.0</td>\n",
       "      <td>115.0</td>\n",
       "      <td>101.0</td>\n",
       "      <td>119.0</td>\n",
       "      <td>False</td>\n",
       "      <td>27.9</td>\n",
       "      <td>0</td>\n",
       "      <td>0</td>\n",
       "      <td>0</td>\n",
       "      <td>0</td>\n",
       "      <td>0</td>\n",
       "      <td>0</td>\n",
       "      <td>0</td>\n",
       "      <td>1</td>\n",
       "      <td>0</td>\n",
       "      <td>0</td>\n",
       "      <td>0</td>\n",
       "      <td>0</td>\n",
       "      <td>0</td>\n",
       "      <td>0</td>\n",
       "      <td>1</td>\n",
       "      <td>0</td>\n",
       "      <td>0</td>\n",
       "      <td>0</td>\n",
       "      <td>0</td>\n",
       "      <td>0</td>\n",
       "      <td>0</td>\n",
       "      <td>1</td>\n",
       "    </tr>\n",
       "    <tr>\n",
       "      <th>83658</th>\n",
       "      <td>83658</td>\n",
       "      <td>2019</td>\n",
       "      <td>567632</td>\n",
       "      <td>43</td>\n",
       "      <td>593140</td>\n",
       "      <td>592325</td>\n",
       "      <td>MIL</td>\n",
       "      <td>L</td>\n",
       "      <td>R</td>\n",
       "      <td>K</td>\n",
       "      <td>Ben Gamel strikes out swinging.</td>\n",
       "      <td>0</td>\n",
       "      <td>0</td>\n",
       "      <td>0</td>\n",
       "      <td>0</td>\n",
       "      <td>0</td>\n",
       "      <td>0</td>\n",
       "      <td>1</td>\n",
       "      <td>0</td>\n",
       "      <td>0.161027</td>\n",
       "      <td>0.050449</td>\n",
       "      <td>0.010070</td>\n",
       "      <td>0.015037</td>\n",
       "      <td>0.419614</td>\n",
       "      <td>0.106708</td>\n",
       "      <td>0.232275</td>\n",
       "      <td>0.004820</td>\n",
       "      <td>weather_cond_RoofClosed</td>\n",
       "      <td>77</td>\n",
       "      <td>427113</td>\n",
       "      <td>Laz Diaz</td>\n",
       "      <td>0</td>\n",
       "      <td>wind_dir_None</td>\n",
       "      <td>roof_cond_RoofClosed</td>\n",
       "      <td>L</td>\n",
       "      <td>RoofClosed</td>\n",
       "      <td>101.0</td>\n",
       "      <td>84.0</td>\n",
       "      <td>72.0</td>\n",
       "      <td>107.0</td>\n",
       "      <td>116.0</td>\n",
       "      <td>103.0</td>\n",
       "      <td>True</td>\n",
       "      <td>28.1</td>\n",
       "      <td>0</td>\n",
       "      <td>0</td>\n",
       "      <td>0</td>\n",
       "      <td>0</td>\n",
       "      <td>0</td>\n",
       "      <td>0</td>\n",
       "      <td>0</td>\n",
       "      <td>1</td>\n",
       "      <td>0</td>\n",
       "      <td>0</td>\n",
       "      <td>0</td>\n",
       "      <td>0</td>\n",
       "      <td>0</td>\n",
       "      <td>0</td>\n",
       "      <td>1</td>\n",
       "      <td>0</td>\n",
       "      <td>0</td>\n",
       "      <td>0</td>\n",
       "      <td>0</td>\n",
       "      <td>0</td>\n",
       "      <td>0</td>\n",
       "      <td>1</td>\n",
       "    </tr>\n",
       "    <tr>\n",
       "      <th>83659</th>\n",
       "      <td>83659</td>\n",
       "      <td>2019</td>\n",
       "      <td>567632</td>\n",
       "      <td>44</td>\n",
       "      <td>593140</td>\n",
       "      <td>606115</td>\n",
       "      <td>MIL</td>\n",
       "      <td>R</td>\n",
       "      <td>R</td>\n",
       "      <td>FO</td>\n",
       "      <td>Orlando Arcia grounds out, third baseman Erik ...</td>\n",
       "      <td>0</td>\n",
       "      <td>0</td>\n",
       "      <td>0</td>\n",
       "      <td>0</td>\n",
       "      <td>1</td>\n",
       "      <td>0</td>\n",
       "      <td>0</td>\n",
       "      <td>0</td>\n",
       "      <td>0.158929</td>\n",
       "      <td>0.046313</td>\n",
       "      <td>0.003127</td>\n",
       "      <td>0.018793</td>\n",
       "      <td>0.466556</td>\n",
       "      <td>0.065023</td>\n",
       "      <td>0.239936</td>\n",
       "      <td>0.001323</td>\n",
       "      <td>weather_cond_RoofClosed</td>\n",
       "      <td>77</td>\n",
       "      <td>427113</td>\n",
       "      <td>Laz Diaz</td>\n",
       "      <td>0</td>\n",
       "      <td>wind_dir_None</td>\n",
       "      <td>roof_cond_RoofClosed</td>\n",
       "      <td>R</td>\n",
       "      <td>RoofClosed</td>\n",
       "      <td>96.0</td>\n",
       "      <td>79.0</td>\n",
       "      <td>61.0</td>\n",
       "      <td>115.0</td>\n",
       "      <td>101.0</td>\n",
       "      <td>119.0</td>\n",
       "      <td>False</td>\n",
       "      <td>26.3</td>\n",
       "      <td>0</td>\n",
       "      <td>0</td>\n",
       "      <td>0</td>\n",
       "      <td>0</td>\n",
       "      <td>0</td>\n",
       "      <td>0</td>\n",
       "      <td>0</td>\n",
       "      <td>1</td>\n",
       "      <td>0</td>\n",
       "      <td>0</td>\n",
       "      <td>0</td>\n",
       "      <td>0</td>\n",
       "      <td>0</td>\n",
       "      <td>0</td>\n",
       "      <td>1</td>\n",
       "      <td>0</td>\n",
       "      <td>0</td>\n",
       "      <td>0</td>\n",
       "      <td>0</td>\n",
       "      <td>0</td>\n",
       "      <td>0</td>\n",
       "      <td>1</td>\n",
       "    </tr>\n",
       "    <tr>\n",
       "      <th>83660</th>\n",
       "      <td>83660</td>\n",
       "      <td>2019</td>\n",
       "      <td>567632</td>\n",
       "      <td>47</td>\n",
       "      <td>519141</td>\n",
       "      <td>624428</td>\n",
       "      <td>MIL</td>\n",
       "      <td>L</td>\n",
       "      <td>L</td>\n",
       "      <td>FO</td>\n",
       "      <td>Adam Frazier pops out to shortstop Orlando Arcia.</td>\n",
       "      <td>0</td>\n",
       "      <td>0</td>\n",
       "      <td>0</td>\n",
       "      <td>0</td>\n",
       "      <td>1</td>\n",
       "      <td>0</td>\n",
       "      <td>0</td>\n",
       "      <td>0</td>\n",
       "      <td>0.158025</td>\n",
       "      <td>0.057595</td>\n",
       "      <td>0.005956</td>\n",
       "      <td>0.025995</td>\n",
       "      <td>0.485316</td>\n",
       "      <td>0.098909</td>\n",
       "      <td>0.166743</td>\n",
       "      <td>0.001460</td>\n",
       "      <td>weather_cond_RoofClosed</td>\n",
       "      <td>77</td>\n",
       "      <td>427113</td>\n",
       "      <td>Laz Diaz</td>\n",
       "      <td>0</td>\n",
       "      <td>wind_dir_None</td>\n",
       "      <td>roof_cond_RoofClosed</td>\n",
       "      <td>L</td>\n",
       "      <td>RoofClosed</td>\n",
       "      <td>101.0</td>\n",
       "      <td>84.0</td>\n",
       "      <td>72.0</td>\n",
       "      <td>107.0</td>\n",
       "      <td>116.0</td>\n",
       "      <td>103.0</td>\n",
       "      <td>False</td>\n",
       "      <td>27.2</td>\n",
       "      <td>0</td>\n",
       "      <td>0</td>\n",
       "      <td>0</td>\n",
       "      <td>0</td>\n",
       "      <td>0</td>\n",
       "      <td>0</td>\n",
       "      <td>0</td>\n",
       "      <td>1</td>\n",
       "      <td>0</td>\n",
       "      <td>0</td>\n",
       "      <td>0</td>\n",
       "      <td>0</td>\n",
       "      <td>0</td>\n",
       "      <td>0</td>\n",
       "      <td>1</td>\n",
       "      <td>0</td>\n",
       "      <td>0</td>\n",
       "      <td>0</td>\n",
       "      <td>0</td>\n",
       "      <td>0</td>\n",
       "      <td>0</td>\n",
       "      <td>1</td>\n",
       "    </tr>\n",
       "  </tbody>\n",
       "</table>\n",
       "<p>83661 rows × 66 columns</p>\n",
       "</div>"
      ],
      "text/plain": [
       "       pa_index  game_year  game_pk  at_bat_number pitcher  batter home_team  \\\n",
       "0             0       2019   564734              1  518774  425783       LAA   \n",
       "1             1       2019   564734              2  518774  596059       LAA   \n",
       "2             2       2019   564734              3  518774  462101       LAA   \n",
       "3             3       2019   564734              4  518774  608336       LAA   \n",
       "4             4       2019   564734              5  518774  452678       LAA   \n",
       "...         ...        ...      ...            ...     ...     ...       ...   \n",
       "83656     83656       2019   567632             41  593140  519346       MIL   \n",
       "83657     83657       2019   567632             42  593140  456715       MIL   \n",
       "83658     83658       2019   567632             43  593140  592325       MIL   \n",
       "83659     83659       2019   567632             44  593140  606115       MIL   \n",
       "83660     83660       2019   567632             47  519141  624428       MIL   \n",
       "\n",
       "      stand p_throws event_type  \\\n",
       "0         L        R         BB   \n",
       "1         L        R          K   \n",
       "2         R        R         1B   \n",
       "3         L        R         HR   \n",
       "4         L        R         BB   \n",
       "...     ...      ...        ...   \n",
       "83656     L        R         HR   \n",
       "83657     R        R         BB   \n",
       "83658     L        R          K   \n",
       "83659     R        R         FO   \n",
       "83660     L        L         FO   \n",
       "\n",
       "                                                     des  1B  2B  3B  HR  FO  \\\n",
       "0                            Shin-Soo Choo hit by pitch.   0   0   0   0   0   \n",
       "1                     Rougned Odor strikes out swinging.   0   0   0   0   0   \n",
       "2      Elvis Andrus singles on a line drive to right ...   1   0   0   0   0   \n",
       "3      Joey Gallo homers (2) on a fly ball to center ...   0   0   0   1   0   \n",
       "4                                Asdrubal Cabrera walks.   0   0   0   0   0   \n",
       "...                                                  ...  ..  ..  ..  ..  ..   \n",
       "83656  Eric Thames homers (23) on a fly ball to cente...   0   0   0   1   0   \n",
       "83657                                Lorenzo Cain walks.   0   0   0   0   0   \n",
       "83658                    Ben Gamel strikes out swinging.   0   0   0   0   0   \n",
       "83659  Orlando Arcia grounds out, third baseman Erik ...   0   0   0   0   1   \n",
       "83660  Adam Frazier pops out to shortstop Orlando Arcia.   0   0   0   0   1   \n",
       "\n",
       "       BB  K  other  1B_proba  2B_proba  3B_proba  HR_proba  FO_proba  \\\n",
       "0       1  0      0  0.151462  0.042527  0.002745  0.034862  0.433322   \n",
       "1       0  1      0  0.145903  0.043049  0.005270  0.038165  0.468883   \n",
       "2       0  0      0  0.167873  0.048945  0.006373  0.023627  0.518301   \n",
       "3       0  0      0  0.101731  0.040880  0.003790  0.058282  0.380076   \n",
       "4       1  0      0  0.151455  0.054413  0.003026  0.036548  0.484045   \n",
       "...    .. ..    ...       ...       ...       ...       ...       ...   \n",
       "83656   0  0      0  0.106673  0.044095  0.008567  0.048761  0.357216   \n",
       "83657   1  0      0  0.181969  0.046169  0.004775  0.022485  0.435797   \n",
       "83658   0  1      0  0.161027  0.050449  0.010070  0.015037  0.419614   \n",
       "83659   0  0      0  0.158929  0.046313  0.003127  0.018793  0.466556   \n",
       "83660   0  0      0  0.158025  0.057595  0.005956  0.025995  0.485316   \n",
       "\n",
       "       BB_proba   K_proba  other_proba             weather_cond  temp  ump_id  \\\n",
       "0      0.117495  0.215581     0.002005    weather_cond_Overcast    61  482663   \n",
       "1      0.077595  0.219063     0.002071    weather_cond_Overcast    61  482663   \n",
       "2      0.072414  0.161688     0.000779    weather_cond_Overcast    61  482663   \n",
       "3      0.109429  0.304930     0.000883    weather_cond_Overcast    61  482663   \n",
       "4      0.076387  0.191026     0.003100    weather_cond_Overcast    61  482663   \n",
       "...         ...       ...          ...                      ...   ...     ...   \n",
       "83656  0.111985  0.320575     0.002129  weather_cond_RoofClosed    77  427113   \n",
       "83657  0.111114  0.195688     0.002003  weather_cond_RoofClosed    77  427113   \n",
       "83658  0.106708  0.232275     0.004820  weather_cond_RoofClosed    77  427113   \n",
       "83659  0.065023  0.239936     0.001323  weather_cond_RoofClosed    77  427113   \n",
       "83660  0.098909  0.166743     0.001460  weather_cond_RoofClosed    77  427113   \n",
       "\n",
       "            ump_name  wind_speed    wind_direction             roof_cond  \\\n",
       "0      David Rackley           6  wind_dir_OutToLF     roof_cond_OpenAir   \n",
       "1      David Rackley           6  wind_dir_OutToLF     roof_cond_OpenAir   \n",
       "2      David Rackley           6  wind_dir_OutToLF     roof_cond_OpenAir   \n",
       "3      David Rackley           6  wind_dir_OutToLF     roof_cond_OpenAir   \n",
       "4      David Rackley           6  wind_dir_OutToLF     roof_cond_OpenAir   \n",
       "...              ...         ...               ...                   ...   \n",
       "83656       Laz Diaz           0     wind_dir_None  roof_cond_RoofClosed   \n",
       "83657       Laz Diaz           0     wind_dir_None  roof_cond_RoofClosed   \n",
       "83658       Laz Diaz           0     wind_dir_None  roof_cond_RoofClosed   \n",
       "83659       Laz Diaz           0     wind_dir_None  roof_cond_RoofClosed   \n",
       "83660       Laz Diaz           0     wind_dir_None  roof_cond_RoofClosed   \n",
       "\n",
       "      bat_side   condition  1B_pf  2B_pf  3B_pf  HR_pf  BB_pf   K_pf  platoon  \\\n",
       "0            L     OpenAir   95.0   79.0   95.0  117.0  100.0  103.0     True   \n",
       "1            L     OpenAir   95.0   79.0   95.0  117.0  100.0  103.0     True   \n",
       "2            R     OpenAir  101.0  109.0   79.0   90.0  101.0  106.0    False   \n",
       "3            L     OpenAir   95.0   79.0   95.0  117.0  100.0  103.0     True   \n",
       "4            L     OpenAir   95.0   79.0   95.0  117.0  100.0  103.0     True   \n",
       "...        ...         ...    ...    ...    ...    ...    ...    ...      ...   \n",
       "83656        L  RoofClosed  101.0   84.0   72.0  107.0  116.0  103.0     True   \n",
       "83657        R  RoofClosed   96.0   79.0   61.0  115.0  101.0  119.0    False   \n",
       "83658        L  RoofClosed  101.0   84.0   72.0  107.0  116.0  103.0     True   \n",
       "83659        R  RoofClosed   96.0   79.0   61.0  115.0  101.0  119.0    False   \n",
       "83660        L  RoofClosed  101.0   84.0   72.0  107.0  116.0  103.0    False   \n",
       "\n",
       "       sprint_speed  weather_cond_Clear  weather_cond_Cloudy  \\\n",
       "0              26.6                   0                    0   \n",
       "1              27.9                   0                    0   \n",
       "2              26.6                   0                    0   \n",
       "3              27.8                   0                    0   \n",
       "4              25.4                   0                    0   \n",
       "...             ...                 ...                  ...   \n",
       "83656          26.7                   0                    0   \n",
       "83657          27.9                   0                    0   \n",
       "83658          28.1                   0                    0   \n",
       "83659          26.3                   0                    0   \n",
       "83660          27.2                   0                    0   \n",
       "\n",
       "       weather_cond_Dome  weather_cond_Drizzle  weather_cond_Overcast  \\\n",
       "0                      0                     0                      1   \n",
       "1                      0                     0                      1   \n",
       "2                      0                     0                      1   \n",
       "3                      0                     0                      1   \n",
       "4                      0                     0                      1   \n",
       "...                  ...                   ...                    ...   \n",
       "83656                  0                     0                      0   \n",
       "83657                  0                     0                      0   \n",
       "83658                  0                     0                      0   \n",
       "83659                  0                     0                      0   \n",
       "83660                  0                     0                      0   \n",
       "\n",
       "       weather_cond_PartlyCloudy  weather_cond_Rain  weather_cond_RoofClosed  \\\n",
       "0                              0                  0                        0   \n",
       "1                              0                  0                        0   \n",
       "2                              0                  0                        0   \n",
       "3                              0                  0                        0   \n",
       "4                              0                  0                        0   \n",
       "...                          ...                ...                      ...   \n",
       "83656                          0                  0                        1   \n",
       "83657                          0                  0                        1   \n",
       "83658                          0                  0                        1   \n",
       "83659                          0                  0                        1   \n",
       "83660                          0                  0                        1   \n",
       "\n",
       "       weather_cond_Sunny  wind_dir_Calm  wind_dir_InFromCF  \\\n",
       "0                       0              0                  0   \n",
       "1                       0              0                  0   \n",
       "2                       0              0                  0   \n",
       "3                       0              0                  0   \n",
       "4                       0              0                  0   \n",
       "...                   ...            ...                ...   \n",
       "83656                   0              0                  0   \n",
       "83657                   0              0                  0   \n",
       "83658                   0              0                  0   \n",
       "83659                   0              0                  0   \n",
       "83660                   0              0                  0   \n",
       "\n",
       "       wind_dir_InFromLF  wind_dir_InFromRF  wind_dir_LToR  wind_dir_None  \\\n",
       "0                      0                  0              0              0   \n",
       "1                      0                  0              0              0   \n",
       "2                      0                  0              0              0   \n",
       "3                      0                  0              0              0   \n",
       "4                      0                  0              0              0   \n",
       "...                  ...                ...            ...            ...   \n",
       "83656                  0                  0              0              1   \n",
       "83657                  0                  0              0              1   \n",
       "83658                  0                  0              0              1   \n",
       "83659                  0                  0              0              1   \n",
       "83660                  0                  0              0              1   \n",
       "\n",
       "       wind_dir_OutToCF  wind_dir_OutToLF  wind_dir_OutToRF  wind_dir_RToL  \\\n",
       "0                     0                 1                 0              0   \n",
       "1                     0                 1                 0              0   \n",
       "2                     0                 1                 0              0   \n",
       "3                     0                 1                 0              0   \n",
       "4                     0                 1                 0              0   \n",
       "...                 ...               ...               ...            ...   \n",
       "83656                 0                 0                 0              0   \n",
       "83657                 0                 0                 0              0   \n",
       "83658                 0                 0                 0              0   \n",
       "83659                 0                 0                 0              0   \n",
       "83660                 0                 0                 0              0   \n",
       "\n",
       "       wind_dir_Varies  roof_cond_OpenAir  roof_cond_RoofClosed  \n",
       "0                    0                  1                     0  \n",
       "1                    0                  1                     0  \n",
       "2                    0                  1                     0  \n",
       "3                    0                  1                     0  \n",
       "4                    0                  1                     0  \n",
       "...                ...                ...                   ...  \n",
       "83656                0                  0                     1  \n",
       "83657                0                  0                     1  \n",
       "83658                0                  0                     1  \n",
       "83659                0                  0                     1  \n",
       "83660                0                  0                     1  \n",
       "\n",
       "[83661 rows x 66 columns]"
      ]
     },
     "execution_count": 362,
     "metadata": {},
     "output_type": "execute_result"
    }
   ],
   "source": [
    "data_df"
   ]
  },
  {
   "cell_type": "markdown",
   "id": "9fca054a",
   "metadata": {},
   "source": [
    "# Seperated"
   ]
  },
  {
   "cell_type": "code",
   "execution_count": 375,
   "id": "4212bbc4",
   "metadata": {},
   "outputs": [],
   "source": [
    "data_seperated_df = pd.read_csv('data/PA_data_19_seperated.csv', index_col=[0])"
   ]
  },
  {
   "cell_type": "code",
   "execution_count": 376,
   "id": "7256bd73",
   "metadata": {},
   "outputs": [
    {
     "name": "stdout",
     "output_type": "stream",
     "text": [
      "train size: (50196, 42)\n",
      "val size: (16732, 42)\n",
      "test size: (16733, 42)\n"
     ]
    }
   ],
   "source": [
    "train_val_df, test_df = train_test_split(data_seperated_df, test_size=0.2, random_state=0, shuffle=True)\n",
    "train_df, val_df = train_test_split(train_val_df, test_size=0.25, random_state=0, shuffle=True)\n",
    "print(f\"train size: {train_df.shape}\")\n",
    "print(f\"val size: {val_df.shape}\")\n",
    "print(f\"test size: {test_df.shape}\")"
   ]
  },
  {
   "cell_type": "code",
   "execution_count": 381,
   "id": "dc4aeead",
   "metadata": {},
   "outputs": [],
   "source": [
    "P_PROBA_LIST = [p + '_p' for p in main.PROBA_LIST]\n",
    "B_PROBA_LIST = [p + '_b' for p in main.PROBA_LIST]"
   ]
  },
  {
   "cell_type": "code",
   "execution_count": 386,
   "id": "fcb19768",
   "metadata": {},
   "outputs": [],
   "source": [
    "X_train = train_df[P_PROBA_LIST + B_PROBA_LIST].values\n",
    "X_test = test_df[P_PROBA_LIST + B_PROBA_LIST].values"
   ]
  },
  {
   "cell_type": "code",
   "execution_count": 387,
   "id": "f5e673ef",
   "metadata": {},
   "outputs": [],
   "source": [
    "clf = XGBClassifier(random_state=0, tree_method='hist', enable_categorical=True)\n",
    "xgb_full = clf.fit(X_train, y_train)"
   ]
  },
  {
   "cell_type": "code",
   "execution_count": 388,
   "id": "a082646d",
   "metadata": {},
   "outputs": [],
   "source": [
    "proba_arr = xgb_full.predict_proba(X_test)\n",
    "proba_arr = main.normalize_P(proba_arr)"
   ]
  },
  {
   "cell_type": "code",
   "execution_count": 390,
   "id": "2b3d2ff5",
   "metadata": {
    "scrolled": true
   },
   "outputs": [
    {
     "data": {
      "text/plain": [
       "0.7335457246631587"
      ]
     },
     "execution_count": 390,
     "metadata": {},
     "output_type": "execute_result"
    }
   ],
   "source": [
    "main.get_brier_score(y_test, proba_arr)"
   ]
  },
  {
   "cell_type": "markdown",
   "id": "cbc580dd",
   "metadata": {},
   "source": [
    "# Use 15-19 data"
   ]
  },
  {
   "cell_type": "code",
   "execution_count": 755,
   "id": "d1ceac3f",
   "metadata": {},
   "outputs": [],
   "source": [
    "T_batters_dict_weighted = joblib.load('data/T/T_batters_dict_1518_weighted')\n",
    "T_pitchers_dict_weighted = joblib.load('data/T/T_pitchers_dict_1518_weighted')\n",
    "\n",
    "batters_quali_list = list(T_batters_dict_weighted.keys())\n",
    "pitchers_quali_list = list(T_pitchers_dict_weighted.keys())"
   ]
  },
  {
   "cell_type": "code",
   "execution_count": 756,
   "id": "f1d7e65d",
   "metadata": {},
   "outputs": [
    {
     "data": {
      "text/plain": [
       "491"
      ]
     },
     "execution_count": 756,
     "metadata": {},
     "output_type": "execute_result"
    }
   ],
   "source": [
    "len(batters_quali_list)"
   ]
  },
  {
   "cell_type": "code",
   "execution_count": 757,
   "id": "fcabaebf",
   "metadata": {},
   "outputs": [
    {
     "data": {
      "text/plain": [
       "487"
      ]
     },
     "execution_count": 757,
     "metadata": {},
     "output_type": "execute_result"
    }
   ],
   "source": [
    "len(pitchers_quali_list)"
   ]
  },
  {
   "cell_type": "code",
   "execution_count": 758,
   "id": "71a20292",
   "metadata": {},
   "outputs": [],
   "source": [
    "data_df = pd.read_csv('data/PA_data_merged_15-19_012323.csv', index_col=[0])\n",
    "test_df = pd.read_csv('data/PA_data_merged_19_weighted_012223.csv', index_col=[0])\n",
    "data_df = process_df(data_df, batter_list = batters_quali_list, pitcher_list = pitchers_quali_list)\n",
    "test_df = process_df(test_df, batter_list = batters_quali_list, pitcher_list = pitchers_quali_list)"
   ]
  },
  {
   "cell_type": "code",
   "execution_count": 759,
   "id": "40d765ea",
   "metadata": {},
   "outputs": [],
   "source": [
    "train_val_df = data_df[data_df['game_year'].isin([2015, 2016, 2017, 2018])].copy()"
   ]
  },
  {
   "cell_type": "code",
   "execution_count": 760,
   "id": "900c7931",
   "metadata": {},
   "outputs": [],
   "source": [
    "train_df, val_df = train_test_split(train_val_df, test_size=0.25, random_state=0, shuffle=True)"
   ]
  },
  {
   "cell_type": "code",
   "execution_count": 761,
   "id": "e9228aca",
   "metadata": {},
   "outputs": [
    {
     "name": "stdout",
     "output_type": "stream",
     "text": [
      "train size: 408501, 65%\n",
      "val size: 136168, 22%\n",
      "test size: 83661, 13%\n"
     ]
    }
   ],
   "source": [
    "print(f\"train size: {train_df.shape[0]}, {train_df.shape[0]/data_df.shape[0]:.0%}\")\n",
    "print(f\"val size: {val_df.shape[0]}, {val_df.shape[0]/data_df.shape[0]:.0%}\")\n",
    "print(f\"test size: {test_df.shape[0]}, {test_df.shape[0]/data_df.shape[0]:.0%}\")"
   ]
  },
  {
   "cell_type": "code",
   "execution_count": 762,
   "id": "01616e8e",
   "metadata": {},
   "outputs": [],
   "source": [
    "y_all = data_df[main.EVENT_LIST].values\n",
    "y_train = train_df[main.EVENT_LIST].values\n",
    "y_val = val_df[main.EVENT_LIST].values\n",
    "y_train_val = train_val_df[main.EVENT_LIST].values\n",
    "y_test = test_df[main.EVENT_LIST].values"
   ]
  },
  {
   "cell_type": "code",
   "execution_count": 763,
   "id": "29402a19",
   "metadata": {},
   "outputs": [],
   "source": [
    "baseline_proba_test = test_df[main.PROBA_LIST].values"
   ]
  },
  {
   "cell_type": "code",
   "execution_count": 764,
   "id": "71103a65",
   "metadata": {},
   "outputs": [],
   "source": [
    "X_col_full = ['game_year', 'pitcher', 'batter', 'ump_id', 'temp', 'wind_speed', 'platoon', 'sprint_speed']\\\n",
    "                + list(test_df['weather_cond'].unique()) + list(test_df['wind_direction'].unique())\\\n",
    "                + list(test_df['wind_direction'].unique()) + list(test_df['roof_cond'].unique())\\\n",
    "                + ['1B_pf', '2B_pf', '3B_pf', 'HR_pf', 'BB_pf', 'K_pf']"
   ]
  },
  {
   "cell_type": "code",
   "execution_count": 765,
   "id": "79b2c2f7",
   "metadata": {},
   "outputs": [],
   "source": [
    "X_col = ['pitcher', 'batter', 'ump_id', 'sprint_speed', 'temp', 'wind_speed', '1B_pf', '2B_pf', '3B_pf', 'HR_pf', 'K_pf', 'BB_pf', 'platoon']\n",
    "# X_col = ['pitcher', 'batter', 'ump_id', 'sprint_speed']"
   ]
  },
  {
   "cell_type": "code",
   "execution_count": 766,
   "id": "24ea157e",
   "metadata": {},
   "outputs": [],
   "source": [
    "X_train = train_df[X_col_full].values\n",
    "X_val = val_df[X_col_full].values\n",
    "X_test = test_df[X_col_full].values"
   ]
  },
  {
   "cell_type": "code",
   "execution_count": 767,
   "id": "c3c6bd17",
   "metadata": {},
   "outputs": [],
   "source": [
    "clf = XGBClassifier(random_state=0, tree_method='hist', enable_categorical=True)\n",
    "xgb_full = clf.fit(X_train, y_train)\n",
    "\n"
   ]
  },
  {
   "cell_type": "code",
   "execution_count": 768,
   "id": "2b02af0f",
   "metadata": {},
   "outputs": [],
   "source": [
    "proba_arr = xgb_full.predict_proba(X_test)\n",
    "proba_arr = main.normalize_P(proba_arr)"
   ]
  },
  {
   "cell_type": "code",
   "execution_count": 769,
   "id": "47dede70",
   "metadata": {},
   "outputs": [
    {
     "data": {
      "text/plain": [
       "0.710268794790117"
      ]
     },
     "execution_count": 769,
     "metadata": {},
     "output_type": "execute_result"
    }
   ],
   "source": [
    "# x_col_full\n",
    "main.get_brier_score(test_df[main.EVENT_LIST].values, proba_arr)\n",
    "\n",
    "# b score: 0.6994039277752887"
   ]
  },
  {
   "cell_type": "code",
   "execution_count": 774,
   "id": "f9ff3cca",
   "metadata": {},
   "outputs": [
    {
     "data": {
      "text/plain": [
       "0.7033867122887294"
      ]
     },
     "execution_count": 774,
     "metadata": {},
     "output_type": "execute_result"
    }
   ],
   "source": [
    "baseline_weight = 1\n",
    "proba_arr_new = baseline_proba_test*baseline_weight + proba_arr*(1-baseline_weight)\n",
    "main.get_brier_score(proba_arr_new, y_test)\n",
    "\n",
    "# bscore: 0.7019216351070303"
   ]
  },
  {
   "cell_type": "markdown",
   "id": "e9237275",
   "metadata": {},
   "source": [
    "# testing using val set"
   ]
  },
  {
   "cell_type": "code",
   "execution_count": 690,
   "id": "56f7661c",
   "metadata": {
    "scrolled": true
   },
   "outputs": [
    {
     "data": {
      "application/vnd.jupyter.widget-view+json": {
       "model_id": "b2078f34b42b4bdfba017eb0f5977e38",
       "version_major": 2,
       "version_minor": 0
      },
      "text/plain": [
       "  0%|          | 0/73177 [00:00<?, ?it/s]"
      ]
     },
     "metadata": {},
     "output_type": "display_data"
    }
   ],
   "source": [
    "val_df = main.test_T_dict(val_df, T_batters_dict_weighted, T_pitchers_dict_weighted, p_weight=0.34, _return_arr=False, is_pitch_data=False)"
   ]
  },
  {
   "cell_type": "code",
   "execution_count": 694,
   "id": "ecfebede",
   "metadata": {},
   "outputs": [
    {
     "data": {
      "text/plain": [
       "0.6937892407388198"
      ]
     },
     "execution_count": 694,
     "metadata": {},
     "output_type": "execute_result"
    }
   ],
   "source": [
    "# baseline b score on val\n",
    "main.get_brier_score(val_df[main.EVENT_LIST].values, val_df[main.PROBA_LIST].values)"
   ]
  },
  {
   "cell_type": "code",
   "execution_count": 695,
   "id": "a4b8a20e",
   "metadata": {},
   "outputs": [],
   "source": [
    "baseline_proba_test = val_df[main.PROBA_LIST].values"
   ]
  },
  {
   "cell_type": "code",
   "execution_count": 704,
   "id": "4958e919",
   "metadata": {},
   "outputs": [
    {
     "data": {
      "text/plain": [
       "0.6937892407388198"
      ]
     },
     "execution_count": 704,
     "metadata": {},
     "output_type": "execute_result"
    }
   ],
   "source": [
    "baseline_weight = 1\n",
    "proba_arr_new = baseline_proba_test*baseline_weight + proba_arr*(1-baseline_weight)\n",
    "main.get_brier_score(proba_arr_new, y_val)"
   ]
  },
  {
   "cell_type": "code",
   "execution_count": 705,
   "id": "73a0397b",
   "metadata": {},
   "outputs": [
    {
     "data": {
      "text/plain": [
       "0.6991410850892651"
      ]
     },
     "execution_count": 705,
     "metadata": {},
     "output_type": "execute_result"
    }
   ],
   "source": [
    "main.get_brier_score(proba_arr, y_val)"
   ]
  },
  {
   "cell_type": "markdown",
   "id": "b6dd707b",
   "metadata": {},
   "source": [
    "# CV"
   ]
  },
  {
   "cell_type": "code",
   "execution_count": null,
   "id": "262f44fe",
   "metadata": {},
   "outputs": [],
   "source": [
    "# default parameters\n",
    "# max_depth: 3\n",
    "# learning_rate: 0.1\n",
    "# n_estimators: 100\n",
    "# subsample: 1\n",
    "# colsample_bytree: 1\n",
    "# reg_alpha: 0\n",
    "# reg_lambda: 1"
   ]
  },
  {
   "cell_type": "code",
   "execution_count": 731,
   "id": "2b4b12be",
   "metadata": {},
   "outputs": [],
   "source": [
    "start = time.time()"
   ]
  },
  {
   "cell_type": "code",
   "execution_count": 732,
   "id": "db78eb7b",
   "metadata": {},
   "outputs": [
    {
     "name": "stdout",
     "output_type": "stream",
     "text": [
      "Fitting 5 folds for each of 72 candidates, totalling 360 fits\n"
     ]
    }
   ],
   "source": [
    "clf = XGBClassifier(random_state=0, tree_method='hist', enable_categorical=True)\n",
    "param_grid =  {'n_estimators': [150, 250], \n",
    "              'max_depth': [6, 8],\n",
    "              'learning_rate': [0.1, 0.5, 0.05],\n",
    "              'colsample_bytree': [1, 0.8, 0.5],\n",
    "              'subsample': [1, 0.5]}\n",
    "                                  \n",
    "xgb_full = GridSearchCV(clf, param_grid, cv=5, verbose=1, n_jobs=5)\n",
    "best_xgb_full = xgb_full.fit(X_train, y_train)"
   ]
  },
  {
   "cell_type": "code",
   "execution_count": 733,
   "id": "491efef1",
   "metadata": {},
   "outputs": [
    {
     "data": {
      "text/plain": [
       "5612.713330984116"
      ]
     },
     "execution_count": 733,
     "metadata": {},
     "output_type": "execute_result"
    }
   ],
   "source": [
    "time.time() - start"
   ]
  },
  {
   "cell_type": "code",
   "execution_count": 734,
   "id": "1875e852",
   "metadata": {},
   "outputs": [
    {
     "data": {
      "text/plain": [
       "0.7579494332373805"
      ]
     },
     "execution_count": 734,
     "metadata": {},
     "output_type": "execute_result"
    }
   ],
   "source": [
    "proba_arr = xgb_full.predict_proba(X_val)\n",
    "proba_arr = main.normalize_P(proba_arr)\n",
    "main.get_brier_score(val_df[main.EVENT_LIST].values, proba_arr)"
   ]
  },
  {
   "cell_type": "code",
   "execution_count": 739,
   "id": "6d9e173e",
   "metadata": {
    "scrolled": true
   },
   "outputs": [
    {
     "data": {
      "text/plain": [
       "0.7027197051015283"
      ]
     },
     "execution_count": 739,
     "metadata": {},
     "output_type": "execute_result"
    }
   ],
   "source": [
    "baseline_weight = 0.6\n",
    "proba_arr_new = baseline_proba_test*baseline_weight + proba_arr*(1-baseline_weight)\n",
    "main.get_brier_score(proba_arr_new, y_val)"
   ]
  },
  {
   "cell_type": "code",
   "execution_count": 743,
   "id": "919bcf69",
   "metadata": {},
   "outputs": [
    {
     "name": "stdout",
     "output_type": "stream",
     "text": [
      "Help on function test_T_dict in module main:\n",
      "\n",
      "test_T_dict(test_df, batter_dict, pitcher_dict, p_weight=0.5, _return_arr=False, is_pitch_data=True) -> pandas.core.frame.DataFrame\n",
      "\n"
     ]
    }
   ],
   "source": [
    "help(main.test_T_dict)"
   ]
  },
  {
   "cell_type": "code",
   "execution_count": 745,
   "id": "5a5c4a73",
   "metadata": {},
   "outputs": [
    {
     "data": {
      "application/vnd.jupyter.widget-view+json": {
       "model_id": "aad17e35d9c3453bb077d33407955cf8",
       "version_major": 2,
       "version_minor": 0
      },
      "text/plain": [
       "  0%|          | 0/31448 [00:00<?, ?it/s]"
      ]
     },
     "metadata": {},
     "output_type": "display_data"
    }
   ],
   "source": [
    "ok_df = main.test_T_dict(test_df, T_batters_dict_old, T_pitchers_dict_old, p_weight=0.5, is_pitch_data=False)"
   ]
  },
  {
   "cell_type": "code",
   "execution_count": 747,
   "id": "8187f59a",
   "metadata": {
    "collapsed": true
   },
   "outputs": [
    {
     "ename": "ValueError",
     "evalue": "operands could not be broadcast together with shapes (83661,8) (83661,16) ",
     "output_type": "error",
     "traceback": [
      "\u001b[0;31m---------------------------------------------------------------------------\u001b[0m",
      "\u001b[0;31mValueError\u001b[0m                                Traceback (most recent call last)",
      "\u001b[0;32m/var/folders/x_/1k47n6n512j4cw0810rgvky40000gn/T/ipykernel_71414/3878858757.py\u001b[0m in \u001b[0;36m<module>\u001b[0;34m\u001b[0m\n\u001b[0;32m----> 1\u001b[0;31m \u001b[0mmain\u001b[0m\u001b[0;34m.\u001b[0m\u001b[0mget_brier_score\u001b[0m\u001b[0;34m(\u001b[0m\u001b[0mok_df\u001b[0m\u001b[0;34m[\u001b[0m\u001b[0mmain\u001b[0m\u001b[0;34m.\u001b[0m\u001b[0mEVENT_LIST\u001b[0m\u001b[0;34m]\u001b[0m\u001b[0;34m.\u001b[0m\u001b[0mvalues\u001b[0m\u001b[0;34m,\u001b[0m \u001b[0mok_df\u001b[0m\u001b[0;34m[\u001b[0m\u001b[0mmain\u001b[0m\u001b[0;34m.\u001b[0m\u001b[0mPROBA_LIST\u001b[0m\u001b[0;34m]\u001b[0m\u001b[0;34m.\u001b[0m\u001b[0mvalues\u001b[0m\u001b[0;34m)\u001b[0m\u001b[0;34m\u001b[0m\u001b[0;34m\u001b[0m\u001b[0m\n\u001b[0m",
      "\u001b[0;32m~/Desktop/txt/sports/baseball-sim/PA/main.py\u001b[0m in \u001b[0;36mget_brier_score\u001b[0;34m(y_pred, y_test, multi)\u001b[0m\n\u001b[1;32m     52\u001b[0m \u001b[0;32mdef\u001b[0m \u001b[0mget_brier_score\u001b[0m\u001b[0;34m(\u001b[0m\u001b[0my_pred\u001b[0m\u001b[0;34m,\u001b[0m \u001b[0my_test\u001b[0m\u001b[0;34m,\u001b[0m \u001b[0mmulti\u001b[0m\u001b[0;34m=\u001b[0m\u001b[0;32mTrue\u001b[0m\u001b[0;34m)\u001b[0m\u001b[0;34m:\u001b[0m\u001b[0;34m\u001b[0m\u001b[0;34m\u001b[0m\u001b[0m\n\u001b[1;32m     53\u001b[0m     \u001b[0;32mif\u001b[0m \u001b[0mmulti\u001b[0m\u001b[0;34m:\u001b[0m\u001b[0;34m\u001b[0m\u001b[0;34m\u001b[0m\u001b[0m\n\u001b[0;32m---> 54\u001b[0;31m         \u001b[0;32mreturn\u001b[0m \u001b[0;34m(\u001b[0m\u001b[0;34m(\u001b[0m\u001b[0my_pred\u001b[0m \u001b[0;34m-\u001b[0m \u001b[0my_test\u001b[0m\u001b[0;34m)\u001b[0m\u001b[0;34m**\u001b[0m\u001b[0;36m2\u001b[0m\u001b[0;34m)\u001b[0m\u001b[0;34m.\u001b[0m\u001b[0msum\u001b[0m\u001b[0;34m(\u001b[0m\u001b[0maxis\u001b[0m\u001b[0;34m=\u001b[0m\u001b[0;36m1\u001b[0m\u001b[0;34m)\u001b[0m\u001b[0;34m.\u001b[0m\u001b[0mmean\u001b[0m\u001b[0;34m(\u001b[0m\u001b[0;34m)\u001b[0m\u001b[0;34m\u001b[0m\u001b[0;34m\u001b[0m\u001b[0m\n\u001b[0m\u001b[1;32m     55\u001b[0m     \u001b[0;32melse\u001b[0m\u001b[0;34m:\u001b[0m\u001b[0;34m\u001b[0m\u001b[0;34m\u001b[0m\u001b[0m\n\u001b[1;32m     56\u001b[0m         \u001b[0;32mreturn\u001b[0m \u001b[0;34m(\u001b[0m\u001b[0;34m(\u001b[0m\u001b[0my_pred\u001b[0m \u001b[0;34m-\u001b[0m \u001b[0my_test\u001b[0m\u001b[0;34m)\u001b[0m\u001b[0;34m**\u001b[0m\u001b[0;36m2\u001b[0m\u001b[0;34m)\u001b[0m\u001b[0;34m.\u001b[0m\u001b[0mmean\u001b[0m\u001b[0;34m(\u001b[0m\u001b[0;34m)\u001b[0m\u001b[0;34m\u001b[0m\u001b[0;34m\u001b[0m\u001b[0m\n",
      "\u001b[0;31mValueError\u001b[0m: operands could not be broadcast together with shapes (83661,8) (83661,16) "
     ]
    }
   ],
   "source": [
    "main.get_brier_score(ok_df[main.EVENT_LIST].values, ok_df[main.PROBA_LIST].values)"
   ]
  }
 ],
 "metadata": {
  "kernelspec": {
   "display_name": "Python [conda env:bb_sim]",
   "language": "python",
   "name": "conda-env-bb_sim-py"
  },
  "language_info": {
   "codemirror_mode": {
    "name": "ipython",
    "version": 3
   },
   "file_extension": ".py",
   "mimetype": "text/x-python",
   "name": "python",
   "nbconvert_exporter": "python",
   "pygments_lexer": "ipython3",
   "version": "3.9.13"
  }
 },
 "nbformat": 4,
 "nbformat_minor": 5
}
