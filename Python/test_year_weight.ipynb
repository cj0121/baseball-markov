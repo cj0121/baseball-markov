{
 "cells": [
  {
   "cell_type": "code",
   "execution_count": 2,
   "id": "ff65b0ff",
   "metadata": {
    "id": "ff65b0ff"
   },
   "outputs": [
    {
     "data": {
      "application/javascript": [
       "if (!(\"Notification\" in window)) {\n",
       "    alert(\"This browser does not support desktop notifications, so the %%notify magic will not work.\");\n",
       "} else if (Notification.permission !== 'granted' && Notification.permission !== 'denied') {\n",
       "    Notification.requestPermission(function (permission) {\n",
       "        if(!('permission' in Notification)) {\n",
       "            Notification.permission = permission;\n",
       "        }\n",
       "    })\n",
       "}\n"
      ],
      "text/plain": [
       "<IPython.core.display.Javascript object>"
      ]
     },
     "metadata": {},
     "output_type": "display_data"
    }
   ],
   "source": [
    "%load_ext jupyternotify\n",
    "\n",
    "# import os\n",
    "import pandas as pd\n",
    "import numpy as np\n",
    "import matplotlib.pyplot as plt\n",
    "import seaborn as sns\n",
    "import time\n",
    "import timeit\n",
    "import joblib\n",
    "\n",
    "import main\n",
    "\n",
    "from sklearn.model_selection import train_test_split\n",
    "from tqdm.auto import tqdm\n",
    "# from scipy.stats import *\n",
    "\n",
    "pd.set_option('display.max_columns', None)"
   ]
  },
  {
   "cell_type": "code",
   "execution_count": 2,
   "id": "4546ece4",
   "metadata": {},
   "outputs": [],
   "source": [
    "# pd.set_option('display.max_colwidth', None)\n",
    "\n",
    "pd.set_option('display.float_format', lambda x: '%.5f' % x)\n",
    "np.set_printoptions(suppress=True)"
   ]
  },
  {
   "cell_type": "code",
   "execution_count": 3,
   "id": "3471dc5d",
   "metadata": {},
   "outputs": [
    {
     "data": {
      "text/html": [
       "<style>.container { width:70% !important; }</style>"
      ],
      "text/plain": [
       "<IPython.core.display.HTML object>"
      ]
     },
     "metadata": {},
     "output_type": "display_data"
    }
   ],
   "source": [
    "from IPython.display import display, HTML\n",
    "display(HTML(\"<style>.container { width:70% !important; }</style>\"))"
   ]
  },
  {
   "cell_type": "code",
   "execution_count": 4,
   "id": "0fb634a7",
   "metadata": {},
   "outputs": [],
   "source": [
    "data_df_1522 = pd.read_csv('data/PitchDataCleanedLean_15-22.csv', index_col=[0])"
   ]
  },
  {
   "cell_type": "code",
   "execution_count": 5,
   "id": "84c80252",
   "metadata": {},
   "outputs": [],
   "source": [
    "data_test_df = data_df_1522[data_df_1522['game_year']==2019].copy()"
   ]
  },
  {
   "cell_type": "code",
   "execution_count": 6,
   "id": "135f7278",
   "metadata": {},
   "outputs": [],
   "source": [
    "data_train_df = data_df_1522[data_df_1522['game_year'].isin([2015, 2016, 2017, 2018])].copy()"
   ]
  },
  {
   "cell_type": "code",
   "execution_count": 7,
   "id": "67a8ef88",
   "metadata": {},
   "outputs": [],
   "source": [
    "T_batters_dict_1518_new = joblib.load('data/T/T_batters_dict_1518_new')\n",
    "T_pitchers_dict_1518_new = joblib.load('data/T/T_pitchers_dict_1518_new')"
   ]
  },
  {
   "cell_type": "code",
   "execution_count": 8,
   "id": "0b5b619f",
   "metadata": {},
   "outputs": [],
   "source": [
    "batter_quali_list = list(T_batters_dict_1518_new.keys())\n",
    "pitcher_quali_list = list(T_pitchers_dict_1518_new.keys())"
   ]
  },
  {
   "cell_type": "markdown",
   "id": "8e384b5b",
   "metadata": {},
   "source": [
    "## batter per year pa limit: 70\n",
    "## pitcher per year pa limit: 150"
   ]
  },
  {
   "cell_type": "code",
   "execution_count": null,
   "id": "47a403ef",
   "metadata": {},
   "outputs": [],
   "source": [
    "# player_type = 'batter'\n",
    "# pa_count_df = data_df_1519.groupby(['game_year', player_type, 'game_pk', 'at_bat_number']).agg({'n_count':'first'}).reset_index()\n",
    "# pa_count_by_year = pa_count_df.groupby([player_type, 'game_year']).agg({'n_count':sum}).reset_index()\n",
    "# # pa_count_by_year[pa_count_by_year['game_year']==2015]['n_count'].describe()\n",
    "# # pa_count_by_year[pa_count_by_year['game_year']==2016]['n_count'].describe()\n",
    "# # pa_count_by_year[pa_count_by_year['game_year']==2017]['n_count'].describe()\n",
    "# # pa_count_by_year[pa_count_by_year['game_year']==2018]['n_count'].describe()\n",
    "# # pa_count_by_year[pa_count_by_year['game_year']==2019]['n_count'].describe()\n",
    "\n",
    "# threshold = 30\n",
    "# pa_count_by_year['annual_thresh'] = 0\n",
    "# pa_count_by_year.loc[pa_count_by_year['n_count']>=threshold, 'annual_thresh'] = 1\n",
    "# threshold_df = pa_count_by_year.groupby(player_type).agg({'annual_thresh':sum}).reset_index()\n",
    "\n",
    "# threshold_df[threshold_df['annual_thresh']==5]\n",
    "\n",
    "# data_df = data_df_1518.copy()\n",
    "\n",
    "# overall_treshold = 400\n",
    "# annual_threshold = 70\n",
    "# player_id = 545361\n",
    "# player_df = data_df[data_df['batter']==player_id].copy()"
   ]
  },
  {
   "cell_type": "code",
   "execution_count": null,
   "id": "76532d73",
   "metadata": {},
   "outputs": [],
   "source": []
  },
  {
   "cell_type": "code",
   "execution_count": 9,
   "id": "5650bfd7",
   "metadata": {},
   "outputs": [
    {
     "data": {
      "application/vnd.jupyter.widget-view+json": {
       "model_id": "8985cfb9be28402e938d8a0f2c4cd26e",
       "version_major": 2,
       "version_minor": 0
      },
      "text/plain": [
       "  0%|          | 0/491 [00:00<?, ?it/s]"
      ]
     },
     "metadata": {},
     "output_type": "display_data"
    }
   ],
   "source": [
    "T_batters_weighted_dict = main.get_allplayers_T_weighted(batter_quali_list, data_train_df, is_pitcher=False, weight_func=lambda x:np.log(np.exp(1/(599+x)/np.log(np.exp(1/600)))), cur_year=2018, annual_pa_threshold=70)"
   ]
  },
  {
   "cell_type": "code",
   "execution_count": 10,
   "id": "cbbad650",
   "metadata": {},
   "outputs": [
    {
     "data": {
      "application/vnd.jupyter.widget-view+json": {
       "model_id": "b83fbd1a2ae34a5ba59c177be39655e5",
       "version_major": 2,
       "version_minor": 0
      },
      "text/plain": [
       "  0%|          | 0/487 [00:00<?, ?it/s]"
      ]
     },
     "metadata": {},
     "output_type": "display_data"
    }
   ],
   "source": [
    "T_pitchers_weighted_dict = main.get_allplayers_T_weighted(pitcher_quali_list, data_train_df, is_pitcher=True, weight_func=lambda x:np.log(np.exp(1/(599+x)/np.log(np.exp(1/600)))), cur_year=2018, annual_pa_threshold=150)"
   ]
  },
  {
   "cell_type": "code",
   "execution_count": 125,
   "id": "812767df",
   "metadata": {},
   "outputs": [
    {
     "data": {
      "application/vnd.jupyter.widget-view+json": {
       "model_id": "15b36347dfe9446a81dfd173034a280a",
       "version_major": 2,
       "version_minor": 0
      },
      "text/plain": [
       "  0%|          | 0/31448 [00:00<?, ?it/s]"
      ]
     },
     "metadata": {},
     "output_type": "display_data"
    },
    {
     "data": {
      "text/plain": [
       "0.703643104558753"
      ]
     },
     "execution_count": 125,
     "metadata": {},
     "output_type": "execute_result"
    }
   ],
   "source": [
    "# without year weight\n",
    "\n",
    "pa_df = main.test_T_dict(data_test_df, T_batters_dict_1518_new, T_pitchers_dict_1518_new, batter_quali_list, pitcher_quali_list, p_weight=0.34)\n",
    "\n",
    "main.get_brier_score(pa_df[main.EVENT_LIST].values, pa_df[main.PROBA_LIST].values)"
   ]
  },
  {
   "cell_type": "code",
   "execution_count": 21,
   "id": "356eed69",
   "metadata": {},
   "outputs": [
    {
     "data": {
      "application/vnd.jupyter.widget-view+json": {
       "model_id": "af3e268422df4fefa292ea93555e96e3",
       "version_major": 2,
       "version_minor": 0
      },
      "text/plain": [
       "  0%|          | 0/31448 [00:00<?, ?it/s]"
      ]
     },
     "metadata": {},
     "output_type": "display_data"
    },
    {
     "data": {
      "text/plain": [
       "0.7034832949737069"
      ]
     },
     "execution_count": 21,
     "metadata": {},
     "output_type": "execute_result"
    }
   ],
   "source": [
    "# with year weight\n",
    "\n",
    "pa_df_weighted = main.test_T_dict(data_test_df, T_batters_weighted_dict, T_pitchers_weighted_dict, batter_quali_list, pitcher_quali_list, p_weight=0.34)\n",
    "\n",
    "main.get_brier_score(pa_df_weighted[main.EVENT_LIST].values, pa_df_weighted[main.PROBA_LIST].values)"
   ]
  },
  {
   "cell_type": "code",
   "execution_count": 3,
   "id": "2423280a",
   "metadata": {
    "scrolled": false
   },
   "outputs": [
    {
     "data": {
      "image/png": "[encoded data removed]",
      "text/plain": [
       "<Figure size 500x600 with 1 Axes>"
      ]
     },
     "metadata": {},
     "output_type": "display_data"
    }
   ],
   "source": [
    "x_list = [x for x in range(1000)]\n",
    "y_list = [np.log(np.exp(1/(599+y)/np.log(np.exp(1/600)))) for y in x_list]\n",
    "y_list_2 = [np.log(np.exp(1/(900+y)/np.log(np.exp(1/600)))) for y in x_list]\n",
    "y_list_3 = [np.log(np.exp(1/(1400+y)/np.log(np.exp(1/600)))) for y in x_list]\n",
    "y_list_4 = [np.log(np.exp(1/(450+y)/np.log(np.exp(1/600)))) for y in x_list]\n",
    "y_list_5 = [np.log(np.exp(1/(150+y)/np.log(np.exp(1/600)))) for y in x_list]\n",
    "\n",
    "\n",
    "# sns.lineplot(x=x_list, y=y_list)\n",
    "fig, ax = plt.subplots(figsize=[5, 6])\n",
    "plt.plot(x_list, y_list, c='b')\n",
    "plt.plot(x_list, y_list_2, c='r')\n",
    "plt.plot(x_list, y_list_3, c='g')\n",
    "plt.plot(x_list, y_list_4, c='y')\n",
    "plt.plot(x_list, y_list_5, c='black')\n",
    "plt.show()"
   ]
  },
  {
   "cell_type": "code",
   "execution_count": 90,
   "id": "d09179e6",
   "metadata": {},
   "outputs": [
    {
     "data": {
      "application/vnd.jupyter.widget-view+json": {
       "model_id": "6cc83b8960ac47d1a868516f2f89fee4",
       "version_major": 2,
       "version_minor": 0
      },
      "text/plain": [
       "  0%|          | 0/491 [00:00<?, ?it/s]"
      ]
     },
     "metadata": {},
     "output_type": "display_data"
    },
    {
     "data": {
      "application/vnd.jupyter.widget-view+json": {
       "model_id": "5ca623d15eb94989ac998086629e2d44",
       "version_major": 2,
       "version_minor": 0
      },
      "text/plain": [
       "  0%|          | 0/487 [00:00<?, ?it/s]"
      ]
     },
     "metadata": {},
     "output_type": "display_data"
    }
   ],
   "source": [
    "weight_func = lambda x:np.log(np.exp(1/(300+x)/np.log(np.exp(1/600))))\n",
    "T_batters_weighted_300 = main.get_allplayers_T_weighted(batter_quali_list, data_train_df, is_pitcher=False, weight_func=weight_func, cur_year=2018, annual_pa_threshold=70)\n",
    "T_pitchers_weighted_300 = main.get_allplayers_T_weighted(pitcher_quali_list, data_train_df, is_pitcher=True, weight_func=weight_func, cur_year=2018, annual_pa_threshold=150)"
   ]
  },
  {
   "cell_type": "code",
   "execution_count": 93,
   "id": "ea96224a",
   "metadata": {},
   "outputs": [
    {
     "data": {
      "application/vnd.jupyter.widget-view+json": {
       "model_id": "9e3f46135099409eb444e2d3db0a8788",
       "version_major": 2,
       "version_minor": 0
      },
      "text/plain": [
       "  0%|          | 0/31448 [00:00<?, ?it/s]"
      ]
     },
     "metadata": {},
     "output_type": "display_data"
    },
    {
     "data": {
      "text/plain": [
       "0.7034121393235062"
      ]
     },
     "execution_count": 93,
     "metadata": {},
     "output_type": "execute_result"
    }
   ],
   "source": [
    "# with year weight\n",
    "\n",
    "pa_df_weighted = main.test_T_dict(data_test_df, T_batters_weighted_300, T_pitchers_weighted_300, batter_quali_list, pitcher_quali_list, p_weight=0.34)\n",
    "\n",
    "main.get_brier_score(pa_df_weighted[main.EVENT_LIST].values, pa_df_weighted[main.PROBA_LIST].values)"
   ]
  },
  {
   "cell_type": "code",
   "execution_count": 97,
   "id": "29e327e1",
   "metadata": {},
   "outputs": [
    {
     "data": {
      "application/vnd.jupyter.widget-view+json": {
       "model_id": "a6912282948e40b39f6cd831c42fdca2",
       "version_major": 2,
       "version_minor": 0
      },
      "text/plain": [
       "  0%|          | 0/491 [00:00<?, ?it/s]"
      ]
     },
     "metadata": {},
     "output_type": "display_data"
    },
    {
     "data": {
      "application/vnd.jupyter.widget-view+json": {
       "model_id": "1cb0ffc70b7b4a52a9e4550c4c61d556",
       "version_major": 2,
       "version_minor": 0
      },
      "text/plain": [
       "  0%|          | 0/487 [00:00<?, ?it/s]"
      ]
     },
     "metadata": {},
     "output_type": "display_data"
    }
   ],
   "source": [
    "weight_func = lambda x:np.log(np.exp(1/(200+x)/np.log(np.exp(1/600))))\n",
    "T_batters_weighted_200 = main.get_allplayers_T_weighted(batter_quali_list, data_train_df, is_pitcher=False, weight_func=weight_func, cur_year=2018, annual_pa_threshold=70)\n",
    "T_pitchers_weighted_200 = main.get_allplayers_T_weighted(pitcher_quali_list, data_train_df, is_pitcher=True, weight_func=weight_func, cur_year=2018, annual_pa_threshold=150)"
   ]
  },
  {
   "cell_type": "code",
   "execution_count": 98,
   "id": "f0c7130e",
   "metadata": {},
   "outputs": [
    {
     "data": {
      "application/vnd.jupyter.widget-view+json": {
       "model_id": "babe3ab297184019a9c650b840e2b363",
       "version_major": 2,
       "version_minor": 0
      },
      "text/plain": [
       "  0%|          | 0/31448 [00:00<?, ?it/s]"
      ]
     },
     "metadata": {},
     "output_type": "display_data"
    },
    {
     "data": {
      "text/plain": [
       "0.7033899833757505"
      ]
     },
     "execution_count": 98,
     "metadata": {},
     "output_type": "execute_result"
    }
   ],
   "source": [
    "# with year weight\n",
    "\n",
    "pa_df_weighted = main.test_T_dict(data_test_df, T_batters_weighted_200, T_pitchers_weighted_200, batter_quali_list, pitcher_quali_list, p_weight=0.34)\n",
    "\n",
    "main.get_brier_score(pa_df_weighted[main.EVENT_LIST].values, pa_df_weighted[main.PROBA_LIST].values)"
   ]
  },
  {
   "cell_type": "code",
   "execution_count": 99,
   "id": "10c3cce2",
   "metadata": {},
   "outputs": [
    {
     "data": {
      "application/vnd.jupyter.widget-view+json": {
       "model_id": "0337f1fa5c78478aa42f816d46655b0f",
       "version_major": 2,
       "version_minor": 0
      },
      "text/plain": [
       "  0%|          | 0/491 [00:00<?, ?it/s]"
      ]
     },
     "metadata": {},
     "output_type": "display_data"
    },
    {
     "data": {
      "application/vnd.jupyter.widget-view+json": {
       "model_id": "865ab631e0f642b1b5e5daec7dd6d87a",
       "version_major": 2,
       "version_minor": 0
      },
      "text/plain": [
       "  0%|          | 0/487 [00:00<?, ?it/s]"
      ]
     },
     "metadata": {},
     "output_type": "display_data"
    }
   ],
   "source": [
    "weight_func = lambda x:np.log(np.exp(1/(100+x)/np.log(np.exp(1/600))))\n",
    "T_batters_weighted_100 = main.get_allplayers_T_weighted(batter_quali_list, data_train_df, is_pitcher=False, weight_func=weight_func, cur_year=2018, annual_pa_threshold=70)\n",
    "T_pitchers_weighted_100 = main.get_allplayers_T_weighted(pitcher_quali_list, data_train_df, is_pitcher=True, weight_func=weight_func, cur_year=2018, annual_pa_threshold=150)"
   ]
  },
  {
   "cell_type": "code",
   "execution_count": 122,
   "id": "9ec2b136",
   "metadata": {},
   "outputs": [
    {
     "data": {
      "application/vnd.jupyter.widget-view+json": {
       "model_id": "df6c13d4770c4aa6af491d9124c4f30a",
       "version_major": 2,
       "version_minor": 0
      },
      "text/plain": [
       "  0%|          | 0/491 [00:00<?, ?it/s]"
      ]
     },
     "metadata": {},
     "output_type": "display_data"
    },
    {
     "data": {
      "application/vnd.jupyter.widget-view+json": {
       "model_id": "fe093907e30a44b18163b5c963bdf114",
       "version_major": 2,
       "version_minor": 0
      },
      "text/plain": [
       "  0%|          | 0/487 [00:00<?, ?it/s]"
      ]
     },
     "metadata": {},
     "output_type": "display_data"
    },
    {
     "data": {
      "application/vnd.jupyter.widget-view+json": {
       "model_id": "2b6841c24a304bbdadaef2e35081bfe1",
       "version_major": 2,
       "version_minor": 0
      },
      "text/plain": [
       "  0%|          | 0/31448 [00:00<?, ?it/s]"
      ]
     },
     "metadata": {},
     "output_type": "display_data"
    },
    {
     "data": {
      "text/plain": [
       "0.7033923649037042"
      ]
     },
     "execution_count": 122,
     "metadata": {},
     "output_type": "execute_result"
    }
   ],
   "source": [
    "weight_func = lambda x:np.log(np.exp(1/(150+x)/np.log(np.exp(1/600))))\n",
    "T_batters_weighted_150 = main.get_allplayers_T_weighted(batter_quali_list, data_train_df, is_pitcher=False, weight_func=weight_func, cur_year=2018, annual_pa_threshold=70)\n",
    "T_pitchers_weighted_150 = main.get_allplayers_T_weighted(pitcher_quali_list, data_train_df, is_pitcher=True, weight_func=weight_func, cur_year=2018, annual_pa_threshold=150)\n",
    "\n",
    "# with year weight\n",
    "\n",
    "pa_df_weighted = main.test_T_dict(data_test_df, T_batters_weighted_150, T_pitchers_weighted_150, batter_quali_list, pitcher_quali_list, p_weight=0.4)\n",
    "\n",
    "main.get_brier_score(pa_df_weighted[main.EVENT_LIST].values, pa_df_weighted[main.PROBA_LIST].values)"
   ]
  },
  {
   "cell_type": "code",
   "execution_count": 118,
   "id": "82fc27f2",
   "metadata": {},
   "outputs": [
    {
     "data": {
      "application/vnd.jupyter.widget-view+json": {
       "model_id": "",
       "version_major": 2,
       "version_minor": 0
      },
      "text/plain": [
       "  0%|          | 0/491 [00:00<?, ?it/s]"
      ]
     },
     "metadata": {},
     "output_type": "display_data"
    },
    {
     "data": {
      "application/vnd.jupyter.widget-view+json": {
       "model_id": "",
       "version_major": 2,
       "version_minor": 0
      },
      "text/plain": [
       "  0%|          | 0/487 [00:00<?, ?it/s]"
      ]
     },
     "metadata": {},
     "output_type": "display_data"
    },
    {
     "data": {
      "application/vnd.jupyter.widget-view+json": {
       "model_id": "",
       "version_major": 2,
       "version_minor": 0
      },
      "text/plain": [
       "  0%|          | 0/31448 [00:00<?, ?it/s]"
      ]
     },
     "metadata": {},
     "output_type": "display_data"
    },
    {
     "data": {
      "text/plain": [
       "0.7033997950914194"
      ]
     },
     "execution_count": 118,
     "metadata": {},
     "output_type": "execute_result"
    }
   ],
   "source": [
    "weight_func = lambda x:np.log(np.exp(1/(100+x)/np.log(np.exp(1/600))))\n",
    "T_batters_weighted_100 = main.get_allplayers_T_weighted(batter_quali_list, data_train_df, is_pitcher=False, weight_func=weight_func, cur_year=2018, annual_pa_threshold=70)\n",
    "T_pitchers_weighted_100 = main.get_allplayers_T_weighted(pitcher_quali_list, data_train_df, is_pitcher=True, weight_func=weight_func, cur_year=2018, annual_pa_threshold=150)\n",
    "\n",
    "# with year weight\n",
    "\n",
    "pa_df_weighted = main.test_T_dict(data_test_df, T_batters_weighted_100, T_pitchers_weighted_100, batter_quali_list, pitcher_quali_list, p_weight=0.34)\n",
    "\n",
    "main.get_brier_score(pa_df_weighted[main.EVENT_LIST].values, pa_df_weighted[main.PROBA_LIST].values)"
   ]
  },
  {
   "cell_type": "markdown",
   "id": "a1b78907",
   "metadata": {},
   "source": [
    "# Best: 150 B Score: 0.7033867122887294"
   ]
  },
  {
   "cell_type": "code",
   "execution_count": 127,
   "id": "ef908089",
   "metadata": {},
   "outputs": [
    {
     "data": {
      "text/html": [
       "<div>\n",
       "<style scoped>\n",
       "    .dataframe tbody tr th:only-of-type {\n",
       "        vertical-align: middle;\n",
       "    }\n",
       "\n",
       "    .dataframe tbody tr th {\n",
       "        vertical-align: top;\n",
       "    }\n",
       "\n",
       "    .dataframe thead th {\n",
       "        text-align: right;\n",
       "    }\n",
       "</style>\n",
       "<table border=\"1\" class=\"dataframe\">\n",
       "  <thead>\n",
       "    <tr style=\"text-align: right;\">\n",
       "      <th></th>\n",
       "      <th>game_year</th>\n",
       "      <th>game_pk</th>\n",
       "      <th>at_bat_number</th>\n",
       "      <th>pitcher</th>\n",
       "      <th>batter</th>\n",
       "      <th>home_team</th>\n",
       "      <th>stand</th>\n",
       "      <th>p_throws</th>\n",
       "      <th>event_type</th>\n",
       "      <th>des</th>\n",
       "      <th>1B</th>\n",
       "      <th>2B</th>\n",
       "      <th>3B</th>\n",
       "      <th>HR</th>\n",
       "      <th>FO</th>\n",
       "      <th>BB</th>\n",
       "      <th>K</th>\n",
       "      <th>other</th>\n",
       "      <th>1B_proba</th>\n",
       "      <th>2B_proba</th>\n",
       "      <th>3B_proba</th>\n",
       "      <th>HR_proba</th>\n",
       "      <th>FO_proba</th>\n",
       "      <th>BB_proba</th>\n",
       "      <th>K_proba</th>\n",
       "      <th>other_proba</th>\n",
       "    </tr>\n",
       "  </thead>\n",
       "  <tbody>\n",
       "    <tr>\n",
       "      <th>0</th>\n",
       "      <td>2019</td>\n",
       "      <td>564734</td>\n",
       "      <td>1</td>\n",
       "      <td>518774</td>\n",
       "      <td>425783</td>\n",
       "      <td>LAA</td>\n",
       "      <td>L</td>\n",
       "      <td>R</td>\n",
       "      <td>BB</td>\n",
       "      <td>Shin-Soo Choo hit by pitch.</td>\n",
       "      <td>0</td>\n",
       "      <td>0</td>\n",
       "      <td>0</td>\n",
       "      <td>0</td>\n",
       "      <td>0</td>\n",
       "      <td>1</td>\n",
       "      <td>0</td>\n",
       "      <td>0</td>\n",
       "      <td>0.15241</td>\n",
       "      <td>0.04271</td>\n",
       "      <td>0.00295</td>\n",
       "      <td>0.03521</td>\n",
       "      <td>0.43834</td>\n",
       "      <td>0.11287</td>\n",
       "      <td>0.21352</td>\n",
       "      <td>0.00199</td>\n",
       "    </tr>\n",
       "    <tr>\n",
       "      <th>1</th>\n",
       "      <td>2019</td>\n",
       "      <td>564734</td>\n",
       "      <td>2</td>\n",
       "      <td>518774</td>\n",
       "      <td>596059</td>\n",
       "      <td>LAA</td>\n",
       "      <td>L</td>\n",
       "      <td>R</td>\n",
       "      <td>K</td>\n",
       "      <td>Rougned Odor strikes out swinging.</td>\n",
       "      <td>0</td>\n",
       "      <td>0</td>\n",
       "      <td>0</td>\n",
       "      <td>0</td>\n",
       "      <td>0</td>\n",
       "      <td>0</td>\n",
       "      <td>1</td>\n",
       "      <td>0</td>\n",
       "      <td>0.14726</td>\n",
       "      <td>0.04321</td>\n",
       "      <td>0.00526</td>\n",
       "      <td>0.03815</td>\n",
       "      <td>0.47017</td>\n",
       "      <td>0.07713</td>\n",
       "      <td>0.21678</td>\n",
       "      <td>0.00204</td>\n",
       "    </tr>\n",
       "    <tr>\n",
       "      <th>2</th>\n",
       "      <td>2019</td>\n",
       "      <td>564734</td>\n",
       "      <td>3</td>\n",
       "      <td>518774</td>\n",
       "      <td>462101</td>\n",
       "      <td>LAA</td>\n",
       "      <td>R</td>\n",
       "      <td>R</td>\n",
       "      <td>1B</td>\n",
       "      <td>Elvis Andrus singles on a line drive to right ...</td>\n",
       "      <td>1</td>\n",
       "      <td>0</td>\n",
       "      <td>0</td>\n",
       "      <td>0</td>\n",
       "      <td>0</td>\n",
       "      <td>0</td>\n",
       "      <td>0</td>\n",
       "      <td>0</td>\n",
       "      <td>0.16732</td>\n",
       "      <td>0.04858</td>\n",
       "      <td>0.00624</td>\n",
       "      <td>0.02493</td>\n",
       "      <td>0.51528</td>\n",
       "      <td>0.07241</td>\n",
       "      <td>0.16440</td>\n",
       "      <td>0.00085</td>\n",
       "    </tr>\n",
       "    <tr>\n",
       "      <th>3</th>\n",
       "      <td>2019</td>\n",
       "      <td>564734</td>\n",
       "      <td>4</td>\n",
       "      <td>518774</td>\n",
       "      <td>608336</td>\n",
       "      <td>LAA</td>\n",
       "      <td>L</td>\n",
       "      <td>R</td>\n",
       "      <td>HR</td>\n",
       "      <td>Joey Gallo homers (2) on a fly ball to center ...</td>\n",
       "      <td>0</td>\n",
       "      <td>0</td>\n",
       "      <td>0</td>\n",
       "      <td>1</td>\n",
       "      <td>0</td>\n",
       "      <td>0</td>\n",
       "      <td>0</td>\n",
       "      <td>0</td>\n",
       "      <td>0.10758</td>\n",
       "      <td>0.04125</td>\n",
       "      <td>0.00391</td>\n",
       "      <td>0.05636</td>\n",
       "      <td>0.39062</td>\n",
       "      <td>0.10553</td>\n",
       "      <td>0.29378</td>\n",
       "      <td>0.00096</td>\n",
       "    </tr>\n",
       "    <tr>\n",
       "      <th>4</th>\n",
       "      <td>2019</td>\n",
       "      <td>564734</td>\n",
       "      <td>5</td>\n",
       "      <td>518774</td>\n",
       "      <td>452678</td>\n",
       "      <td>LAA</td>\n",
       "      <td>L</td>\n",
       "      <td>R</td>\n",
       "      <td>BB</td>\n",
       "      <td>Asdrubal Cabrera walks.</td>\n",
       "      <td>0</td>\n",
       "      <td>0</td>\n",
       "      <td>0</td>\n",
       "      <td>0</td>\n",
       "      <td>0</td>\n",
       "      <td>1</td>\n",
       "      <td>0</td>\n",
       "      <td>0</td>\n",
       "      <td>0.15231</td>\n",
       "      <td>0.05359</td>\n",
       "      <td>0.00321</td>\n",
       "      <td>0.03668</td>\n",
       "      <td>0.48397</td>\n",
       "      <td>0.07598</td>\n",
       "      <td>0.19128</td>\n",
       "      <td>0.00298</td>\n",
       "    </tr>\n",
       "    <tr>\n",
       "      <th>...</th>\n",
       "      <td>...</td>\n",
       "      <td>...</td>\n",
       "      <td>...</td>\n",
       "      <td>...</td>\n",
       "      <td>...</td>\n",
       "      <td>...</td>\n",
       "      <td>...</td>\n",
       "      <td>...</td>\n",
       "      <td>...</td>\n",
       "      <td>...</td>\n",
       "      <td>...</td>\n",
       "      <td>...</td>\n",
       "      <td>...</td>\n",
       "      <td>...</td>\n",
       "      <td>...</td>\n",
       "      <td>...</td>\n",
       "      <td>...</td>\n",
       "      <td>...</td>\n",
       "      <td>...</td>\n",
       "      <td>...</td>\n",
       "      <td>...</td>\n",
       "      <td>...</td>\n",
       "      <td>...</td>\n",
       "      <td>...</td>\n",
       "      <td>...</td>\n",
       "      <td>...</td>\n",
       "    </tr>\n",
       "    <tr>\n",
       "      <th>83656</th>\n",
       "      <td>2019</td>\n",
       "      <td>567632</td>\n",
       "      <td>41</td>\n",
       "      <td>593140</td>\n",
       "      <td>519346</td>\n",
       "      <td>MIL</td>\n",
       "      <td>L</td>\n",
       "      <td>R</td>\n",
       "      <td>HR</td>\n",
       "      <td>Eric Thames homers (23) on a fly ball to cente...</td>\n",
       "      <td>0</td>\n",
       "      <td>0</td>\n",
       "      <td>0</td>\n",
       "      <td>1</td>\n",
       "      <td>0</td>\n",
       "      <td>0</td>\n",
       "      <td>0</td>\n",
       "      <td>0</td>\n",
       "      <td>0.10919</td>\n",
       "      <td>0.04513</td>\n",
       "      <td>0.00826</td>\n",
       "      <td>0.04716</td>\n",
       "      <td>0.35922</td>\n",
       "      <td>0.11215</td>\n",
       "      <td>0.31692</td>\n",
       "      <td>0.00198</td>\n",
       "    </tr>\n",
       "    <tr>\n",
       "      <th>83657</th>\n",
       "      <td>2019</td>\n",
       "      <td>567632</td>\n",
       "      <td>42</td>\n",
       "      <td>593140</td>\n",
       "      <td>456715</td>\n",
       "      <td>MIL</td>\n",
       "      <td>R</td>\n",
       "      <td>R</td>\n",
       "      <td>BB</td>\n",
       "      <td>Lorenzo Cain walks.</td>\n",
       "      <td>0</td>\n",
       "      <td>0</td>\n",
       "      <td>0</td>\n",
       "      <td>0</td>\n",
       "      <td>0</td>\n",
       "      <td>1</td>\n",
       "      <td>0</td>\n",
       "      <td>0</td>\n",
       "      <td>0.17797</td>\n",
       "      <td>0.04711</td>\n",
       "      <td>0.00481</td>\n",
       "      <td>0.02319</td>\n",
       "      <td>0.43110</td>\n",
       "      <td>0.11123</td>\n",
       "      <td>0.20273</td>\n",
       "      <td>0.00187</td>\n",
       "    </tr>\n",
       "    <tr>\n",
       "      <th>83658</th>\n",
       "      <td>2019</td>\n",
       "      <td>567632</td>\n",
       "      <td>43</td>\n",
       "      <td>593140</td>\n",
       "      <td>592325</td>\n",
       "      <td>MIL</td>\n",
       "      <td>L</td>\n",
       "      <td>R</td>\n",
       "      <td>K</td>\n",
       "      <td>Ben Gamel strikes out swinging.</td>\n",
       "      <td>0</td>\n",
       "      <td>0</td>\n",
       "      <td>0</td>\n",
       "      <td>0</td>\n",
       "      <td>0</td>\n",
       "      <td>0</td>\n",
       "      <td>1</td>\n",
       "      <td>0</td>\n",
       "      <td>0.15869</td>\n",
       "      <td>0.05096</td>\n",
       "      <td>0.00962</td>\n",
       "      <td>0.01643</td>\n",
       "      <td>0.41640</td>\n",
       "      <td>0.10721</td>\n",
       "      <td>0.23624</td>\n",
       "      <td>0.00445</td>\n",
       "    </tr>\n",
       "    <tr>\n",
       "      <th>83659</th>\n",
       "      <td>2019</td>\n",
       "      <td>567632</td>\n",
       "      <td>44</td>\n",
       "      <td>593140</td>\n",
       "      <td>606115</td>\n",
       "      <td>MIL</td>\n",
       "      <td>R</td>\n",
       "      <td>R</td>\n",
       "      <td>FO</td>\n",
       "      <td>Orlando Arcia grounds out, third baseman Erik ...</td>\n",
       "      <td>0</td>\n",
       "      <td>0</td>\n",
       "      <td>0</td>\n",
       "      <td>0</td>\n",
       "      <td>1</td>\n",
       "      <td>0</td>\n",
       "      <td>0</td>\n",
       "      <td>0</td>\n",
       "      <td>0.15687</td>\n",
       "      <td>0.04716</td>\n",
       "      <td>0.00330</td>\n",
       "      <td>0.01980</td>\n",
       "      <td>0.46035</td>\n",
       "      <td>0.06848</td>\n",
       "      <td>0.24280</td>\n",
       "      <td>0.00124</td>\n",
       "    </tr>\n",
       "    <tr>\n",
       "      <th>83660</th>\n",
       "      <td>2019</td>\n",
       "      <td>567632</td>\n",
       "      <td>47</td>\n",
       "      <td>519141</td>\n",
       "      <td>624428</td>\n",
       "      <td>MIL</td>\n",
       "      <td>L</td>\n",
       "      <td>L</td>\n",
       "      <td>FO</td>\n",
       "      <td>Adam Frazier pops out to shortstop Orlando Arcia.</td>\n",
       "      <td>0</td>\n",
       "      <td>0</td>\n",
       "      <td>0</td>\n",
       "      <td>0</td>\n",
       "      <td>1</td>\n",
       "      <td>0</td>\n",
       "      <td>0</td>\n",
       "      <td>0</td>\n",
       "      <td>0.15721</td>\n",
       "      <td>0.05729</td>\n",
       "      <td>0.00567</td>\n",
       "      <td>0.02645</td>\n",
       "      <td>0.48040</td>\n",
       "      <td>0.10108</td>\n",
       "      <td>0.17018</td>\n",
       "      <td>0.00172</td>\n",
       "    </tr>\n",
       "  </tbody>\n",
       "</table>\n",
       "<p>83661 rows × 26 columns</p>\n",
       "</div>"
      ],
      "text/plain": [
       "       game_year  game_pk  at_bat_number  pitcher  batter home_team stand  \\\n",
       "0           2019   564734              1   518774  425783       LAA     L   \n",
       "1           2019   564734              2   518774  596059       LAA     L   \n",
       "2           2019   564734              3   518774  462101       LAA     R   \n",
       "3           2019   564734              4   518774  608336       LAA     L   \n",
       "4           2019   564734              5   518774  452678       LAA     L   \n",
       "...          ...      ...            ...      ...     ...       ...   ...   \n",
       "83656       2019   567632             41   593140  519346       MIL     L   \n",
       "83657       2019   567632             42   593140  456715       MIL     R   \n",
       "83658       2019   567632             43   593140  592325       MIL     L   \n",
       "83659       2019   567632             44   593140  606115       MIL     R   \n",
       "83660       2019   567632             47   519141  624428       MIL     L   \n",
       "\n",
       "      p_throws event_type                                                des  \\\n",
       "0            R         BB                        Shin-Soo Choo hit by pitch.   \n",
       "1            R          K                 Rougned Odor strikes out swinging.   \n",
       "2            R         1B  Elvis Andrus singles on a line drive to right ...   \n",
       "3            R         HR  Joey Gallo homers (2) on a fly ball to center ...   \n",
       "4            R         BB                            Asdrubal Cabrera walks.   \n",
       "...        ...        ...                                                ...   \n",
       "83656        R         HR  Eric Thames homers (23) on a fly ball to cente...   \n",
       "83657        R         BB                                Lorenzo Cain walks.   \n",
       "83658        R          K                    Ben Gamel strikes out swinging.   \n",
       "83659        R         FO  Orlando Arcia grounds out, third baseman Erik ...   \n",
       "83660        L         FO  Adam Frazier pops out to shortstop Orlando Arcia.   \n",
       "\n",
       "       1B  2B  3B  HR  FO  BB  K  other  1B_proba  2B_proba  3B_proba  \\\n",
       "0       0   0   0   0   0   1  0      0   0.15241   0.04271   0.00295   \n",
       "1       0   0   0   0   0   0  1      0   0.14726   0.04321   0.00526   \n",
       "2       1   0   0   0   0   0  0      0   0.16732   0.04858   0.00624   \n",
       "3       0   0   0   1   0   0  0      0   0.10758   0.04125   0.00391   \n",
       "4       0   0   0   0   0   1  0      0   0.15231   0.05359   0.00321   \n",
       "...    ..  ..  ..  ..  ..  .. ..    ...       ...       ...       ...   \n",
       "83656   0   0   0   1   0   0  0      0   0.10919   0.04513   0.00826   \n",
       "83657   0   0   0   0   0   1  0      0   0.17797   0.04711   0.00481   \n",
       "83658   0   0   0   0   0   0  1      0   0.15869   0.05096   0.00962   \n",
       "83659   0   0   0   0   1   0  0      0   0.15687   0.04716   0.00330   \n",
       "83660   0   0   0   0   1   0  0      0   0.15721   0.05729   0.00567   \n",
       "\n",
       "       HR_proba  FO_proba  BB_proba  K_proba  other_proba  \n",
       "0       0.03521   0.43834   0.11287  0.21352      0.00199  \n",
       "1       0.03815   0.47017   0.07713  0.21678      0.00204  \n",
       "2       0.02493   0.51528   0.07241  0.16440      0.00085  \n",
       "3       0.05636   0.39062   0.10553  0.29378      0.00096  \n",
       "4       0.03668   0.48397   0.07598  0.19128      0.00298  \n",
       "...         ...       ...       ...      ...          ...  \n",
       "83656   0.04716   0.35922   0.11215  0.31692      0.00198  \n",
       "83657   0.02319   0.43110   0.11123  0.20273      0.00187  \n",
       "83658   0.01643   0.41640   0.10721  0.23624      0.00445  \n",
       "83659   0.01980   0.46035   0.06848  0.24280      0.00124  \n",
       "83660   0.02645   0.48040   0.10108  0.17018      0.00172  \n",
       "\n",
       "[83661 rows x 26 columns]"
      ]
     },
     "execution_count": 127,
     "metadata": {},
     "output_type": "execute_result"
    }
   ],
   "source": [
    "pa_df_weighted"
   ]
  },
  {
   "cell_type": "code",
   "execution_count": 130,
   "id": "91143b6d",
   "metadata": {},
   "outputs": [],
   "source": [
    "pitcher_list = pa_df_weighted['pitcher'].to_list()\n",
    "batter_list = pa_df_weighted['batter'].to_list()"
   ]
  },
  {
   "cell_type": "code",
   "execution_count": 135,
   "id": "dd793c80",
   "metadata": {},
   "outputs": [
    {
     "data": {
      "application/vnd.jupyter.widget-view+json": {
       "model_id": "8c837fc17e9f4778aeaefcec615d200d",
       "version_major": 2,
       "version_minor": 0
      },
      "text/plain": [
       "  0%|          | 0/83661 [00:00<?, ?it/s]"
      ]
     },
     "metadata": {},
     "output_type": "display_data"
    }
   ],
   "source": [
    "P_predicted_pitcher = []\n",
    "for p in tqdm(pitcher_list):\n",
    "    P_steady = list(main.sim_steady_state(T_pitchers_weighted_150[p])[0][-8:])\n",
    "    P_predicted_pitcher+=[P_steady]"
   ]
  },
  {
   "cell_type": "code",
   "execution_count": 163,
   "id": "b693be4c",
   "metadata": {},
   "outputs": [
    {
     "data": {
      "application/vnd.jupyter.widget-view+json": {
       "model_id": "6782237fc01f416fbbec6460a3a6971f",
       "version_major": 2,
       "version_minor": 0
      },
      "text/plain": [
       "  0%|          | 0/83661 [00:00<?, ?it/s]"
      ]
     },
     "metadata": {},
     "output_type": "display_data"
    }
   ],
   "source": [
    "P_predicted_batter = []\n",
    "for p in tqdm(batter_list):\n",
    "    P_steady = list(main.sim_steady_state(T_batters_weighted_150[p])[0][-8:])\n",
    "    P_predicted_batter+=[P_steady]"
   ]
  },
  {
   "cell_type": "code",
   "execution_count": 164,
   "id": "32ae8507",
   "metadata": {},
   "outputs": [],
   "source": [
    "P_predicted_pitcher_df = pd.DataFrame(P_predicted_pitcher, columns=[p + '_p' for p in main.PROBA_LIST])\n",
    "P_predicted_batter_df = pd.DataFrame(P_predicted_batter, columns=[p + '_b' for p in main.PROBA_LIST])"
   ]
  },
  {
   "cell_type": "code",
   "execution_count": 165,
   "id": "f73d2d04",
   "metadata": {},
   "outputs": [],
   "source": [
    "pa_df = pd.concat([pa_df_weighted, P_predicted_pitcher_df, P_predicted_batter_df], axis=1)"
   ]
  },
  {
   "cell_type": "code",
   "execution_count": 168,
   "id": "b8530daa",
   "metadata": {},
   "outputs": [],
   "source": [
    "pa_df.to_csv('data/PA_data_19_seperated.csv')"
   ]
  }
 ],
 "metadata": {
  "kernelspec": {
   "display_name": "Python [conda env:bb_sim]",
   "language": "python",
   "name": "conda-env-bb_sim-py"
  },
  "language_info": {
   "codemirror_mode": {
    "name": "ipython",
    "version": 3
   },
   "file_extension": ".py",
   "mimetype": "text/x-python",
   "name": "python",
   "nbconvert_exporter": "python",
   "pygments_lexer": "ipython3",
   "version": "3.9.13"
  }
 },
 "nbformat": 4,
 "nbformat_minor": 5
}
